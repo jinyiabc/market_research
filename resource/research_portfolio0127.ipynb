{
 "cells": [
  {
   "cell_type": "markdown",
   "metadata": {},
   "source": [
    "# Advanced MVO - custom objectives\n",
    "\n",
    "PyPortfolioOpt has implemented some of the most common objective functions (e.g `min_volatility`, `max_sharpe`, `max_quadratic_utility`, `efficient_risk`, `efficient_return`). However, sometimes yoy may have an idea for a different objective function.\n",
    "\n",
    "In this cookbook recipe, we cover:\n",
    "\n",
    "- Mininimising transaction costs\n",
    "- Custom convex objectives\n",
    "- Custom nonconvex objectives\n",
    "\n",
    "## Acquiring data\n",
    "\n",
    "As discussed in the previous notebook, assets are an exogenous input (i.e you must come up with a list of tickers). We will use `yfinance` to download data for thesee tickers"
   ]
  },
  {
   "cell_type": "code",
   "execution_count": 1,
   "metadata": {
    "execution": {
     "iopub.execute_input": "2022-01-27T08:00:15.159321Z",
     "iopub.status.busy": "2022-01-27T08:00:15.158324Z",
     "iopub.status.idle": "2022-01-27T08:00:15.849477Z",
     "shell.execute_reply": "2022-01-27T08:00:15.849477Z",
     "shell.execute_reply.started": "2022-01-27T08:00:15.159321Z"
    },
    "tags": []
   },
   "outputs": [],
   "source": [
    "# import yfinance as yf\n",
    "import pandas as pd\n",
    "import numpy as np\n",
    "import matplotlib.pyplot as plt"
   ]
  },
  {
   "cell_type": "code",
   "execution_count": 2,
   "metadata": {
    "execution": {
     "iopub.execute_input": "2022-01-27T08:00:15.850472Z",
     "iopub.status.busy": "2022-01-27T08:00:15.850472Z",
     "iopub.status.idle": "2022-01-27T08:00:15.944748Z",
     "shell.execute_reply": "2022-01-27T08:00:15.944748Z",
     "shell.execute_reply.started": "2022-01-27T08:00:15.850472Z"
    },
    "tags": []
   },
   "outputs": [],
   "source": [
    "prices = pd.read_csv(\"portfolio0127.csv\", parse_dates=True, index_col=\"date\")\n",
    "prices.head()\n",
    "frequency=252 # if day, set to 252, if week, set to 52\n",
    "number_of_assets = len(prices.columns)"
   ]
  },
  {
   "cell_type": "markdown",
   "metadata": {},
   "source": [
    "tickers = [格林美，比亚迪，中证500， 酒ETF, 宋城演艺， 三聚环保]"
   ]
  },
  {
   "cell_type": "markdown",
   "metadata": {},
   "source": [
    "## Expected returns and risk models\n",
    "\n",
    "In this notebook, we will use James-Stein shrinkage and semicovariance (which only penalises downside risk)."
   ]
  },
  {
   "cell_type": "code",
   "execution_count": 3,
   "metadata": {
    "execution": {
     "iopub.execute_input": "2022-01-27T08:00:15.945721Z",
     "iopub.status.busy": "2022-01-27T08:00:15.945721Z",
     "iopub.status.idle": "2022-01-27T08:00:16.182114Z",
     "shell.execute_reply": "2022-01-27T08:00:16.182114Z",
     "shell.execute_reply.started": "2022-01-27T08:00:15.945721Z"
    },
    "tags": []
   },
   "outputs": [
    {
     "data": {
      "text/plain": [
       "'1.5.1'"
      ]
     },
     "execution_count": 3,
     "metadata": {},
     "output_type": "execute_result"
    }
   ],
   "source": [
    "import pypfopt\n",
    "pypfopt.__version__\n",
    "# file_path = '../tests/resources/wine.csv'\n",
    "# prices = pd.read_csv(file_path, parse_dates=True, index_col=\"Unnamed: 0\")"
   ]
  },
  {
   "cell_type": "code",
   "execution_count": 4,
   "metadata": {
    "execution": {
     "iopub.execute_input": "2022-01-27T08:00:16.184075Z",
     "iopub.status.busy": "2022-01-27T08:00:16.183086Z",
     "iopub.status.idle": "2022-01-27T08:00:16.197041Z",
     "shell.execute_reply": "2022-01-27T08:00:16.197041Z",
     "shell.execute_reply.started": "2022-01-27T08:00:16.184075Z"
    },
    "tags": []
   },
   "outputs": [],
   "source": [
    "from pypfopt import risk_models, expected_returns\n",
    "from pypfopt import plotting\n",
    "\n",
    "mu = expected_returns.mean_historical_return(prices, frequency=frequency)\n",
    "S = risk_models.semicovariance(prices, frequency=frequency)"
   ]
  },
  {
   "cell_type": "code",
   "execution_count": 24,
   "metadata": {
    "execution": {
     "iopub.execute_input": "2022-01-27T08:15:41.314744Z",
     "iopub.status.busy": "2022-01-27T08:15:41.314744Z",
     "iopub.status.idle": "2022-01-27T08:15:41.343666Z",
     "shell.execute_reply": "2022-01-27T08:15:41.343666Z",
     "shell.execute_reply.started": "2022-01-27T08:15:41.314744Z"
    },
    "tags": []
   },
   "outputs": [
    {
     "data": {
      "text/html": [
       "<div>\n",
       "<style scoped>\n",
       "    .dataframe tbody tr th:only-of-type {\n",
       "        vertical-align: middle;\n",
       "    }\n",
       "\n",
       "    .dataframe tbody tr th {\n",
       "        vertical-align: top;\n",
       "    }\n",
       "\n",
       "    .dataframe thead th {\n",
       "        text-align: right;\n",
       "    }\n",
       "</style>\n",
       "<table border=\"1\" class=\"dataframe\">\n",
       "  <thead>\n",
       "    <tr style=\"text-align: right;\">\n",
       "      <th></th>\n",
       "      <th>bond20_03</th>\n",
       "      <th>index300</th>\n",
       "    </tr>\n",
       "    <tr>\n",
       "      <th>date</th>\n",
       "      <th></th>\n",
       "      <th></th>\n",
       "    </tr>\n",
       "  </thead>\n",
       "  <tbody>\n",
       "    <tr>\n",
       "      <th>2012-01-05</th>\n",
       "      <td>0.000093</td>\n",
       "      <td>-0.009730</td>\n",
       "    </tr>\n",
       "    <tr>\n",
       "      <th>2012-01-06</th>\n",
       "      <td>0.000093</td>\n",
       "      <td>0.006245</td>\n",
       "    </tr>\n",
       "    <tr>\n",
       "      <th>2012-01-09</th>\n",
       "      <td>-0.000321</td>\n",
       "      <td>0.034039</td>\n",
       "    </tr>\n",
       "    <tr>\n",
       "      <th>2012-01-10</th>\n",
       "      <td>0.000394</td>\n",
       "      <td>0.033260</td>\n",
       "    </tr>\n",
       "    <tr>\n",
       "      <th>2012-01-11</th>\n",
       "      <td>-0.004215</td>\n",
       "      <td>-0.004797</td>\n",
       "    </tr>\n",
       "    <tr>\n",
       "      <th>...</th>\n",
       "      <td>...</td>\n",
       "      <td>...</td>\n",
       "    </tr>\n",
       "    <tr>\n",
       "      <th>2022-01-20</th>\n",
       "      <td>0.000384</td>\n",
       "      <td>0.009022</td>\n",
       "    </tr>\n",
       "    <tr>\n",
       "      <th>2022-01-21</th>\n",
       "      <td>0.001653</td>\n",
       "      <td>-0.009162</td>\n",
       "    </tr>\n",
       "    <tr>\n",
       "      <th>2022-01-24</th>\n",
       "      <td>0.000272</td>\n",
       "      <td>0.001553</td>\n",
       "    </tr>\n",
       "    <tr>\n",
       "      <th>2022-01-25</th>\n",
       "      <td>-0.001857</td>\n",
       "      <td>-0.022622</td>\n",
       "    </tr>\n",
       "    <tr>\n",
       "      <th>2022-01-26</th>\n",
       "      <td>0.000286</td>\n",
       "      <td>0.007237</td>\n",
       "    </tr>\n",
       "  </tbody>\n",
       "</table>\n",
       "<p>2447 rows × 2 columns</p>\n",
       "</div>"
      ],
      "text/plain": [
       "            bond20_03  index300\n",
       "date                           \n",
       "2012-01-05   0.000093 -0.009730\n",
       "2012-01-06   0.000093  0.006245\n",
       "2012-01-09  -0.000321  0.034039\n",
       "2012-01-10   0.000394  0.033260\n",
       "2012-01-11  -0.004215 -0.004797\n",
       "...               ...       ...\n",
       "2022-01-20   0.000384  0.009022\n",
       "2022-01-21   0.001653 -0.009162\n",
       "2022-01-24   0.000272  0.001553\n",
       "2022-01-25  -0.001857 -0.022622\n",
       "2022-01-26   0.000286  0.007237\n",
       "\n",
       "[2447 rows x 2 columns]"
      ]
     },
     "execution_count": 24,
     "metadata": {},
     "output_type": "execute_result"
    }
   ],
   "source": [
    "expected_returns.returns_from_prices(prices)"
   ]
  },
  {
   "cell_type": "code",
   "execution_count": 5,
   "metadata": {
    "execution": {
     "iopub.execute_input": "2022-01-27T08:00:16.198039Z",
     "iopub.status.busy": "2022-01-27T08:00:16.198039Z",
     "iopub.status.idle": "2022-01-27T08:00:16.274832Z",
     "shell.execute_reply": "2022-01-27T08:00:16.274832Z",
     "shell.execute_reply.started": "2022-01-27T08:00:16.198039Z"
    },
    "tags": []
   },
   "outputs": [
    {
     "data": {
      "image/png": "[encoded data removed]",
      "text/plain": [
       "<Figure size 720x360 with 1 Axes>"
      ]
     },
     "metadata": {
      "needs_background": "light"
     },
     "output_type": "display_data"
    }
   ],
   "source": [
    "mu.plot.barh(figsize=(10,5));"
   ]
  },
  {
   "cell_type": "code",
   "execution_count": 6,
   "metadata": {
    "execution": {
     "iopub.execute_input": "2022-01-27T08:00:16.275831Z",
     "iopub.status.busy": "2022-01-27T08:00:16.275831Z",
     "iopub.status.idle": "2022-01-27T08:00:16.386535Z",
     "shell.execute_reply": "2022-01-27T08:00:16.386535Z",
     "shell.execute_reply.started": "2022-01-27T08:00:16.275831Z"
    },
    "tags": []
   },
   "outputs": [
    {
     "data": {
      "image/png": "[encoded data removed]",
      "text/plain": [
       "<Figure size 432x288 with 2 Axes>"
      ]
     },
     "metadata": {
      "needs_background": "light"
     },
     "output_type": "display_data"
    }
   ],
   "source": [
    "plotting.plot_covariance(S, plot_correlation=True);"
   ]
  },
  {
   "cell_type": "markdown",
   "metadata": {},
   "source": [
    "## Min volatility with a transaction cost objective\n",
    "\n",
    "Let's say that you already have a portfolio, and want to now optimize it. It could be quite expensive to completely reallocate, so you may want to take into account transaction costs. PyPortfolioOpt provides a simple objective to account for this.\n",
    "\n",
    "Note: this objective will not play nicely with `max_sharpe`."
   ]
  },
  {
   "cell_type": "code",
   "execution_count": 7,
   "metadata": {
    "execution": {
     "iopub.execute_input": "2022-01-27T08:00:16.387532Z",
     "iopub.status.busy": "2022-01-27T08:00:16.387532Z",
     "iopub.status.idle": "2022-01-27T08:00:16.402492Z",
     "shell.execute_reply": "2022-01-27T08:00:16.402492Z",
     "shell.execute_reply.started": "2022-01-27T08:00:16.387532Z"
    },
    "tags": []
   },
   "outputs": [
    {
     "name": "stdout",
     "output_type": "stream",
     "text": [
      "[0.5 0.5]\n"
     ]
    }
   ],
   "source": [
    "# Pretend that you started with a default-weight allocation\n",
    "initial_weights = np.array([1/number_of_assets] * number_of_assets)\n",
    "print(initial_weights)"
   ]
  },
  {
   "cell_type": "code",
   "execution_count": 8,
   "metadata": {
    "execution": {
     "iopub.execute_input": "2022-01-27T08:00:16.403489Z",
     "iopub.status.busy": "2022-01-27T08:00:16.403489Z",
     "iopub.status.idle": "2022-01-27T08:00:16.418449Z",
     "shell.execute_reply": "2022-01-27T08:00:16.418449Z",
     "shell.execute_reply.started": "2022-01-27T08:00:16.403489Z"
    },
    "tags": []
   },
   "outputs": [
    {
     "data": {
      "text/plain": [
       "OrderedDict([('bond20_03', 0.59494), ('index300', 0.40506)])"
      ]
     },
     "execution_count": 8,
     "metadata": {},
     "output_type": "execute_result"
    }
   ],
   "source": [
    "from pypfopt import EfficientFrontier, objective_functions\n",
    "ef = EfficientFrontier(mu, S)\n",
    "ef.add_objective(objective_functions.transaction_cost, w_prev=initial_weights, k=0.001)\n",
    "ef.add_objective(objective_functions.L2_reg, gamma=0.05)  # default is 1\n",
    "ef.min_volatility()\n",
    "weights = ef.clean_weights()\n",
    "weights"
   ]
  },
  {
   "cell_type": "code",
   "execution_count": 9,
   "metadata": {
    "execution": {
     "iopub.execute_input": "2022-01-27T08:00:16.419447Z",
     "iopub.status.busy": "2022-01-27T08:00:16.419447Z",
     "iopub.status.idle": "2022-01-27T08:00:16.434407Z",
     "shell.execute_reply": "2022-01-27T08:00:16.434407Z",
     "shell.execute_reply.started": "2022-01-27T08:00:16.419447Z"
    },
    "tags": []
   },
   "outputs": [
    {
     "name": "stdout",
     "output_type": "stream",
     "text": [
      "Expected annual return: 4.1%\n",
      "Annual volatility: 7.1%\n",
      "Sharpe Ratio: 0.30\n"
     ]
    }
   ],
   "source": [
    "ef.portfolio_performance(verbose=True);"
   ]
  },
  {
   "cell_type": "markdown",
   "metadata": {},
   "source": [
    "This portfolio is now reasonably balanced, but also puts significantly more weight on JD. "
   ]
  },
  {
   "cell_type": "code",
   "execution_count": 10,
   "metadata": {
    "execution": {
     "iopub.execute_input": "2022-01-27T08:00:16.435405Z",
     "iopub.status.busy": "2022-01-27T08:00:16.435405Z",
     "iopub.status.idle": "2022-01-27T08:00:16.481281Z",
     "shell.execute_reply": "2022-01-27T08:00:16.481281Z",
     "shell.execute_reply.started": "2022-01-27T08:00:16.435405Z"
    },
    "tags": []
   },
   "outputs": [
    {
     "data": {
      "image/png": "[encoded data removed]",
      "text/plain": [
       "<Figure size 720x720 with 1 Axes>"
      ]
     },
     "metadata": {},
     "output_type": "display_data"
    }
   ],
   "source": [
    "pd.Series(weights).plot.pie(figsize=(10,10));"
   ]
  },
  {
   "cell_type": "markdown",
   "metadata": {},
   "source": [
    "## Custom convex objectives\n",
    "\n",
    "PyPortfolioOpt comes with the following built-in objective functions, as of v1.2.1:\n",
    "\n",
    "- Portfolio variance (i.e square of volatility)\n",
    "- Portfolio return\n",
    "- Sharpe ratio\n",
    "- L2 regularisation (minimising this reduces nonzero weights)\n",
    "- Quadratic utility\n",
    "- Transaction cost model (a simple one)\n",
    "\n",
    "However, you may want have a different objective. If this new objective is **convex**, you can optimize a portfolio with the full benefit of PyPortfolioOpt's modular syntax, for example adding other constraints and objectives.\n",
    "\n",
    "To demonstrate this, we will minimise the **logarithmic-barrier** function suggested in the paper 60 Years of Portfolio Optimization, by Kolm et al (2014):\n",
    "\n",
    "$$f(w, S, k) = w^T S w - k \\sum_{i=1}^N \\ln w$$\n",
    "\n",
    "We must first convert this mathematical objective into the language of cvxpy. Cvxpy is a powerful modelling language for convex optimization problems. It is clean and easy to use, the only caveat is that objectives must be expressed with `cvxpy` functions, a list of which can be found [here](https://www.cvxpy.org/tutorial/functions/index.html)."
   ]
  },
  {
   "cell_type": "code",
   "execution_count": 11,
   "metadata": {
    "execution": {
     "iopub.execute_input": "2022-01-27T08:00:16.482279Z",
     "iopub.status.busy": "2022-01-27T08:00:16.482279Z",
     "iopub.status.idle": "2022-01-27T08:00:16.497238Z",
     "shell.execute_reply": "2022-01-27T08:00:16.497238Z",
     "shell.execute_reply.started": "2022-01-27T08:00:16.482279Z"
    },
    "tags": []
   },
   "outputs": [],
   "source": [
    "import cvxpy as cp\n",
    "\n",
    "# Note: functions are minimised. If you want to maximise an objective, stick a minus sign in it.\n",
    "def logarithmic_barrier_objective(w, cov_matrix, k=0.1):\n",
    "    log_sum = cp.sum(cp.log(w))\n",
    "    var = cp.quad_form(w, cov_matrix)\n",
    "    return var - k * log_sum"
   ]
  },
  {
   "cell_type": "markdown",
   "metadata": {},
   "source": [
    "Once we have written the objective function, we can just use the `ef.convex_objective()` to minimise the objective."
   ]
  },
  {
   "cell_type": "code",
   "execution_count": 12,
   "metadata": {
    "execution": {
     "iopub.execute_input": "2022-01-27T08:00:16.498236Z",
     "iopub.status.busy": "2022-01-27T08:00:16.498236Z",
     "iopub.status.idle": "2022-01-27T08:00:16.512198Z",
     "shell.execute_reply": "2022-01-27T08:00:16.512198Z",
     "shell.execute_reply.started": "2022-01-27T08:00:16.498236Z"
    },
    "tags": []
   },
   "outputs": [
    {
     "data": {
      "text/plain": [
       "OrderedDict([('bond20_03', 0.87011), ('index300', 0.12989)])"
      ]
     },
     "execution_count": 12,
     "metadata": {},
     "output_type": "execute_result"
    }
   ],
   "source": [
    "ef = EfficientFrontier(mu, S, weight_bounds=(0.01, 0.99))\n",
    "# ef.add_objective(objective_functions.transaction_cost, w_prev=initial_weights, k=0.001)\n",
    "# ef.add_objective(objective_functions.L2_reg, gamma=0.05)  # default is 1\n",
    "ef.convex_objective(logarithmic_barrier_objective, cov_matrix=S, k=0.001)\n",
    "weights = ef.clean_weights()\n",
    "weights"
   ]
  },
  {
   "cell_type": "code",
   "execution_count": 13,
   "metadata": {
    "execution": {
     "iopub.execute_input": "2022-01-27T08:00:16.513195Z",
     "iopub.status.busy": "2022-01-27T08:00:16.513195Z",
     "iopub.status.idle": "2022-01-27T08:00:16.529153Z",
     "shell.execute_reply": "2022-01-27T08:00:16.528159Z",
     "shell.execute_reply.started": "2022-01-27T08:00:16.513195Z"
    },
    "tags": []
   },
   "outputs": [
    {
     "name": "stdout",
     "output_type": "stream",
     "text": [
      "Expected annual return: 2.8%\n",
      "Annual volatility: 3.6%\n",
      "Sharpe Ratio: 0.21\n"
     ]
    }
   ],
   "source": [
    "ef.portfolio_performance(verbose=True);"
   ]
  },
  {
   "cell_type": "markdown",
   "metadata": {},
   "source": [
    "This is compatible with all the constraints discussed in the previous recipe. Let's say that we want to limit JD's weight to 15%."
   ]
  },
  {
   "cell_type": "code",
   "execution_count": 14,
   "metadata": {
    "execution": {
     "iopub.execute_input": "2022-01-27T08:00:16.529153Z",
     "iopub.status.busy": "2022-01-27T08:00:16.529153Z",
     "iopub.status.idle": "2022-01-27T08:00:16.559104Z",
     "shell.execute_reply": "2022-01-27T08:00:16.559104Z",
     "shell.execute_reply.started": "2022-01-27T08:00:16.529153Z"
    },
    "tags": []
   },
   "outputs": [
    {
     "data": {
      "text/plain": [
       "OrderedDict([('bond20_03', 0.15), ('index300', 0.85)])"
      ]
     },
     "execution_count": 14,
     "metadata": {},
     "output_type": "execute_result"
    }
   ],
   "source": [
    "ef = EfficientFrontier(mu, S, weight_bounds=(0.01, 0.99))\n",
    "# jd_index = ef.tickers.index(\"JD\")  # get the index of JD\n",
    "maotai_index = 0\n",
    "ef.add_constraint(lambda w: w[maotai_index] <= 0.15)\n",
    "ef.convex_objective(logarithmic_barrier_objective, cov_matrix=S, k=0.001)\n",
    "weights = ef.clean_weights()\n",
    "weights"
   ]
  },
  {
   "cell_type": "code",
   "execution_count": 15,
   "metadata": {
    "execution": {
     "iopub.execute_input": "2022-01-27T08:00:16.560070Z",
     "iopub.status.busy": "2022-01-27T08:00:16.560070Z",
     "iopub.status.idle": "2022-01-27T08:00:16.621904Z",
     "shell.execute_reply": "2022-01-27T08:00:16.621904Z",
     "shell.execute_reply.started": "2022-01-27T08:00:16.560070Z"
    },
    "tags": []
   },
   "outputs": [
    {
     "name": "stdout",
     "output_type": "stream",
     "text": [
      "Expected annual return: 6.3%\n",
      "Annual volatility: 14.0%\n",
      "Sharpe Ratio: 0.31\n"
     ]
    },
    {
     "data": {
      "image/png": "[encoded data removed]",
      "text/plain": [
       "<Figure size 720x720 with 1 Axes>"
      ]
     },
     "metadata": {},
     "output_type": "display_data"
    }
   ],
   "source": [
    "ef.portfolio_performance(verbose=True);\n",
    "\n",
    "pd.Series(weights).plot.pie(figsize=(10,10));"
   ]
  },
  {
   "cell_type": "markdown",
   "metadata": {},
   "source": [
    "## Custom nonconvex objectives\n",
    "\n",
    "In some cases, you may be trying to optimize for nonconvex objectives. Optimization in general is a very hard problem, so please be aware that you may have mixed results in that case. Convex problems, on the other hand, are well understood and can be solved with nice theoretical guarantees.\n",
    "\n",
    "PyPortfolioOpt does offer some functionality for nonconvex optimization, but it is not really encouraged. In particular, nonconvex optimization is not compatible with PyPortfolioOpt's modular constraints API.\n",
    "\n",
    "As an example, we will use the Deviation Risk Parity objective from Kolm et al (2014). Because we are not using a convex solver, we don't have to define it using `cvxpy` functions."
   ]
  },
  {
   "cell_type": "code",
   "execution_count": 16,
   "metadata": {
    "execution": {
     "iopub.execute_input": "2022-01-27T08:00:16.622902Z",
     "iopub.status.busy": "2022-01-27T08:00:16.622902Z",
     "iopub.status.idle": "2022-01-27T08:00:16.637861Z",
     "shell.execute_reply": "2022-01-27T08:00:16.637861Z",
     "shell.execute_reply.started": "2022-01-27T08:00:16.622902Z"
    },
    "tags": []
   },
   "outputs": [],
   "source": [
    "def deviation_risk_parity(w, cov_matrix):\n",
    "    diff = w * np.dot(cov_matrix, w) - (w * np.dot(cov_matrix, w)).reshape(-1, 1)\n",
    "    return (diff ** 2).sum().sum()"
   ]
  },
  {
   "cell_type": "code",
   "execution_count": 17,
   "metadata": {
    "execution": {
     "iopub.execute_input": "2022-01-27T08:00:16.638860Z",
     "iopub.status.busy": "2022-01-27T08:00:16.638860Z",
     "iopub.status.idle": "2022-01-27T08:00:16.668779Z",
     "shell.execute_reply": "2022-01-27T08:00:16.668779Z",
     "shell.execute_reply.started": "2022-01-27T08:00:16.638860Z"
    },
    "tags": []
   },
   "outputs": [
    {
     "data": {
      "text/plain": [
       "OrderedDict([('bond20_03', 0.2), ('index300', 0.2)])"
      ]
     },
     "execution_count": 17,
     "metadata": {},
     "output_type": "execute_result"
    }
   ],
   "source": [
    "ef = EfficientFrontier(mu, S, weight_bounds=(0.01, 0.2))\n",
    "ef.nonconvex_objective(deviation_risk_parity, ef.cov_matrix)\n",
    "weights = ef.clean_weights()\n",
    "weights"
   ]
  },
  {
   "cell_type": "markdown",
   "metadata": {},
   "source": [
    "However, let's say we now want to enforce that JD has a weight of 10%. In the convex case, this would be as simple as:\n",
    "\n",
    "```python\n",
    "ef.add_objective(lambda w: w[jd_index] == 0.10)\n",
    "```\n",
    "\n",
    "But unfortunately, scipy does not allow for such intuitive syntax. You will need to rearrange your constraints to make them either `=0` or `<= 0`. \n",
    "\n",
    "```python\n",
    "constraints = [\n",
    "    # First constraint\n",
    "     {\"type\": \"eq\",  # equality constraint,\n",
    "      \"fun\": lambda w: w[1] - 0.2},  # the equality functions are assumed to = 0 \n",
    "      \n",
    "    # Second constraint\n",
    "    {\"type\": \"ineq\",  # inequality constraint\n",
    "     \"fun\": lambda w: w[0] - 0.5}   # inequality functions <= 0\n",
    "]\n",
    "```\n",
    "\n",
    "For more information, you can consult the [scipy docs](https://docs.scipy.org/doc/scipy/reference/generated/scipy.optimize.minimize.html), but they aren't very helpful."
   ]
  },
  {
   "cell_type": "code",
   "execution_count": 18,
   "metadata": {
    "execution": {
     "iopub.execute_input": "2022-01-27T08:00:16.669777Z",
     "iopub.status.busy": "2022-01-27T08:00:16.669777Z",
     "iopub.status.idle": "2022-01-27T08:00:16.779486Z",
     "shell.execute_reply": "2022-01-27T08:00:16.779486Z",
     "shell.execute_reply.started": "2022-01-27T08:00:16.669777Z"
    },
    "tags": []
   },
   "outputs": [
    {
     "data": {
      "text/plain": [
       "OrderedDict([('bond20_03', 0.1907), ('index300', 0.2)])"
      ]
     },
     "execution_count": 18,
     "metadata": {},
     "output_type": "execute_result"
    }
   ],
   "source": [
    "ef = EfficientFrontier(mu, S, weight_bounds=(0.01, 0.2))\n",
    "\n",
    "ef.nonconvex_objective(\n",
    "    deviation_risk_parity,\n",
    "    objective_args=S,\n",
    "    weights_sum_to_one=True,\n",
    "    constraints=[\n",
    "        {\"type\": \"eq\", \"fun\": lambda w: w[maotai_index] - 0.10},  \n",
    "    ],\n",
    ")\n",
    "\n",
    "weights = ef.clean_weights()\n",
    "weights"
   ]
  },
  {
   "cell_type": "code",
   "execution_count": 19,
   "metadata": {
    "execution": {
     "iopub.execute_input": "2022-01-27T08:00:16.780479Z",
     "iopub.status.busy": "2022-01-27T08:00:16.780479Z",
     "iopub.status.idle": "2022-01-27T08:00:16.842319Z",
     "shell.execute_reply": "2022-01-27T08:00:16.842319Z",
     "shell.execute_reply.started": "2022-01-27T08:00:16.780479Z"
    },
    "tags": []
   },
   "outputs": [
    {
     "name": "stdout",
     "output_type": "stream",
     "text": [
      "Expected annual return: 1.8%\n",
      "Annual volatility: 3.4%\n",
      "Sharpe Ratio: -0.05\n"
     ]
    },
    {
     "data": {
      "image/png": "[encoded data removed]",
      "text/plain": [
       "<Figure size 720x720 with 1 Axes>"
      ]
     },
     "metadata": {},
     "output_type": "display_data"
    }
   ],
   "source": [
    "ef.portfolio_performance(verbose=True);\n",
    "pd.Series(weights).plot.pie(figsize=(10,10));"
   ]
  },
  {
   "cell_type": "markdown",
   "metadata": {},
   "source": [
    "## More examples of nonconvex objectives\n",
    "\n",
    "The scipy format is not intuitive and is hard to explain, so here are a bunch of examples (adapted from the tests). Some of these are actually convex, so you should use `convex_objective` instead. "
   ]
  },
  {
   "cell_type": "code",
   "execution_count": 20,
   "metadata": {
    "execution": {
     "iopub.execute_input": "2022-01-27T08:00:16.843311Z",
     "iopub.status.busy": "2022-01-27T08:00:16.843311Z",
     "iopub.status.idle": "2022-01-27T08:00:16.858275Z",
     "shell.execute_reply": "2022-01-27T08:00:16.858275Z",
     "shell.execute_reply.started": "2022-01-27T08:00:16.843311Z"
    },
    "tags": []
   },
   "outputs": [
    {
     "data": {
      "text/plain": [
       "OrderedDict([('bond20_03', 0.84423), ('index300', 0.15577)])"
      ]
     },
     "execution_count": 20,
     "metadata": {},
     "output_type": "execute_result"
    }
   ],
   "source": [
    "# Another example of deviation risk parity\n",
    "def deviation_risk_parity(w, cov_matrix):\n",
    "    n = cov_matrix.shape[0]\n",
    "    rp = (w * (cov_matrix @ w)) / cp.quad_form(w, cov_matrix)\n",
    "    return cp.sum_squares(rp - 1 / n).value\n",
    "\n",
    "ef = EfficientFrontier(mu, S)\n",
    "ef.nonconvex_objective(deviation_risk_parity, ef.cov_matrix)\n",
    "weights = ef.clean_weights()\n",
    "weights"
   ]
  },
  {
   "cell_type": "code",
   "execution_count": 21,
   "metadata": {
    "execution": {
     "iopub.execute_input": "2022-01-27T08:00:16.859272Z",
     "iopub.status.busy": "2022-01-27T08:00:16.859272Z",
     "iopub.status.idle": "2022-01-27T08:00:16.874230Z",
     "shell.execute_reply": "2022-01-27T08:00:16.873231Z",
     "shell.execute_reply.started": "2022-01-27T08:00:16.859272Z"
    },
    "tags": []
   },
   "outputs": [
    {
     "data": {
      "text/plain": [
       "OrderedDict([('bond20_03', 0.1), ('index300', 0.9)])"
      ]
     },
     "execution_count": 21,
     "metadata": {},
     "output_type": "execute_result"
    }
   ],
   "source": [
    "# Deviation risk parity with weight bound on the first asset\n",
    "ef = EfficientFrontier(mu, S)\n",
    "ef.nonconvex_objective(deviation_risk_parity, \n",
    "                       ef.cov_matrix, \n",
    "                       constraints=[{\"type\":\"eq\", \"fun\":lambda w: w[0] - 0.1}])\n",
    "weights = ef.clean_weights()\n",
    "weights"
   ]
  },
  {
   "cell_type": "code",
   "execution_count": 22,
   "metadata": {
    "execution": {
     "iopub.execute_input": "2022-01-27T08:00:16.876223Z",
     "iopub.status.busy": "2022-01-27T08:00:16.875226Z",
     "iopub.status.idle": "2022-01-27T08:00:17.266274Z",
     "shell.execute_reply": "2022-01-27T08:00:17.266274Z",
     "shell.execute_reply.started": "2022-01-27T08:00:16.876223Z"
    },
    "tags": []
   },
   "outputs": [
    {
     "ename": "IndexError",
     "evalue": "too many indices for array: array is 1-dimensional, but 2 were indexed",
     "output_type": "error",
     "traceback": [
      "\u001b[1;31m---------------------------------------------------------------------------\u001b[0m",
      "\u001b[1;31mIndexError\u001b[0m                                Traceback (most recent call last)",
      "Input \u001b[1;32mIn [22]\u001b[0m, in \u001b[0;36m<module>\u001b[1;34m\u001b[0m\n\u001b[0;32m      1\u001b[0m \u001b[38;5;66;03m# Market-neutral efficient risk.\u001b[39;00m\n\u001b[0;32m      2\u001b[0m \u001b[38;5;66;03m# Please use ef.efficient_risk() for anything serious.\u001b[39;00m\n\u001b[0;32m      3\u001b[0m target_risk \u001b[38;5;241m=\u001b[39m \u001b[38;5;241m0.19\u001b[39m\n\u001b[1;32m----> 4\u001b[0m ef \u001b[38;5;241m=\u001b[39m \u001b[43mEfficientFrontier\u001b[49m\u001b[43m(\u001b[49m\u001b[43mmu\u001b[49m\u001b[43m,\u001b[49m\u001b[43m \u001b[49m\u001b[43mS\u001b[49m\u001b[43m,\u001b[49m\u001b[43m \u001b[49m\u001b[43mweight_bounds\u001b[49m\u001b[38;5;241;43m=\u001b[39;49m\u001b[43m(\u001b[49m\u001b[38;5;28;43;01mNone\u001b[39;49;00m\u001b[43m,\u001b[49m\u001b[43m \u001b[49m\u001b[38;5;28;43;01mNone\u001b[39;49;00m\u001b[43m)\u001b[49m\u001b[43m)\u001b[49m\n\u001b[0;32m      6\u001b[0m \u001b[38;5;66;03m# Weights sum to zero\u001b[39;00m\n\u001b[0;32m      7\u001b[0m weight_constr \u001b[38;5;241m=\u001b[39m {\u001b[38;5;124m\"\u001b[39m\u001b[38;5;124mtype\u001b[39m\u001b[38;5;124m\"\u001b[39m: \u001b[38;5;124m\"\u001b[39m\u001b[38;5;124meq\u001b[39m\u001b[38;5;124m\"\u001b[39m, \u001b[38;5;124m\"\u001b[39m\u001b[38;5;124mfun\u001b[39m\u001b[38;5;124m\"\u001b[39m: \u001b[38;5;28;01mlambda\u001b[39;00m w: np\u001b[38;5;241m.\u001b[39msum(w)}\n",
      "File \u001b[1;32m~\\.virtualenvs\\helper-4Wpgvp3w\\lib\\site-packages\\pypfopt\\efficient_frontier\\efficient_frontier.py:111\u001b[0m, in \u001b[0;36mEfficientFrontier.__init__\u001b[1;34m(self, expected_returns, cov_matrix, weight_bounds, solver, verbose, solver_options)\u001b[0m\n\u001b[0;32m    108\u001b[0m     \u001b[38;5;28;01mif\u001b[39;00m cov_matrix\u001b[38;5;241m.\u001b[39mshape \u001b[38;5;241m!=\u001b[39m (num_assets, num_assets):\n\u001b[0;32m    109\u001b[0m         \u001b[38;5;28;01mraise\u001b[39;00m \u001b[38;5;167;01mValueError\u001b[39;00m(\u001b[38;5;124m\"\u001b[39m\u001b[38;5;124mCovariance matrix does not match expected returns\u001b[39m\u001b[38;5;124m\"\u001b[39m)\n\u001b[1;32m--> 111\u001b[0m \u001b[38;5;28;43msuper\u001b[39;49m\u001b[43m(\u001b[49m\u001b[43m)\u001b[49m\u001b[38;5;241;43m.\u001b[39;49m\u001b[38;5;21;43m__init__\u001b[39;49m\u001b[43m(\u001b[49m\n\u001b[0;32m    112\u001b[0m \u001b[43m    \u001b[49m\u001b[38;5;28;43mlen\u001b[39;49m\u001b[43m(\u001b[49m\u001b[43mtickers\u001b[49m\u001b[43m)\u001b[49m\u001b[43m,\u001b[49m\n\u001b[0;32m    113\u001b[0m \u001b[43m    \u001b[49m\u001b[43mtickers\u001b[49m\u001b[43m,\u001b[49m\n\u001b[0;32m    114\u001b[0m \u001b[43m    \u001b[49m\u001b[43mweight_bounds\u001b[49m\u001b[43m,\u001b[49m\n\u001b[0;32m    115\u001b[0m \u001b[43m    \u001b[49m\u001b[43msolver\u001b[49m\u001b[38;5;241;43m=\u001b[39;49m\u001b[43msolver\u001b[49m\u001b[43m,\u001b[49m\n\u001b[0;32m    116\u001b[0m \u001b[43m    \u001b[49m\u001b[43mverbose\u001b[49m\u001b[38;5;241;43m=\u001b[39;49m\u001b[43mverbose\u001b[49m\u001b[43m,\u001b[49m\n\u001b[0;32m    117\u001b[0m \u001b[43m    \u001b[49m\u001b[43msolver_options\u001b[49m\u001b[38;5;241;43m=\u001b[39;49m\u001b[43msolver_options\u001b[49m\u001b[43m,\u001b[49m\n\u001b[0;32m    118\u001b[0m \u001b[43m\u001b[49m\u001b[43m)\u001b[49m\n",
      "File \u001b[1;32m~\\.virtualenvs\\helper-4Wpgvp3w\\lib\\site-packages\\pypfopt\\base_optimizer.py:185\u001b[0m, in \u001b[0;36mBaseConvexOptimizer.__init__\u001b[1;34m(self, n_assets, tickers, weight_bounds, solver, verbose, solver_options)\u001b[0m\n\u001b[0;32m    183\u001b[0m \u001b[38;5;28mself\u001b[39m\u001b[38;5;241m.\u001b[39m_verbose \u001b[38;5;241m=\u001b[39m verbose\n\u001b[0;32m    184\u001b[0m \u001b[38;5;28mself\u001b[39m\u001b[38;5;241m.\u001b[39m_solver_options \u001b[38;5;241m=\u001b[39m solver_options \u001b[38;5;28;01mif\u001b[39;00m solver_options \u001b[38;5;28;01melse\u001b[39;00m {}\n\u001b[1;32m--> 185\u001b[0m \u001b[38;5;28;43mself\u001b[39;49m\u001b[38;5;241;43m.\u001b[39;49m\u001b[43m_map_bounds_to_constraints\u001b[49m\u001b[43m(\u001b[49m\u001b[43mweight_bounds\u001b[49m\u001b[43m)\u001b[49m\n",
      "File \u001b[1;32m~\\.virtualenvs\\helper-4Wpgvp3w\\lib\\site-packages\\pypfopt\\base_optimizer.py:203\u001b[0m, in \u001b[0;36mBaseConvexOptimizer._map_bounds_to_constraints\u001b[1;34m(self, test_bounds)\u001b[0m\n\u001b[0;32m    199\u001b[0m \u001b[38;5;28;01mif\u001b[39;00m \u001b[38;5;28mlen\u001b[39m(test_bounds) \u001b[38;5;241m==\u001b[39m \u001b[38;5;28mself\u001b[39m\u001b[38;5;241m.\u001b[39mn_assets \u001b[38;5;129;01mand\u001b[39;00m \u001b[38;5;129;01mnot\u001b[39;00m \u001b[38;5;28misinstance\u001b[39m(\n\u001b[0;32m    200\u001b[0m     test_bounds[\u001b[38;5;241m0\u001b[39m], (\u001b[38;5;28mfloat\u001b[39m, \u001b[38;5;28mint\u001b[39m)\n\u001b[0;32m    201\u001b[0m ):\n\u001b[0;32m    202\u001b[0m     bounds \u001b[38;5;241m=\u001b[39m np\u001b[38;5;241m.\u001b[39marray(test_bounds, dtype\u001b[38;5;241m=\u001b[39m\u001b[38;5;28mfloat\u001b[39m)\n\u001b[1;32m--> 203\u001b[0m     \u001b[38;5;28mself\u001b[39m\u001b[38;5;241m.\u001b[39m_lower_bounds \u001b[38;5;241m=\u001b[39m np\u001b[38;5;241m.\u001b[39mnan_to_num(\u001b[43mbounds\u001b[49m\u001b[43m[\u001b[49m\u001b[43m:\u001b[49m\u001b[43m,\u001b[49m\u001b[43m \u001b[49m\u001b[38;5;241;43m0\u001b[39;49m\u001b[43m]\u001b[49m, nan\u001b[38;5;241m=\u001b[39m\u001b[38;5;241m-\u001b[39mnp\u001b[38;5;241m.\u001b[39minf)\n\u001b[0;32m    204\u001b[0m     \u001b[38;5;28mself\u001b[39m\u001b[38;5;241m.\u001b[39m_upper_bounds \u001b[38;5;241m=\u001b[39m np\u001b[38;5;241m.\u001b[39mnan_to_num(bounds[:, \u001b[38;5;241m1\u001b[39m], nan\u001b[38;5;241m=\u001b[39mnp\u001b[38;5;241m.\u001b[39minf)\n\u001b[0;32m    205\u001b[0m \u001b[38;5;28;01melse\u001b[39;00m:\n\u001b[0;32m    206\u001b[0m     \u001b[38;5;66;03m# Otherwise this must be a pair.\u001b[39;00m\n",
      "\u001b[1;31mIndexError\u001b[0m: too many indices for array: array is 1-dimensional, but 2 were indexed"
     ]
    }
   ],
   "source": [
    "# Market-neutral efficient risk.\n",
    "# Please use ef.efficient_risk() for anything serious.\n",
    "target_risk = 0.19\n",
    "ef = EfficientFrontier(mu, S, weight_bounds=(None, None))\n",
    "\n",
    "# Weights sum to zero\n",
    "weight_constr = {\"type\": \"eq\", \"fun\": lambda w: np.sum(w)}\n",
    "\n",
    "# Portfolio vol less than target vol\n",
    "risk_constr = {\n",
    "    \"type\": \"eq\",\n",
    "    \"fun\": lambda w: target_risk ** 2 - np.dot(w.T, np.dot(ef.cov_matrix, w)),\n",
    "}\n",
    "constraints = [weight_constr, risk_constr]\n",
    "\n",
    "ef.nonconvex_objective(\n",
    "    lambda w, mu: -w.T.dot(mu),  # min negative return i.e max return\n",
    "    objective_args=(ef.expected_returns),\n",
    "    weights_sum_to_one=False,\n",
    "    constraints=constraints,\n",
    ")\n",
    "weights = ef.clean_weights()\n",
    "weights"
   ]
  },
  {
   "cell_type": "code",
   "execution_count": null,
   "metadata": {
    "execution": {
     "iopub.status.busy": "2022-01-27T08:00:17.267271Z",
     "iopub.status.idle": "2022-01-27T08:00:17.267271Z",
     "shell.execute_reply": "2022-01-27T08:00:17.267271Z",
     "shell.execute_reply.started": "2022-01-27T08:00:17.267271Z"
    },
    "tags": []
   },
   "outputs": [],
   "source": [
    "ef.portfolio_performance(verbose=True);"
   ]
  },
  {
   "cell_type": "code",
   "execution_count": null,
   "metadata": {
    "execution": {
     "iopub.status.busy": "2022-01-27T08:00:17.268268Z",
     "iopub.status.idle": "2022-01-27T08:00:17.268268Z",
     "shell.execute_reply": "2022-01-27T08:00:17.268268Z",
     "shell.execute_reply.started": "2022-01-27T08:00:17.268268Z"
    },
    "tags": []
   },
   "outputs": [],
   "source": [
    "# Utility objective - you could actually use ef.max_quadratic_utility\n",
    "ef = EfficientFrontier(mu, S)\n",
    "\n",
    "def utility_obj(weights, mu, cov_matrix, k=1):\n",
    "    return -weights.dot(mu) + k * np.dot(weights.T, np.dot(cov_matrix, weights))\n",
    "\n",
    "ef.nonconvex_objective(\n",
    "    utility_obj,\n",
    "    objective_args=(ef.expected_returns, ef.cov_matrix, 1)\n",
    "    # default is for weights to sum to 1\n",
    ")\n",
    "\n",
    "weights = ef.clean_weights()\n",
    "weights"
   ]
  },
  {
   "cell_type": "code",
   "execution_count": null,
   "metadata": {
    "execution": {
     "iopub.status.busy": "2022-01-27T08:00:17.269267Z",
     "iopub.status.idle": "2022-01-27T08:00:17.269267Z",
     "shell.execute_reply": "2022-01-27T08:00:17.269267Z",
     "shell.execute_reply.started": "2022-01-27T08:00:17.269267Z"
    },
    "tags": []
   },
   "outputs": [],
   "source": [
    "ef.weights.sum()"
   ]
  },
  {
   "cell_type": "code",
   "execution_count": null,
   "metadata": {
    "execution": {
     "iopub.status.busy": "2022-01-27T08:00:17.269267Z",
     "iopub.status.idle": "2022-01-27T08:00:17.270264Z",
     "shell.execute_reply": "2022-01-27T08:00:17.269267Z",
     "shell.execute_reply.started": "2022-01-27T08:00:17.269267Z"
    },
    "tags": []
   },
   "outputs": [],
   "source": [
    "# Kelly objective with weight bounds on zeroth asset\n",
    "def kelly_objective(w, e_returns, cov_matrix, k=3):\n",
    "    variance = np.dot(w.T, np.dot(cov_matrix, w))\n",
    "    objective = variance * 0.5 * k - np.dot(w, e_returns)\n",
    "    return objective\n",
    "\n",
    "lower_bounds, upper_bounds = 0.01, 0.3\n",
    "ef = EfficientFrontier(mu, S)\n",
    "ef.nonconvex_objective(\n",
    "    kelly_objective,\n",
    "    objective_args=(ef.expected_returns, ef.cov_matrix, 1000),\n",
    "    constraints=[\n",
    "        {\"type\": \"eq\", \"fun\": lambda w: np.sum(w) - 1},\n",
    "        {\"type\": \"ineq\", \"fun\": lambda w: w[0] - lower_bounds},\n",
    "        {\"type\": \"ineq\", \"fun\": lambda w: upper_bounds - w[0]},\n",
    "    ],\n",
    ")\n",
    "\n",
    "weights = ef.clean_weights()\n",
    "weights"
   ]
  },
  {
   "cell_type": "code",
   "execution_count": null,
   "metadata": {
    "execution": {
     "iopub.status.busy": "2022-01-27T08:00:17.270264Z",
     "iopub.status.idle": "2022-01-27T08:00:17.270264Z",
     "shell.execute_reply": "2022-01-27T08:00:17.270264Z",
     "shell.execute_reply.started": "2022-01-27T08:00:17.270264Z"
    },
    "tags": []
   },
   "outputs": [],
   "source": [
    "ef.portfolio_performance(verbose=True);\n",
    "pd.Series(weights).plot.pie(figsize=(10,10));"
   ]
  }
 ],
 "metadata": {
  "kernelspec": {
   "display_name": "Python 3 (ipykernel)",
   "language": "python",
   "name": "python3"
  },
  "language_info": {
   "codemirror_mode": {
    "name": "ipython",
    "version": 3
   },
   "file_extension": ".py",
   "mimetype": "text/x-python",
   "name": "python",
   "nbconvert_exporter": "python",
   "pygments_lexer": "ipython3",
   "version": "3.8.10"
  }
 },
 "nbformat": 4,
 "nbformat_minor": 4
}

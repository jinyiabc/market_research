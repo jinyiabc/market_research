{
 "cells": [
  {
   "cell_type": "markdown",
   "metadata": {},
   "source": [
    "# Advanced MVO - custom objectives\n",
    "\n",
    "PyPortfolioOpt has implemented some of the most common objective functions (e.g `min_volatility`, `max_sharpe`, `max_quadratic_utility`, `efficient_risk`, `efficient_return`). However, sometimes yoy may have an idea for a different objective function.\n",
    "\n",
    "In this cookbook recipe, we cover:\n",
    "\n",
    "- Mininimising transaction costs\n",
    "- Custom convex objectives\n",
    "- Custom nonconvex objectives\n",
    "\n",
    "## Acquiring data\n",
    "\n",
    "As discussed in the previous notebook, assets are an exogenous input (i.e you must come up with a list of tickers). We will use `yfinance` to download data for thesee tickers"
   ]
  },
  {
   "cell_type": "code",
   "execution_count": 72,
   "metadata": {
    "execution": {
     "iopub.execute_input": "2022-01-24T08:33:01.408407Z",
     "iopub.status.busy": "2022-01-24T08:33:01.408407Z",
     "iopub.status.idle": "2022-01-24T08:33:01.432639Z",
     "shell.execute_reply": "2022-01-24T08:33:01.432639Z",
     "shell.execute_reply.started": "2022-01-24T08:33:01.408407Z"
    },
    "tags": []
   },
   "outputs": [],
   "source": [
    "# import yfinance as yf\n",
    "import pandas as pd\n",
    "import numpy as np\n",
    "import matplotlib.pyplot as plt"
   ]
  },
  {
   "cell_type": "markdown",
   "metadata": {
    "execution": {
     "iopub.execute_input": "2022-01-22T06:52:04.858745Z",
     "iopub.status.busy": "2022-01-22T06:52:04.858745Z",
     "iopub.status.idle": "2022-01-22T06:52:08.367097Z",
     "shell.execute_reply": "2022-01-22T06:52:08.367097Z",
     "shell.execute_reply.started": "2022-01-22T06:52:04.858745Z"
    },
    "tags": []
   },
   "source": [
    "! pip install --upgrade -q git+https://github.com/jinyiabc/china_stock_lib.git"
   ]
  },
  {
   "cell_type": "markdown",
   "metadata": {
    "execution": {
     "iopub.execute_input": "2022-01-21T14:42:00.750646Z",
     "iopub.status.busy": "2022-01-21T14:42:00.749648Z",
     "iopub.status.idle": "2022-01-21T14:42:04.389552Z",
     "shell.execute_reply": "2022-01-21T14:42:04.389552Z",
     "shell.execute_reply.started": "2022-01-21T14:42:00.750646Z"
    },
    "tags": []
   },
   "source": [
    "import get_data\n",
    "get_data.get_module_3('300072.csv')"
   ]
  },
  {
   "cell_type": "markdown",
   "metadata": {
    "execution": {
     "iopub.execute_input": "2022-01-24T07:14:49.424122Z",
     "iopub.status.busy": "2022-01-24T07:14:49.423128Z",
     "iopub.status.idle": "2022-01-24T07:14:49.442078Z",
     "shell.execute_reply": "2022-01-24T07:14:49.442078Z",
     "shell.execute_reply.started": "2022-01-24T07:14:49.424122Z"
    },
    "tags": []
   },
   "source": [
    "from helper.mysql_dbconnection import mysql_dbconnection"
   ]
  },
  {
   "cell_type": "markdown",
   "metadata": {
    "execution": {
     "iopub.execute_input": "2022-01-23T14:13:44.895026Z",
     "iopub.status.busy": "2022-01-23T14:13:44.895026Z",
     "iopub.status.idle": "2022-01-23T14:13:45.395415Z",
     "shell.execute_reply": "2022-01-23T14:13:45.395415Z",
     "shell.execute_reply.started": "2022-01-23T14:13:44.895026Z"
    },
    "tags": []
   },
   "source": [
    "dbConnection = mysql_dbconnection('china_stock_wiki')\n",
    "prices = pd.read_sql(\"select * from `0121`\", dbConnection);"
   ]
  },
  {
   "cell_type": "markdown",
   "metadata": {
    "execution": {
     "iopub.execute_input": "2022-01-23T14:13:48.067697Z",
     "iopub.status.busy": "2022-01-23T14:13:48.067697Z",
     "iopub.status.idle": "2022-01-23T14:13:48.115983Z",
     "shell.execute_reply": "2022-01-23T14:13:48.115983Z",
     "shell.execute_reply.started": "2022-01-23T14:13:48.067697Z"
    },
    "tags": []
   },
   "source": [
    "prices.set_index('index', inplace=True)\n",
    "prices.index.names = ['date']\n",
    "prices.head()"
   ]
  },
  {
   "cell_type": "code",
   "execution_count": 73,
   "metadata": {
    "execution": {
     "iopub.execute_input": "2022-01-24T08:33:23.029232Z",
     "iopub.status.busy": "2022-01-24T08:33:23.029232Z",
     "iopub.status.idle": "2022-01-24T08:33:23.075105Z",
     "shell.execute_reply": "2022-01-24T08:33:23.075105Z",
     "shell.execute_reply.started": "2022-01-24T08:33:23.029232Z"
    },
    "tags": []
   },
   "outputs": [
    {
     "data": {
      "text/html": [
       "<div>\n",
       "<style scoped>\n",
       "    .dataframe tbody tr th:only-of-type {\n",
       "        vertical-align: middle;\n",
       "    }\n",
       "\n",
       "    .dataframe tbody tr th {\n",
       "        vertical-align: top;\n",
       "    }\n",
       "\n",
       "    .dataframe thead th {\n",
       "        text-align: right;\n",
       "    }\n",
       "</style>\n",
       "<table border=\"1\" class=\"dataframe\">\n",
       "  <thead>\n",
       "    <tr style=\"text-align: right;\">\n",
       "      <th></th>\n",
       "      <th>002594.SZ</th>\n",
       "      <th>128062.SZ</th>\n",
       "      <th>159820.SZ</th>\n",
       "      <th>159949.SZ</th>\n",
       "      <th>512690.SH</th>\n",
       "      <th>113017.SH</th>\n",
       "      <th>002340.SZ</th>\n",
       "      <th>600059.SH</th>\n",
       "    </tr>\n",
       "    <tr>\n",
       "      <th>date</th>\n",
       "      <th></th>\n",
       "      <th></th>\n",
       "      <th></th>\n",
       "      <th></th>\n",
       "      <th></th>\n",
       "      <th></th>\n",
       "      <th></th>\n",
       "      <th></th>\n",
       "    </tr>\n",
       "  </thead>\n",
       "  <tbody>\n",
       "    <tr>\n",
       "      <th>2011-01-01</th>\n",
       "      <td>NaN</td>\n",
       "      <td>NaN</td>\n",
       "      <td>NaN</td>\n",
       "      <td>NaN</td>\n",
       "      <td>NaN</td>\n",
       "      <td>NaN</td>\n",
       "      <td>NaN</td>\n",
       "      <td>NaN</td>\n",
       "    </tr>\n",
       "    <tr>\n",
       "      <th>2011-01-02</th>\n",
       "      <td>NaN</td>\n",
       "      <td>NaN</td>\n",
       "      <td>NaN</td>\n",
       "      <td>NaN</td>\n",
       "      <td>NaN</td>\n",
       "      <td>NaN</td>\n",
       "      <td>NaN</td>\n",
       "      <td>NaN</td>\n",
       "    </tr>\n",
       "    <tr>\n",
       "      <th>2011-01-03</th>\n",
       "      <td>NaN</td>\n",
       "      <td>NaN</td>\n",
       "      <td>NaN</td>\n",
       "      <td>NaN</td>\n",
       "      <td>NaN</td>\n",
       "      <td>NaN</td>\n",
       "      <td>NaN</td>\n",
       "      <td>NaN</td>\n",
       "    </tr>\n",
       "    <tr>\n",
       "      <th>2011-01-04</th>\n",
       "      <td>NaN</td>\n",
       "      <td>NaN</td>\n",
       "      <td>NaN</td>\n",
       "      <td>NaN</td>\n",
       "      <td>NaN</td>\n",
       "      <td>NaN</td>\n",
       "      <td>83.360070</td>\n",
       "      <td>101.564582</td>\n",
       "    </tr>\n",
       "    <tr>\n",
       "      <th>2011-01-05</th>\n",
       "      <td>NaN</td>\n",
       "      <td>NaN</td>\n",
       "      <td>NaN</td>\n",
       "      <td>NaN</td>\n",
       "      <td>NaN</td>\n",
       "      <td>NaN</td>\n",
       "      <td>84.417574</td>\n",
       "      <td>100.020153</td>\n",
       "    </tr>\n",
       "  </tbody>\n",
       "</table>\n",
       "</div>"
      ],
      "text/plain": [
       "            002594.SZ  128062.SZ  159820.SZ  159949.SZ  512690.SH  113017.SH  \\\n",
       "date                                                                           \n",
       "2011-01-01        NaN        NaN        NaN        NaN        NaN        NaN   \n",
       "2011-01-02        NaN        NaN        NaN        NaN        NaN        NaN   \n",
       "2011-01-03        NaN        NaN        NaN        NaN        NaN        NaN   \n",
       "2011-01-04        NaN        NaN        NaN        NaN        NaN        NaN   \n",
       "2011-01-05        NaN        NaN        NaN        NaN        NaN        NaN   \n",
       "\n",
       "            002340.SZ   600059.SH  \n",
       "date                               \n",
       "2011-01-01        NaN         NaN  \n",
       "2011-01-02        NaN         NaN  \n",
       "2011-01-03        NaN         NaN  \n",
       "2011-01-04  83.360070  101.564582  \n",
       "2011-01-05  84.417574  100.020153  "
      ]
     },
     "execution_count": 73,
     "metadata": {},
     "output_type": "execute_result"
    }
   ],
   "source": [
    "prices = pd.read_csv(\"data/portfolio0124b.csv\", parse_dates=True, index_col=\"date\")\n",
    "prices.head()"
   ]
  },
  {
   "cell_type": "markdown",
   "metadata": {},
   "source": [
    "tickers = [\"BLK\", \"BAC\", \"AAPL\", \"TM\", \"WMT\",\n",
    "           \"JD\", \"INTU\", \"MA\", \"UL\", \"CVS\",\n",
    "           \"DIS\", \"AMD\", \"NVDA\", \"PBI\", \"TGT\"]"
   ]
  },
  {
   "cell_type": "markdown",
   "metadata": {},
   "source": [
    "ohlc = yf.download(tickers, period=\"max\")"
   ]
  },
  {
   "cell_type": "markdown",
   "metadata": {},
   "source": [
    "prices = ohlc[\"Adj Close\"]\n",
    "prices.tail()"
   ]
  },
  {
   "cell_type": "markdown",
   "metadata": {},
   "source": [
    "## Expected returns and risk models\n",
    "\n",
    "In this notebook, we will use James-Stein shrinkage and semicovariance (which only penalises downside risk)."
   ]
  },
  {
   "cell_type": "code",
   "execution_count": 74,
   "metadata": {
    "execution": {
     "iopub.execute_input": "2022-01-24T08:33:35.370590Z",
     "iopub.status.busy": "2022-01-24T08:33:35.370590Z",
     "iopub.status.idle": "2022-01-24T08:33:35.386601Z",
     "shell.execute_reply": "2022-01-24T08:33:35.386601Z",
     "shell.execute_reply.started": "2022-01-24T08:33:35.370590Z"
    },
    "tags": []
   },
   "outputs": [
    {
     "data": {
      "text/plain": [
       "'1.5.1'"
      ]
     },
     "execution_count": 74,
     "metadata": {},
     "output_type": "execute_result"
    }
   ],
   "source": [
    "import pypfopt\n",
    "pypfopt.__version__\n",
    "# file_path = '../tests/resources/wine.csv'\n",
    "# prices = pd.read_csv(file_path, parse_dates=True, index_col=\"Unnamed: 0\")"
   ]
  },
  {
   "cell_type": "code",
   "execution_count": 75,
   "metadata": {
    "execution": {
     "iopub.execute_input": "2022-01-24T08:33:36.608568Z",
     "iopub.status.busy": "2022-01-24T08:33:36.607573Z",
     "iopub.status.idle": "2022-01-24T08:33:36.635496Z",
     "shell.execute_reply": "2022-01-24T08:33:36.635496Z",
     "shell.execute_reply.started": "2022-01-24T08:33:36.608568Z"
    },
    "tags": []
   },
   "outputs": [],
   "source": [
    "from pypfopt import risk_models, expected_returns\n",
    "from pypfopt import plotting\n",
    "\n",
    "mu = expected_returns.capm_return(prices)\n",
    "S = risk_models.semicovariance(prices)"
   ]
  },
  {
   "cell_type": "code",
   "execution_count": 76,
   "metadata": {
    "execution": {
     "iopub.execute_input": "2022-01-24T08:33:57.225271Z",
     "iopub.status.busy": "2022-01-24T08:33:57.225271Z",
     "iopub.status.idle": "2022-01-24T08:33:57.325996Z",
     "shell.execute_reply": "2022-01-24T08:33:57.324997Z",
     "shell.execute_reply.started": "2022-01-24T08:33:57.225271Z"
    },
    "tags": []
   },
   "outputs": [
    {
     "data": {
      "image/png": "[encoded data removed]",
      "text/plain": [
       "<Figure size 720x360 with 1 Axes>"
      ]
     },
     "metadata": {
      "needs_background": "light"
     },
     "output_type": "display_data"
    }
   ],
   "source": [
    "mu.plot.barh(figsize=(10,5));"
   ]
  },
  {
   "cell_type": "code",
   "execution_count": 77,
   "metadata": {
    "execution": {
     "iopub.execute_input": "2022-01-24T08:34:06.336509Z",
     "iopub.status.busy": "2022-01-24T08:34:06.336509Z",
     "iopub.status.idle": "2022-01-24T08:34:06.442226Z",
     "shell.execute_reply": "2022-01-24T08:34:06.442226Z",
     "shell.execute_reply.started": "2022-01-24T08:34:06.336509Z"
    },
    "tags": []
   },
   "outputs": [
    {
     "data": {
      "image/png": "[encoded data removed]",
      "text/plain": [
       "<Figure size 432x288 with 2 Axes>"
      ]
     },
     "metadata": {
      "needs_background": "light"
     },
     "output_type": "display_data"
    }
   ],
   "source": [
    "plotting.plot_covariance(S, plot_correlation=True);"
   ]
  },
  {
   "cell_type": "markdown",
   "metadata": {},
   "source": [
    "## Min volatility with a transaction cost objective\n",
    "\n",
    "Let's say that you already have a portfolio, and want to now optimize it. It could be quite expensive to completely reallocate, so you may want to take into account transaction costs. PyPortfolioOpt provides a simple objective to account for this.\n",
    "\n",
    "Note: this objective will not play nicely with `max_sharpe`."
   ]
  },
  {
   "cell_type": "code",
   "execution_count": 79,
   "metadata": {
    "execution": {
     "iopub.execute_input": "2022-01-24T08:34:24.199869Z",
     "iopub.status.busy": "2022-01-24T08:34:24.198876Z",
     "iopub.status.idle": "2022-01-24T08:34:24.208849Z",
     "shell.execute_reply": "2022-01-24T08:34:24.208849Z",
     "shell.execute_reply.started": "2022-01-24T08:34:24.199869Z"
    },
    "tags": []
   },
   "outputs": [
    {
     "name": "stdout",
     "output_type": "stream",
     "text": [
      "[0.125 0.125 0.125 0.125 0.125 0.125 0.125 0.125]\n"
     ]
    }
   ],
   "source": [
    "# Pretend that you started with a default-weight allocation\n",
    "initial_weights = np.array([1/8] * 8)\n",
    "print(initial_weights)"
   ]
  },
  {
   "cell_type": "code",
   "execution_count": 80,
   "metadata": {
    "execution": {
     "iopub.execute_input": "2022-01-24T08:34:27.185569Z",
     "iopub.status.busy": "2022-01-24T08:34:27.184572Z",
     "iopub.status.idle": "2022-01-24T08:34:27.209509Z",
     "shell.execute_reply": "2022-01-24T08:34:27.209509Z",
     "shell.execute_reply.started": "2022-01-24T08:34:27.185569Z"
    },
    "tags": []
   },
   "outputs": [
    {
     "data": {
      "text/plain": [
       "OrderedDict([('002594.SZ', 0.0431),\n",
       "             ('128062.SZ', 0.125),\n",
       "             ('159820.SZ', 0.31718),\n",
       "             ('159949.SZ', 0.125),\n",
       "             ('512690.SH', 0.125),\n",
       "             ('113017.SH', 0.125),\n",
       "             ('002340.SZ', 0.02683),\n",
       "             ('600059.SH', 0.11288)])"
      ]
     },
     "execution_count": 80,
     "metadata": {},
     "output_type": "execute_result"
    }
   ],
   "source": [
    "from pypfopt import EfficientFrontier, objective_functions\n",
    "\n",
    "ef = EfficientFrontier(mu, S)\n",
    "\n",
    "# 1% broker commission\n",
    "ef.add_objective(objective_functions.transaction_cost, w_prev=initial_weights, k=0.01)\n",
    "ef.min_volatility()\n",
    "weights = ef.clean_weights()\n",
    "weights"
   ]
  },
  {
   "cell_type": "markdown",
   "metadata": {
    "execution": {
     "iopub.execute_input": "2022-01-23T14:21:45.938191Z",
     "iopub.status.busy": "2022-01-23T14:21:45.938191Z",
     "iopub.status.idle": "2022-01-23T14:22:07.128816Z",
     "shell.execute_reply": "2022-01-23T14:22:07.128816Z",
     "shell.execute_reply.started": "2022-01-23T14:21:45.938191Z"
    },
    "tags": []
   },
   "source": [
    "from WindPy import w\n",
    "w.start() \n",
    "w.isconnected()\n",
    "start = \"2019-01-21\"\n",
    "end = \"2022-01-20\"\n",
    "wind_codes = [  '600959.SH',\n",
    "                '000156.SZ',\n",
    "                '300770.SZ',\n",
    "                '000665.SZ',\n",
    "                '600037.SH',\n",
    "                '601929.SH',\n",
    "                '000839.SZ',\n",
    "                '000917.SZ',\n",
    "                '600996.SH',\n",
    "                '002238.SZ',]\n",
    "\n",
    "error_code, wss_data = w.wss(wind_codes, \"mkt_cap_ard\",\"unit=1;tradeDate=20220120\", usedf=True) "
   ]
  },
  {
   "cell_type": "markdown",
   "metadata": {
    "execution": {
     "iopub.execute_input": "2022-01-23T14:22:25.223032Z",
     "iopub.status.busy": "2022-01-23T14:22:25.223032Z",
     "iopub.status.idle": "2022-01-23T14:22:25.240985Z",
     "shell.execute_reply": "2022-01-23T14:22:25.240985Z",
     "shell.execute_reply.started": "2022-01-23T14:22:25.223032Z"
    },
    "tags": []
   },
   "source": [
    "wss_data"
   ]
  },
  {
   "cell_type": "markdown",
   "metadata": {
    "execution": {
     "iopub.execute_input": "2022-01-23T14:22:31.972224Z",
     "iopub.status.busy": "2022-01-23T14:22:31.972224Z",
     "iopub.status.idle": "2022-01-23T14:22:31.991168Z",
     "shell.execute_reply": "2022-01-23T14:22:31.990200Z",
     "shell.execute_reply.started": "2022-01-23T14:22:31.972224Z"
    },
    "tags": []
   },
   "source": [
    "wss_data['percentage'] = wss_data['MKT_CAP_ARD']/wss_data['MKT_CAP_ARD'].sum()\n",
    "print(wss_data)"
   ]
  },
  {
   "cell_type": "markdown",
   "metadata": {
    "execution": {
     "iopub.execute_input": "2022-01-23T14:22:39.402563Z",
     "iopub.status.busy": "2022-01-23T14:22:39.402563Z",
     "iopub.status.idle": "2022-01-23T14:22:39.419967Z",
     "shell.execute_reply": "2022-01-23T14:22:39.419967Z",
     "shell.execute_reply.started": "2022-01-23T14:22:39.402563Z"
    },
    "tags": []
   },
   "source": [
    "# file_path = '../tests/resources/512690.SH.csv'\n",
    "# constitents = pd.read_csv(file_path, header=None)\n",
    "# print(constitents[2][:11],constitents[1][:11])\n",
    "initial_weights = wss_data['percentage'].values.tolist() \n",
    "print(initial_weights)"
   ]
  },
  {
   "cell_type": "code",
   "execution_count": 81,
   "metadata": {
    "execution": {
     "iopub.execute_input": "2022-01-24T08:35:29.483138Z",
     "iopub.status.busy": "2022-01-24T08:35:29.483138Z",
     "iopub.status.idle": "2022-01-24T08:35:29.533037Z",
     "shell.execute_reply": "2022-01-24T08:35:29.533037Z",
     "shell.execute_reply.started": "2022-01-24T08:35:29.483138Z"
    },
    "tags": []
   },
   "outputs": [
    {
     "name": "stderr",
     "output_type": "stream",
     "text": [
      "C:\\Users\\jinyi\\AppData\\Local\\Temp\\ipykernel_15488\\2319883049.py:17: SettingWithCopyWarning: \n",
      "A value is trying to be set on a copy of a slice from a DataFrame.\n",
      "Try using .loc[row_indexer,col_indexer] = value instead\n",
      "\n",
      "See the caveats in the documentation: https://pandas.pydata.org/pandas-docs/stable/user_guide/indexing.html#returning-a-view-versus-a-copy\n",
      "  df1['weights'] = df1['weights']/df1['weights'].sum()\n"
     ]
    }
   ],
   "source": [
    "file_path = 'data/composition.xlsx'\n",
    "df0 = pd.read_excel(file_path,\n",
    "                    converters={\n",
    "                        \"证券代码\":str\n",
    "\n",
    "                    }\n",
    "                    ).rename(\n",
    "                            columns={\n",
    "                                \"证券代码\": \"ticker\",\n",
    "                                \"个股仓位%\": \"weights\",\n",
    "                                \"交易市场\": \"trader\"\n",
    "                            },\n",
    ")\n",
    "# df0 = df0.loc[(df0['ticker'] != '128062') & (df0['ticker'] != '113017')]\n",
    "df0['wind_code'] = df0[\"ticker\"] + df0[\"trader\"].apply(lambda x: '.SZ' if x == '深市A股' else '.SH')\n",
    "df1 = df0[[\"wind_code\", \"weights\"]]\n",
    "df1['weights'] = df1['weights']/df1['weights'].sum()"
   ]
  },
  {
   "cell_type": "code",
   "execution_count": 83,
   "metadata": {
    "execution": {
     "iopub.execute_input": "2022-01-24T08:36:31.031344Z",
     "iopub.status.busy": "2022-01-24T08:36:31.031344Z",
     "iopub.status.idle": "2022-01-24T08:36:31.049296Z",
     "shell.execute_reply": "2022-01-24T08:36:31.049296Z",
     "shell.execute_reply.started": "2022-01-24T08:36:31.031344Z"
    },
    "tags": []
   },
   "outputs": [
    {
     "name": "stdout",
     "output_type": "stream",
     "text": [
      "[0.12671905697445973, 0.06609598652820657, 0.11100196463654226, 0.00406960426606792, 0.27308447937131636, 0.10693236037047434, 0.306483300589391, 0.00561324726354196]\n",
      "1.0\n"
     ]
    }
   ],
   "source": [
    "# print(df1)\n",
    "# df1['weights'].sum()\n",
    "initial_weights = df1['weights'].values.tolist() \n",
    "print(initial_weights)\n",
    "print(df1['weights'].sum())"
   ]
  },
  {
   "cell_type": "code",
   "execution_count": 84,
   "metadata": {
    "execution": {
     "iopub.execute_input": "2022-01-24T08:36:34.680421Z",
     "iopub.status.busy": "2022-01-24T08:36:34.680421Z",
     "iopub.status.idle": "2022-01-24T08:36:34.703927Z",
     "shell.execute_reply": "2022-01-24T08:36:34.703927Z",
     "shell.execute_reply.started": "2022-01-24T08:36:34.680421Z"
    },
    "tags": []
   },
   "outputs": [
    {
     "data": {
      "text/plain": [
       "OrderedDict([('002594.SZ', 0.07072),\n",
       "             ('128062.SZ', 0.0661),\n",
       "             ('159820.SZ', 0.35635),\n",
       "             ('159949.SZ', 0.00407),\n",
       "             ('512690.SH', 0.27308),\n",
       "             ('113017.SH', 0.14063),\n",
       "             ('002340.SZ', 0.08344),\n",
       "             ('600059.SH', 0.00561)])"
      ]
     },
     "execution_count": 84,
     "metadata": {},
     "output_type": "execute_result"
    }
   ],
   "source": [
    "from pypfopt import EfficientFrontier, objective_functions\n",
    "\n",
    "ef = EfficientFrontier(mu, S)\n",
    "\n",
    "# 1% broker commission\n",
    "ef.add_objective(objective_functions.transaction_cost, w_prev=initial_weights, k=0.01)\n",
    "ef.min_volatility()\n",
    "weights = ef.clean_weights()\n",
    "weights"
   ]
  },
  {
   "cell_type": "markdown",
   "metadata": {},
   "source": [
    "Notice that many of the weights are 0.06667, i.e your original equal weight. In fact, the only change has been an allocation of AMD's weight to JD. If we lower the cost `k`, the allocation will change more:"
   ]
  },
  {
   "cell_type": "code",
   "execution_count": 85,
   "metadata": {
    "execution": {
     "iopub.execute_input": "2022-01-24T08:37:58.855417Z",
     "iopub.status.busy": "2022-01-24T08:37:58.855417Z",
     "iopub.status.idle": "2022-01-24T08:37:58.876361Z",
     "shell.execute_reply": "2022-01-24T08:37:58.876361Z",
     "shell.execute_reply.started": "2022-01-24T08:37:58.855417Z"
    },
    "tags": []
   },
   "outputs": [
    {
     "data": {
      "text/plain": [
       "OrderedDict([('002594.SZ', 0.0),\n",
       "             ('128062.SZ', 0.10943),\n",
       "             ('159820.SZ', 0.56895),\n",
       "             ('159949.SZ', 0.0),\n",
       "             ('512690.SH', 0.0776),\n",
       "             ('113017.SH', 0.24401),\n",
       "             ('002340.SZ', 0.0),\n",
       "             ('600059.SH', 0.0)])"
      ]
     },
     "execution_count": 85,
     "metadata": {},
     "output_type": "execute_result"
    }
   ],
   "source": [
    "ef = EfficientFrontier(mu, S)\n",
    "ef.add_objective(objective_functions.transaction_cost, w_prev=initial_weights, k=0.001)\n",
    "ef.min_volatility()\n",
    "weights = ef.clean_weights()\n",
    "weights"
   ]
  },
  {
   "cell_type": "markdown",
   "metadata": {},
   "source": [
    "The optimizer seems to really like JD. The reason for this is that it is highly anticorrelated to other assets (notice the dark column in the covariance plot). Hence, historically, it adds a lot of diversification. But it is dangerous to place too much emphasis on what happened in the past, so we may want to limit the asset weights. \n",
    "\n",
    "In addition, we notice that 4 stocks have now been allocated zero weight, which may be undesirable. Both of these problems can be fixed by adding an [L2 regularisation objective](https://pyportfolioopt.readthedocs.io/en/latest/EfficientFrontier.html#more-on-l2-regularisation). "
   ]
  },
  {
   "cell_type": "code",
   "execution_count": 86,
   "metadata": {
    "execution": {
     "iopub.execute_input": "2022-01-24T08:38:22.062246Z",
     "iopub.status.busy": "2022-01-24T08:38:22.062246Z",
     "iopub.status.idle": "2022-01-24T08:38:22.082217Z",
     "shell.execute_reply": "2022-01-24T08:38:22.082217Z",
     "shell.execute_reply.started": "2022-01-24T08:38:22.062246Z"
    },
    "tags": []
   },
   "outputs": [
    {
     "data": {
      "text/plain": [
       "OrderedDict([('002594.SZ', 0.11561),\n",
       "             ('128062.SZ', 0.13195),\n",
       "             ('159820.SZ', 0.13235),\n",
       "             ('159949.SZ', 0.12623),\n",
       "             ('512690.SH', 0.12978),\n",
       "             ('113017.SH', 0.13194),\n",
       "             ('002340.SZ', 0.1151),\n",
       "             ('600059.SH', 0.11704)])"
      ]
     },
     "execution_count": 86,
     "metadata": {},
     "output_type": "execute_result"
    }
   ],
   "source": [
    "ef = EfficientFrontier(mu, S)\n",
    "ef.add_objective(objective_functions.transaction_cost, w_prev=initial_weights, k=0.001)\n",
    "ef.add_objective(objective_functions.L2_reg)\n",
    "ef.min_volatility()\n",
    "weights = ef.clean_weights()\n",
    "weights"
   ]
  },
  {
   "cell_type": "markdown",
   "metadata": {},
   "source": [
    "This has had too much of an evening-out effect. After all, if the resulting allocation is going to be so close to equal weights, we may as well stick with our initial allocation. We can reduce the strength of the L2 regularisation by reducing `gamma`:"
   ]
  },
  {
   "cell_type": "code",
   "execution_count": 87,
   "metadata": {
    "execution": {
     "iopub.execute_input": "2022-01-24T08:38:43.511635Z",
     "iopub.status.busy": "2022-01-24T08:38:43.511635Z",
     "iopub.status.idle": "2022-01-24T08:38:43.528585Z",
     "shell.execute_reply": "2022-01-24T08:38:43.528585Z",
     "shell.execute_reply.started": "2022-01-24T08:38:43.511635Z"
    },
    "tags": []
   },
   "outputs": [
    {
     "data": {
      "text/plain": [
       "OrderedDict([('002594.SZ', 0.04347),\n",
       "             ('128062.SZ', 0.19194),\n",
       "             ('159820.SZ', 0.20085),\n",
       "             ('159949.SZ', 0.11789),\n",
       "             ('512690.SH', 0.1639),\n",
       "             ('113017.SH', 0.19373),\n",
       "             ('002340.SZ', 0.04232),\n",
       "             ('600059.SH', 0.04589)])"
      ]
     },
     "execution_count": 87,
     "metadata": {},
     "output_type": "execute_result"
    }
   ],
   "source": [
    "ef = EfficientFrontier(mu, S)\n",
    "ef.add_objective(objective_functions.transaction_cost, w_prev=initial_weights, k=0.001)\n",
    "ef.add_objective(objective_functions.L2_reg, gamma=0.05)  # default is 1\n",
    "ef.min_volatility()\n",
    "weights = ef.clean_weights()\n",
    "weights"
   ]
  },
  {
   "cell_type": "code",
   "execution_count": 88,
   "metadata": {
    "execution": {
     "iopub.execute_input": "2022-01-24T08:38:56.839661Z",
     "iopub.status.busy": "2022-01-24T08:38:56.839661Z",
     "iopub.status.idle": "2022-01-24T08:38:56.858649Z",
     "shell.execute_reply": "2022-01-24T08:38:56.858649Z",
     "shell.execute_reply.started": "2022-01-24T08:38:56.839661Z"
    },
    "tags": []
   },
   "outputs": [
    {
     "name": "stdout",
     "output_type": "stream",
     "text": [
      "Expected annual return: 3.9%\n",
      "Annual volatility: 5.6%\n",
      "Sharpe Ratio: 0.34\n"
     ]
    }
   ],
   "source": [
    "ef.portfolio_performance(verbose=True);"
   ]
  },
  {
   "cell_type": "markdown",
   "metadata": {},
   "source": [
    "This portfolio is now reasonably balanced, but also puts significantly more weight on JD. "
   ]
  },
  {
   "cell_type": "code",
   "execution_count": 89,
   "metadata": {
    "execution": {
     "iopub.execute_input": "2022-01-24T08:39:03.664055Z",
     "iopub.status.busy": "2022-01-24T08:39:03.664055Z",
     "iopub.status.idle": "2022-01-24T08:39:03.740853Z",
     "shell.execute_reply": "2022-01-24T08:39:03.740853Z",
     "shell.execute_reply.started": "2022-01-24T08:39:03.664055Z"
    },
    "tags": []
   },
   "outputs": [
    {
     "data": {
      "image/png": "[encoded data removed]",
      "text/plain": [
       "<Figure size 720x720 with 1 Axes>"
      ]
     },
     "metadata": {},
     "output_type": "display_data"
    }
   ],
   "source": [
    "pd.Series(weights).plot.pie(figsize=(10,10));"
   ]
  },
  {
   "cell_type": "markdown",
   "metadata": {},
   "source": [
    "## Custom convex objectives\n",
    "\n",
    "PyPortfolioOpt comes with the following built-in objective functions, as of v1.2.1:\n",
    "\n",
    "- Portfolio variance (i.e square of volatility)\n",
    "- Portfolio return\n",
    "- Sharpe ratio\n",
    "- L2 regularisation (minimising this reduces nonzero weights)\n",
    "- Quadratic utility\n",
    "- Transaction cost model (a simple one)\n",
    "\n",
    "However, you may want have a different objective. If this new objective is **convex**, you can optimize a portfolio with the full benefit of PyPortfolioOpt's modular syntax, for example adding other constraints and objectives.\n",
    "\n",
    "To demonstrate this, we will minimise the **logarithmic-barrier** function suggested in the paper 60 Years of Portfolio Optimization, by Kolm et al (2014):\n",
    "\n",
    "$$f(w, S, k) = w^T S w - k \\sum_{i=1}^N \\ln w$$\n",
    "\n",
    "We must first convert this mathematical objective into the language of cvxpy. Cvxpy is a powerful modelling language for convex optimization problems. It is clean and easy to use, the only caveat is that objectives must be expressed with `cvxpy` functions, a list of which can be found [here](https://www.cvxpy.org/tutorial/functions/index.html)."
   ]
  },
  {
   "cell_type": "code",
   "execution_count": 55,
   "metadata": {
    "execution": {
     "iopub.execute_input": "2022-01-24T07:40:57.422655Z",
     "iopub.status.busy": "2022-01-24T07:40:57.421659Z",
     "iopub.status.idle": "2022-01-24T07:40:57.440581Z",
     "shell.execute_reply": "2022-01-24T07:40:57.440581Z",
     "shell.execute_reply.started": "2022-01-24T07:40:57.422655Z"
    },
    "tags": []
   },
   "outputs": [],
   "source": [
    "import cvxpy as cp\n",
    "\n",
    "# Note: functions are minimised. If you want to maximise an objective, stick a minus sign in it.\n",
    "def logarithmic_barrier_objective(w, cov_matrix, k=0.1):\n",
    "    log_sum = cp.sum(cp.log(w))\n",
    "    var = cp.quad_form(w, cov_matrix)\n",
    "    return var - k * log_sum"
   ]
  },
  {
   "cell_type": "markdown",
   "metadata": {},
   "source": [
    "Once we have written the objective function, we can just use the `ef.convex_objective()` to minimise the objective."
   ]
  },
  {
   "cell_type": "code",
   "execution_count": 56,
   "metadata": {
    "execution": {
     "iopub.execute_input": "2022-01-24T07:40:59.310521Z",
     "iopub.status.busy": "2022-01-24T07:40:59.310521Z",
     "iopub.status.idle": "2022-01-24T07:40:59.337453Z",
     "shell.execute_reply": "2022-01-24T07:40:59.337453Z",
     "shell.execute_reply.started": "2022-01-24T07:40:59.310521Z"
    },
    "tags": []
   },
   "outputs": [
    {
     "data": {
      "text/plain": [
       "OrderedDict([('002594.SZ', 0.11497),\n",
       "             ('159820.SZ', 0.2),\n",
       "             ('159949.SZ', 0.2),\n",
       "             ('512690.SH', 0.2),\n",
       "             ('002340.SZ', 0.10631),\n",
       "             ('600059.SH', 0.17873)])"
      ]
     },
     "execution_count": 56,
     "metadata": {},
     "output_type": "execute_result"
    }
   ],
   "source": [
    "ef = EfficientFrontier(mu, S, weight_bounds=(0.01, 0.2))\n",
    "ef.convex_objective(logarithmic_barrier_objective, cov_matrix=S, k=0.001)\n",
    "weights = ef.clean_weights()\n",
    "weights"
   ]
  },
  {
   "cell_type": "code",
   "execution_count": 57,
   "metadata": {
    "execution": {
     "iopub.execute_input": "2022-01-24T07:41:02.815904Z",
     "iopub.status.busy": "2022-01-24T07:41:02.814911Z",
     "iopub.status.idle": "2022-01-24T07:41:02.824879Z",
     "shell.execute_reply": "2022-01-24T07:41:02.824879Z",
     "shell.execute_reply.started": "2022-01-24T07:41:02.815904Z"
    },
    "tags": []
   },
   "outputs": [
    {
     "name": "stdout",
     "output_type": "stream",
     "text": [
      "Expected annual return: 6.0%\n",
      "Annual volatility: 10.8%\n",
      "Sharpe Ratio: 0.37\n"
     ]
    }
   ],
   "source": [
    "ef.portfolio_performance(verbose=True);"
   ]
  },
  {
   "cell_type": "markdown",
   "metadata": {},
   "source": [
    "This is compatible with all the constraints discussed in the previous recipe. Let's say that we want to limit JD's weight to 15%."
   ]
  },
  {
   "cell_type": "code",
   "execution_count": 58,
   "metadata": {
    "execution": {
     "iopub.execute_input": "2022-01-24T07:42:03.662514Z",
     "iopub.status.busy": "2022-01-24T07:42:03.662514Z",
     "iopub.status.idle": "2022-01-24T07:42:03.686523Z",
     "shell.execute_reply": "2022-01-24T07:42:03.686523Z",
     "shell.execute_reply.started": "2022-01-24T07:42:03.662514Z"
    },
    "tags": []
   },
   "outputs": [
    {
     "data": {
      "text/plain": [
       "OrderedDict([('002594.SZ', 0.11497),\n",
       "             ('159820.SZ', 0.2),\n",
       "             ('159949.SZ', 0.2),\n",
       "             ('512690.SH', 0.2),\n",
       "             ('002340.SZ', 0.10631),\n",
       "             ('600059.SH', 0.17873)])"
      ]
     },
     "execution_count": 58,
     "metadata": {},
     "output_type": "execute_result"
    }
   ],
   "source": [
    "ef = EfficientFrontier(mu, S, weight_bounds=(0.01, 0.2))\n",
    "# jd_index = ef.tickers.index(\"JD\")  # get the index of JD\n",
    "maotai_index = 0\n",
    "ef.add_constraint(lambda w: w[maotai_index] <= 0.15)\n",
    "ef.convex_objective(logarithmic_barrier_objective, cov_matrix=S, k=0.001)\n",
    "weights = ef.clean_weights()\n",
    "weights"
   ]
  },
  {
   "cell_type": "code",
   "execution_count": 59,
   "metadata": {
    "execution": {
     "iopub.execute_input": "2022-01-24T07:42:07.008017Z",
     "iopub.status.busy": "2022-01-24T07:42:07.008017Z",
     "iopub.status.idle": "2022-01-24T07:42:07.017994Z",
     "shell.execute_reply": "2022-01-24T07:42:07.017994Z",
     "shell.execute_reply.started": "2022-01-24T07:42:07.008017Z"
    },
    "tags": []
   },
   "outputs": [
    {
     "name": "stdout",
     "output_type": "stream",
     "text": [
      "Expected annual return: 6.0%\n",
      "Annual volatility: 10.8%\n",
      "Sharpe Ratio: 0.37\n"
     ]
    }
   ],
   "source": [
    "ef.portfolio_performance(verbose=True);"
   ]
  },
  {
   "cell_type": "markdown",
   "metadata": {},
   "source": [
    "## Custom nonconvex objectives\n",
    "\n",
    "In some cases, you may be trying to optimize for nonconvex objectives. Optimization in general is a very hard problem, so please be aware that you may have mixed results in that case. Convex problems, on the other hand, are well understood and can be solved with nice theoretical guarantees.\n",
    "\n",
    "PyPortfolioOpt does offer some functionality for nonconvex optimization, but it is not really encouraged. In particular, nonconvex optimization is not compatible with PyPortfolioOpt's modular constraints API.\n",
    "\n",
    "As an example, we will use the Deviation Risk Parity objective from Kolm et al (2014). Because we are not using a convex solver, we don't have to define it using `cvxpy` functions."
   ]
  },
  {
   "cell_type": "code",
   "execution_count": 60,
   "metadata": {
    "execution": {
     "iopub.execute_input": "2022-01-24T07:42:15.856605Z",
     "iopub.status.busy": "2022-01-24T07:42:15.855610Z",
     "iopub.status.idle": "2022-01-24T07:42:15.872565Z",
     "shell.execute_reply": "2022-01-24T07:42:15.872565Z",
     "shell.execute_reply.started": "2022-01-24T07:42:15.856605Z"
    },
    "tags": []
   },
   "outputs": [],
   "source": [
    "def deviation_risk_parity(w, cov_matrix):\n",
    "    diff = w * np.dot(cov_matrix, w) - (w * np.dot(cov_matrix, w)).reshape(-1, 1)\n",
    "    return (diff ** 2).sum().sum()"
   ]
  },
  {
   "cell_type": "code",
   "execution_count": 63,
   "metadata": {
    "execution": {
     "iopub.execute_input": "2022-01-24T07:43:06.227099Z",
     "iopub.status.busy": "2022-01-24T07:43:06.227099Z",
     "iopub.status.idle": "2022-01-24T07:43:06.239131Z",
     "shell.execute_reply": "2022-01-24T07:43:06.239131Z",
     "shell.execute_reply.started": "2022-01-24T07:43:06.227099Z"
    },
    "tags": []
   },
   "outputs": [
    {
     "data": {
      "text/plain": [
       "OrderedDict([('002594.SZ', 0.12782),\n",
       "             ('159820.SZ', 0.2),\n",
       "             ('159949.SZ', 0.2),\n",
       "             ('512690.SH', 0.2),\n",
       "             ('002340.SZ', 0.12266),\n",
       "             ('600059.SH', 0.14952)])"
      ]
     },
     "execution_count": 63,
     "metadata": {},
     "output_type": "execute_result"
    }
   ],
   "source": [
    "ef = EfficientFrontier(mu, S, weight_bounds=(0.01, 0.2))\n",
    "ef.nonconvex_objective(deviation_risk_parity, ef.cov_matrix)\n",
    "weights = ef.clean_weights()\n",
    "weights"
   ]
  },
  {
   "cell_type": "markdown",
   "metadata": {},
   "source": [
    "However, let's say we now want to enforce that JD has a weight of 10%. In the convex case, this would be as simple as:\n",
    "\n",
    "```python\n",
    "ef.add_objective(lambda w: w[jd_index] == 0.10)\n",
    "```\n",
    "\n",
    "But unfortunately, scipy does not allow for such intuitive syntax. You will need to rearrange your constraints to make them either `=0` or `<= 0`. \n",
    "\n",
    "```python\n",
    "constraints = [\n",
    "    # First constraint\n",
    "     {\"type\": \"eq\",  # equality constraint,\n",
    "      \"fun\": lambda w: w[1] - 0.2},  # the equality functions are assumed to = 0 \n",
    "      \n",
    "    # Second constraint\n",
    "    {\"type\": \"ineq\",  # inequality constraint\n",
    "     \"fun\": lambda w: w[0] - 0.5}   # inequality functions <= 0\n",
    "]\n",
    "```\n",
    "\n",
    "For more information, you can consult the [scipy docs](https://docs.scipy.org/doc/scipy/reference/generated/scipy.optimize.minimize.html), but they aren't very helpful."
   ]
  },
  {
   "cell_type": "code",
   "execution_count": 64,
   "metadata": {
    "execution": {
     "iopub.execute_input": "2022-01-24T07:43:15.091097Z",
     "iopub.status.busy": "2022-01-24T07:43:15.091097Z",
     "iopub.status.idle": "2022-01-24T07:43:15.114040Z",
     "shell.execute_reply": "2022-01-24T07:43:15.114040Z",
     "shell.execute_reply.started": "2022-01-24T07:43:15.091097Z"
    },
    "tags": []
   },
   "outputs": [
    {
     "data": {
      "text/plain": [
       "OrderedDict([('002594.SZ', 0.1),\n",
       "             ('159820.SZ', 0.2),\n",
       "             ('159949.SZ', 0.19975),\n",
       "             ('512690.SH', 0.2),\n",
       "             ('002340.SZ', 0.14047),\n",
       "             ('600059.SH', 0.15978)])"
      ]
     },
     "execution_count": 64,
     "metadata": {},
     "output_type": "execute_result"
    }
   ],
   "source": [
    "ef = EfficientFrontier(mu, S, weight_bounds=(0.01, 0.2))\n",
    "\n",
    "ef.nonconvex_objective(\n",
    "    deviation_risk_parity,\n",
    "    objective_args=S,\n",
    "    weights_sum_to_one=True,\n",
    "    constraints=[\n",
    "        {\"type\": \"eq\", \"fun\": lambda w: w[maotai_index] - 0.10},  \n",
    "    ],\n",
    ")\n",
    "\n",
    "weights = ef.clean_weights()\n",
    "weights"
   ]
  },
  {
   "cell_type": "markdown",
   "metadata": {},
   "source": [
    "## More examples of nonconvex objectives\n",
    "\n",
    "The scipy format is not intuitive and is hard to explain, so here are a bunch of examples (adapted from the tests). Some of these are actually convex, so you should use `convex_objective` instead. "
   ]
  },
  {
   "cell_type": "code",
   "execution_count": 65,
   "metadata": {
    "execution": {
     "iopub.execute_input": "2022-01-24T07:43:24.901922Z",
     "iopub.status.busy": "2022-01-24T07:43:24.901922Z",
     "iopub.status.idle": "2022-01-24T07:43:24.939842Z",
     "shell.execute_reply": "2022-01-24T07:43:24.939842Z",
     "shell.execute_reply.started": "2022-01-24T07:43:24.901922Z"
    },
    "tags": []
   },
   "outputs": [
    {
     "data": {
      "text/plain": [
       "OrderedDict([('002594.SZ', 0.05638),\n",
       "             ('159820.SZ', 0.53906),\n",
       "             ('159949.SZ', 0.12096),\n",
       "             ('512690.SH', 0.16272),\n",
       "             ('002340.SZ', 0.05624),\n",
       "             ('600059.SH', 0.06464)])"
      ]
     },
     "execution_count": 65,
     "metadata": {},
     "output_type": "execute_result"
    }
   ],
   "source": [
    "# Another example of deviation risk parity\n",
    "def deviation_risk_parity(w, cov_matrix):\n",
    "    n = cov_matrix.shape[0]\n",
    "    rp = (w * (cov_matrix @ w)) / cp.quad_form(w, cov_matrix)\n",
    "    return cp.sum_squares(rp - 1 / n).value\n",
    "\n",
    "ef = EfficientFrontier(mu, S)\n",
    "ef.nonconvex_objective(deviation_risk_parity, ef.cov_matrix)\n",
    "weights = ef.clean_weights()\n",
    "weights"
   ]
  },
  {
   "cell_type": "code",
   "execution_count": 66,
   "metadata": {
    "execution": {
     "iopub.execute_input": "2022-01-24T07:43:33.310768Z",
     "iopub.status.busy": "2022-01-24T07:43:33.310768Z",
     "iopub.status.idle": "2022-01-24T07:43:33.334699Z",
     "shell.execute_reply": "2022-01-24T07:43:33.334699Z",
     "shell.execute_reply.started": "2022-01-24T07:43:33.310768Z"
    },
    "tags": []
   },
   "outputs": [
    {
     "data": {
      "text/plain": [
       "OrderedDict([('002594.SZ', 0.1),\n",
       "             ('159820.SZ', 0.40508),\n",
       "             ('159949.SZ', 0.14827),\n",
       "             ('512690.SH', 0.20103),\n",
       "             ('002340.SZ', 0.06776),\n",
       "             ('600059.SH', 0.07785)])"
      ]
     },
     "execution_count": 66,
     "metadata": {},
     "output_type": "execute_result"
    }
   ],
   "source": [
    "# Deviation risk parity with weight bound on the first asset\n",
    "ef = EfficientFrontier(mu, S)\n",
    "ef.nonconvex_objective(deviation_risk_parity, \n",
    "                       ef.cov_matrix, \n",
    "                       constraints=[{\"type\":\"eq\", \"fun\":lambda w: w[0] - 0.1}])\n",
    "weights = ef.clean_weights()\n",
    "weights"
   ]
  },
  {
   "cell_type": "code",
   "execution_count": 67,
   "metadata": {
    "execution": {
     "iopub.execute_input": "2022-01-24T07:43:39.263291Z",
     "iopub.status.busy": "2022-01-24T07:43:39.263291Z",
     "iopub.status.idle": "2022-01-24T07:43:39.286229Z",
     "shell.execute_reply": "2022-01-24T07:43:39.286229Z",
     "shell.execute_reply.started": "2022-01-24T07:43:39.263291Z"
    },
    "tags": []
   },
   "outputs": [
    {
     "data": {
      "text/plain": [
       "OrderedDict([('002594.SZ', 0.51729),\n",
       "             ('159820.SZ', -1.0),\n",
       "             ('159949.SZ', -0.73072),\n",
       "             ('512690.SH', 0.95486),\n",
       "             ('002340.SZ', 0.47842),\n",
       "             ('600059.SH', -0.21985)])"
      ]
     },
     "execution_count": 67,
     "metadata": {},
     "output_type": "execute_result"
    }
   ],
   "source": [
    "# Market-neutral efficient risk.\n",
    "# Please use ef.efficient_risk() for anything serious.\n",
    "target_risk = 0.19\n",
    "ef = EfficientFrontier(mu, S, weight_bounds=(None, None))\n",
    "\n",
    "# Weights sum to zero\n",
    "weight_constr = {\"type\": \"eq\", \"fun\": lambda w: np.sum(w)}\n",
    "\n",
    "# Portfolio vol less than target vol\n",
    "risk_constr = {\n",
    "    \"type\": \"eq\",\n",
    "    \"fun\": lambda w: target_risk ** 2 - np.dot(w.T, np.dot(ef.cov_matrix, w)),\n",
    "}\n",
    "constraints = [weight_constr, risk_constr]\n",
    "\n",
    "ef.nonconvex_objective(\n",
    "    lambda w, mu: -w.T.dot(mu),  # min negative return i.e max return\n",
    "    objective_args=(ef.expected_returns),\n",
    "    weights_sum_to_one=False,\n",
    "    constraints=constraints,\n",
    ")\n",
    "weights = ef.clean_weights()\n",
    "weights"
   ]
  },
  {
   "cell_type": "code",
   "execution_count": 68,
   "metadata": {
    "execution": {
     "iopub.execute_input": "2022-01-24T07:44:01.317883Z",
     "iopub.status.busy": "2022-01-24T07:44:01.317883Z",
     "iopub.status.idle": "2022-01-24T07:44:01.333840Z",
     "shell.execute_reply": "2022-01-24T07:44:01.333840Z",
     "shell.execute_reply.started": "2022-01-24T07:44:01.317883Z"
    },
    "tags": []
   },
   "outputs": [
    {
     "name": "stdout",
     "output_type": "stream",
     "text": [
      "Expected annual return: 4.7%\n",
      "Annual volatility: 19.0%\n",
      "Sharpe Ratio: 0.14\n"
     ]
    }
   ],
   "source": [
    "ef.portfolio_performance(verbose=True);"
   ]
  },
  {
   "cell_type": "code",
   "execution_count": 69,
   "metadata": {
    "execution": {
     "iopub.execute_input": "2022-01-24T07:44:05.565344Z",
     "iopub.status.busy": "2022-01-24T07:44:05.565344Z",
     "iopub.status.idle": "2022-01-24T07:44:05.589317Z",
     "shell.execute_reply": "2022-01-24T07:44:05.589317Z",
     "shell.execute_reply.started": "2022-01-24T07:44:05.565344Z"
    },
    "tags": []
   },
   "outputs": [
    {
     "data": {
      "text/plain": [
       "OrderedDict([('002594.SZ', 0.20204),\n",
       "             ('159820.SZ', 0.0),\n",
       "             ('159949.SZ', 0.0),\n",
       "             ('512690.SH', 0.63779),\n",
       "             ('002340.SZ', 0.16017),\n",
       "             ('600059.SH', 0.0)])"
      ]
     },
     "execution_count": 69,
     "metadata": {},
     "output_type": "execute_result"
    }
   ],
   "source": [
    "# Utility objective - you could actually use ef.max_quadratic_utility\n",
    "ef = EfficientFrontier(mu, S)\n",
    "\n",
    "def utility_obj(weights, mu, cov_matrix, k=1):\n",
    "    return -weights.dot(mu) + k * np.dot(weights.T, np.dot(cov_matrix, weights))\n",
    "\n",
    "ef.nonconvex_objective(\n",
    "    utility_obj,\n",
    "    objective_args=(ef.expected_returns, ef.cov_matrix, 1)\n",
    "    # default is for weights to sum to 1\n",
    ")\n",
    "\n",
    "weights = ef.clean_weights()\n",
    "weights"
   ]
  },
  {
   "cell_type": "code",
   "execution_count": 70,
   "metadata": {
    "execution": {
     "iopub.execute_input": "2022-01-24T07:44:15.407390Z",
     "iopub.status.busy": "2022-01-24T07:44:15.407390Z",
     "iopub.status.idle": "2022-01-24T07:44:15.425314Z",
     "shell.execute_reply": "2022-01-24T07:44:15.425314Z",
     "shell.execute_reply.started": "2022-01-24T07:44:15.407390Z"
    },
    "tags": []
   },
   "outputs": [
    {
     "data": {
      "text/plain": [
       "1.0000000000000002"
      ]
     },
     "execution_count": 70,
     "metadata": {},
     "output_type": "execute_result"
    }
   ],
   "source": [
    "ef.weights.sum()"
   ]
  },
  {
   "cell_type": "code",
   "execution_count": 71,
   "metadata": {
    "execution": {
     "iopub.execute_input": "2022-01-24T07:44:17.687035Z",
     "iopub.status.busy": "2022-01-24T07:44:17.686082Z",
     "iopub.status.idle": "2022-01-24T07:44:17.701001Z",
     "shell.execute_reply": "2022-01-24T07:44:17.701001Z",
     "shell.execute_reply.started": "2022-01-24T07:44:17.687035Z"
    },
    "tags": []
   },
   "outputs": [
    {
     "data": {
      "text/plain": [
       "OrderedDict([('002594.SZ', 0.16667),\n",
       "             ('159820.SZ', 0.16667),\n",
       "             ('159949.SZ', 0.16667),\n",
       "             ('512690.SH', 0.16667),\n",
       "             ('002340.SZ', 0.16667),\n",
       "             ('600059.SH', 0.16667)])"
      ]
     },
     "execution_count": 71,
     "metadata": {},
     "output_type": "execute_result"
    }
   ],
   "source": [
    "# Kelly objective with weight bounds on zeroth asset\n",
    "def kelly_objective(w, e_returns, cov_matrix, k=3):\n",
    "    variance = np.dot(w.T, np.dot(cov_matrix, w))\n",
    "    objective = variance * 0.5 * k - np.dot(w, e_returns)\n",
    "    return objective\n",
    "\n",
    "lower_bounds, upper_bounds = 0.01, 0.3\n",
    "ef = EfficientFrontier(mu, S)\n",
    "ef.nonconvex_objective(\n",
    "    kelly_objective,\n",
    "    objective_args=(ef.expected_returns, ef.cov_matrix, 1000),\n",
    "    constraints=[\n",
    "        {\"type\": \"eq\", \"fun\": lambda w: np.sum(w) - 1},\n",
    "        {\"type\": \"ineq\", \"fun\": lambda w: w[0] - lower_bounds},\n",
    "        {\"type\": \"ineq\", \"fun\": lambda w: upper_bounds - w[0]},\n",
    "    ],\n",
    ")\n",
    "\n",
    "weights = ef.clean_weights()\n",
    "weights"
   ]
  },
  {
   "cell_type": "code",
   "execution_count": null,
   "metadata": {},
   "outputs": [],
   "source": []
  }
 ],
 "metadata": {
  "kernelspec": {
   "display_name": "Python 3 (ipykernel)",
   "language": "python",
   "name": "python3"
  },
  "language_info": {
   "codemirror_mode": {
    "name": "ipython",
    "version": 3
   },
   "file_extension": ".py",
   "mimetype": "text/x-python",
   "name": "python",
   "nbconvert_exporter": "python",
   "pygments_lexer": "ipython3",
   "version": "3.8.10"
  }
 },
 "nbformat": 4,
 "nbformat_minor": 4
}

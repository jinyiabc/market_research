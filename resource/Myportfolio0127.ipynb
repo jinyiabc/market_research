{
 "cells": [
  {
   "cell_type": "markdown",
   "metadata": {},
   "source": [
    "# Advanced MVO - custom objectives\n",
    "\n",
    "PyPortfolioOpt has implemented some of the most common objective functions (e.g `min_volatility`, `max_sharpe`, `max_quadratic_utility`, `efficient_risk`, `efficient_return`). However, sometimes yoy may have an idea for a different objective function.\n",
    "\n",
    "In this cookbook recipe, we cover:\n",
    "\n",
    "- Mininimising transaction costs\n",
    "- Custom convex objectives\n",
    "- Custom nonconvex objectives\n",
    "\n",
    "## Acquiring data\n",
    "\n",
    "As discussed in the previous notebook, assets are an exogenous input (i.e you must come up with a list of tickers). We will use `yfinance` to download data for thesee tickers"
   ]
  },
  {
   "cell_type": "code",
   "execution_count": 1,
   "metadata": {
    "execution": {
     "iopub.execute_input": "2022-01-27T05:46:29.822919Z",
     "iopub.status.busy": "2022-01-27T05:46:29.822919Z",
     "iopub.status.idle": "2022-01-27T05:46:30.486144Z",
     "shell.execute_reply": "2022-01-27T05:46:30.486144Z",
     "shell.execute_reply.started": "2022-01-27T05:46:29.822919Z"
    },
    "tags": []
   },
   "outputs": [],
   "source": [
    "# import yfinance as yf\n",
    "import pandas as pd\n",
    "import numpy as np\n",
    "import matplotlib.pyplot as plt"
   ]
  },
  {
   "cell_type": "code",
   "execution_count": 2,
   "metadata": {
    "execution": {
     "iopub.execute_input": "2022-01-27T05:46:30.487147Z",
     "iopub.status.busy": "2022-01-27T05:46:30.487147Z",
     "iopub.status.idle": "2022-01-27T05:46:30.502102Z",
     "shell.execute_reply": "2022-01-27T05:46:30.502102Z",
     "shell.execute_reply.started": "2022-01-27T05:46:30.487147Z"
    },
    "tags": []
   },
   "outputs": [],
   "source": [
    "prices = pd.read_csv(\"portfolio0127_3y_week.csv\", parse_dates=True, index_col=\"date\")\n",
    "prices.head()\n",
    "frequency=52 # if day, set to 252, if week, set to 52"
   ]
  },
  {
   "cell_type": "markdown",
   "metadata": {},
   "source": [
    "tickers = [格林美，比亚迪，中证500， 酒ETF, 宋城演艺， 三聚环保]"
   ]
  },
  {
   "cell_type": "markdown",
   "metadata": {},
   "source": [
    "## Expected returns and risk models\n",
    "\n",
    "In this notebook, we will use James-Stein shrinkage and semicovariance (which only penalises downside risk)."
   ]
  },
  {
   "cell_type": "code",
   "execution_count": 3,
   "metadata": {
    "execution": {
     "iopub.execute_input": "2022-01-27T05:46:30.503100Z",
     "iopub.status.busy": "2022-01-27T05:46:30.503100Z",
     "iopub.status.idle": "2022-01-27T05:46:30.722513Z",
     "shell.execute_reply": "2022-01-27T05:46:30.722513Z",
     "shell.execute_reply.started": "2022-01-27T05:46:30.503100Z"
    },
    "tags": []
   },
   "outputs": [
    {
     "data": {
      "text/plain": [
       "'1.5.1'"
      ]
     },
     "execution_count": 3,
     "metadata": {},
     "output_type": "execute_result"
    }
   ],
   "source": [
    "import pypfopt\n",
    "pypfopt.__version__\n",
    "# file_path = '../tests/resources/wine.csv'\n",
    "# prices = pd.read_csv(file_path, parse_dates=True, index_col=\"Unnamed: 0\")"
   ]
  },
  {
   "cell_type": "code",
   "execution_count": 4,
   "metadata": {
    "execution": {
     "iopub.execute_input": "2022-01-27T05:46:30.723510Z",
     "iopub.status.busy": "2022-01-27T05:46:30.723510Z",
     "iopub.status.idle": "2022-01-27T05:46:30.737476Z",
     "shell.execute_reply": "2022-01-27T05:46:30.737476Z",
     "shell.execute_reply.started": "2022-01-27T05:46:30.723510Z"
    },
    "tags": []
   },
   "outputs": [],
   "source": [
    "from pypfopt import risk_models, expected_returns\n",
    "from pypfopt import plotting\n",
    "\n",
    "mu = expected_returns.capm_return(prices, frequency=frequency)\n",
    "S = risk_models.semicovariance(prices, frequency=frequency)"
   ]
  },
  {
   "cell_type": "code",
   "execution_count": 5,
   "metadata": {
    "execution": {
     "iopub.execute_input": "2022-01-27T05:46:30.738470Z",
     "iopub.status.busy": "2022-01-27T05:46:30.738470Z",
     "iopub.status.idle": "2022-01-27T05:46:30.817259Z",
     "shell.execute_reply": "2022-01-27T05:46:30.817259Z",
     "shell.execute_reply.started": "2022-01-27T05:46:30.738470Z"
    },
    "tags": []
   },
   "outputs": [
    {
     "data": {
      "image/png": "[encoded data removed]",
      "text/plain": [
       "<Figure size 720x360 with 1 Axes>"
      ]
     },
     "metadata": {
      "needs_background": "light"
     },
     "output_type": "display_data"
    }
   ],
   "source": [
    "mu.plot.barh(figsize=(10,5));"
   ]
  },
  {
   "cell_type": "code",
   "execution_count": 6,
   "metadata": {
    "execution": {
     "iopub.execute_input": "2022-01-27T05:46:30.818257Z",
     "iopub.status.busy": "2022-01-27T05:46:30.818257Z",
     "iopub.status.idle": "2022-01-27T05:46:30.955894Z",
     "shell.execute_reply": "2022-01-27T05:46:30.955894Z",
     "shell.execute_reply.started": "2022-01-27T05:46:30.818257Z"
    },
    "tags": []
   },
   "outputs": [
    {
     "data": {
      "image/png": "[encoded data removed]",
      "text/plain": [
       "<Figure size 432x288 with 2 Axes>"
      ]
     },
     "metadata": {
      "needs_background": "light"
     },
     "output_type": "display_data"
    }
   ],
   "source": [
    "plotting.plot_covariance(S, plot_correlation=True);"
   ]
  },
  {
   "cell_type": "markdown",
   "metadata": {},
   "source": [
    "## Min volatility with a transaction cost objective\n",
    "\n",
    "Let's say that you already have a portfolio, and want to now optimize it. It could be quite expensive to completely reallocate, so you may want to take into account transaction costs. PyPortfolioOpt provides a simple objective to account for this.\n",
    "\n",
    "Note: this objective will not play nicely with `max_sharpe`."
   ]
  },
  {
   "cell_type": "code",
   "execution_count": 7,
   "metadata": {
    "execution": {
     "iopub.execute_input": "2022-01-27T05:46:30.956891Z",
     "iopub.status.busy": "2022-01-27T05:46:30.956891Z",
     "iopub.status.idle": "2022-01-27T05:46:30.971850Z",
     "shell.execute_reply": "2022-01-27T05:46:30.971850Z",
     "shell.execute_reply.started": "2022-01-27T05:46:30.956891Z"
    },
    "tags": []
   },
   "outputs": [
    {
     "name": "stdout",
     "output_type": "stream",
     "text": [
      "[0.16666667 0.16666667 0.16666667 0.16666667 0.16666667 0.16666667]\n"
     ]
    }
   ],
   "source": [
    "# Pretend that you started with a default-weight allocation\n",
    "initial_weights = np.array([1/6] * 6)\n",
    "print(initial_weights)"
   ]
  },
  {
   "cell_type": "code",
   "execution_count": 8,
   "metadata": {
    "execution": {
     "iopub.execute_input": "2022-01-27T05:46:30.972848Z",
     "iopub.status.busy": "2022-01-27T05:46:30.972848Z",
     "iopub.status.idle": "2022-01-27T05:46:30.987806Z",
     "shell.execute_reply": "2022-01-27T05:46:30.987806Z",
     "shell.execute_reply.started": "2022-01-27T05:46:30.972848Z"
    },
    "tags": []
   },
   "outputs": [
    {
     "name": "stdout",
     "output_type": "stream",
     "text": [
      "[0.21851336658606618, 0.05919195377082615, 0.050879574159299716, 0.12877438205606034, 0.18795187112918663, 0.354688852298561]\n"
     ]
    }
   ],
   "source": [
    "current_quantity = [10300,100,20100,60700,5300,18600]  # 持有数量\n",
    "current_price = [8.8, 245.53, 1.05, 0.88, 14.71, 7.91]\n",
    "current_portfoio = [a * b for a, b in zip(current_price, current_quantity)]  #组合现价  eg. [ 90640, 24553, 21105, 53416,77963, 147126]\n",
    "total = sum(current_portfoio)\n",
    "current_weight = [x / total for x in current_portfoio] # 成分权重\n",
    "print(current_weight)"
   ]
  },
  {
   "cell_type": "code",
   "execution_count": 9,
   "metadata": {
    "execution": {
     "iopub.execute_input": "2022-01-27T05:46:30.988800Z",
     "iopub.status.busy": "2022-01-27T05:46:30.988800Z",
     "iopub.status.idle": "2022-01-27T05:46:31.003785Z",
     "shell.execute_reply": "2022-01-27T05:46:31.003785Z",
     "shell.execute_reply.started": "2022-01-27T05:46:30.988800Z"
    },
    "tags": []
   },
   "outputs": [
    {
     "data": {
      "text/plain": [
       "OrderedDict([('GLM', 0.13334),\n",
       "             ('BYD', 0.12397),\n",
       "             ('ETF500', 0.07211),\n",
       "             ('ETFW', 0.4845),\n",
       "             ('SCYY', 0.09857),\n",
       "             ('SJHB', 0.08751)])"
      ]
     },
     "execution_count": 9,
     "metadata": {},
     "output_type": "execute_result"
    }
   ],
   "source": [
    "from pypfopt import EfficientFrontier, objective_functions\n",
    "ef = EfficientFrontier(mu, S)\n",
    "ef.add_objective(objective_functions.transaction_cost, w_prev=current_weight, k=0.001)\n",
    "ef.add_objective(objective_functions.L2_reg, gamma=0.05)  # default is 1\n",
    "ef.min_volatility()\n",
    "weights = ef.clean_weights()\n",
    "weights"
   ]
  },
  {
   "cell_type": "code",
   "execution_count": 10,
   "metadata": {
    "execution": {
     "iopub.execute_input": "2022-01-27T05:46:31.004758Z",
     "iopub.status.busy": "2022-01-27T05:46:31.004758Z",
     "iopub.status.idle": "2022-01-27T05:46:31.018719Z",
     "shell.execute_reply": "2022-01-27T05:46:31.018719Z",
     "shell.execute_reply.started": "2022-01-27T05:46:31.004758Z"
    },
    "tags": []
   },
   "outputs": [
    {
     "name": "stdout",
     "output_type": "stream",
     "text": [
      "Expected annual return: 15.9%\n",
      "Annual volatility: 13.0%\n",
      "Sharpe Ratio: 1.07\n"
     ]
    }
   ],
   "source": [
    "ef.portfolio_performance(verbose=True);"
   ]
  },
  {
   "cell_type": "markdown",
   "metadata": {},
   "source": [
    "This portfolio is now reasonably balanced, but also puts significantly more weight on JD. "
   ]
  },
  {
   "cell_type": "code",
   "execution_count": 11,
   "metadata": {
    "execution": {
     "iopub.execute_input": "2022-01-27T05:46:31.019718Z",
     "iopub.status.busy": "2022-01-27T05:46:31.019718Z",
     "iopub.status.idle": "2022-01-27T05:46:31.080558Z",
     "shell.execute_reply": "2022-01-27T05:46:31.080558Z",
     "shell.execute_reply.started": "2022-01-27T05:46:31.019718Z"
    },
    "tags": []
   },
   "outputs": [
    {
     "data": {
      "image/png": "[encoded data removed]",
      "text/plain": [
       "<Figure size 720x720 with 1 Axes>"
      ]
     },
     "metadata": {},
     "output_type": "display_data"
    }
   ],
   "source": [
    "pd.Series(weights).plot.pie(figsize=(10,10));"
   ]
  },
  {
   "cell_type": "markdown",
   "metadata": {},
   "source": [
    "## Custom convex objectives\n",
    "\n",
    "PyPortfolioOpt comes with the following built-in objective functions, as of v1.2.1:\n",
    "\n",
    "- Portfolio variance (i.e square of volatility)\n",
    "- Portfolio return\n",
    "- Sharpe ratio\n",
    "- L2 regularisation (minimising this reduces nonzero weights)\n",
    "- Quadratic utility\n",
    "- Transaction cost model (a simple one)\n",
    "\n",
    "However, you may want have a different objective. If this new objective is **convex**, you can optimize a portfolio with the full benefit of PyPortfolioOpt's modular syntax, for example adding other constraints and objectives.\n",
    "\n",
    "To demonstrate this, we will minimise the **logarithmic-barrier** function suggested in the paper 60 Years of Portfolio Optimization, by Kolm et al (2014):\n",
    "\n",
    "$$f(w, S, k) = w^T S w - k \\sum_{i=1}^N \\ln w$$\n",
    "\n",
    "We must first convert this mathematical objective into the language of cvxpy. Cvxpy is a powerful modelling language for convex optimization problems. It is clean and easy to use, the only caveat is that objectives must be expressed with `cvxpy` functions, a list of which can be found [here](https://www.cvxpy.org/tutorial/functions/index.html)."
   ]
  },
  {
   "cell_type": "code",
   "execution_count": 12,
   "metadata": {
    "execution": {
     "iopub.execute_input": "2022-01-27T05:46:31.081558Z",
     "iopub.status.busy": "2022-01-27T05:46:31.081558Z",
     "iopub.status.idle": "2022-01-27T05:46:31.095519Z",
     "shell.execute_reply": "2022-01-27T05:46:31.095519Z",
     "shell.execute_reply.started": "2022-01-27T05:46:31.081558Z"
    },
    "tags": []
   },
   "outputs": [],
   "source": [
    "import cvxpy as cp\n",
    "\n",
    "# Note: functions are minimised. If you want to maximise an objective, stick a minus sign in it.\n",
    "def logarithmic_barrier_objective(w, cov_matrix, k=0.1):\n",
    "    log_sum = cp.sum(cp.log(w))\n",
    "    var = cp.quad_form(w, cov_matrix)\n",
    "    return var - k * log_sum"
   ]
  },
  {
   "cell_type": "markdown",
   "metadata": {},
   "source": [
    "Once we have written the objective function, we can just use the `ef.convex_objective()` to minimise the objective."
   ]
  },
  {
   "cell_type": "code",
   "execution_count": 13,
   "metadata": {
    "execution": {
     "iopub.execute_input": "2022-01-27T05:46:31.097509Z",
     "iopub.status.busy": "2022-01-27T05:46:31.096511Z",
     "iopub.status.idle": "2022-01-27T05:46:31.126436Z",
     "shell.execute_reply": "2022-01-27T05:46:31.126436Z",
     "shell.execute_reply.started": "2022-01-27T05:46:31.097509Z"
    },
    "tags": []
   },
   "outputs": [
    {
     "data": {
      "text/plain": [
       "OrderedDict([('GLM', 0.2),\n",
       "             ('BYD', 0.2),\n",
       "             ('ETF500', 0.11863),\n",
       "             ('ETFW', 0.2),\n",
       "             ('SCYY', 0.15063),\n",
       "             ('SJHB', 0.13074)])"
      ]
     },
     "execution_count": 13,
     "metadata": {},
     "output_type": "execute_result"
    }
   ],
   "source": [
    "ef = EfficientFrontier(mu, S, weight_bounds=(0.01, 0.2))\n",
    "# ef.add_objective(objective_functions.transaction_cost, w_prev=current_weight, k=0.001)\n",
    "# ef.add_objective(objective_functions.L2_reg, gamma=0.05)  # default is 1\n",
    "ef.convex_objective(logarithmic_barrier_objective, cov_matrix=S, k=0.001)\n",
    "weights = ef.clean_weights()\n",
    "weights"
   ]
  },
  {
   "cell_type": "code",
   "execution_count": 14,
   "metadata": {
    "execution": {
     "iopub.execute_input": "2022-01-27T05:46:31.127433Z",
     "iopub.status.busy": "2022-01-27T05:46:31.127433Z",
     "iopub.status.idle": "2022-01-27T05:46:31.141393Z",
     "shell.execute_reply": "2022-01-27T05:46:31.141393Z",
     "shell.execute_reply.started": "2022-01-27T05:46:31.127433Z"
    },
    "tags": []
   },
   "outputs": [
    {
     "name": "stdout",
     "output_type": "stream",
     "text": [
      "Expected annual return: 19.5%\n",
      "Annual volatility: 17.5%\n",
      "Sharpe Ratio: 1.00\n"
     ]
    }
   ],
   "source": [
    "ef.portfolio_performance(verbose=True);"
   ]
  },
  {
   "cell_type": "markdown",
   "metadata": {},
   "source": [
    "This is compatible with all the constraints discussed in the previous recipe. Let's say that we want to limit JD's weight to 15%."
   ]
  },
  {
   "cell_type": "code",
   "execution_count": 15,
   "metadata": {
    "execution": {
     "iopub.execute_input": "2022-01-27T05:46:31.142389Z",
     "iopub.status.busy": "2022-01-27T05:46:31.142389Z",
     "iopub.status.idle": "2022-01-27T05:46:31.172311Z",
     "shell.execute_reply": "2022-01-27T05:46:31.172311Z",
     "shell.execute_reply.started": "2022-01-27T05:46:31.142389Z"
    },
    "tags": []
   },
   "outputs": [
    {
     "data": {
      "text/plain": [
       "OrderedDict([('GLM', 0.15),\n",
       "             ('BYD', 0.2),\n",
       "             ('ETF500', 0.13155),\n",
       "             ('ETFW', 0.2),\n",
       "             ('SCYY', 0.16344),\n",
       "             ('SJHB', 0.15501)])"
      ]
     },
     "execution_count": 15,
     "metadata": {},
     "output_type": "execute_result"
    }
   ],
   "source": [
    "ef = EfficientFrontier(mu, S, weight_bounds=(0.01, 0.2))\n",
    "# jd_index = ef.tickers.index(\"JD\")  # get the index of JD\n",
    "maotai_index = 0\n",
    "ef.add_constraint(lambda w: w[maotai_index] <= 0.15)\n",
    "ef.convex_objective(logarithmic_barrier_objective, cov_matrix=S, k=0.001)\n",
    "weights = ef.clean_weights()\n",
    "weights"
   ]
  },
  {
   "cell_type": "code",
   "execution_count": 16,
   "metadata": {
    "execution": {
     "iopub.execute_input": "2022-01-27T05:46:31.173307Z",
     "iopub.status.busy": "2022-01-27T05:46:31.173307Z",
     "iopub.status.idle": "2022-01-27T05:46:31.234148Z",
     "shell.execute_reply": "2022-01-27T05:46:31.234148Z",
     "shell.execute_reply.started": "2022-01-27T05:46:31.173307Z"
    },
    "tags": []
   },
   "outputs": [
    {
     "name": "stdout",
     "output_type": "stream",
     "text": [
      "Expected annual return: 19.5%\n",
      "Annual volatility: 17.7%\n",
      "Sharpe Ratio: 0.99\n"
     ]
    },
    {
     "data": {
      "image/png": "[encoded data removed]",
      "text/plain": [
       "<Figure size 720x720 with 1 Axes>"
      ]
     },
     "metadata": {},
     "output_type": "display_data"
    }
   ],
   "source": [
    "ef.portfolio_performance(verbose=True);\n",
    "\n",
    "pd.Series(weights).plot.pie(figsize=(10,10));"
   ]
  },
  {
   "cell_type": "markdown",
   "metadata": {},
   "source": [
    "## Custom nonconvex objectives\n",
    "\n",
    "In some cases, you may be trying to optimize for nonconvex objectives. Optimization in general is a very hard problem, so please be aware that you may have mixed results in that case. Convex problems, on the other hand, are well understood and can be solved with nice theoretical guarantees.\n",
    "\n",
    "PyPortfolioOpt does offer some functionality for nonconvex optimization, but it is not really encouraged. In particular, nonconvex optimization is not compatible with PyPortfolioOpt's modular constraints API.\n",
    "\n",
    "As an example, we will use the Deviation Risk Parity objective from Kolm et al (2014). Because we are not using a convex solver, we don't have to define it using `cvxpy` functions."
   ]
  },
  {
   "cell_type": "code",
   "execution_count": 17,
   "metadata": {
    "execution": {
     "iopub.execute_input": "2022-01-27T05:46:31.235141Z",
     "iopub.status.busy": "2022-01-27T05:46:31.235141Z",
     "iopub.status.idle": "2022-01-27T05:46:31.250104Z",
     "shell.execute_reply": "2022-01-27T05:46:31.250104Z",
     "shell.execute_reply.started": "2022-01-27T05:46:31.235141Z"
    },
    "tags": []
   },
   "outputs": [],
   "source": [
    "def deviation_risk_parity(w, cov_matrix):\n",
    "    diff = w * np.dot(cov_matrix, w) - (w * np.dot(cov_matrix, w)).reshape(-1, 1)\n",
    "    return (diff ** 2).sum().sum()"
   ]
  },
  {
   "cell_type": "code",
   "execution_count": 18,
   "metadata": {
    "execution": {
     "iopub.execute_input": "2022-01-27T05:46:31.251098Z",
     "iopub.status.busy": "2022-01-27T05:46:31.251098Z",
     "iopub.status.idle": "2022-01-27T05:46:31.265065Z",
     "shell.execute_reply": "2022-01-27T05:46:31.265065Z",
     "shell.execute_reply.started": "2022-01-27T05:46:31.251098Z"
    },
    "tags": []
   },
   "outputs": [
    {
     "data": {
      "text/plain": [
       "OrderedDict([('GLM', 0.18129),\n",
       "             ('BYD', 0.17967),\n",
       "             ('ETF500', 0.13515),\n",
       "             ('ETFW', 0.2),\n",
       "             ('SCYY', 0.15091),\n",
       "             ('SJHB', 0.15298)])"
      ]
     },
     "execution_count": 18,
     "metadata": {},
     "output_type": "execute_result"
    }
   ],
   "source": [
    "ef = EfficientFrontier(mu, S, weight_bounds=(0.01, 0.2))\n",
    "ef.nonconvex_objective(deviation_risk_parity, ef.cov_matrix)\n",
    "weights = ef.clean_weights()\n",
    "weights"
   ]
  },
  {
   "cell_type": "markdown",
   "metadata": {},
   "source": [
    "However, let's say we now want to enforce that JD has a weight of 10%. In the convex case, this would be as simple as:\n",
    "\n",
    "```python\n",
    "ef.add_objective(lambda w: w[jd_index] == 0.10)\n",
    "```\n",
    "\n",
    "But unfortunately, scipy does not allow for such intuitive syntax. You will need to rearrange your constraints to make them either `=0` or `<= 0`. \n",
    "\n",
    "```python\n",
    "constraints = [\n",
    "    # First constraint\n",
    "     {\"type\": \"eq\",  # equality constraint,\n",
    "      \"fun\": lambda w: w[1] - 0.2},  # the equality functions are assumed to = 0 \n",
    "      \n",
    "    # Second constraint\n",
    "    {\"type\": \"ineq\",  # inequality constraint\n",
    "     \"fun\": lambda w: w[0] - 0.5}   # inequality functions <= 0\n",
    "]\n",
    "```\n",
    "\n",
    "For more information, you can consult the [scipy docs](https://docs.scipy.org/doc/scipy/reference/generated/scipy.optimize.minimize.html), but they aren't very helpful."
   ]
  },
  {
   "cell_type": "code",
   "execution_count": 19,
   "metadata": {
    "execution": {
     "iopub.execute_input": "2022-01-27T05:46:31.266057Z",
     "iopub.status.busy": "2022-01-27T05:46:31.266057Z",
     "iopub.status.idle": "2022-01-27T05:46:31.281022Z",
     "shell.execute_reply": "2022-01-27T05:46:31.281022Z",
     "shell.execute_reply.started": "2022-01-27T05:46:31.266057Z"
    },
    "tags": []
   },
   "outputs": [
    {
     "data": {
      "text/plain": [
       "OrderedDict([('GLM', 0.1),\n",
       "             ('BYD', 0.19901),\n",
       "             ('ETF500', 0.15761),\n",
       "             ('ETFW', 0.2),\n",
       "             ('SCYY', 0.16929),\n",
       "             ('SJHB', 0.17409)])"
      ]
     },
     "execution_count": 19,
     "metadata": {},
     "output_type": "execute_result"
    }
   ],
   "source": [
    "ef = EfficientFrontier(mu, S, weight_bounds=(0.01, 0.2))\n",
    "\n",
    "ef.nonconvex_objective(\n",
    "    deviation_risk_parity,\n",
    "    objective_args=S,\n",
    "    weights_sum_to_one=True,\n",
    "    constraints=[\n",
    "        {\"type\": \"eq\", \"fun\": lambda w: w[maotai_index] - 0.10},  \n",
    "    ],\n",
    ")\n",
    "\n",
    "weights = ef.clean_weights()\n",
    "weights"
   ]
  },
  {
   "cell_type": "code",
   "execution_count": 20,
   "metadata": {
    "execution": {
     "iopub.execute_input": "2022-01-27T05:46:31.282015Z",
     "iopub.status.busy": "2022-01-27T05:46:31.282015Z",
     "iopub.status.idle": "2022-01-27T05:46:31.343854Z",
     "shell.execute_reply": "2022-01-27T05:46:31.343854Z",
     "shell.execute_reply.started": "2022-01-27T05:46:31.282015Z"
    },
    "tags": []
   },
   "outputs": [
    {
     "name": "stdout",
     "output_type": "stream",
     "text": [
      "Expected annual return: 19.5%\n",
      "Annual volatility: 18.0%\n",
      "Sharpe Ratio: 0.97\n"
     ]
    },
    {
     "data": {
      "image/png": "[encoded data removed]",
      "text/plain": [
       "<Figure size 720x720 with 1 Axes>"
      ]
     },
     "metadata": {},
     "output_type": "display_data"
    }
   ],
   "source": [
    "ef.portfolio_performance(verbose=True);\n",
    "pd.Series(weights).plot.pie(figsize=(10,10));"
   ]
  },
  {
   "cell_type": "markdown",
   "metadata": {},
   "source": [
    "## More examples of nonconvex objectives\n",
    "\n",
    "The scipy format is not intuitive and is hard to explain, so here are a bunch of examples (adapted from the tests). Some of these are actually convex, so you should use `convex_objective` instead. "
   ]
  },
  {
   "cell_type": "code",
   "execution_count": 21,
   "metadata": {
    "execution": {
     "iopub.execute_input": "2022-01-27T05:46:31.344848Z",
     "iopub.status.busy": "2022-01-27T05:46:31.344848Z",
     "iopub.status.idle": "2022-01-27T05:46:31.374766Z",
     "shell.execute_reply": "2022-01-27T05:46:31.374766Z",
     "shell.execute_reply.started": "2022-01-27T05:46:31.344848Z"
    },
    "tags": []
   },
   "outputs": [
    {
     "data": {
      "text/plain": [
       "OrderedDict([('GLM', 0.11998),\n",
       "             ('BYD', 0.1213),\n",
       "             ('ETF500', 0.09866),\n",
       "             ('ETFW', 0.44914),\n",
       "             ('SCYY', 0.10638),\n",
       "             ('SJHB', 0.10454)])"
      ]
     },
     "execution_count": 21,
     "metadata": {},
     "output_type": "execute_result"
    }
   ],
   "source": [
    "# Another example of deviation risk parity\n",
    "def deviation_risk_parity(w, cov_matrix):\n",
    "    n = cov_matrix.shape[0]\n",
    "    rp = (w * (cov_matrix @ w)) / cp.quad_form(w, cov_matrix)\n",
    "    return cp.sum_squares(rp - 1 / n).value\n",
    "\n",
    "ef = EfficientFrontier(mu, S)\n",
    "ef.nonconvex_objective(deviation_risk_parity, ef.cov_matrix)\n",
    "weights = ef.clean_weights()\n",
    "weights"
   ]
  },
  {
   "cell_type": "code",
   "execution_count": 22,
   "metadata": {
    "execution": {
     "iopub.execute_input": "2022-01-27T05:46:31.375765Z",
     "iopub.status.busy": "2022-01-27T05:46:31.375765Z",
     "iopub.status.idle": "2022-01-27T05:46:31.406685Z",
     "shell.execute_reply": "2022-01-27T05:46:31.406685Z",
     "shell.execute_reply.started": "2022-01-27T05:46:31.375765Z"
    },
    "tags": []
   },
   "outputs": [
    {
     "data": {
      "text/plain": [
       "OrderedDict([('GLM', 0.1),\n",
       "             ('BYD', 0.12247),\n",
       "             ('ETF500', 0.09796),\n",
       "             ('ETFW', 0.46867),\n",
       "             ('SCYY', 0.10586),\n",
       "             ('SJHB', 0.10504)])"
      ]
     },
     "execution_count": 22,
     "metadata": {},
     "output_type": "execute_result"
    }
   ],
   "source": [
    "# Deviation risk parity with weight bound on the first asset\n",
    "ef = EfficientFrontier(mu, S)\n",
    "ef.nonconvex_objective(deviation_risk_parity, \n",
    "                       ef.cov_matrix, \n",
    "                       constraints=[{\"type\":\"eq\", \"fun\":lambda w: w[0] - 0.1}])\n",
    "weights = ef.clean_weights()\n",
    "weights"
   ]
  },
  {
   "cell_type": "code",
   "execution_count": 23,
   "metadata": {
    "execution": {
     "iopub.execute_input": "2022-01-27T05:46:31.407679Z",
     "iopub.status.busy": "2022-01-27T05:46:31.407679Z",
     "iopub.status.idle": "2022-01-27T05:46:31.422643Z",
     "shell.execute_reply": "2022-01-27T05:46:31.422643Z",
     "shell.execute_reply.started": "2022-01-27T05:46:31.407679Z"
    },
    "tags": []
   },
   "outputs": [
    {
     "data": {
      "text/plain": [
       "OrderedDict([('GLM', 0.33301),\n",
       "             ('BYD', 0.31955),\n",
       "             ('ETF500', 0.07885),\n",
       "             ('ETFW', -0.98653),\n",
       "             ('SCYY', -0.00121),\n",
       "             ('SJHB', 0.25632)])"
      ]
     },
     "execution_count": 23,
     "metadata": {},
     "output_type": "execute_result"
    }
   ],
   "source": [
    "# Market-neutral efficient risk.\n",
    "# Please use ef.efficient_risk() for anything serious.\n",
    "target_risk = 0.19\n",
    "ef = EfficientFrontier(mu, S, weight_bounds=(None, None))\n",
    "\n",
    "# Weights sum to zero\n",
    "weight_constr = {\"type\": \"eq\", \"fun\": lambda w: np.sum(w)}\n",
    "\n",
    "# Portfolio vol less than target vol\n",
    "risk_constr = {\n",
    "    \"type\": \"eq\",\n",
    "    \"fun\": lambda w: target_risk ** 2 - np.dot(w.T, np.dot(ef.cov_matrix, w)),\n",
    "}\n",
    "constraints = [weight_constr, risk_constr]\n",
    "\n",
    "ef.nonconvex_objective(\n",
    "    lambda w, mu: -w.T.dot(mu),  # min negative return i.e max return\n",
    "    objective_args=(ef.expected_returns),\n",
    "    weights_sum_to_one=False,\n",
    "    constraints=constraints,\n",
    ")\n",
    "weights = ef.clean_weights()\n",
    "weights"
   ]
  },
  {
   "cell_type": "code",
   "execution_count": 24,
   "metadata": {
    "execution": {
     "iopub.execute_input": "2022-01-27T05:46:31.423639Z",
     "iopub.status.busy": "2022-01-27T05:46:31.423639Z",
     "iopub.status.idle": "2022-01-27T05:46:31.438600Z",
     "shell.execute_reply": "2022-01-27T05:46:31.438600Z",
     "shell.execute_reply.started": "2022-01-27T05:46:31.423639Z"
    },
    "tags": []
   },
   "outputs": [
    {
     "name": "stdout",
     "output_type": "stream",
     "text": [
      "Expected annual return: 14.2%\n",
      "Annual volatility: 19.0%\n",
      "Sharpe Ratio: 0.64\n"
     ]
    }
   ],
   "source": [
    "ef.portfolio_performance(verbose=True);"
   ]
  },
  {
   "cell_type": "code",
   "execution_count": 25,
   "metadata": {
    "execution": {
     "iopub.execute_input": "2022-01-27T05:46:31.439593Z",
     "iopub.status.busy": "2022-01-27T05:46:31.439593Z",
     "iopub.status.idle": "2022-01-27T05:46:31.454557Z",
     "shell.execute_reply": "2022-01-27T05:46:31.454557Z",
     "shell.execute_reply.started": "2022-01-27T05:46:31.439593Z"
    },
    "tags": []
   },
   "outputs": [
    {
     "data": {
      "text/plain": [
       "OrderedDict([('GLM', 0.13535),\n",
       "             ('BYD', 0.43137),\n",
       "             ('ETF500', 0.02332),\n",
       "             ('ETFW', 0.0),\n",
       "             ('SCYY', 0.0),\n",
       "             ('SJHB', 0.40996)])"
      ]
     },
     "execution_count": 25,
     "metadata": {},
     "output_type": "execute_result"
    }
   ],
   "source": [
    "# Utility objective - you could actually use ef.max_quadratic_utility\n",
    "ef = EfficientFrontier(mu, S)\n",
    "\n",
    "def utility_obj(weights, mu, cov_matrix, k=1):\n",
    "    return -weights.dot(mu) + k * np.dot(weights.T, np.dot(cov_matrix, weights))\n",
    "\n",
    "ef.nonconvex_objective(\n",
    "    utility_obj,\n",
    "    objective_args=(ef.expected_returns, ef.cov_matrix, 1)\n",
    "    # default is for weights to sum to 1\n",
    ")\n",
    "\n",
    "weights = ef.clean_weights()\n",
    "weights"
   ]
  },
  {
   "cell_type": "code",
   "execution_count": 26,
   "metadata": {
    "execution": {
     "iopub.execute_input": "2022-01-27T05:46:31.455551Z",
     "iopub.status.busy": "2022-01-27T05:46:31.455551Z",
     "iopub.status.idle": "2022-01-27T05:46:31.470515Z",
     "shell.execute_reply": "2022-01-27T05:46:31.470515Z",
     "shell.execute_reply.started": "2022-01-27T05:46:31.455551Z"
    },
    "tags": []
   },
   "outputs": [
    {
     "data": {
      "text/plain": [
       "1.0"
      ]
     },
     "execution_count": 26,
     "metadata": {},
     "output_type": "execute_result"
    }
   ],
   "source": [
    "ef.weights.sum()"
   ]
  },
  {
   "cell_type": "code",
   "execution_count": 27,
   "metadata": {
    "execution": {
     "iopub.execute_input": "2022-01-27T05:46:31.471509Z",
     "iopub.status.busy": "2022-01-27T05:46:31.471509Z",
     "iopub.status.idle": "2022-01-27T05:46:31.486468Z",
     "shell.execute_reply": "2022-01-27T05:46:31.486468Z",
     "shell.execute_reply.started": "2022-01-27T05:46:31.471509Z"
    },
    "tags": []
   },
   "outputs": [
    {
     "data": {
      "text/plain": [
       "OrderedDict([('GLM', 0.16667),\n",
       "             ('BYD', 0.16667),\n",
       "             ('ETF500', 0.16667),\n",
       "             ('ETFW', 0.16667),\n",
       "             ('SCYY', 0.16667),\n",
       "             ('SJHB', 0.16667)])"
      ]
     },
     "execution_count": 27,
     "metadata": {},
     "output_type": "execute_result"
    }
   ],
   "source": [
    "# Kelly objective with weight bounds on zeroth asset\n",
    "def kelly_objective(w, e_returns, cov_matrix, k=3):\n",
    "    variance = np.dot(w.T, np.dot(cov_matrix, w))\n",
    "    objective = variance * 0.5 * k - np.dot(w, e_returns)\n",
    "    return objective\n",
    "\n",
    "lower_bounds, upper_bounds = 0.01, 0.3\n",
    "ef = EfficientFrontier(mu, S)\n",
    "ef.nonconvex_objective(\n",
    "    kelly_objective,\n",
    "    objective_args=(ef.expected_returns, ef.cov_matrix, 1000),\n",
    "    constraints=[\n",
    "        {\"type\": \"eq\", \"fun\": lambda w: np.sum(w) - 1},\n",
    "        {\"type\": \"ineq\", \"fun\": lambda w: w[0] - lower_bounds},\n",
    "        {\"type\": \"ineq\", \"fun\": lambda w: upper_bounds - w[0]},\n",
    "    ],\n",
    ")\n",
    "\n",
    "weights = ef.clean_weights()\n",
    "weights"
   ]
  },
  {
   "cell_type": "code",
   "execution_count": 28,
   "metadata": {
    "execution": {
     "iopub.execute_input": "2022-01-27T05:46:31.487465Z",
     "iopub.status.busy": "2022-01-27T05:46:31.487465Z",
     "iopub.status.idle": "2022-01-27T05:46:31.549303Z",
     "shell.execute_reply": "2022-01-27T05:46:31.549303Z",
     "shell.execute_reply.started": "2022-01-27T05:46:31.487465Z"
    },
    "tags": []
   },
   "outputs": [
    {
     "name": "stdout",
     "output_type": "stream",
     "text": [
      "Expected annual return: 19.8%\n",
      "Annual volatility: 18.4%\n",
      "Sharpe Ratio: 0.97\n"
     ]
    },
    {
     "data": {
      "image/png": "[encoded data removed]",
      "text/plain": [
       "<Figure size 720x720 with 1 Axes>"
      ]
     },
     "metadata": {},
     "output_type": "display_data"
    }
   ],
   "source": [
    "ef.portfolio_performance(verbose=True);\n",
    "pd.Series(weights).plot.pie(figsize=(10,10));"
   ]
  }
 ],
 "metadata": {
  "kernelspec": {
   "display_name": "Python 3 (ipykernel)",
   "language": "python",
   "name": "python3"
  },
  "language_info": {
   "codemirror_mode": {
    "name": "ipython",
    "version": 3
   },
   "file_extension": ".py",
   "mimetype": "text/x-python",
   "name": "python",
   "nbconvert_exporter": "python",
   "pygments_lexer": "ipython3",
   "version": "3.8.10"
  }
 },
 "nbformat": 4,
 "nbformat_minor": 4
}

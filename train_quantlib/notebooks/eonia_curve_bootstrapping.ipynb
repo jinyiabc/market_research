{
 "cells": [
  {
   "cell_type": "markdown",
   "metadata": {},
   "source": [
    "# EONIA curve bootstrapping"
   ]
  },
  {
   "cell_type": "markdown",
   "metadata": {},
   "source": [
    "In the next notebooks, I'll reproduce the results of the paper by F. M. Ametrano and M. Bianchetti, _Everything You Always Wanted to Know About Multiple Interest Rate Curve Bootstrapping but Were Afraid to Ask_ (April 2, 2013). The paper is available at SSRN: http://ssrn.com/abstract=2219548."
   ]
  },
  {
   "cell_type": "code",
   "execution_count": 1,
   "metadata": {
    "execution": {
     "iopub.execute_input": "2022-02-02T14:02:50.685008Z",
     "iopub.status.busy": "2022-02-02T14:02:50.684011Z",
     "iopub.status.idle": "2022-02-02T14:02:51.355764Z",
     "shell.execute_reply": "2022-02-02T14:02:51.355764Z",
     "shell.execute_reply.started": "2022-02-02T14:02:50.685008Z"
    }
   },
   "outputs": [],
   "source": [
    "%matplotlib inline\n",
    "import math\n",
    "import utils"
   ]
  },
  {
   "cell_type": "code",
   "execution_count": 2,
   "metadata": {
    "execution": {
     "iopub.execute_input": "2022-02-02T14:02:51.356760Z",
     "iopub.status.busy": "2022-02-02T14:02:51.356760Z",
     "iopub.status.idle": "2022-02-02T14:02:51.371045Z",
     "shell.execute_reply": "2022-02-02T14:02:51.371045Z",
     "shell.execute_reply.started": "2022-02-02T14:02:51.356760Z"
    }
   },
   "outputs": [],
   "source": [
    "import QuantLib as ql"
   ]
  },
  {
   "cell_type": "code",
   "execution_count": 3,
   "metadata": {
    "execution": {
     "iopub.execute_input": "2022-02-02T14:02:51.372048Z",
     "iopub.status.busy": "2022-02-02T14:02:51.372048Z",
     "iopub.status.idle": "2022-02-02T14:02:51.387017Z",
     "shell.execute_reply": "2022-02-02T14:02:51.387017Z",
     "shell.execute_reply.started": "2022-02-02T14:02:51.372048Z"
    }
   },
   "outputs": [],
   "source": [
    "today = ql.Date(11, ql.December, 2012)\n",
    "ql.Settings.instance().evaluationDate = today"
   ]
  },
  {
   "cell_type": "markdown",
   "metadata": {},
   "source": [
    "#### First try"
   ]
  },
  {
   "cell_type": "markdown",
   "metadata": {},
   "source": [
    "We start by instantiating helpers for all the rates used in the bootstrapping process, as reported in figure 25 of the paper."
   ]
  },
  {
   "cell_type": "markdown",
   "metadata": {},
   "source": [
    "The first three instruments are three 1-day deposit that give us discounting between today and the day after spot. They are modeled by three instances of the `DepositRateHelper` class with a tenor of 1 day and a number of fixing days going from 0 (for the deposit starting today) to 2 (for the deposit starting on the spot date)."
   ]
  },
  {
   "cell_type": "code",
   "execution_count": 4,
   "metadata": {
    "execution": {
     "iopub.execute_input": "2022-02-02T14:02:51.389003Z",
     "iopub.status.busy": "2022-02-02T14:02:51.389003Z",
     "iopub.status.idle": "2022-02-02T14:02:51.401967Z",
     "shell.execute_reply": "2022-02-02T14:02:51.401967Z",
     "shell.execute_reply.started": "2022-02-02T14:02:51.389003Z"
    }
   },
   "outputs": [],
   "source": [
    "helpers = [\n",
    "    ql.DepositRateHelper(ql.QuoteHandle(ql.SimpleQuote(rate/100)),\n",
    "                         ql.Period(1,ql.Days), fixingDays,\n",
    "                         ql.TARGET(), ql.Following,\n",
    "                         False, ql.Actual360())\n",
    "    for rate, fixingDays in [(0.04, 0), (0.04, 1), (0.04, 2)]\n",
    "]"
   ]
  },
  {
   "cell_type": "markdown",
   "metadata": {},
   "source": [
    "Then, we have a series of OIS quotes for the first month. They are modeled by instances of the `OISRateHelper` class with varying tenors. They also require an instance of the `Eonia` class, which doesn't need a forecast curve and can be shared between the helpers."
   ]
  },
  {
   "cell_type": "code",
   "execution_count": 5,
   "metadata": {
    "execution": {
     "iopub.execute_input": "2022-02-02T14:02:51.402966Z",
     "iopub.status.busy": "2022-02-02T14:02:51.402966Z",
     "iopub.status.idle": "2022-02-02T14:02:51.417928Z",
     "shell.execute_reply": "2022-02-02T14:02:51.417928Z",
     "shell.execute_reply.started": "2022-02-02T14:02:51.402966Z"
    }
   },
   "outputs": [],
   "source": [
    "eonia = ql.Eonia()"
   ]
  },
  {
   "cell_type": "code",
   "execution_count": 6,
   "metadata": {
    "execution": {
     "iopub.execute_input": "2022-02-02T14:02:51.418927Z",
     "iopub.status.busy": "2022-02-02T14:02:51.418927Z",
     "iopub.status.idle": "2022-02-02T14:02:51.432890Z",
     "shell.execute_reply": "2022-02-02T14:02:51.432890Z",
     "shell.execute_reply.started": "2022-02-02T14:02:51.418927Z"
    }
   },
   "outputs": [],
   "source": [
    "helpers += [\n",
    "    ql.OISRateHelper(2, ql.Period(*tenor),\n",
    "                     ql.QuoteHandle(ql.SimpleQuote(rate/100)), eonia)\n",
    "    for rate, tenor in [(0.070, (1,ql.Weeks)), (0.069, (2,ql.Weeks)),\n",
    "                        (0.078, (3,ql.Weeks)), (0.074, (1,ql.Months))]\n",
    "]"
   ]
  },
  {
   "cell_type": "markdown",
   "metadata": {},
   "source": [
    "Next, five OIS forwards on ECB dates. For these, we need to instantiate the `DatedOISRateHelper` class and specify start and end dates explicitly."
   ]
  },
  {
   "cell_type": "code",
   "execution_count": 7,
   "metadata": {
    "execution": {
     "iopub.execute_input": "2022-02-02T14:02:51.433883Z",
     "iopub.status.busy": "2022-02-02T14:02:51.433883Z",
     "iopub.status.idle": "2022-02-02T14:02:51.448842Z",
     "shell.execute_reply": "2022-02-02T14:02:51.448842Z",
     "shell.execute_reply.started": "2022-02-02T14:02:51.433883Z"
    }
   },
   "outputs": [],
   "source": [
    "helpers += [\n",
    "    ql.DatedOISRateHelper(start_date, end_date,\n",
    "                          ql.QuoteHandle(ql.SimpleQuote(rate/100)), eonia)\n",
    "    for rate, start_date, end_date in [\n",
    "        ( 0.046, ql.Date(16,ql.January,2013), ql.Date(13,ql.February,2013)),\n",
    "        ( 0.016, ql.Date(13,ql.February,2013), ql.Date(13,ql.March,2013)),\n",
    "        (-0.007, ql.Date(13,ql.March,2013), ql.Date(10,ql.April,2013)),\n",
    "        (-0.013, ql.Date(10,ql.April,2013), ql.Date(8,ql.May,2013)),\n",
    "        (-0.014, ql.Date(8,ql.May,2013), ql.Date(12,ql.June,2013))]\n",
    "]"
   ]
  },
  {
   "cell_type": "markdown",
   "metadata": {},
   "source": [
    "Finally, we add OIS quotes up to 30 years."
   ]
  },
  {
   "cell_type": "code",
   "execution_count": 8,
   "metadata": {
    "execution": {
     "iopub.execute_input": "2022-02-02T14:02:51.449839Z",
     "iopub.status.busy": "2022-02-02T14:02:51.449839Z",
     "iopub.status.idle": "2022-02-02T14:02:51.541598Z",
     "shell.execute_reply": "2022-02-02T14:02:51.541598Z",
     "shell.execute_reply.started": "2022-02-02T14:02:51.449839Z"
    }
   },
   "outputs": [],
   "source": [
    "helpers += [\n",
    "    ql.OISRateHelper(2, ql.Period(*tenor),\n",
    "                     ql.QuoteHandle(ql.SimpleQuote(rate/100)), eonia)\n",
    "    for rate, tenor in [(0.002, (15,ql.Months)), (0.008, (18,ql.Months)),\n",
    "                        (0.021, (21,ql.Months)), (0.036, (2,ql.Years)),\n",
    "                        (0.127, (3,ql.Years)), (0.274, (4,ql.Years)),\n",
    "                        (0.456, (5,ql.Years)), (0.647, (6,ql.Years)),\n",
    "                        (0.827, (7,ql.Years)), (0.996, (8,ql.Years)),\n",
    "                        (1.147, (9,ql.Years)), (1.280, (10,ql.Years)),\n",
    "                        (1.404, (11,ql.Years)), (1.516, (12,ql.Years)),\n",
    "                        (1.764, (15,ql.Years)), (1.939, (20,ql.Years)),\n",
    "                        (2.003, (25,ql.Years)), (2.038, (30,ql.Years))]\n",
    "]"
   ]
  },
  {
   "cell_type": "markdown",
   "metadata": {},
   "source": [
    "The curve is an instance of `PiecewiseLogCubicDiscount` (corresponding to the `PiecewiseYieldCurve<Discount,LogCubic>` class in C++; I won't repeat the argument for this choice made in section 4.5 of the paper).  We let the reference date of the curve move with the global evaluation date, by specifying it as 0 days after the latter on the TARGET calendar.  The day counter chosen is not of much consequence, as it is only used internally to convert dates into times. Also, we enable extrapolation beyond the maturity of the last helper; that is mostly for convenience as we retrieve rates to plot the curve near its far end."
   ]
  },
  {
   "cell_type": "code",
   "execution_count": 9,
   "metadata": {
    "execution": {
     "iopub.execute_input": "2022-02-02T14:02:51.542592Z",
     "iopub.status.busy": "2022-02-02T14:02:51.542592Z",
     "iopub.status.idle": "2022-02-02T14:02:51.556558Z",
     "shell.execute_reply": "2022-02-02T14:02:51.556558Z",
     "shell.execute_reply.started": "2022-02-02T14:02:51.542592Z"
    }
   },
   "outputs": [],
   "source": [
    "eonia_curve_c = ql.PiecewiseLogCubicDiscount(0, ql.TARGET(),\n",
    "                                             helpers, ql.Actual365Fixed())\n",
    "eonia_curve_c.enableExtrapolation()"
   ]
  },
  {
   "cell_type": "markdown",
   "metadata": {},
   "source": [
    "To compare the curve with the one shown in figure 26 of the paper, we can retrieve daily overnight rates over its first two years and plot them:"
   ]
  },
  {
   "cell_type": "code",
   "execution_count": 10,
   "metadata": {
    "execution": {
     "iopub.execute_input": "2022-02-02T14:02:51.557552Z",
     "iopub.status.busy": "2022-02-02T14:02:51.557552Z",
     "iopub.status.idle": "2022-02-02T14:02:51.589466Z",
     "shell.execute_reply": "2022-02-02T14:02:51.588473Z",
     "shell.execute_reply.started": "2022-02-02T14:02:51.557552Z"
    }
   },
   "outputs": [],
   "source": [
    "today = eonia_curve_c.referenceDate()\n",
    "end = today + ql.Period(2,ql.Years)\n",
    "dates = [ ql.Date(serial) for serial in range(today.serialNumber(),\n",
    "                                              end.serialNumber()+1) ]\n",
    "rates_c = [ eonia_curve_c.forwardRate(d, ql.TARGET().advance(d,1,ql.Days),\n",
    "                                      ql.Actual360(), ql.Simple).rate()\n",
    "            for d in dates ]"
   ]
  },
  {
   "cell_type": "code",
   "execution_count": 11,
   "metadata": {
    "execution": {
     "iopub.execute_input": "2022-02-02T14:02:51.590464Z",
     "iopub.status.busy": "2022-02-02T14:02:51.589466Z",
     "iopub.status.idle": "2022-02-02T14:02:51.712138Z",
     "shell.execute_reply": "2022-02-02T14:02:51.712138Z",
     "shell.execute_reply.started": "2022-02-02T14:02:51.590464Z"
    }
   },
   "outputs": [
    {
     "data": {
      "image/png": "[encoded data removed]",
      "text/plain": [
       "<Figure size 864x576 with 1 Axes>"
      ]
     },
     "metadata": {
      "needs_background": "light"
     },
     "output_type": "display_data"
    }
   ],
   "source": [
    "_, ax = utils.plot()\n",
    "utils.highlight_x_axis(ax)\n",
    "utils.plot_curve(ax, dates, [(rates_c,'-')], format_rates=True)"
   ]
  },
  {
   "cell_type": "markdown",
   "metadata": {},
   "source": [
    "However, we still have work to do. Out plot above shows a rather large bump at the end of 2012 which is not present in the paper. To remove it, we need to model properly the turn-of-year effect."
   ]
  },
  {
   "cell_type": "markdown",
   "metadata": {},
   "source": [
    "#### Turn-of-year jumps"
   ]
  },
  {
   "cell_type": "markdown",
   "metadata": {},
   "source": [
    "As explained in section 4.8 of the paper, the turn-of-year effect is a jump in interest rates due to an increased demand for liquidity at the end of the year.  The jump is embedded in any quoted rates that straddles the end of the year and must be treated separately; the `YieldTermStructure` class allows this by taking any number of jumps, modeled as additional discount factors, and applying them at the specified dates."
   ]
  },
  {
   "cell_type": "markdown",
   "metadata": {},
   "source": [
    "Our problem is to estimate the size of the jump. To simplify analysis, we turn to flat forward rates instead of log-cubic discounts; thus, we instantiate a `PiecewiseFlatForward` curve (corresponding to `PiecewiseYieldCurve<ForwardRate,BackwardFlat>` in C++)."
   ]
  },
  {
   "cell_type": "code",
   "execution_count": 12,
   "metadata": {
    "execution": {
     "iopub.execute_input": "2022-02-02T14:02:51.713135Z",
     "iopub.status.busy": "2022-02-02T14:02:51.713135Z",
     "iopub.status.idle": "2022-02-02T14:02:51.728095Z",
     "shell.execute_reply": "2022-02-02T14:02:51.728095Z",
     "shell.execute_reply.started": "2022-02-02T14:02:51.713135Z"
    }
   },
   "outputs": [],
   "source": [
    "eonia_curve_ff = ql.PiecewiseFlatForward(0, ql.TARGET(),\n",
    "                                         helpers, ql.Actual365Fixed())\n",
    "eonia_curve_ff.enableExtrapolation()"
   ]
  },
  {
   "cell_type": "markdown",
   "metadata": {},
   "source": [
    "To show the jump more clearly, I'll restrict the plot to the first 6 months:"
   ]
  },
  {
   "cell_type": "code",
   "execution_count": 13,
   "metadata": {
    "execution": {
     "iopub.execute_input": "2022-02-02T14:02:51.730091Z",
     "iopub.status.busy": "2022-02-02T14:02:51.730091Z",
     "iopub.status.idle": "2022-02-02T14:02:51.744052Z",
     "shell.execute_reply": "2022-02-02T14:02:51.744052Z",
     "shell.execute_reply.started": "2022-02-02T14:02:51.730091Z"
    }
   },
   "outputs": [],
   "source": [
    "end = today + ql.Period(6,ql.Months)\n",
    "dates = [ ql.Date(serial) for serial in range(today.serialNumber(),\n",
    "                                              end.serialNumber()+1) ]\n",
    "rates_ff = [ eonia_curve_ff.forwardRate(d, ql.TARGET().advance(d,1,ql.Days),\n",
    "                                        ql.Actual360(), ql.Simple).rate()\n",
    "             for d in dates ]"
   ]
  },
  {
   "cell_type": "code",
   "execution_count": 14,
   "metadata": {
    "execution": {
     "iopub.execute_input": "2022-02-02T14:02:51.745052Z",
     "iopub.status.busy": "2022-02-02T14:02:51.745052Z",
     "iopub.status.idle": "2022-02-02T14:02:51.868730Z",
     "shell.execute_reply": "2022-02-02T14:02:51.868730Z",
     "shell.execute_reply.started": "2022-02-02T14:02:51.745052Z"
    }
   },
   "outputs": [
    {
     "data": {
      "image/png": "[encoded data removed]",
      "text/plain": [
       "<Figure size 864x576 with 1 Axes>"
      ]
     },
     "metadata": {
      "needs_background": "light"
     },
     "output_type": "display_data"
    }
   ],
   "source": [
    "_, ax = utils.plot()\n",
    "utils.highlight_x_axis(ax)\n",
    "utils.plot_curve(ax, dates, [(rates_ff,'-')], format_rates=True)"
   ]
  },
  {
   "cell_type": "markdown",
   "metadata": {},
   "source": [
    "As we see, the forward ending at the beginning of January 2013 is out of line. In order to estimate the jump, we need to estimate a \"clean\" forward that doesn't include it.\n",
    "\n",
    "A possible estimate (although not the only one) can be obtained by interpolating the forwards around the one we want to replace. To do so, we extract the values of the forwards rates and their corresponding dates."
   ]
  },
  {
   "cell_type": "code",
   "execution_count": 15,
   "metadata": {
    "execution": {
     "iopub.execute_input": "2022-02-02T14:02:51.870721Z",
     "iopub.status.busy": "2022-02-02T14:02:51.869729Z",
     "iopub.status.idle": "2022-02-02T14:02:51.884681Z",
     "shell.execute_reply": "2022-02-02T14:02:51.884681Z",
     "shell.execute_reply.started": "2022-02-02T14:02:51.870721Z"
    }
   },
   "outputs": [],
   "source": [
    "nodes = list(eonia_curve_ff.nodes())"
   ]
  },
  {
   "cell_type": "markdown",
   "metadata": {},
   "source": [
    "If we look at the first few nodes, we can clearly see that the seventh is out of line."
   ]
  },
  {
   "cell_type": "code",
   "execution_count": 16,
   "metadata": {
    "execution": {
     "iopub.execute_input": "2022-02-02T14:02:51.885675Z",
     "iopub.status.busy": "2022-02-02T14:02:51.885675Z",
     "iopub.status.idle": "2022-02-02T14:02:51.899636Z",
     "shell.execute_reply": "2022-02-02T14:02:51.899636Z",
     "shell.execute_reply.started": "2022-02-02T14:02:51.885675Z"
    }
   },
   "outputs": [
    {
     "data": {
      "text/plain": [
       "[(Date(11,12,2012), 0.00040555533025081675),\n",
       " (Date(12,12,2012), 0.00040555533025081675),\n",
       " (Date(13,12,2012), 0.00040555533047721286),\n",
       " (Date(14,12,2012), 0.00040555533047721286),\n",
       " (Date(20,12,2012), 0.0007604110692568178),\n",
       " (Date(27,12,2012), 0.0006894305026004767),\n",
       " (Date(3,1,2013), 0.0009732981324671213),\n",
       " (Date(14,1,2013), 0.0006728161005748453),\n",
       " (Date(13,2,2013), 0.000466380545910482)]"
      ]
     },
     "execution_count": 16,
     "metadata": {},
     "output_type": "execute_result"
    }
   ],
   "source": [
    "nodes[:9]"
   ]
  },
  {
   "cell_type": "markdown",
   "metadata": {},
   "source": [
    "To create a curve that doesn't include the jump, we replace the relevant forward rate with a simple average of the ones that precede and follow..."
   ]
  },
  {
   "cell_type": "code",
   "execution_count": 17,
   "metadata": {
    "execution": {
     "iopub.execute_input": "2022-02-02T14:02:51.900637Z",
     "iopub.status.busy": "2022-02-02T14:02:51.900637Z",
     "iopub.status.idle": "2022-02-02T14:02:51.915598Z",
     "shell.execute_reply": "2022-02-02T14:02:51.915598Z",
     "shell.execute_reply.started": "2022-02-02T14:02:51.900637Z"
    }
   },
   "outputs": [
    {
     "data": {
      "text/plain": [
       "[(Date(11,12,2012), 0.00040555533025081675),\n",
       " (Date(12,12,2012), 0.00040555533025081675),\n",
       " (Date(13,12,2012), 0.00040555533047721286),\n",
       " (Date(14,12,2012), 0.00040555533047721286),\n",
       " (Date(20,12,2012), 0.0007604110692568178),\n",
       " (Date(27,12,2012), 0.0006894305026004767),\n",
       " (Date(3,1,2013), 0.000681123301587661),\n",
       " (Date(14,1,2013), 0.0006728161005748453),\n",
       " (Date(13,2,2013), 0.000466380545910482)]"
      ]
     },
     "execution_count": 17,
     "metadata": {},
     "output_type": "execute_result"
    }
   ],
   "source": [
    "nodes[6] = (nodes[6][0], (nodes[5][1]+nodes[7][1])/2.0)\n",
    "nodes[:9]"
   ]
  },
  {
   "cell_type": "markdown",
   "metadata": {},
   "source": [
    "...and instantiate a `ForwardCurve` with the modified nodes."
   ]
  },
  {
   "cell_type": "code",
   "execution_count": 18,
   "metadata": {
    "execution": {
     "iopub.execute_input": "2022-02-02T14:02:51.916590Z",
     "iopub.status.busy": "2022-02-02T14:02:51.916590Z",
     "iopub.status.idle": "2022-02-02T14:02:51.931551Z",
     "shell.execute_reply": "2022-02-02T14:02:51.930558Z",
     "shell.execute_reply.started": "2022-02-02T14:02:51.916590Z"
    }
   },
   "outputs": [],
   "source": [
    "temp_dates, temp_rates = zip(*nodes)\n",
    "temp_curve = ql.ForwardCurve(temp_dates, temp_rates,\n",
    "                             eonia_curve_ff.dayCounter())"
   ]
  },
  {
   "cell_type": "markdown",
   "metadata": {},
   "source": [
    "For illustration, we can extract daily overnight nodes from the doctored curve and plot them alongside the old ones:"
   ]
  },
  {
   "cell_type": "code",
   "execution_count": 19,
   "metadata": {
    "execution": {
     "iopub.execute_input": "2022-02-02T14:02:51.932548Z",
     "iopub.status.busy": "2022-02-02T14:02:51.931551Z",
     "iopub.status.idle": "2022-02-02T14:02:51.945517Z",
     "shell.execute_reply": "2022-02-02T14:02:51.945517Z",
     "shell.execute_reply.started": "2022-02-02T14:02:51.932548Z"
    }
   },
   "outputs": [],
   "source": [
    "temp_rates = [ temp_curve.forwardRate(d, ql.TARGET().advance(d,1,ql.Days),\n",
    "                                      ql.Actual360(), ql.Simple).rate()\n",
    "               for d in dates ]"
   ]
  },
  {
   "cell_type": "code",
   "execution_count": 20,
   "metadata": {
    "execution": {
     "iopub.execute_input": "2022-02-02T14:02:51.946523Z",
     "iopub.status.busy": "2022-02-02T14:02:51.946523Z",
     "iopub.status.idle": "2022-02-02T14:02:52.041262Z",
     "shell.execute_reply": "2022-02-02T14:02:52.041262Z",
     "shell.execute_reply.started": "2022-02-02T14:02:51.946523Z"
    }
   },
   "outputs": [
    {
     "data": {
      "image/png": "[encoded data removed]",
      "text/plain": [
       "<Figure size 864x576 with 1 Axes>"
      ]
     },
     "metadata": {
      "needs_background": "light"
     },
     "output_type": "display_data"
    }
   ],
   "source": [
    "_, ax = utils.plot()\n",
    "utils.highlight_x_axis(ax)\n",
    "utils.plot_curve(ax, dates, [(temp_rates,'-'), (rates_ff,'--')],\n",
    "                 format_rates=True)"
   ]
  },
  {
   "cell_type": "markdown",
   "metadata": {},
   "source": [
    "Now we can estimate the size of the jump. As the paper hints, it's more an art than a science. I've been able to reproduce closely the results of the paper by extracting from the two curves the forward rate over the two weeks around the end of the year:"
   ]
  },
  {
   "cell_type": "code",
   "execution_count": 21,
   "metadata": {
    "execution": {
     "iopub.execute_input": "2022-02-02T14:02:52.042257Z",
     "iopub.status.busy": "2022-02-02T14:02:52.042257Z",
     "iopub.status.idle": "2022-02-02T14:02:52.056222Z",
     "shell.execute_reply": "2022-02-02T14:02:52.056222Z",
     "shell.execute_reply.started": "2022-02-02T14:02:52.042257Z"
    }
   },
   "outputs": [],
   "source": [
    "d1 = ql.Date(31,ql.December,2012) - ql.Period(1,ql.Weeks)\n",
    "d2 = ql.Date(31,ql.December,2012) + ql.Period(1,ql.Weeks)"
   ]
  },
  {
   "cell_type": "code",
   "execution_count": 22,
   "metadata": {
    "execution": {
     "iopub.execute_input": "2022-02-02T14:02:52.057215Z",
     "iopub.status.busy": "2022-02-02T14:02:52.057215Z",
     "iopub.status.idle": "2022-02-02T14:02:52.072182Z",
     "shell.execute_reply": "2022-02-02T14:02:52.072182Z",
     "shell.execute_reply.started": "2022-02-02T14:02:52.057215Z"
    }
   },
   "outputs": [
    {
     "name": "stdout",
     "output_type": "stream",
     "text": [
      "0.082 %\n",
      "0.067 %\n"
     ]
    }
   ],
   "source": [
    "F = eonia_curve_ff.forwardRate(d1, d2, ql.Actual360(), ql.Simple).rate()\n",
    "F_1 = temp_curve.forwardRate(d1, d2, ql.Actual360(), ql.Simple).rate()\n",
    "print(utils.format_rate(F,digits=3))\n",
    "print(utils.format_rate(F_1,digits=3))"
   ]
  },
  {
   "cell_type": "markdown",
   "metadata": {},
   "source": [
    "We want to attribute the whole jump to the last day of the year, so we rescale it according to\n",
    "\n",
    "$$\n",
    "(F-F_1) \\cdot t_{12} = J \\cdot t_J\n",
    "$$\n",
    "\n",
    "where $t_{12}$ is the time between the two dates and $t_J$ is the time between the start and end date of the end-of-year overnight deposit. This gives us a jump quite close to the value of 10.2 basis points reported in the paper."
   ]
  },
  {
   "cell_type": "code",
   "execution_count": 23,
   "metadata": {
    "execution": {
     "iopub.execute_input": "2022-02-02T14:02:52.073179Z",
     "iopub.status.busy": "2022-02-02T14:02:52.073179Z",
     "iopub.status.idle": "2022-02-02T14:02:52.087135Z",
     "shell.execute_reply": "2022-02-02T14:02:52.087135Z",
     "shell.execute_reply.started": "2022-02-02T14:02:52.073179Z"
    }
   },
   "outputs": [
    {
     "name": "stdout",
     "output_type": "stream",
     "text": [
      "0.101 %\n"
     ]
    }
   ],
   "source": [
    "t12 = eonia_curve_ff.dayCounter().yearFraction(d1,d2)\n",
    "t_j = eonia_curve_ff.dayCounter().yearFraction(ql.Date(31,ql.December,2012),\n",
    "                                               ql.Date(2,ql.January,2013))\n",
    "J = (F-F_1)*t12/t_j\n",
    "print(utils.format_rate(J,digits=3))"
   ]
  },
  {
   "cell_type": "markdown",
   "metadata": {},
   "source": [
    "As I mentioned previously, the jump can be added to the curve as a corresponding discount factor $1/(1+J \\cdot t_J)$ on the last day of the year.  The information can be passed to the curve constructor, giving us a new instance:"
   ]
  },
  {
   "cell_type": "code",
   "execution_count": 24,
   "metadata": {
    "execution": {
     "iopub.execute_input": "2022-02-02T14:02:52.088133Z",
     "iopub.status.busy": "2022-02-02T14:02:52.088133Z",
     "iopub.status.idle": "2022-02-02T14:02:52.103092Z",
     "shell.execute_reply": "2022-02-02T14:02:52.103092Z",
     "shell.execute_reply.started": "2022-02-02T14:02:52.088133Z"
    }
   },
   "outputs": [],
   "source": [
    "B = 1.0/(1.0+J*t_j)\n",
    "jumps = [ql.QuoteHandle(ql.SimpleQuote(B))]\n",
    "jump_dates = [ql.Date(31,ql.December,2012)]\n",
    "eonia_curve_j = ql.PiecewiseFlatForward(0, ql.TARGET(),\n",
    "                                        helpers, ql.Actual365Fixed(),\n",
    "                                        jumps, jump_dates)"
   ]
  },
  {
   "cell_type": "markdown",
   "metadata": {},
   "source": [
    "Retrieving daily overnight rates from the new curve and plotting them, we can see the jump quite clearly:"
   ]
  },
  {
   "cell_type": "code",
   "execution_count": 25,
   "metadata": {
    "execution": {
     "iopub.execute_input": "2022-02-02T14:02:52.104090Z",
     "iopub.status.busy": "2022-02-02T14:02:52.104090Z",
     "iopub.status.idle": "2022-02-02T14:02:52.119053Z",
     "shell.execute_reply": "2022-02-02T14:02:52.119053Z",
     "shell.execute_reply.started": "2022-02-02T14:02:52.104090Z"
    }
   },
   "outputs": [],
   "source": [
    "rates_j = [ eonia_curve_j.forwardRate(d, ql.TARGET().advance(d,1,ql.Days),\n",
    "                                      ql.Actual360(), ql.Simple).rate()\n",
    "            for d in dates ]"
   ]
  },
  {
   "cell_type": "code",
   "execution_count": 26,
   "metadata": {
    "execution": {
     "iopub.execute_input": "2022-02-02T14:02:52.120049Z",
     "iopub.status.busy": "2022-02-02T14:02:52.120049Z",
     "iopub.status.idle": "2022-02-02T14:02:52.214926Z",
     "shell.execute_reply": "2022-02-02T14:02:52.214926Z",
     "shell.execute_reply.started": "2022-02-02T14:02:52.120049Z"
    }
   },
   "outputs": [
    {
     "data": {
      "image/png": "[encoded data removed]",
      "text/plain": [
       "<Figure size 864x576 with 1 Axes>"
      ]
     },
     "metadata": {
      "needs_background": "light"
     },
     "output_type": "display_data"
    }
   ],
   "source": [
    "_, ax = utils.plot()\n",
    "utils.highlight_x_axis(ax)\n",
    "utils.plot_curve(ax, dates, [(rates_ff,'-'), (rates_j,'o')],\n",
    "                 format_rates=True)"
   ]
  },
  {
   "cell_type": "markdown",
   "metadata": {},
   "source": [
    "We can now go back to log-cubic discounts and add the jump."
   ]
  },
  {
   "cell_type": "code",
   "execution_count": 27,
   "metadata": {
    "execution": {
     "iopub.execute_input": "2022-02-02T14:02:52.215792Z",
     "iopub.status.busy": "2022-02-02T14:02:52.215792Z",
     "iopub.status.idle": "2022-02-02T14:02:52.230751Z",
     "shell.execute_reply": "2022-02-02T14:02:52.230751Z",
     "shell.execute_reply.started": "2022-02-02T14:02:52.215792Z"
    }
   },
   "outputs": [],
   "source": [
    "eonia_curve = ql.PiecewiseLogCubicDiscount(0, ql.TARGET(),\n",
    "                                           helpers, ql.Actual365Fixed(),\n",
    "                                           jumps, jump_dates)\n",
    "eonia_curve.enableExtrapolation()"
   ]
  },
  {
   "cell_type": "code",
   "execution_count": 28,
   "metadata": {
    "execution": {
     "iopub.execute_input": "2022-02-02T14:02:52.231749Z",
     "iopub.status.busy": "2022-02-02T14:02:52.231749Z",
     "iopub.status.idle": "2022-02-02T14:02:52.246708Z",
     "shell.execute_reply": "2022-02-02T14:02:52.246708Z",
     "shell.execute_reply.started": "2022-02-02T14:02:52.231749Z"
    }
   },
   "outputs": [],
   "source": [
    "rates_c = [ eonia_curve_c.forwardRate(d, ql.TARGET().advance(d,1,ql.Days),\n",
    "                                      ql.Actual360(), ql.Simple).rate()\n",
    "            for d in dates ]\n",
    "rates = [ eonia_curve.forwardRate(d, ql.TARGET().advance(d,1,ql.Days),\n",
    "                                  ql.Actual360(), ql.Simple).rate()\n",
    "          for d in dates ]"
   ]
  },
  {
   "cell_type": "code",
   "execution_count": 29,
   "metadata": {
    "execution": {
     "iopub.execute_input": "2022-02-02T14:02:52.247706Z",
     "iopub.status.busy": "2022-02-02T14:02:52.247706Z",
     "iopub.status.idle": "2022-02-02T14:02:52.342452Z",
     "shell.execute_reply": "2022-02-02T14:02:52.342452Z",
     "shell.execute_reply.started": "2022-02-02T14:02:52.247706Z"
    }
   },
   "outputs": [
    {
     "data": {
      "image/png": "[encoded data removed]",
      "text/plain": [
       "<Figure size 864x576 with 1 Axes>"
      ]
     },
     "metadata": {
      "needs_background": "light"
     },
     "output_type": "display_data"
    }
   ],
   "source": [
    "_, ax = utils.plot()\n",
    "utils.highlight_x_axis(ax)\n",
    "utils.plot_curve(ax, dates, [(rates_c,'-'), (rates,'o')],\n",
    "                 format_rates=True)"
   ]
  },
  {
   "cell_type": "markdown",
   "metadata": {},
   "source": [
    "As you can see, the large bump is gone now.  The two plots in figure 26 can be reproduced as follows (omitting the jump at the end of 2013 for brevity, and the flat forwards for clarity):"
   ]
  },
  {
   "cell_type": "code",
   "execution_count": 30,
   "metadata": {
    "execution": {
     "iopub.execute_input": "2022-02-02T14:02:52.343450Z",
     "iopub.status.busy": "2022-02-02T14:02:52.343450Z",
     "iopub.status.idle": "2022-02-02T14:02:52.438207Z",
     "shell.execute_reply": "2022-02-02T14:02:52.438207Z",
     "shell.execute_reply.started": "2022-02-02T14:02:52.343450Z"
    }
   },
   "outputs": [
    {
     "data": {
      "image/png": "[encoded data removed]",
      "text/plain": [
       "<Figure size 864x576 with 1 Axes>"
      ]
     },
     "metadata": {
      "needs_background": "light"
     },
     "output_type": "display_data"
    }
   ],
   "source": [
    "dates = [ today+ql.Period(i,ql.Days) for i in range(0, 365*2+1) ]\n",
    "rates = [ eonia_curve.forwardRate(d, ql.TARGET().advance(d,1,ql.Days),\n",
    "                                  ql.Actual360(), ql.Simple).rate()\n",
    "          for d in dates ]\n",
    "_, ax = utils.plot()\n",
    "utils.highlight_x_axis(ax)\n",
    "utils.plot_curve(ax, dates, [(rates,'.')], ymin=-0.001, ymax=0.002,\n",
    "                 format_rates=True)"
   ]
  },
  {
   "cell_type": "code",
   "execution_count": 31,
   "metadata": {
    "execution": {
     "iopub.execute_input": "2022-02-02T14:02:52.439194Z",
     "iopub.status.busy": "2022-02-02T14:02:52.439194Z",
     "iopub.status.idle": "2022-02-02T14:02:52.563860Z",
     "shell.execute_reply": "2022-02-02T14:02:52.563860Z",
     "shell.execute_reply.started": "2022-02-02T14:02:52.439194Z"
    }
   },
   "outputs": [
    {
     "data": {
      "image/png": "[encoded data removed]",
      "text/plain": [
       "<Figure size 864x576 with 1 Axes>"
      ]
     },
     "metadata": {
      "needs_background": "light"
     },
     "output_type": "display_data"
    }
   ],
   "source": [
    "dates = [ today+ql.Period(i,ql.Months) for i in range(0, 12*60+1) ]\n",
    "rates = [ eonia_curve.forwardRate(d, ql.TARGET().advance(d,1,ql.Days),\n",
    "                                  ql.Actual360(), ql.Simple).rate()\n",
    "          for d in dates ]\n",
    "_, ax = utils.plot()\n",
    "utils.plot_curve(ax, dates, [(rates,'-')], ymin=0.0, ymax=0.035,\n",
    "                 format_rates=True)"
   ]
  },
  {
   "cell_type": "markdown",
   "metadata": {},
   "source": [
    "A final word of warning: as you saw, the estimate of the jumps is not an exact science, so it's best to check it manually and not to leave it to an automated procedure.\n",
    "\n",
    "Moreover, jumps nowadays might be present at the end of each month, as reported for instance in [Paolo Mazzocchi's presentation at the QuantLib User Meeting 2014](https://speakerdeck.com/nando1970/eonia-jumps-and-proper-euribor-forwarding). This, too, suggests particular care in building the Eonia curve."
   ]
  }
 ],
 "metadata": {
  "kernelspec": {
   "display_name": "Python 3 (ipykernel)",
   "language": "python",
   "name": "python3"
  },
  "language_info": {
   "codemirror_mode": {
    "name": "ipython",
    "version": 3
   },
   "file_extension": ".py",
   "mimetype": "text/x-python",
   "name": "python",
   "nbconvert_exporter": "python",
   "pygments_lexer": "ipython3",
   "version": "3.8.10"
  }
 },
 "nbformat": 4,
 "nbformat_minor": 4
}

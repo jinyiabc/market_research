{
 "cells": [
  {
   "cell_type": "markdown",
   "metadata": {},
   "source": [
    "# Constructing a yield curve {#yc-construction}"
   ]
  },
  {
   "cell_type": "markdown",
   "metadata": {},
   "source": [
    "In this chapter we will go over the construction of treasury yield curve. Let's start by importing QuantLib and other necessary libraries."
   ]
  },
  {
   "cell_type": "code",
   "execution_count": 1,
   "metadata": {
    "execution": {
     "iopub.execute_input": "2022-02-02T13:52:43.340893Z",
     "iopub.status.busy": "2022-02-02T13:52:43.340893Z",
     "iopub.status.idle": "2022-02-02T13:52:44.014791Z",
     "shell.execute_reply": "2022-02-02T13:52:44.014791Z",
     "shell.execute_reply.started": "2022-02-02T13:52:43.340893Z"
    }
   },
   "outputs": [],
   "source": [
    "import QuantLib as ql\n",
    "from pandas import DataFrame\n",
    "import numpy as np\n",
    "import utils\n",
    "%matplotlib inline"
   ]
  },
  {
   "cell_type": "markdown",
   "metadata": {},
   "source": [
    "This is an example based on Exhibit 5-5 given in Frank Fabozzi's Bond Markets, Analysis and Strategies, Sixth Edition. "
   ]
  },
  {
   "cell_type": "code",
   "execution_count": 2,
   "metadata": {
    "execution": {
     "iopub.execute_input": "2022-02-02T13:52:44.015662Z",
     "iopub.status.busy": "2022-02-02T13:52:44.015662Z",
     "iopub.status.idle": "2022-02-02T13:52:44.030625Z",
     "shell.execute_reply": "2022-02-02T13:52:44.030625Z",
     "shell.execute_reply.started": "2022-02-02T13:52:44.015662Z"
    }
   },
   "outputs": [
    {
     "data": {
      "text/html": [
       "<div>\n",
       "<style scoped>\n",
       "    .dataframe tbody tr th:only-of-type {\n",
       "        vertical-align: middle;\n",
       "    }\n",
       "\n",
       "    .dataframe tbody tr th {\n",
       "        vertical-align: top;\n",
       "    }\n",
       "\n",
       "    .dataframe thead th {\n",
       "        text-align: right;\n",
       "    }\n",
       "</style>\n",
       "<table border=\"1\" class=\"dataframe\">\n",
       "  <thead>\n",
       "    <tr style=\"text-align: right;\">\n",
       "      <th></th>\n",
       "      <th>Maturities</th>\n",
       "      <th>Curve</th>\n",
       "    </tr>\n",
       "  </thead>\n",
       "  <tbody>\n",
       "    <tr>\n",
       "      <th></th>\n",
       "      <td>6M</td>\n",
       "      <td>5.25</td>\n",
       "    </tr>\n",
       "    <tr>\n",
       "      <th></th>\n",
       "      <td>1Y</td>\n",
       "      <td>5.50</td>\n",
       "    </tr>\n",
       "    <tr>\n",
       "      <th></th>\n",
       "      <td>1Y6M</td>\n",
       "      <td>5.75</td>\n",
       "    </tr>\n",
       "    <tr>\n",
       "      <th></th>\n",
       "      <td>2Y</td>\n",
       "      <td>6.00</td>\n",
       "    </tr>\n",
       "    <tr>\n",
       "      <th></th>\n",
       "      <td>2Y6M</td>\n",
       "      <td>6.25</td>\n",
       "    </tr>\n",
       "    <tr>\n",
       "      <th></th>\n",
       "      <td>3Y</td>\n",
       "      <td>6.50</td>\n",
       "    </tr>\n",
       "    <tr>\n",
       "      <th></th>\n",
       "      <td>3Y6M</td>\n",
       "      <td>6.75</td>\n",
       "    </tr>\n",
       "    <tr>\n",
       "      <th></th>\n",
       "      <td>4Y</td>\n",
       "      <td>6.80</td>\n",
       "    </tr>\n",
       "    <tr>\n",
       "      <th></th>\n",
       "      <td>4Y6M</td>\n",
       "      <td>7.00</td>\n",
       "    </tr>\n",
       "    <tr>\n",
       "      <th></th>\n",
       "      <td>5Y</td>\n",
       "      <td>7.10</td>\n",
       "    </tr>\n",
       "    <tr>\n",
       "      <th></th>\n",
       "      <td>5Y6M</td>\n",
       "      <td>7.15</td>\n",
       "    </tr>\n",
       "    <tr>\n",
       "      <th></th>\n",
       "      <td>6Y</td>\n",
       "      <td>7.20</td>\n",
       "    </tr>\n",
       "    <tr>\n",
       "      <th></th>\n",
       "      <td>6Y6M</td>\n",
       "      <td>7.30</td>\n",
       "    </tr>\n",
       "    <tr>\n",
       "      <th></th>\n",
       "      <td>7Y</td>\n",
       "      <td>7.35</td>\n",
       "    </tr>\n",
       "    <tr>\n",
       "      <th></th>\n",
       "      <td>7Y6M</td>\n",
       "      <td>7.40</td>\n",
       "    </tr>\n",
       "    <tr>\n",
       "      <th></th>\n",
       "      <td>8Y</td>\n",
       "      <td>7.50</td>\n",
       "    </tr>\n",
       "    <tr>\n",
       "      <th></th>\n",
       "      <td>8Y6M</td>\n",
       "      <td>7.60</td>\n",
       "    </tr>\n",
       "    <tr>\n",
       "      <th></th>\n",
       "      <td>9Y</td>\n",
       "      <td>7.60</td>\n",
       "    </tr>\n",
       "    <tr>\n",
       "      <th></th>\n",
       "      <td>9Y6M</td>\n",
       "      <td>7.70</td>\n",
       "    </tr>\n",
       "    <tr>\n",
       "      <th></th>\n",
       "      <td>10Y</td>\n",
       "      <td>7.80</td>\n",
       "    </tr>\n",
       "  </tbody>\n",
       "</table>\n",
       "</div>"
      ],
      "text/plain": [
       " Maturities  Curve\n",
       "         6M   5.25\n",
       "         1Y   5.50\n",
       "       1Y6M   5.75\n",
       "         2Y   6.00\n",
       "       2Y6M   6.25\n",
       "         3Y   6.50\n",
       "       3Y6M   6.75\n",
       "         4Y   6.80\n",
       "       4Y6M   7.00\n",
       "         5Y   7.10\n",
       "       5Y6M   7.15\n",
       "         6Y   7.20\n",
       "       6Y6M   7.30\n",
       "         7Y   7.35\n",
       "       7Y6M   7.40\n",
       "         8Y   7.50\n",
       "       8Y6M   7.60\n",
       "         9Y   7.60\n",
       "       9Y6M   7.70\n",
       "        10Y   7.80"
      ]
     },
     "execution_count": 2,
     "metadata": {},
     "output_type": "execute_result"
    }
   ],
   "source": [
    "depo_maturities = [ql.Period(6,ql.Months), ql.Period(12, ql.Months)]\n",
    "depo_rates = [5.25, 5.5]\n",
    "\n",
    "# Bond rates\n",
    "bond_maturities = [ql.Period(6*i, ql.Months) for i in range(3,21)]\n",
    "bond_rates = [5.75, 6.0, 6.25, 6.5, 6.75, 6.80, 7.00, 7.1, 7.15, \n",
    "              7.2, 7.3, 7.35, 7.4, 7.5, 7.6, 7.6, 7.7, 7.8]\n",
    "\n",
    "maturities = depo_maturities+bond_maturities\n",
    "rates = depo_rates+bond_rates\n",
    "DataFrame(list(zip(maturities, rates)), \n",
    "          columns=[\"Maturities\",\"Curve\"],\n",
    "          index=['']*len(rates))"
   ]
  },
  {
   "cell_type": "markdown",
   "metadata": {},
   "source": [
    "Below we declare some constants and conventions used here. For the sake of simplicity, we assume that some of the constants are the same for deposit rates and bond rates."
   ]
  },
  {
   "cell_type": "code",
   "execution_count": 3,
   "metadata": {
    "execution": {
     "iopub.execute_input": "2022-02-02T13:52:44.031618Z",
     "iopub.status.busy": "2022-02-02T13:52:44.031618Z",
     "iopub.status.idle": "2022-02-02T13:52:44.045581Z",
     "shell.execute_reply": "2022-02-02T13:52:44.045581Z",
     "shell.execute_reply.started": "2022-02-02T13:52:44.031618Z"
    }
   },
   "outputs": [],
   "source": [
    "calc_date = ql.Date(15, 1, 2015)\n",
    "ql.Settings.instance().evaluationDate = calc_date\n",
    "\n",
    "calendar = ql.UnitedStates()\n",
    "business_convention = ql.Unadjusted \n",
    "day_count = ql.Thirty360()\n",
    "end_of_month = True\n",
    "settlement_days = 0\n",
    "face_amount = 100\n",
    "coupon_frequency = ql.Period(ql.Semiannual)"
   ]
  },
  {
   "cell_type": "markdown",
   "metadata": {},
   "source": [
    "The basic idea of bootstrapping is to use the deposit rates and bond rates to create individual rate helpers. Then use the combination of the two helpers to construct the yield curve. As a first step, we create the deposit rate helpers as shown below."
   ]
  },
  {
   "cell_type": "code",
   "execution_count": 4,
   "metadata": {
    "execution": {
     "iopub.execute_input": "2022-02-02T13:52:44.046578Z",
     "iopub.status.busy": "2022-02-02T13:52:44.046578Z",
     "iopub.status.idle": "2022-02-02T13:52:44.061542Z",
     "shell.execute_reply": "2022-02-02T13:52:44.061542Z",
     "shell.execute_reply.started": "2022-02-02T13:52:44.046578Z"
    }
   },
   "outputs": [],
   "source": [
    "depo_helpers = [\n",
    "    ql.DepositRateHelper(ql.QuoteHandle(ql.SimpleQuote(r/100.0)),\n",
    "                         m,\n",
    "                         settlement_days,\n",
    "                         calendar,\n",
    "                         business_convention,\n",
    "                         end_of_month,\n",
    "                         day_count)\n",
    "    for r, m in zip(depo_rates, depo_maturities)\n",
    "]"
   ]
  },
  {
   "cell_type": "markdown",
   "metadata": {},
   "source": [
    "The rest of the points are coupon bonds. We assume that the YTM given for the bonds are all par rates. So we have bonds with coupon rate same as the YTM. Using this information, we construct the fixed rate bond helpers below."
   ]
  },
  {
   "cell_type": "code",
   "execution_count": 5,
   "metadata": {
    "execution": {
     "iopub.execute_input": "2022-02-02T13:52:44.062535Z",
     "iopub.status.busy": "2022-02-02T13:52:44.062535Z",
     "iopub.status.idle": "2022-02-02T13:52:44.077499Z",
     "shell.execute_reply": "2022-02-02T13:52:44.077499Z",
     "shell.execute_reply.started": "2022-02-02T13:52:44.062535Z"
    }
   },
   "outputs": [],
   "source": [
    "bond_helpers = []\n",
    "for r, m in zip(bond_rates, bond_maturities):\n",
    "    termination_date = calc_date + m\n",
    "    schedule = ql.Schedule(calc_date,\n",
    "                           termination_date, \n",
    "                           coupon_frequency, \n",
    "                           calendar,\n",
    "                           business_convention, \n",
    "                           business_convention, \n",
    "                           ql.DateGeneration.Backward, \n",
    "                           end_of_month)\n",
    "    \n",
    "    bond_helper = ql.FixedRateBondHelper(\n",
    "        ql.QuoteHandle(ql.SimpleQuote(face_amount)),\n",
    "        settlement_days,\n",
    "        face_amount,\n",
    "        schedule,\n",
    "        [r/100.0],\n",
    "        day_count,\n",
    "        business_convention)\n",
    "    bond_helpers.append(bond_helper)"
   ]
  },
  {
   "cell_type": "markdown",
   "metadata": {},
   "source": [
    "The union of the two helpers is what we use in bootstrapping shown below."
   ]
  },
  {
   "cell_type": "code",
   "execution_count": 6,
   "metadata": {
    "execution": {
     "iopub.execute_input": "2022-02-02T13:52:44.078493Z",
     "iopub.status.busy": "2022-02-02T13:52:44.078493Z",
     "iopub.status.idle": "2022-02-02T13:52:44.092459Z",
     "shell.execute_reply": "2022-02-02T13:52:44.092459Z",
     "shell.execute_reply.started": "2022-02-02T13:52:44.078493Z"
    }
   },
   "outputs": [],
   "source": [
    "rate_helpers = depo_helpers + bond_helpers"
   ]
  },
  {
   "cell_type": "markdown",
   "metadata": {},
   "source": [
    "The `get_spot_rates` is a convenient wrapper function that we will use to get the spot rates on a monthly interval."
   ]
  },
  {
   "cell_type": "code",
   "execution_count": 7,
   "metadata": {
    "execution": {
     "iopub.execute_input": "2022-02-02T13:52:44.093453Z",
     "iopub.status.busy": "2022-02-02T13:52:44.093453Z",
     "iopub.status.idle": "2022-02-02T13:52:44.108417Z",
     "shell.execute_reply": "2022-02-02T13:52:44.108417Z",
     "shell.execute_reply.started": "2022-02-02T13:52:44.093453Z"
    }
   },
   "outputs": [],
   "source": [
    "def get_spot_rates(\n",
    "        yieldcurve, day_count, \n",
    "        calendar=ql.UnitedStates(), months=121):\n",
    "    spots = []\n",
    "    tenors = []\n",
    "    ref_date = yieldcurve.referenceDate()\n",
    "    calc_date = ref_date\n",
    "    for month in range(0, months):\n",
    "        yrs = month/12.0\n",
    "        d = calendar.advance(ref_date, ql.Period(month, ql.Months))\n",
    "        compounding = ql.Compounded\n",
    "        freq = ql.Semiannual\n",
    "        zero_rate = yieldcurve.zeroRate(yrs, compounding, freq)\n",
    "        tenors.append(yrs)\n",
    "        eq_rate = zero_rate.equivalentRate(\n",
    "            day_count,compounding,freq,calc_date,d).rate()\n",
    "        spots.append(100*eq_rate)\n",
    "    return DataFrame(list(zip(tenors, spots)),\n",
    "                     columns=[\"Maturities\",\"Curve\"],\n",
    "                     index=['']*len(tenors))"
   ]
  },
  {
   "cell_type": "markdown",
   "metadata": {},
   "source": [
    "The bootstrapping process is fairly generic in QuantLib. You can chose what variable you are bootstrapping, and what is the interpolation method used in the bootstrapping. There are multiple piecewise interpolation methods that can be used for this process. The `PiecewiseLogCubicDiscount` will construct a piece wise yield curve using `LogCubic` interpolation of the `Discount` factor. Similarly `PiecewiseLinearZero` will use `Linear` interpolation of `Zero` rates. `PiecewiseCubicZero` will interpolate the `Zero` rates using a `Cubic` interpolation method."
   ]
  },
  {
   "cell_type": "code",
   "execution_count": 8,
   "metadata": {
    "execution": {
     "iopub.execute_input": "2022-02-02T13:52:44.109411Z",
     "iopub.status.busy": "2022-02-02T13:52:44.109411Z",
     "iopub.status.idle": "2022-02-02T13:52:44.123373Z",
     "shell.execute_reply": "2022-02-02T13:52:44.123373Z",
     "shell.execute_reply.started": "2022-02-02T13:52:44.109411Z"
    }
   },
   "outputs": [],
   "source": [
    "yc_logcubicdiscount = ql.PiecewiseLogCubicDiscount(calc_date,\n",
    "                                                   rate_helpers,\n",
    "                                                   day_count)"
   ]
  },
  {
   "cell_type": "markdown",
   "metadata": {},
   "source": [
    "The zero rates from the tail end of the `PiecewiseLogCubicDiscount` bootstrapping is shown below."
   ]
  },
  {
   "cell_type": "code",
   "execution_count": 9,
   "metadata": {
    "execution": {
     "iopub.execute_input": "2022-02-02T13:52:44.124372Z",
     "iopub.status.busy": "2022-02-02T13:52:44.124372Z",
     "iopub.status.idle": "2022-02-02T13:52:44.139345Z",
     "shell.execute_reply": "2022-02-02T13:52:44.139345Z",
     "shell.execute_reply.started": "2022-02-02T13:52:44.124372Z"
    }
   },
   "outputs": [
    {
     "data": {
      "text/html": [
       "<div>\n",
       "<style scoped>\n",
       "    .dataframe tbody tr th:only-of-type {\n",
       "        vertical-align: middle;\n",
       "    }\n",
       "\n",
       "    .dataframe tbody tr th {\n",
       "        vertical-align: top;\n",
       "    }\n",
       "\n",
       "    .dataframe thead th {\n",
       "        text-align: right;\n",
       "    }\n",
       "</style>\n",
       "<table border=\"1\" class=\"dataframe\">\n",
       "  <thead>\n",
       "    <tr style=\"text-align: right;\">\n",
       "      <th></th>\n",
       "      <th>Maturities</th>\n",
       "      <th>Curve</th>\n",
       "    </tr>\n",
       "  </thead>\n",
       "  <tbody>\n",
       "    <tr>\n",
       "      <th></th>\n",
       "      <td>9.666667</td>\n",
       "      <td>7.981384</td>\n",
       "    </tr>\n",
       "    <tr>\n",
       "      <th></th>\n",
       "      <td>9.750000</td>\n",
       "      <td>8.005292</td>\n",
       "    </tr>\n",
       "    <tr>\n",
       "      <th></th>\n",
       "      <td>9.833333</td>\n",
       "      <td>8.028145</td>\n",
       "    </tr>\n",
       "    <tr>\n",
       "      <th></th>\n",
       "      <td>9.916667</td>\n",
       "      <td>8.050187</td>\n",
       "    </tr>\n",
       "    <tr>\n",
       "      <th></th>\n",
       "      <td>10.000000</td>\n",
       "      <td>8.071649</td>\n",
       "    </tr>\n",
       "  </tbody>\n",
       "</table>\n",
       "</div>"
      ],
      "text/plain": [
       "  Maturities     Curve\n",
       "    9.666667  7.981384\n",
       "    9.750000  8.005292\n",
       "    9.833333  8.028145\n",
       "    9.916667  8.050187\n",
       "   10.000000  8.071649"
      ]
     },
     "execution_count": 9,
     "metadata": {},
     "output_type": "execute_result"
    }
   ],
   "source": [
    "splcd = get_spot_rates(yc_logcubicdiscount, day_count)\n",
    "splcd.tail()"
   ]
  },
  {
   "cell_type": "markdown",
   "metadata": {},
   "source": [
    "The yield curves using the `PiecewiseLinearZero` and `PiecewiseCubicZero` is shown below. The tail end of the zero rates obtained from `PiecewiseLinearZero` bootstrapping is also shown below. The numbers can be compared with that of the `PiecewiseLogCubicDiscount` shown above."
   ]
  },
  {
   "cell_type": "code",
   "execution_count": 10,
   "metadata": {
    "execution": {
     "iopub.execute_input": "2022-02-02T13:52:44.140327Z",
     "iopub.status.busy": "2022-02-02T13:52:44.140327Z",
     "iopub.status.idle": "2022-02-02T13:52:44.155298Z",
     "shell.execute_reply": "2022-02-02T13:52:44.155298Z",
     "shell.execute_reply.started": "2022-02-02T13:52:44.140327Z"
    }
   },
   "outputs": [
    {
     "data": {
      "text/html": [
       "<div>\n",
       "<style scoped>\n",
       "    .dataframe tbody tr th:only-of-type {\n",
       "        vertical-align: middle;\n",
       "    }\n",
       "\n",
       "    .dataframe tbody tr th {\n",
       "        vertical-align: top;\n",
       "    }\n",
       "\n",
       "    .dataframe thead th {\n",
       "        text-align: right;\n",
       "    }\n",
       "</style>\n",
       "<table border=\"1\" class=\"dataframe\">\n",
       "  <thead>\n",
       "    <tr style=\"text-align: right;\">\n",
       "      <th></th>\n",
       "      <th>Maturities</th>\n",
       "      <th>Curve</th>\n",
       "    </tr>\n",
       "  </thead>\n",
       "  <tbody>\n",
       "    <tr>\n",
       "      <th></th>\n",
       "      <td>9.666667</td>\n",
       "      <td>7.976804</td>\n",
       "    </tr>\n",
       "    <tr>\n",
       "      <th></th>\n",
       "      <td>9.750000</td>\n",
       "      <td>8.000511</td>\n",
       "    </tr>\n",
       "    <tr>\n",
       "      <th></th>\n",
       "      <td>9.833333</td>\n",
       "      <td>8.024221</td>\n",
       "    </tr>\n",
       "    <tr>\n",
       "      <th></th>\n",
       "      <td>9.916667</td>\n",
       "      <td>8.047934</td>\n",
       "    </tr>\n",
       "    <tr>\n",
       "      <th></th>\n",
       "      <td>10.000000</td>\n",
       "      <td>8.071649</td>\n",
       "    </tr>\n",
       "  </tbody>\n",
       "</table>\n",
       "</div>"
      ],
      "text/plain": [
       "  Maturities     Curve\n",
       "    9.666667  7.976804\n",
       "    9.750000  8.000511\n",
       "    9.833333  8.024221\n",
       "    9.916667  8.047934\n",
       "   10.000000  8.071649"
      ]
     },
     "execution_count": 10,
     "metadata": {},
     "output_type": "execute_result"
    }
   ],
   "source": [
    "yc_linearzero = ql.PiecewiseLinearZero(\n",
    "    calc_date,rate_helpers,day_count\n",
    ")\n",
    "yc_cubiczero = ql.PiecewiseCubicZero(\n",
    "    calc_date,rate_helpers,day_count\n",
    ")\n",
    "\n",
    "splz = get_spot_rates(yc_linearzero, day_count)\n",
    "spcz = get_spot_rates(yc_cubiczero, day_count)\n",
    "splz.tail()"
   ]
  },
  {
   "cell_type": "markdown",
   "metadata": {},
   "source": [
    "All three are plotted below to give you an overall perspective of the three methods."
   ]
  },
  {
   "cell_type": "code",
   "execution_count": 11,
   "metadata": {
    "execution": {
     "iopub.execute_input": "2022-02-02T13:52:44.156291Z",
     "iopub.status.busy": "2022-02-02T13:52:44.156291Z",
     "iopub.status.idle": "2022-02-02T13:52:44.487451Z",
     "shell.execute_reply": "2022-02-02T13:52:44.486584Z",
     "shell.execute_reply.started": "2022-02-02T13:52:44.156291Z"
    }
   },
   "outputs": [
    {
     "data": {
      "image/png": "[encoded data removed]",
      "text/plain": [
       "<Figure size 864x576 with 1 Axes>"
      ]
     },
     "metadata": {
      "needs_background": "light"
     },
     "output_type": "display_data"
    }
   ],
   "source": [
    "fig, ax = utils.plot()\n",
    "ax.plot(splcd[\"Maturities\"],splcd[\"Curve\"], '.',\n",
    "        label=\"LogCubicDiscount\")\n",
    "ax.plot(splz[\"Maturities\"],splz[\"Curve\"],'--', \n",
    "        label=\"LinearZero\")\n",
    "ax.plot(spcz[\"Maturities\"],spcz[\"Curve\"],\n",
    "        label=\"CubicZero\")\n",
    "ax.set_xlabel(\"Months\", size=12)\n",
    "ax.set_ylabel(\"Zero Rate\", size=12)\n",
    "ax.set_xlim(0.5,10)\n",
    "ax.set_ylim([5.25,8])\n",
    "ax.legend(loc=0);"
   ]
  },
  {
   "cell_type": "markdown",
   "metadata": {},
   "source": [
    "#### Conclusion\n",
    "In this chapter we saw how to construct yield curves by bootstrapping bond quotes."
   ]
  }
 ],
 "metadata": {
  "kernelspec": {
   "display_name": "Python 3 (ipykernel)",
   "language": "python",
   "name": "python3"
  },
  "language_info": {
   "codemirror_mode": {
    "name": "ipython",
    "version": 3
   },
   "file_extension": ".py",
   "mimetype": "text/x-python",
   "name": "python",
   "nbconvert_exporter": "python",
   "pygments_lexer": "ipython3",
   "version": "3.8.10"
  }
 },
 "nbformat": 4,
 "nbformat_minor": 4
}
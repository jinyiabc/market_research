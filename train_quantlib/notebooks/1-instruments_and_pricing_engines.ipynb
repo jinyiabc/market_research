{
 "cells": [
  {
   "cell_type": "markdown",
   "metadata": {},
   "source": [
    "# Instruments and pricing engines"
   ]
  },
  {
   "cell_type": "markdown",
   "metadata": {},
   "source": [
    "In this notebook, I'll show how instruments and their available engines can monitor changes in their input data."
   ]
  },
  {
   "cell_type": "markdown",
   "metadata": {},
   "source": [
    "#### Setup"
   ]
  },
  {
   "cell_type": "markdown",
   "metadata": {},
   "source": [
    "To begin, we import the QuantLib module and set up the global evaluation date."
   ]
  },
  {
   "cell_type": "code",
   "execution_count": 1,
   "metadata": {
    "execution": {
     "iopub.execute_input": "2022-02-01T20:51:37.094712Z",
     "iopub.status.busy": "2022-02-01T20:51:37.094712Z",
     "iopub.status.idle": "2022-02-01T20:51:37.139098Z",
     "shell.execute_reply": "2022-02-01T20:51:37.139098Z",
     "shell.execute_reply.started": "2022-02-01T20:51:37.094712Z"
    }
   },
   "outputs": [],
   "source": [
    "import QuantLib as ql"
   ]
  },
  {
   "cell_type": "code",
   "execution_count": 2,
   "metadata": {
    "execution": {
     "iopub.execute_input": "2022-02-01T20:51:37.140094Z",
     "iopub.status.busy": "2022-02-01T20:51:37.140094Z",
     "iopub.status.idle": "2022-02-01T20:51:37.154219Z",
     "shell.execute_reply": "2022-02-01T20:51:37.154219Z",
     "shell.execute_reply.started": "2022-02-01T20:51:37.140094Z"
    }
   },
   "outputs": [],
   "source": [
    "today = ql.Date(7, ql.March, 2014)\n",
    "ql.Settings.instance().evaluationDate = today"
   ]
  },
  {
   "cell_type": "markdown",
   "metadata": {},
   "source": [
    "#### The instrument"
   ]
  },
  {
   "cell_type": "markdown",
   "metadata": {},
   "source": [
    "As a sample instrument, we'll take a textbook example: a European option."
   ]
  },
  {
   "cell_type": "markdown",
   "metadata": {},
   "source": [
    "Building the option requires only the specification of its contract, so its payoff (it's a call option with strike at 100) and its exercise, three months from today's date. Market data will be selected and passed later, depending on the calculation methods."
   ]
  },
  {
   "cell_type": "code",
   "execution_count": 3,
   "metadata": {
    "execution": {
     "iopub.execute_input": "2022-02-01T20:51:37.155213Z",
     "iopub.status.busy": "2022-02-01T20:51:37.155213Z",
     "iopub.status.idle": "2022-02-01T20:51:37.169123Z",
     "shell.execute_reply": "2022-02-01T20:51:37.169123Z",
     "shell.execute_reply.started": "2022-02-01T20:51:37.155213Z"
    }
   },
   "outputs": [],
   "source": [
    "option = ql.EuropeanOption(ql.PlainVanillaPayoff(ql.Option.Call, 100.0),\n",
    "                           ql.EuropeanExercise(ql.Date(7, ql.June, 2014)))"
   ]
  },
  {
   "cell_type": "markdown",
   "metadata": {},
   "source": [
    "#### First pricing method: analytic Black-Scholes formula"
   ]
  },
  {
   "cell_type": "markdown",
   "metadata": {},
   "source": [
    "The different pricing methods are implemented as pricing engines holding the required market data. The first we'll use is the one encapsulating the analytic Black-Scholes formula."
   ]
  },
  {
   "cell_type": "markdown",
   "metadata": {},
   "source": [
    "First, we collect the quoted market data.  We'll assume flat risk-free rate and volatility, so they can be expressed by `SimpleQuote` instances: those model numbers whose value can change and that can notify observers when this happens.  The underlying value is at 100, the risk-free value at 1%, and the volatility at 20%."
   ]
  },
  {
   "cell_type": "code",
   "execution_count": 4,
   "metadata": {
    "execution": {
     "iopub.execute_input": "2022-02-01T20:51:37.170117Z",
     "iopub.status.busy": "2022-02-01T20:51:37.170117Z",
     "iopub.status.idle": "2022-02-01T20:51:37.184454Z",
     "shell.execute_reply": "2022-02-01T20:51:37.184454Z",
     "shell.execute_reply.started": "2022-02-01T20:51:37.170117Z"
    }
   },
   "outputs": [],
   "source": [
    "u = ql.SimpleQuote(100.0)\n",
    "r = ql.SimpleQuote(0.01)\n",
    "sigma = ql.SimpleQuote(0.20)"
   ]
  },
  {
   "cell_type": "markdown",
   "metadata": {},
   "source": [
    "In order to build the engine, the market data are encapsulated in a Black-Scholes process object.  First we build flat curves for the risk-free rate and the volatility..."
   ]
  },
  {
   "cell_type": "code",
   "execution_count": 5,
   "metadata": {
    "execution": {
     "iopub.execute_input": "2022-02-01T20:51:37.185455Z",
     "iopub.status.busy": "2022-02-01T20:51:37.185455Z",
     "iopub.status.idle": "2022-02-01T20:51:37.199751Z",
     "shell.execute_reply": "2022-02-01T20:51:37.199751Z",
     "shell.execute_reply.started": "2022-02-01T20:51:37.185455Z"
    }
   },
   "outputs": [],
   "source": [
    "riskFreeCurve = ql.FlatForward(0, ql.TARGET(),\n",
    "                               ql.QuoteHandle(r), ql.Actual360())\n",
    "volatility = ql.BlackConstantVol(0, ql.TARGET(),\n",
    "                                 ql.QuoteHandle(sigma), ql.Actual360())"
   ]
  },
  {
   "cell_type": "markdown",
   "metadata": {},
   "source": [
    "...then we instantiate the process with the underlying value and the curves we just built.  The inputs are all stored into handles, so that we could change the quotes and curves used if we wanted.  I'll skip over this for the time being."
   ]
  },
  {
   "cell_type": "code",
   "execution_count": 6,
   "metadata": {
    "execution": {
     "iopub.execute_input": "2022-02-01T20:51:37.200716Z",
     "iopub.status.busy": "2022-02-01T20:51:37.200716Z",
     "iopub.status.idle": "2022-02-01T20:51:37.215857Z",
     "shell.execute_reply": "2022-02-01T20:51:37.215857Z",
     "shell.execute_reply.started": "2022-02-01T20:51:37.200716Z"
    }
   },
   "outputs": [],
   "source": [
    "process = ql.BlackScholesProcess(ql.QuoteHandle(u),\n",
    "                                 ql.YieldTermStructureHandle(riskFreeCurve),\n",
    "                                 ql.BlackVolTermStructureHandle(volatility))"
   ]
  },
  {
   "cell_type": "markdown",
   "metadata": {},
   "source": [
    "Once we have the process, we can finally use it to build the engine..."
   ]
  },
  {
   "cell_type": "code",
   "execution_count": 7,
   "metadata": {
    "execution": {
     "iopub.execute_input": "2022-02-01T20:51:37.216821Z",
     "iopub.status.busy": "2022-02-01T20:51:37.216821Z",
     "iopub.status.idle": "2022-02-01T20:51:37.231318Z",
     "shell.execute_reply": "2022-02-01T20:51:37.231318Z",
     "shell.execute_reply.started": "2022-02-01T20:51:37.216821Z"
    }
   },
   "outputs": [],
   "source": [
    "engine = ql.AnalyticEuropeanEngine(process)"
   ]
  },
  {
   "cell_type": "markdown",
   "metadata": {},
   "source": [
    "...and once we have the engine, we can set it to the option and evaluate the latter."
   ]
  },
  {
   "cell_type": "code",
   "execution_count": 8,
   "metadata": {
    "execution": {
     "iopub.execute_input": "2022-02-01T20:51:37.232186Z",
     "iopub.status.busy": "2022-02-01T20:51:37.232186Z",
     "iopub.status.idle": "2022-02-01T20:51:37.246608Z",
     "shell.execute_reply": "2022-02-01T20:51:37.246608Z",
     "shell.execute_reply.started": "2022-02-01T20:51:37.232186Z"
    }
   },
   "outputs": [],
   "source": [
    "option.setPricingEngine(engine)"
   ]
  },
  {
   "cell_type": "code",
   "execution_count": 9,
   "metadata": {
    "execution": {
     "iopub.execute_input": "2022-02-01T20:51:37.247607Z",
     "iopub.status.busy": "2022-02-01T20:51:37.247607Z",
     "iopub.status.idle": "2022-02-01T20:51:37.262668Z",
     "shell.execute_reply": "2022-02-01T20:51:37.262668Z",
     "shell.execute_reply.started": "2022-02-01T20:51:37.247607Z"
    }
   },
   "outputs": [
    {
     "name": "stdout",
     "output_type": "stream",
     "text": [
      "4.155543462156206\n"
     ]
    }
   ],
   "source": [
    "print(option.NPV())"
   ]
  },
  {
   "cell_type": "markdown",
   "metadata": {},
   "source": [
    "Depending on the instrument and the engine, we can also ask for other results; in this case, we can ask for Greeks."
   ]
  },
  {
   "cell_type": "code",
   "execution_count": 10,
   "metadata": {
    "execution": {
     "iopub.execute_input": "2022-02-01T20:51:37.263619Z",
     "iopub.status.busy": "2022-02-01T20:51:37.263619Z",
     "iopub.status.idle": "2022-02-01T20:51:37.279210Z",
     "shell.execute_reply": "2022-02-01T20:51:37.278621Z",
     "shell.execute_reply.started": "2022-02-01T20:51:37.263619Z"
    }
   },
   "outputs": [
    {
     "name": "stdout",
     "output_type": "stream",
     "text": [
      "0.5302223303784392\n",
      "0.03934493301271913\n",
      "20.109632428723106\n"
     ]
    }
   ],
   "source": [
    "print(option.delta())\n",
    "print(option.gamma())\n",
    "print(option.vega())"
   ]
  },
  {
   "cell_type": "markdown",
   "metadata": {},
   "source": [
    "#### Market changes"
   ]
  },
  {
   "cell_type": "markdown",
   "metadata": {},
   "source": [
    "As I mentioned, market data are stored in `Quote` instances and thus can notify the option when any of them changes.  We don't have to do anything explicitly to tell the option to recalculate: once we set a new value to the underlying, we can simply ask the option for its NPV again and we'll get the updated value."
   ]
  },
  {
   "cell_type": "code",
   "execution_count": 11,
   "metadata": {
    "execution": {
     "iopub.execute_input": "2022-02-01T20:51:37.279210Z",
     "iopub.status.busy": "2022-02-01T20:51:37.279210Z",
     "iopub.status.idle": "2022-02-01T20:51:37.294189Z",
     "shell.execute_reply": "2022-02-01T20:51:37.294189Z",
     "shell.execute_reply.started": "2022-02-01T20:51:37.279210Z"
    }
   },
   "outputs": [
    {
     "name": "stdout",
     "output_type": "stream",
     "text": [
      "7.27556357927846\n"
     ]
    }
   ],
   "source": [
    "u.setValue(105.0)\n",
    "print(option.NPV())"
   ]
  },
  {
   "cell_type": "markdown",
   "metadata": {},
   "source": [
    "Just for showing off, we can use this to graph the option value depending on the underlying asset value.  After a bit of graphic setup (don't pay attention to the man behind the curtains)..."
   ]
  },
  {
   "cell_type": "code",
   "execution_count": 12,
   "metadata": {
    "execution": {
     "iopub.execute_input": "2022-02-01T20:51:37.295187Z",
     "iopub.status.busy": "2022-02-01T20:51:37.295187Z",
     "iopub.status.idle": "2022-02-01T20:51:37.920187Z",
     "shell.execute_reply": "2022-02-01T20:51:37.920187Z",
     "shell.execute_reply.started": "2022-02-01T20:51:37.295187Z"
    }
   },
   "outputs": [],
   "source": [
    "%matplotlib inline\n",
    "import numpy as np\n",
    "from IPython.display import display\n",
    "import utils"
   ]
  },
  {
   "cell_type": "markdown",
   "metadata": {},
   "source": [
    "...we can take an array of values from 80 to 120, set the underlying value to each of them, collect the corresponding option values, and plot the results."
   ]
  },
  {
   "cell_type": "code",
   "execution_count": 13,
   "metadata": {
    "execution": {
     "iopub.execute_input": "2022-02-01T20:51:37.920187Z",
     "iopub.status.busy": "2022-02-01T20:51:37.920187Z",
     "iopub.status.idle": "2022-02-01T20:51:38.031693Z",
     "shell.execute_reply": "2022-02-01T20:51:38.031693Z",
     "shell.execute_reply.started": "2022-02-01T20:51:37.920187Z"
    }
   },
   "outputs": [
    {
     "data": {
      "image/png": "[encoded data removed]",
      "text/plain": [
       "<Figure size 864x576 with 1 Axes>"
      ]
     },
     "metadata": {
      "needs_background": "light"
     },
     "output_type": "display_data"
    }
   ],
   "source": [
    "f, ax = utils.plot()\n",
    "xs = np.linspace(80.0, 120.0, 400)\n",
    "ys = []\n",
    "for x in xs:\n",
    "    u.setValue(x)\n",
    "    ys.append(option.NPV())\n",
    "ax.set_title('Option value')\n",
    "utils.highlight_x_axis(ax)\n",
    "ax.plot(xs, ys);"
   ]
  },
  {
   "cell_type": "markdown",
   "metadata": {},
   "source": [
    "Other market data also affect the value, of course."
   ]
  },
  {
   "cell_type": "code",
   "execution_count": 14,
   "metadata": {
    "execution": {
     "iopub.execute_input": "2022-02-01T20:51:38.032690Z",
     "iopub.status.busy": "2022-02-01T20:51:38.032690Z",
     "iopub.status.idle": "2022-02-01T20:51:38.049532Z",
     "shell.execute_reply": "2022-02-01T20:51:38.049532Z",
     "shell.execute_reply.started": "2022-02-01T20:51:38.032690Z"
    }
   },
   "outputs": [],
   "source": [
    "u.setValue(105.0)\n",
    "r.setValue(0.01)\n",
    "sigma.setValue(0.20)"
   ]
  },
  {
   "cell_type": "code",
   "execution_count": 15,
   "metadata": {
    "execution": {
     "iopub.execute_input": "2022-02-01T20:51:38.049532Z",
     "iopub.status.busy": "2022-02-01T20:51:38.049532Z",
     "iopub.status.idle": "2022-02-01T20:51:38.064690Z",
     "shell.execute_reply": "2022-02-01T20:51:38.064690Z",
     "shell.execute_reply.started": "2022-02-01T20:51:38.049532Z"
    }
   },
   "outputs": [
    {
     "name": "stdout",
     "output_type": "stream",
     "text": [
      "7.27556357927846\n"
     ]
    }
   ],
   "source": [
    "print(option.NPV())"
   ]
  },
  {
   "cell_type": "markdown",
   "metadata": {},
   "source": [
    "We can see it when we change the risk-free rate..."
   ]
  },
  {
   "cell_type": "code",
   "execution_count": 16,
   "metadata": {
    "execution": {
     "iopub.execute_input": "2022-02-01T20:51:38.065688Z",
     "iopub.status.busy": "2022-02-01T20:51:38.065688Z",
     "iopub.status.idle": "2022-02-01T20:51:38.081627Z",
     "shell.execute_reply": "2022-02-01T20:51:38.080620Z",
     "shell.execute_reply.started": "2022-02-01T20:51:38.065688Z"
    }
   },
   "outputs": [],
   "source": [
    "r.setValue(0.03)"
   ]
  },
  {
   "cell_type": "code",
   "execution_count": 17,
   "metadata": {
    "execution": {
     "iopub.execute_input": "2022-02-01T20:51:38.081627Z",
     "iopub.status.busy": "2022-02-01T20:51:38.081627Z",
     "iopub.status.idle": "2022-02-01T20:51:38.095590Z",
     "shell.execute_reply": "2022-02-01T20:51:38.095590Z",
     "shell.execute_reply.started": "2022-02-01T20:51:38.081627Z"
    }
   },
   "outputs": [
    {
     "name": "stdout",
     "output_type": "stream",
     "text": [
      "7.624029148527754\n"
     ]
    }
   ],
   "source": [
    "print(option.NPV())"
   ]
  },
  {
   "cell_type": "markdown",
   "metadata": {},
   "source": [
    "...or the volatility."
   ]
  },
  {
   "cell_type": "code",
   "execution_count": 18,
   "metadata": {
    "execution": {
     "iopub.execute_input": "2022-02-01T20:51:38.096587Z",
     "iopub.status.busy": "2022-02-01T20:51:38.096587Z",
     "iopub.status.idle": "2022-02-01T20:51:38.111234Z",
     "shell.execute_reply": "2022-02-01T20:51:38.111234Z",
     "shell.execute_reply.started": "2022-02-01T20:51:38.096587Z"
    }
   },
   "outputs": [],
   "source": [
    "sigma.setValue(0.25)"
   ]
  },
  {
   "cell_type": "code",
   "execution_count": 19,
   "metadata": {
    "execution": {
     "iopub.execute_input": "2022-02-01T20:51:38.112228Z",
     "iopub.status.busy": "2022-02-01T20:51:38.112228Z",
     "iopub.status.idle": "2022-02-01T20:51:38.126674Z",
     "shell.execute_reply": "2022-02-01T20:51:38.126674Z",
     "shell.execute_reply.started": "2022-02-01T20:51:38.112228Z"
    }
   },
   "outputs": [
    {
     "name": "stdout",
     "output_type": "stream",
     "text": [
      "8.531296969971573\n"
     ]
    }
   ],
   "source": [
    "print(option.NPV())"
   ]
  },
  {
   "cell_type": "markdown",
   "metadata": {},
   "source": [
    "#### Date changes"
   ]
  },
  {
   "cell_type": "markdown",
   "metadata": {},
   "source": [
    "Just as it does when inputs are modified, the value also changes if we advance the evaluation date.  Let's look first at the value of the option when its underlying is worth 105 and there's still three months to exercise..."
   ]
  },
  {
   "cell_type": "code",
   "execution_count": 20,
   "metadata": {
    "execution": {
     "iopub.execute_input": "2022-02-01T20:51:38.127673Z",
     "iopub.status.busy": "2022-02-01T20:51:38.127673Z",
     "iopub.status.idle": "2022-02-01T20:51:38.142676Z",
     "shell.execute_reply": "2022-02-01T20:51:38.142676Z",
     "shell.execute_reply.started": "2022-02-01T20:51:38.127673Z"
    }
   },
   "outputs": [
    {
     "name": "stdout",
     "output_type": "stream",
     "text": [
      "7.27556357927846\n"
     ]
    }
   ],
   "source": [
    "u.setValue(105.0)\n",
    "r.setValue(0.01)\n",
    "sigma.setValue(0.20)\n",
    "print(option.NPV())"
   ]
  },
  {
   "cell_type": "markdown",
   "metadata": {},
   "source": [
    "...and then move to a date two months before exercise."
   ]
  },
  {
   "cell_type": "code",
   "execution_count": 21,
   "metadata": {
    "execution": {
     "iopub.execute_input": "2022-02-01T20:51:38.143630Z",
     "iopub.status.busy": "2022-02-01T20:51:38.143630Z",
     "iopub.status.idle": "2022-02-01T20:51:38.158650Z",
     "shell.execute_reply": "2022-02-01T20:51:38.158650Z",
     "shell.execute_reply.started": "2022-02-01T20:51:38.143630Z"
    }
   },
   "outputs": [],
   "source": [
    "ql.Settings.instance().evaluationDate = ql.Date(7, ql.April, 2014)"
   ]
  },
  {
   "cell_type": "markdown",
   "metadata": {},
   "source": [
    "Again, we don't have to do anything explicitly: we just ask the option its value, and as expected it has decreased, as can also be seen by updating the plot."
   ]
  },
  {
   "cell_type": "code",
   "execution_count": 22,
   "metadata": {
    "execution": {
     "iopub.execute_input": "2022-02-01T20:51:38.159514Z",
     "iopub.status.busy": "2022-02-01T20:51:38.159514Z",
     "iopub.status.idle": "2022-02-01T20:51:38.174616Z",
     "shell.execute_reply": "2022-02-01T20:51:38.174616Z",
     "shell.execute_reply.started": "2022-02-01T20:51:38.159514Z"
    }
   },
   "outputs": [
    {
     "name": "stdout",
     "output_type": "stream",
     "text": [
      "6.560073820974377\n"
     ]
    }
   ],
   "source": [
    "print(option.NPV())"
   ]
  },
  {
   "cell_type": "code",
   "execution_count": 23,
   "metadata": {
    "execution": {
     "iopub.execute_input": "2022-02-01T20:51:38.175524Z",
     "iopub.status.busy": "2022-02-01T20:51:38.175524Z",
     "iopub.status.idle": "2022-02-01T20:51:38.244422Z",
     "shell.execute_reply": "2022-02-01T20:51:38.244422Z",
     "shell.execute_reply.started": "2022-02-01T20:51:38.175524Z"
    }
   },
   "outputs": [
    {
     "data": {
      "image/png": "[encoded data removed]",
      "text/plain": [
       "<Figure size 864x576 with 1 Axes>"
      ]
     },
     "metadata": {},
     "output_type": "display_data"
    }
   ],
   "source": [
    "ys = []\n",
    "for x in xs:\n",
    "    u.setValue(x)\n",
    "    ys.append(option.NPV())\n",
    "ax.plot(xs, ys, '--')\n",
    "display(f)"
   ]
  },
  {
   "cell_type": "markdown",
   "metadata": {},
   "source": [
    "In the default library configuration, the returned value goes down to 0 when we reach the exercise date."
   ]
  },
  {
   "cell_type": "code",
   "execution_count": 24,
   "metadata": {
    "execution": {
     "iopub.execute_input": "2022-02-01T20:51:38.245457Z",
     "iopub.status.busy": "2022-02-01T20:51:38.245457Z",
     "iopub.status.idle": "2022-02-01T20:51:38.260206Z",
     "shell.execute_reply": "2022-02-01T20:51:38.260206Z",
     "shell.execute_reply.started": "2022-02-01T20:51:38.245457Z"
    }
   },
   "outputs": [],
   "source": [
    "ql.Settings.instance().evaluationDate = ql.Date(7, ql.June, 2014)"
   ]
  },
  {
   "cell_type": "code",
   "execution_count": 25,
   "metadata": {
    "execution": {
     "iopub.execute_input": "2022-02-01T20:51:38.261205Z",
     "iopub.status.busy": "2022-02-01T20:51:38.261205Z",
     "iopub.status.idle": "2022-02-01T20:51:38.268198Z",
     "shell.execute_reply": "2022-02-01T20:51:38.268198Z",
     "shell.execute_reply.started": "2022-02-01T20:51:38.261205Z"
    }
   },
   "outputs": [
    {
     "name": "stdout",
     "output_type": "stream",
     "text": [
      "0.0\n"
     ]
    }
   ],
   "source": [
    "print(option.NPV())"
   ]
  },
  {
   "cell_type": "markdown",
   "metadata": {},
   "source": [
    "#### Other pricing methods"
   ]
  },
  {
   "cell_type": "markdown",
   "metadata": {},
   "source": [
    "The pricing-engine mechanism allows us to use different pricing methods.  For comparison, I'll first set the input data back to what they were previously and output the Black-Scholes price."
   ]
  },
  {
   "cell_type": "code",
   "execution_count": 26,
   "metadata": {
    "execution": {
     "iopub.execute_input": "2022-02-01T20:51:38.269199Z",
     "iopub.status.busy": "2022-02-01T20:51:38.269199Z",
     "iopub.status.idle": "2022-02-01T20:51:38.283961Z",
     "shell.execute_reply": "2022-02-01T20:51:38.283961Z",
     "shell.execute_reply.started": "2022-02-01T20:51:38.269199Z"
    }
   },
   "outputs": [],
   "source": [
    "ql.Settings.instance().evaluationDate = today\n",
    "u.setValue(105.0)\n",
    "r.setValue(0.01)\n",
    "sigma.setValue(0.20)"
   ]
  },
  {
   "cell_type": "code",
   "execution_count": 27,
   "metadata": {
    "execution": {
     "iopub.execute_input": "2022-02-01T20:51:38.284833Z",
     "iopub.status.busy": "2022-02-01T20:51:38.284833Z",
     "iopub.status.idle": "2022-02-01T20:51:38.299920Z",
     "shell.execute_reply": "2022-02-01T20:51:38.299920Z",
     "shell.execute_reply.started": "2022-02-01T20:51:38.284833Z"
    }
   },
   "outputs": [
    {
     "name": "stdout",
     "output_type": "stream",
     "text": [
      "7.27556357927846\n"
     ]
    }
   ],
   "source": [
    "print(option.NPV())"
   ]
  },
  {
   "cell_type": "markdown",
   "metadata": {},
   "source": [
    "Let's say that we want to use a Heston model to price the option.  What we have to do is to instantiate the corresponding class with the desired inputs..."
   ]
  },
  {
   "cell_type": "code",
   "execution_count": 28,
   "metadata": {
    "execution": {
     "iopub.execute_input": "2022-02-01T20:51:38.300887Z",
     "iopub.status.busy": "2022-02-01T20:51:38.300887Z",
     "iopub.status.idle": "2022-02-01T20:51:38.315693Z",
     "shell.execute_reply": "2022-02-01T20:51:38.315079Z",
     "shell.execute_reply.started": "2022-02-01T20:51:38.300887Z"
    }
   },
   "outputs": [],
   "source": [
    "model = ql.HestonModel(\n",
    "    ql.HestonProcess(\n",
    "        ql.YieldTermStructureHandle(riskFreeCurve),\n",
    "        ql.YieldTermStructureHandle(ql.FlatForward(0, ql.TARGET(),\n",
    "                                                   0.0, ql.Actual360())),\n",
    "        ql.QuoteHandle(u),\n",
    "        0.04, 0.1, 0.01, 0.05, -0.75))"
   ]
  },
  {
   "cell_type": "markdown",
   "metadata": {},
   "source": [
    "...pass it to the corresponding engine, and set the new engine to the option."
   ]
  },
  {
   "cell_type": "code",
   "execution_count": 29,
   "metadata": {
    "execution": {
     "iopub.execute_input": "2022-02-01T20:51:38.315693Z",
     "iopub.status.busy": "2022-02-01T20:51:38.315693Z",
     "iopub.status.idle": "2022-02-01T20:51:38.330672Z",
     "shell.execute_reply": "2022-02-01T20:51:38.330370Z",
     "shell.execute_reply.started": "2022-02-01T20:51:38.315693Z"
    }
   },
   "outputs": [],
   "source": [
    "engine = ql.AnalyticHestonEngine(model)\n",
    "option.setPricingEngine(engine)"
   ]
  },
  {
   "cell_type": "markdown",
   "metadata": {},
   "source": [
    "Asking the option for its NPV will now return the value according to the new model."
   ]
  },
  {
   "cell_type": "code",
   "execution_count": 30,
   "metadata": {
    "execution": {
     "iopub.execute_input": "2022-02-01T20:51:38.331671Z",
     "iopub.status.busy": "2022-02-01T20:51:38.331671Z",
     "iopub.status.idle": "2022-02-01T20:51:38.345635Z",
     "shell.execute_reply": "2022-02-01T20:51:38.345635Z",
     "shell.execute_reply.started": "2022-02-01T20:51:38.331671Z"
    }
   },
   "outputs": [
    {
     "name": "stdout",
     "output_type": "stream",
     "text": [
      "7.295356086978643\n"
     ]
    }
   ],
   "source": [
    "print(option.NPV())"
   ]
  },
  {
   "cell_type": "markdown",
   "metadata": {},
   "source": [
    "#### Lazy recalculation"
   ]
  },
  {
   "cell_type": "markdown",
   "metadata": {},
   "source": [
    "One last thing.  Up to now, we haven't really seen evidence of notifications going around.  After all, the instrument might just have recalculated its value every time, regardless of notifications.  What I'm going to show, instead, is that the option doesn't just recalculate every time anything changes; it also avoids recalculations when nothing has changed."
   ]
  },
  {
   "cell_type": "markdown",
   "metadata": {},
   "source": [
    "We'll switch to a Monte Carlo engine, which takes a few seconds to run the required simulation."
   ]
  },
  {
   "cell_type": "code",
   "execution_count": 31,
   "metadata": {
    "execution": {
     "iopub.execute_input": "2022-02-01T20:51:38.346631Z",
     "iopub.status.busy": "2022-02-01T20:51:38.346631Z",
     "iopub.status.idle": "2022-02-01T20:51:38.360757Z",
     "shell.execute_reply": "2022-02-01T20:51:38.360757Z",
     "shell.execute_reply.started": "2022-02-01T20:51:38.346631Z"
    }
   },
   "outputs": [],
   "source": [
    "engine = ql.MCEuropeanEngine(process, \"PseudoRandom\",\n",
    "                             timeSteps=20,\n",
    "                             requiredSamples=250000)\n",
    "option.setPricingEngine(engine)"
   ]
  },
  {
   "cell_type": "markdown",
   "metadata": {},
   "source": [
    "When we ask for the option value, we have to wait for the calculation to finish..."
   ]
  },
  {
   "cell_type": "code",
   "execution_count": 32,
   "metadata": {
    "execution": {
     "iopub.execute_input": "2022-02-01T20:51:38.361754Z",
     "iopub.status.busy": "2022-02-01T20:51:38.361754Z",
     "iopub.status.idle": "2022-02-01T20:51:39.245867Z",
     "shell.execute_reply": "2022-02-01T20:51:39.245867Z",
     "shell.execute_reply.started": "2022-02-01T20:51:38.361754Z"
    }
   },
   "outputs": [
    {
     "name": "stdout",
     "output_type": "stream",
     "text": [
      "7.258559756492735\n",
      "CPU times: total: 859 ms\n",
      "Wall time: 866 ms\n"
     ]
    }
   ],
   "source": [
    "%time print(option.NPV())"
   ]
  },
  {
   "cell_type": "markdown",
   "metadata": {},
   "source": [
    "...but a second call to the `NPV` method will be instantaneous when made before anything changes.  In this case, the option didn't calculate its value; it just returned the result that it cached from the previous call."
   ]
  },
  {
   "cell_type": "code",
   "execution_count": 33,
   "metadata": {
    "execution": {
     "iopub.execute_input": "2022-02-01T20:51:39.246833Z",
     "iopub.status.busy": "2022-02-01T20:51:39.246833Z",
     "iopub.status.idle": "2022-02-01T20:51:39.261904Z",
     "shell.execute_reply": "2022-02-01T20:51:39.261904Z",
     "shell.execute_reply.started": "2022-02-01T20:51:39.246833Z"
    }
   },
   "outputs": [
    {
     "name": "stdout",
     "output_type": "stream",
     "text": [
      "7.258559756492735\n",
      "CPU times: total: 0 ns\n",
      "Wall time: 0 ns\n"
     ]
    }
   ],
   "source": [
    "%time print(option.NPV())"
   ]
  },
  {
   "cell_type": "markdown",
   "metadata": {},
   "source": [
    "If we change anything (e.g., the underlying value)..."
   ]
  },
  {
   "cell_type": "code",
   "execution_count": 34,
   "metadata": {
    "execution": {
     "iopub.execute_input": "2022-02-01T20:51:39.262892Z",
     "iopub.status.busy": "2022-02-01T20:51:39.262892Z",
     "iopub.status.idle": "2022-02-01T20:51:39.277211Z",
     "shell.execute_reply": "2022-02-01T20:51:39.277211Z",
     "shell.execute_reply.started": "2022-02-01T20:51:39.262892Z"
    }
   },
   "outputs": [],
   "source": [
    "u.setValue(104.0)"
   ]
  },
  {
   "cell_type": "markdown",
   "metadata": {},
   "source": [
    "...the option is notified of the change, and the next call to `NPV` will again take a while."
   ]
  },
  {
   "cell_type": "code",
   "execution_count": 35,
   "metadata": {
    "execution": {
     "iopub.execute_input": "2022-02-01T20:51:39.278081Z",
     "iopub.status.busy": "2022-02-01T20:51:39.278081Z",
     "iopub.status.idle": "2022-02-01T20:51:40.170639Z",
     "shell.execute_reply": "2022-02-01T20:51:40.170639Z",
     "shell.execute_reply.started": "2022-02-01T20:51:39.278081Z"
    },
    "tags": []
   },
   "outputs": [
    {
     "name": "stdout",
     "output_type": "stream",
     "text": [
      "6.57876881310478\n",
      "CPU times: total: 859 ms\n",
      "Wall time: 860 ms\n"
     ]
    }
   ],
   "source": [
    "%time print(option.NPV())"
   ]
  }
 ],
 "metadata": {
  "kernelspec": {
   "display_name": "Python 3 (ipykernel)",
   "language": "python",
   "name": "python3"
  },
  "language_info": {
   "codemirror_mode": {
    "name": "ipython",
    "version": 3
   },
   "file_extension": ".py",
   "mimetype": "text/x-python",
   "name": "python",
   "nbconvert_exporter": "python",
   "pygments_lexer": "ipython3",
   "version": "3.8.10"
  }
 },
 "nbformat": 4,
 "nbformat_minor": 4
}
{
 "cells": [
  {
   "cell_type": "markdown",
   "id": "07c3037b",
   "metadata": {},
   "source": [
    "# American options\n",
    "\n",
    "Copyright (&copy;) 2004, 2005, 2006, 2007 StatPro Italia srl\n",
    "\n",
    "This file is part of QuantLib, a free-software/open-source library\n",
    "for financial quantitative analysts and developers - https://www.quantlib.org/\n",
    "\n",
    "QuantLib is free software: you can redistribute it and/or modify it under the\n",
    "terms of the QuantLib license.  You should have received a copy of the\n",
    "license along with this program; if not, please email\n",
    "<quantlib-dev@lists.sf.net>. The license is also available online at\n",
    "<https://www.quantlib.org/license.shtml>.\n",
    "\n",
    "This program is distributed in the hope that it will be useful, but WITHOUT\n",
    "ANY WARRANTY; without even the implied warranty of MERCHANTABILITY or FITNESS\n",
    "FOR A PARTICULAR PURPOSE.  See the license for more details."
   ]
  },
  {
   "cell_type": "code",
   "execution_count": null,
   "id": "56914a5e",
   "metadata": {},
   "outputs": [],
   "source": [
    "import QuantLib as ql\n",
    "import pandas as pd"
   ]
  },
  {
   "cell_type": "markdown",
   "id": "54337844",
   "metadata": {},
   "source": [
    "### Global parameters"
   ]
  },
  {
   "cell_type": "code",
   "execution_count": null,
   "id": "6629e2b6",
   "metadata": {},
   "outputs": [],
   "source": [
    "todaysDate = ql.Date(15, ql.May, 1998)\n",
    "ql.Settings.instance().evaluationDate = todaysDate"
   ]
  },
  {
   "cell_type": "code",
   "execution_count": null,
   "id": "7352e7b7",
   "metadata": {},
   "outputs": [],
   "source": [
    "interactive = \"get_ipython\" in globals()"
   ]
  },
  {
   "cell_type": "markdown",
   "id": "da3d0f05",
   "metadata": {},
   "source": [
    "### Option construction"
   ]
  },
  {
   "cell_type": "code",
   "execution_count": null,
   "id": "1614e53d",
   "metadata": {},
   "outputs": [],
   "source": [
    "exercise = ql.AmericanExercise(todaysDate, ql.Date(17, ql.May, 1999))\n",
    "payoff = ql.PlainVanillaPayoff(ql.Option.Put, 40.0)"
   ]
  },
  {
   "cell_type": "code",
   "execution_count": null,
   "id": "534d1431",
   "metadata": {},
   "outputs": [],
   "source": [
    "option = ql.VanillaOption(payoff, exercise)"
   ]
  },
  {
   "cell_type": "markdown",
   "id": "afe03aff",
   "metadata": {},
   "source": [
    "### Market data"
   ]
  },
  {
   "cell_type": "code",
   "execution_count": null,
   "id": "5f167acd",
   "metadata": {},
   "outputs": [],
   "source": [
    "underlying = ql.SimpleQuote(36.0)\n",
    "dividendYield = ql.FlatForward(todaysDate, 0.00, ql.Actual365Fixed())\n",
    "volatility = ql.BlackConstantVol(todaysDate, ql.TARGET(), 0.20, ql.Actual365Fixed())\n",
    "riskFreeRate = ql.FlatForward(todaysDate, 0.06, ql.Actual365Fixed())"
   ]
  },
  {
   "cell_type": "code",
   "execution_count": null,
   "id": "5f197bbc",
   "metadata": {},
   "outputs": [],
   "source": [
    "process = ql.BlackScholesMertonProcess(\n",
    "    ql.QuoteHandle(underlying),\n",
    "    ql.YieldTermStructureHandle(dividendYield),\n",
    "    ql.YieldTermStructureHandle(riskFreeRate),\n",
    "    ql.BlackVolTermStructureHandle(volatility),\n",
    ")"
   ]
  },
  {
   "cell_type": "markdown",
   "id": "246cc833",
   "metadata": {},
   "source": [
    "### Pricing\n",
    "\n",
    "We'll collect tuples of method name, option value, and estimated error from the analytic formula."
   ]
  },
  {
   "cell_type": "code",
   "execution_count": null,
   "id": "d231c674",
   "metadata": {},
   "outputs": [],
   "source": [
    "results = []"
   ]
  },
  {
   "cell_type": "markdown",
   "id": "8d4536d5",
   "metadata": {},
   "source": [
    "#### Analytic approximations"
   ]
  },
  {
   "cell_type": "code",
   "execution_count": null,
   "id": "2341f0ab",
   "metadata": {},
   "outputs": [],
   "source": [
    "option.setPricingEngine(ql.BaroneAdesiWhaleyApproximationEngine(process))\n",
    "results.append((\"Barone-Adesi-Whaley\", option.NPV()))"
   ]
  },
  {
   "cell_type": "code",
   "execution_count": null,
   "id": "48f897e0",
   "metadata": {},
   "outputs": [],
   "source": [
    "option.setPricingEngine(ql.BjerksundStenslandApproximationEngine(process))\n",
    "results.append((\"Bjerksund-Stensland\", option.NPV()))"
   ]
  },
  {
   "cell_type": "markdown",
   "id": "c70d7834",
   "metadata": {},
   "source": [
    "#### Finite-difference method"
   ]
  },
  {
   "cell_type": "code",
   "execution_count": null,
   "id": "56a23603",
   "metadata": {},
   "outputs": [],
   "source": [
    "timeSteps = 801\n",
    "gridPoints = 800"
   ]
  },
  {
   "cell_type": "code",
   "execution_count": null,
   "id": "37085327",
   "metadata": {},
   "outputs": [],
   "source": [
    "option.setPricingEngine(ql.FdBlackScholesVanillaEngine(process, timeSteps, gridPoints))\n",
    "results.append((\"finite differences\", option.NPV()))"
   ]
  },
  {
   "cell_type": "markdown",
   "id": "2ca1d593",
   "metadata": {},
   "source": [
    "#### Binomial method"
   ]
  },
  {
   "cell_type": "code",
   "execution_count": null,
   "id": "3ec0683e",
   "metadata": {},
   "outputs": [],
   "source": [
    "timeSteps = 801"
   ]
  },
  {
   "cell_type": "code",
   "execution_count": null,
   "id": "ff4ed034",
   "metadata": {},
   "outputs": [],
   "source": [
    "for tree in [\"JR\", \"CRR\", \"EQP\", \"Trigeorgis\", \"Tian\", \"LR\", \"Joshi4\"]:\n",
    "    option.setPricingEngine(ql.BinomialVanillaEngine(process, tree, timeSteps))\n",
    "    results.append((\"Binomial (%s)\" % tree, option.NPV()))"
   ]
  },
  {
   "cell_type": "markdown",
   "id": "e1183dca",
   "metadata": {},
   "source": [
    "### Results"
   ]
  },
  {
   "cell_type": "code",
   "execution_count": null,
   "id": "3e16ee70",
   "metadata": {},
   "outputs": [],
   "source": [
    "df = pd.DataFrame(results, columns=[\"Method\", \"Option value\"])\n",
    "df.style.hide_index()"
   ]
  },
  {
   "cell_type": "markdown",
   "id": "42b91de7",
   "metadata": {},
   "source": [
    "The following displays the results when this is run as a Python script (in which case the cell above is not displayed)."
   ]
  },
  {
   "cell_type": "code",
   "execution_count": null,
   "id": "a88a7138",
   "metadata": {},
   "outputs": [],
   "source": [
    "if not interactive:\n",
    "    print(df)"
   ]
  }
 ],
 "metadata": {
  "kernelspec": {
   "display_name": "Python 3",
   "language": "python",
   "name": "python3"
  }
 },
 "nbformat": 4,
 "nbformat_minor": 5
}

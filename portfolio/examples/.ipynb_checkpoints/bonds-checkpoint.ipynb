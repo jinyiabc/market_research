{
 "cells": [
  {
   "cell_type": "markdown",
   "id": "aaa40756",
   "metadata": {},
   "source": [
    "# Bonds\n",
    "\n",
    "Copyright (&copy;) 2008 Florent Grenier\n",
    "Copyright (&copy;) 2010 Lluis Pujol Bajador\n",
    "\n",
    "This file is part of QuantLib, a free-software/open-source library\n",
    "for financial quantitative analysts and developers - https://www.quantlib.org/\n",
    "\n",
    "QuantLib is free software: you can redistribute it and/or modify it\n",
    "under the terms of the QuantLib license.  You should have received a\n",
    "copy of the license along with this program; if not, please email\n",
    "<quantlib-dev@lists.sf.net>. The license is also available online at\n",
    "<https://www.quantlib.org/license.shtml>.\n",
    "\n",
    "This program is distributed in the hope that it will be useful, but WITHOUT\n",
    "ANY WARRANTY; without even the implied warranty of MERCHANTABILITY or FITNESS\n",
    "FOR A PARTICULAR PURPOSE.  See the license for more details."
   ]
  },
  {
   "cell_type": "markdown",
   "id": "a7451a17",
   "metadata": {},
   "source": [
    "   This example shows how to set up a term structure and then price\n",
    "   some simple bonds. The last part is dedicated to peripherical\n",
    "   computations such as \"Yield to Price\" or \"Price to Yield\""
   ]
  },
  {
   "cell_type": "code",
   "execution_count": null,
   "id": "2040b8cf",
   "metadata": {},
   "outputs": [],
   "source": [
    "import QuantLib as ql\n",
    "import pandas as pd"
   ]
  },
  {
   "cell_type": "code",
   "execution_count": null,
   "id": "f0ae8580",
   "metadata": {},
   "outputs": [],
   "source": [
    "interactive = 'get_ipython' in globals()"
   ]
  },
  {
   "cell_type": "markdown",
   "id": "19b2f843",
   "metadata": {},
   "source": [
    "### Global data"
   ]
  },
  {
   "cell_type": "code",
   "execution_count": null,
   "id": "919f3dde",
   "metadata": {},
   "outputs": [],
   "source": [
    "calendar = ql.TARGET()\n",
    "settlementDate = ql.Date(18, ql.September, 2008)\n",
    "settlementDate = calendar.adjust(settlementDate)"
   ]
  },
  {
   "cell_type": "code",
   "execution_count": null,
   "id": "d7eb352c",
   "metadata": {},
   "outputs": [],
   "source": [
    "fixingDays = 3\n",
    "settlementDays = 3"
   ]
  },
  {
   "cell_type": "code",
   "execution_count": null,
   "id": "489edd88",
   "metadata": {},
   "outputs": [],
   "source": [
    "todaysDate = calendar.advance(settlementDate, -fixingDays, ql.Days)\n",
    "ql.Settings.instance().evaluationDate = todaysDate"
   ]
  },
  {
   "cell_type": "code",
   "execution_count": null,
   "id": "9f458a28",
   "metadata": {},
   "outputs": [],
   "source": [
    "print(\"Today: \" + str(todaysDate))\n",
    "print(\"Settlement Date: \" + str(settlementDate))"
   ]
  },
  {
   "cell_type": "markdown",
   "id": "b9e6e2b5",
   "metadata": {},
   "source": [
    "### Market quotes"
   ]
  },
  {
   "cell_type": "code",
   "execution_count": null,
   "id": "ac502745",
   "metadata": {},
   "outputs": [],
   "source": [
    "zcQuotes = [(0.0096, ql.Period(3, ql.Months)), (0.0145, ql.Period(6, ql.Months)), (0.0194, ql.Period(1, ql.Years))]"
   ]
  },
  {
   "cell_type": "code",
   "execution_count": null,
   "id": "84dd0f0c",
   "metadata": {},
   "outputs": [],
   "source": [
    "zcBondsDayCounter = ql.Actual365Fixed()"
   ]
  },
  {
   "cell_type": "code",
   "execution_count": null,
   "id": "d3c928b5",
   "metadata": {},
   "outputs": [],
   "source": [
    "zcHelpers = [\n",
    "    ql.DepositRateHelper(\n",
    "        ql.QuoteHandle(ql.SimpleQuote(r)), tenor, fixingDays, calendar, ql.ModifiedFollowing, True, zcBondsDayCounter\n",
    "    )\n",
    "    for (r, tenor) in zcQuotes\n",
    "]"
   ]
  },
  {
   "cell_type": "markdown",
   "id": "a51e890b",
   "metadata": {},
   "source": [
    "### Setup bonds"
   ]
  },
  {
   "cell_type": "code",
   "execution_count": null,
   "id": "b2f22d2b",
   "metadata": {},
   "outputs": [],
   "source": [
    "redemption = 100.0\n",
    "numberOfBonds = 5"
   ]
  },
  {
   "cell_type": "code",
   "execution_count": null,
   "id": "ffc2f888",
   "metadata": {},
   "outputs": [],
   "source": [
    "bondQuotes = [\n",
    "    (ql.Date(15, ql.March, 2005), ql.Date(31, ql.August, 2010), 0.02375, 100.390625),\n",
    "    (ql.Date(15, ql.June, 2005), ql.Date(31, ql.August, 2011), 0.04625, 106.21875),\n",
    "    (ql.Date(30, ql.June, 2006), ql.Date(31, ql.August, 2013), 0.03125, 100.59375),\n",
    "    (ql.Date(15, ql.November, 2002), ql.Date(15, ql.August, 2018), 0.04000, 101.6875),\n",
    "    (ql.Date(15, ql.May, 1987), ql.Date(15, ql.May, 2038), 0.04500, 102.140625),\n",
    "]"
   ]
  },
  {
   "cell_type": "markdown",
   "id": "ad21f8bd",
   "metadata": {},
   "source": [
    "### Definition of the rate helpers"
   ]
  },
  {
   "cell_type": "code",
   "execution_count": null,
   "id": "e032635b",
   "metadata": {},
   "outputs": [],
   "source": [
    "bondsHelpers = []"
   ]
  },
  {
   "cell_type": "code",
   "execution_count": null,
   "id": "70825ed9",
   "metadata": {},
   "outputs": [],
   "source": [
    "for issueDate, maturity, couponRate, marketQuote in bondQuotes:\n",
    "    schedule = ql.Schedule(\n",
    "        issueDate,\n",
    "        maturity,\n",
    "        ql.Period(ql.Semiannual),\n",
    "        ql.UnitedStates(ql.UnitedStates.GovernmentBond),\n",
    "        ql.Unadjusted,\n",
    "        ql.Unadjusted,\n",
    "        ql.DateGeneration.Backward,\n",
    "        False,\n",
    "    )\n",
    "    bondsHelpers.append(\n",
    "        ql.FixedRateBondHelper(\n",
    "            ql.QuoteHandle(ql.SimpleQuote(marketQuote)),\n",
    "            settlementDays,\n",
    "            100.0,\n",
    "            schedule,\n",
    "            [couponRate],\n",
    "            ql.ActualActual(ql.ActualActual.Bond),\n",
    "            ql.Unadjusted,\n",
    "            redemption,\n",
    "            issueDate,\n",
    "        )\n",
    "    )"
   ]
  },
  {
   "cell_type": "markdown",
   "id": "324aad0b",
   "metadata": {},
   "source": [
    "###  Curve building"
   ]
  },
  {
   "cell_type": "code",
   "execution_count": null,
   "id": "3e876eda",
   "metadata": {},
   "outputs": [],
   "source": [
    "termStructureDayCounter = ql.ActualActual(ql.ActualActual.ISDA)"
   ]
  },
  {
   "cell_type": "code",
   "execution_count": null,
   "id": "4a0a7c18",
   "metadata": {},
   "outputs": [],
   "source": [
    "bondInstruments = zcHelpers + bondsHelpers"
   ]
  },
  {
   "cell_type": "code",
   "execution_count": null,
   "id": "76e88ad0",
   "metadata": {},
   "outputs": [],
   "source": [
    "bondDiscountingTermStructure = ql.PiecewiseFlatForward(settlementDate, bondInstruments, termStructureDayCounter)"
   ]
  },
  {
   "cell_type": "markdown",
   "id": "c72365f3",
   "metadata": {},
   "source": [
    "### Building of the LIBOR forecasting curve"
   ]
  },
  {
   "cell_type": "code",
   "execution_count": null,
   "id": "23922d43",
   "metadata": {},
   "outputs": [],
   "source": [
    "dQuotes = [\n",
    "    (0.043375, ql.Period(1, ql.Weeks)),\n",
    "    (0.031875, ql.Period(1, ql.Months)),\n",
    "    (0.0320375, ql.Period(3, ql.Months)),\n",
    "    (0.03385, ql.Period(6, ql.Months)),\n",
    "    (0.0338125, ql.Period(9, ql.Months)),\n",
    "    (0.0335125, ql.Period(1, ql.Years)),\n",
    "]\n",
    "sQuotes = [\n",
    "    (0.0295, ql.Period(2, ql.Years)),\n",
    "    (0.0323, ql.Period(3, ql.Years)),\n",
    "    (0.0359, ql.Period(5, ql.Years)),\n",
    "    (0.0412, ql.Period(10, ql.Years)),\n",
    "    (0.0433, ql.Period(15, ql.Years)),\n",
    "]"
   ]
  },
  {
   "cell_type": "code",
   "execution_count": null,
   "id": "da08565f",
   "metadata": {},
   "outputs": [],
   "source": [
    "depositDayCounter = ql.Actual360()\n",
    "depositHelpers = [\n",
    "    ql.DepositRateHelper(\n",
    "        ql.QuoteHandle(ql.SimpleQuote(rate)), tenor, fixingDays, calendar, ql.ModifiedFollowing, True, depositDayCounter\n",
    "    )\n",
    "    for rate, tenor in dQuotes\n",
    "]"
   ]
  },
  {
   "cell_type": "code",
   "execution_count": null,
   "id": "0a5c09d6",
   "metadata": {},
   "outputs": [],
   "source": [
    "swFixedLegFrequency = ql.Annual\n",
    "swFixedLegConvention = ql.Unadjusted\n",
    "swFixedLegDayCounter = ql.Thirty360(ql.Thirty360.European)\n",
    "swFloatingLegIndex = ql.Euribor6M()\n",
    "forwardStart = ql.Period(1, ql.Days)\n",
    "swapHelpers = [\n",
    "    ql.SwapRateHelper(\n",
    "        ql.QuoteHandle(ql.SimpleQuote(rate)),\n",
    "        tenor,\n",
    "        calendar,\n",
    "        swFixedLegFrequency,\n",
    "        swFixedLegConvention,\n",
    "        swFixedLegDayCounter,\n",
    "        swFloatingLegIndex,\n",
    "        ql.QuoteHandle(),\n",
    "        forwardStart,\n",
    "    )\n",
    "    for rate, tenor in sQuotes\n",
    "]"
   ]
  },
  {
   "cell_type": "code",
   "execution_count": null,
   "id": "88807b19",
   "metadata": {},
   "outputs": [],
   "source": [
    "depoSwapInstruments = depositHelpers + swapHelpers"
   ]
  },
  {
   "cell_type": "code",
   "execution_count": null,
   "id": "0f535644",
   "metadata": {},
   "outputs": [],
   "source": [
    "depoSwapTermStructure = ql.PiecewiseFlatForward(settlementDate, depoSwapInstruments, termStructureDayCounter)"
   ]
  },
  {
   "cell_type": "markdown",
   "id": "2c977190",
   "metadata": {},
   "source": [
    "### Pricing\n",
    "\n",
    "Term structures that will be used for pricing:\n",
    "the one used for discounting cash flows..."
   ]
  },
  {
   "cell_type": "code",
   "execution_count": null,
   "id": "43e9b95d",
   "metadata": {},
   "outputs": [],
   "source": [
    "discountingTermStructure = ql.RelinkableYieldTermStructureHandle()"
   ]
  },
  {
   "cell_type": "markdown",
   "id": "ed2c09c8",
   "metadata": {},
   "source": [
    "...and the one used for forward rate forecasting."
   ]
  },
  {
   "cell_type": "code",
   "execution_count": null,
   "id": "268ce6cb",
   "metadata": {},
   "outputs": [],
   "source": [
    "forecastingTermStructure = ql.RelinkableYieldTermStructureHandle()"
   ]
  },
  {
   "cell_type": "markdown",
   "id": "85db6d34",
   "metadata": {},
   "source": [
    "Bonds to be priced:"
   ]
  },
  {
   "cell_type": "code",
   "execution_count": null,
   "id": "d1e3bfb3",
   "metadata": {},
   "outputs": [],
   "source": [
    "faceAmount = 100"
   ]
  },
  {
   "cell_type": "code",
   "execution_count": null,
   "id": "bb1c8889",
   "metadata": {},
   "outputs": [],
   "source": [
    "bondEngine = ql.DiscountingBondEngine(discountingTermStructure)"
   ]
  },
  {
   "cell_type": "markdown",
   "id": "eaa1fa61",
   "metadata": {},
   "source": [
    "a zero coupon bond..."
   ]
  },
  {
   "cell_type": "code",
   "execution_count": null,
   "id": "46f3fdb6",
   "metadata": {},
   "outputs": [],
   "source": [
    "zeroCouponBond = ql.ZeroCouponBond(\n",
    "    settlementDays,\n",
    "    ql.UnitedStates(ql.UnitedStates.GovernmentBond),\n",
    "    faceAmount,\n",
    "    ql.Date(15, ql.August, 2013),\n",
    "    ql.Following,\n",
    "    116.92,\n",
    "    ql.Date(15, ql.August, 2003),\n",
    ")"
   ]
  },
  {
   "cell_type": "code",
   "execution_count": null,
   "id": "3a2ac7aa",
   "metadata": {},
   "outputs": [],
   "source": [
    "zeroCouponBond.setPricingEngine(bondEngine)"
   ]
  },
  {
   "cell_type": "markdown",
   "id": "6f93424b",
   "metadata": {},
   "source": [
    "...a fixed 4.5% US Treasury note..."
   ]
  },
  {
   "cell_type": "code",
   "execution_count": null,
   "id": "f4376dda",
   "metadata": {},
   "outputs": [],
   "source": [
    "fixedBondSchedule = ql.Schedule(\n",
    "    ql.Date(15, ql.May, 2007),\n",
    "    ql.Date(15, ql.May, 2017),\n",
    "    ql.Period(ql.Semiannual),\n",
    "    ql.UnitedStates(ql.UnitedStates.GovernmentBond),\n",
    "    ql.Unadjusted,\n",
    "    ql.Unadjusted,\n",
    "    ql.DateGeneration.Backward,\n",
    "    False,\n",
    ")"
   ]
  },
  {
   "cell_type": "code",
   "execution_count": null,
   "id": "f7d234ad",
   "metadata": {},
   "outputs": [],
   "source": [
    "fixedRateBond = ql.FixedRateBond(\n",
    "    settlementDays,\n",
    "    faceAmount,\n",
    "    fixedBondSchedule,\n",
    "    [0.045],\n",
    "    ql.ActualActual(ql.ActualActual.Bond),\n",
    "    ql.ModifiedFollowing,\n",
    "    100.0,\n",
    "    ql.Date(15, ql.May, 2007),\n",
    ")"
   ]
  },
  {
   "cell_type": "code",
   "execution_count": null,
   "id": "609104f3",
   "metadata": {},
   "outputs": [],
   "source": [
    "fixedRateBond.setPricingEngine(bondEngine)"
   ]
  },
  {
   "cell_type": "markdown",
   "id": "15ba3148",
   "metadata": {},
   "source": [
    "...and a floating rate bond paying 3M USD Libor + 0.1%\n",
    "(should and will be priced on another curve later)."
   ]
  },
  {
   "cell_type": "code",
   "execution_count": null,
   "id": "df631bc2",
   "metadata": {},
   "outputs": [],
   "source": [
    "liborTermStructure = ql.RelinkableYieldTermStructureHandle()"
   ]
  },
  {
   "cell_type": "code",
   "execution_count": null,
   "id": "8e7a705f",
   "metadata": {},
   "outputs": [],
   "source": [
    "libor3m = ql.USDLibor(ql.Period(3, ql.Months), liborTermStructure)\n",
    "libor3m.addFixing(ql.Date(17, ql.April, 2008), 0.028175)\n",
    "libor3m.addFixing(ql.Date(17, ql.July, 2008), 0.0278625)"
   ]
  },
  {
   "cell_type": "code",
   "execution_count": null,
   "id": "59d0e294",
   "metadata": {},
   "outputs": [],
   "source": [
    "floatingBondSchedule = ql.Schedule(\n",
    "    ql.Date(21, ql.October, 2005),\n",
    "    ql.Date(21, ql.October, 2010),\n",
    "    ql.Period(ql.Quarterly),\n",
    "    ql.UnitedStates(ql.UnitedStates.NYSE),\n",
    "    ql.Unadjusted,\n",
    "    ql.Unadjusted,\n",
    "    ql.DateGeneration.Backward,\n",
    "    True,\n",
    ")"
   ]
  },
  {
   "cell_type": "code",
   "execution_count": null,
   "id": "feb8b025",
   "metadata": {},
   "outputs": [],
   "source": [
    "floatingRateBond = ql.FloatingRateBond(\n",
    "    settlementDays,\n",
    "    faceAmount,\n",
    "    floatingBondSchedule,\n",
    "    libor3m,\n",
    "    ql.Actual360(),\n",
    "    ql.ModifiedFollowing,\n",
    "    spreads=[0.001],\n",
    "    issueDate=ql.Date(21, ql.October, 2005),\n",
    ")"
   ]
  },
  {
   "cell_type": "code",
   "execution_count": null,
   "id": "5709ec45",
   "metadata": {},
   "outputs": [],
   "source": [
    "floatingRateBond.setPricingEngine(bondEngine)"
   ]
  },
  {
   "cell_type": "code",
   "execution_count": null,
   "id": "1ed679ae",
   "metadata": {},
   "outputs": [],
   "source": [
    "forecastingTermStructure.linkTo(depoSwapTermStructure)\n",
    "discountingTermStructure.linkTo(bondDiscountingTermStructure)"
   ]
  },
  {
   "cell_type": "code",
   "execution_count": null,
   "id": "1afcdac1",
   "metadata": {},
   "outputs": [],
   "source": [
    "liborTermStructure.linkTo(depoSwapTermStructure)"
   ]
  },
  {
   "cell_type": "code",
   "execution_count": null,
   "id": "3da87804",
   "metadata": {},
   "outputs": [],
   "source": [
    "data = []\n",
    "data.append(\n",
    "    (zeroCouponBond.cleanPrice(), fixedRateBond.cleanPrice(), floatingRateBond.cleanPrice())\n",
    ")\n",
    "data.append(\n",
    "    (zeroCouponBond.dirtyPrice(), fixedRateBond.dirtyPrice(), floatingRateBond.dirtyPrice())\n",
    ")\n",
    "data.append(\n",
    "    (zeroCouponBond.accruedAmount(),\n",
    "     fixedRateBond.accruedAmount(),\n",
    "     floatingRateBond.accruedAmount())\n",
    ")\n",
    "data.append(\n",
    "    (None, fixedRateBond.previousCouponRate(), floatingRateBond.previousCouponRate())\n",
    ")\n",
    "data.append(\n",
    "    (None, fixedRateBond.nextCouponRate(), floatingRateBond.nextCouponRate())\n",
    ")\n",
    "data.append(\n",
    "    (zeroCouponBond.bondYield(ql.Actual360(), ql.Compounded, ql.Annual),\n",
    "     fixedRateBond.bondYield(ql.Actual360(), ql.Compounded, ql.Annual),\n",
    "     floatingRateBond.bondYield(ql.Actual360(), ql.Compounded, ql.Annual))\n",
    ")\n",
    "\n",
    "df = pd.DataFrame(data, columns=[\"ZC\", \"Fixed\", \"Floating\"],\n",
    "                  index=[\"Clean price\", \"Dirty price\", \"Accrued coupon\",\n",
    "                         \"Previous coupon rate\", \"Next coupon rate\", \"Yield\"])\n",
    "if not interactive:\n",
    "    print(df)\n",
    "df"
   ]
  },
  {
   "cell_type": "markdown",
   "id": "879306db",
   "metadata": {},
   "source": [
    "A few other computations:"
   ]
  },
  {
   "cell_type": "markdown",
   "id": "c2365b7f",
   "metadata": {},
   "source": [
    "Yield to clean price:"
   ]
  },
  {
   "cell_type": "code",
   "execution_count": null,
   "id": "dcb6dbc0",
   "metadata": {},
   "outputs": [],
   "source": [
    "floatingRateBond.cleanPrice(\n",
    "    floatingRateBond.bondYield(ql.Actual360(), ql.Compounded, ql.Annual),\n",
    "    ql.Actual360(),\n",
    "    ql.Compounded,\n",
    "    ql.Annual,\n",
    "    settlementDate,\n",
    ")"
   ]
  },
  {
   "cell_type": "markdown",
   "id": "288d2902",
   "metadata": {},
   "source": [
    "Clean price to yield:"
   ]
  },
  {
   "cell_type": "code",
   "execution_count": null,
   "id": "7fb16540",
   "metadata": {},
   "outputs": [],
   "source": [
    "floatingRateBond.bondYield(\n",
    "    floatingRateBond.cleanPrice(),\n",
    "    ql.Actual360(),\n",
    "    ql.Compounded,\n",
    "    ql.Annual,\n",
    "    settlementDate\n",
    ")"
   ]
  }
 ],
 "metadata": {
  "kernelspec": {
   "display_name": "Python 3",
   "language": "python",
   "name": "python3"
  }
 },
 "nbformat": 4,
 "nbformat_minor": 5
}

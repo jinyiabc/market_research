{
 "cells": [
  {
   "cell_type": "markdown",
   "id": "b44b9328",
   "metadata": {},
   "source": [
    "# Cash-flow analysis\n",
    "\n",
    "Copyright (&copy;) 2020 StatPro Italia srl\n",
    "\n",
    "This file is part of QuantLib, a free-software/open-source library\n",
    "for financial quantitative analysts and developers - https://www.quantlib.org/\n",
    "\n",
    "QuantLib is free software: you can redistribute it and/or modify it under the\n",
    "terms of the QuantLib license.  You should have received a copy of the\n",
    "license along with this program; if not, please email\n",
    "<quantlib-dev@lists.sf.net>. The license is also available online at\n",
    "<https://www.quantlib.org/license.shtml>.\n",
    "\n",
    "This program is distributed in the hope that it will be useful, but WITHOUT\n",
    "ANY WARRANTY; without even the implied warranty of MERCHANTABILITY or FITNESS\n",
    "FOR A PARTICULAR PURPOSE.  See the license for more details."
   ]
  },
  {
   "cell_type": "code",
   "execution_count": null,
   "id": "fb317871",
   "metadata": {},
   "outputs": [],
   "source": [
    "import QuantLib as ql\n",
    "import pandas as pd"
   ]
  },
  {
   "cell_type": "code",
   "execution_count": null,
   "id": "32f993c2",
   "metadata": {},
   "outputs": [],
   "source": [
    "interactive = \"get_ipython\" in globals()"
   ]
  },
  {
   "cell_type": "code",
   "execution_count": null,
   "id": "e3957b63",
   "metadata": {},
   "outputs": [],
   "source": [
    "today = ql.Date(19, ql.October, 2020)\n",
    "ql.Settings.instance().evaluationDate = today"
   ]
  },
  {
   "cell_type": "markdown",
   "id": "1f81cc5c",
   "metadata": {},
   "source": [
    "### Term structure construction"
   ]
  },
  {
   "cell_type": "code",
   "execution_count": null,
   "id": "cc0e06d1",
   "metadata": {},
   "outputs": [],
   "source": [
    "dates = [\n",
    "    ql.Date(19,10,2020),\n",
    "    ql.Date(19,11,2020),\n",
    "    ql.Date(19, 1,2021),\n",
    "    ql.Date(19, 4,2021),\n",
    "    ql.Date(19,10,2021),\n",
    "    ql.Date(19, 4,2022),\n",
    "    ql.Date(19,10,2022),\n",
    "    ql.Date(19,10,2023),\n",
    "    ql.Date(19,10,2025),\n",
    "    ql.Date(19,10,2030),\n",
    "    ql.Date(19,10,2035),\n",
    "    ql.Date(19,10,2040),\n",
    "]\n",
    "\n",
    "rates = [\n",
    "    -0.004,\n",
    "    -0.002,\n",
    "    0.001,\n",
    "    0.005,\n",
    "    0.009,\n",
    "    0.010,\n",
    "    0.010,\n",
    "    0.012,\n",
    "    0.017,\n",
    "    0.019,\n",
    "    0.028,\n",
    "    0.032,\n",
    "]\n",
    "\n",
    "forecast_curve = ql.ZeroCurve(dates, rates, ql.Actual365Fixed())"
   ]
  },
  {
   "cell_type": "code",
   "execution_count": null,
   "id": "3ec84bf6",
   "metadata": {},
   "outputs": [],
   "source": [
    "forecast_handle = ql.YieldTermStructureHandle(forecast_curve)"
   ]
  },
  {
   "cell_type": "markdown",
   "id": "464785df",
   "metadata": {},
   "source": [
    "### Swap construction\n",
    "\n",
    "We'll use an overnight swap as an example.  We're keeping the initialization simple, but the analysis work in the same way for more complex ones, as well as for other kinds of swaps and bonds (once we extract the cashflows from them using the proper methods)."
   ]
  },
  {
   "cell_type": "code",
   "execution_count": null,
   "id": "3e535395",
   "metadata": {},
   "outputs": [],
   "source": [
    "swap = ql.MakeOIS(swapTenor=ql.Period(5, ql.Years),\n",
    "                  overnightIndex=ql.Eonia(forecast_handle),\n",
    "                  fixedRate=0.002)"
   ]
  },
  {
   "cell_type": "markdown",
   "id": "98ca16ad",
   "metadata": {},
   "source": [
    "### Cash-flow analysis\n",
    "\n",
    "The fixed-rate coupons can be extracted from the swap using the `fixedLeg` method.  They are returned as instances of the base `Cashflow` class, so the only methods we have directly available are from that class interface:"
   ]
  },
  {
   "cell_type": "code",
   "execution_count": null,
   "id": "86a2478a",
   "metadata": {},
   "outputs": [],
   "source": [
    "fixed_leg = swap.fixedLeg()"
   ]
  },
  {
   "cell_type": "code",
   "execution_count": null,
   "id": "a21ec1e4",
   "metadata": {},
   "outputs": [],
   "source": [
    "df = pd.DataFrame([(c.date(), c.amount()) for c in fixed_leg if c.date() > today],\n",
    "                  columns=['date', 'amount'])\n",
    "df"
   ]
  },
  {
   "cell_type": "markdown",
   "id": "90dee77a",
   "metadata": {},
   "source": [
    "The following displays the results when this is run as a Python script (in which case the cell above is not displayed)."
   ]
  },
  {
   "cell_type": "code",
   "execution_count": null,
   "id": "510fbce3",
   "metadata": {},
   "outputs": [],
   "source": [
    "if not interactive:\n",
    "    print(df)"
   ]
  },
  {
   "cell_type": "markdown",
   "id": "2db03f71",
   "metadata": {},
   "source": [
    "If we want to extract more information, we need to upcast the coupons to a more specific class.  This can be done by using the `as_fixed_rate_coupon` method.  In this case, the upcast works by construction; but in the general case we might have cashflows for which the upcast fails (e.g., the redemption for a bond) so we have to check for nulls."
   ]
  },
  {
   "cell_type": "code",
   "execution_count": null,
   "id": "1e88deee",
   "metadata": {},
   "outputs": [],
   "source": [
    "coupons = []\n",
    "for cf in fixed_leg:\n",
    "    c = ql.as_fixed_rate_coupon(cf)\n",
    "    if c:\n",
    "        coupons.append(c)"
   ]
  },
  {
   "cell_type": "markdown",
   "id": "48e3ca1a",
   "metadata": {},
   "source": [
    "We can now access methods from the coupon class."
   ]
  },
  {
   "cell_type": "code",
   "execution_count": null,
   "id": "6fc144c3",
   "metadata": {},
   "outputs": [],
   "source": [
    "df = pd.DataFrame([(c.date(), c.amount(), c.rate(), c.accrualStartDate(), c.accrualEndDate(), c.accrualPeriod())\n",
    "                   for c in coupons if c.date() > today],\n",
    "                  columns=['payment date', 'amount', 'rate', 'start date', 'end date', 'accrual period'])\n",
    "df"
   ]
  },
  {
   "cell_type": "code",
   "execution_count": null,
   "id": "6e1fe01d",
   "metadata": {},
   "outputs": [],
   "source": [
    "if not interactive:\n",
    "    print(df)"
   ]
  },
  {
   "cell_type": "markdown",
   "id": "6766ed36",
   "metadata": {},
   "source": [
    "The same goes for the floating leg: in this case, we need to upcast to floating-rate coupons in order to access the specific methods we'll need."
   ]
  },
  {
   "cell_type": "code",
   "execution_count": null,
   "id": "8a73f631",
   "metadata": {},
   "outputs": [],
   "source": [
    "floating_leg = swap.overnightLeg()"
   ]
  },
  {
   "cell_type": "code",
   "execution_count": null,
   "id": "2f960a3b",
   "metadata": {},
   "outputs": [],
   "source": [
    "coupons = []\n",
    "for cf in floating_leg:\n",
    "    c = ql.as_floating_rate_coupon(cf)\n",
    "    if c:\n",
    "        coupons.append(c)"
   ]
  },
  {
   "cell_type": "code",
   "execution_count": null,
   "id": "7719a8a6",
   "metadata": {},
   "outputs": [],
   "source": [
    "df = pd.DataFrame([(c.date(), c.amount(), c.rate(), c.accrualStartDate(), c.accrualEndDate(), c.accrualPeriod())\n",
    "                   for c in coupons if c.date() > today],\n",
    "                  columns=['payment date', 'amount', 'rate', 'start date', 'end date', 'accrual period'])\n",
    "df"
   ]
  },
  {
   "cell_type": "code",
   "execution_count": null,
   "id": "52d49281",
   "metadata": {},
   "outputs": [],
   "source": [
    "if not interactive:\n",
    "    print(df)"
   ]
  }
 ],
 "metadata": {
  "kernelspec": {
   "display_name": "Python 3",
   "language": "python",
   "name": "python3"
  }
 },
 "nbformat": 4,
 "nbformat_minor": 5
}

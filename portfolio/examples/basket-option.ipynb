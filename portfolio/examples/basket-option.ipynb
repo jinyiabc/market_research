{
 "cells": [
  {
   "cell_type": "markdown",
   "id": "e0514f22",
   "metadata": {},
   "source": [
    "# Basket options\n",
    "\n",
    "Copyright (&copy;) 2004, 2005, 2006 StatPro Italia srl\n",
    "\n",
    "This file is part of QuantLib, a free-software/open-source library\n",
    "for financial quantitative analysts and developers - https://www.quantlib.org/\n",
    "\n",
    "QuantLib is free software: you can redistribute it and/or modify it under the\n",
    "terms of the QuantLib license.  You should have received a copy of the\n",
    "license along with this program; if not, please email\n",
    "<quantlib-dev@lists.sf.net>. The license is also available online at\n",
    "<https://www.quantlib.org/license.shtml>.\n",
    "\n",
    "This program is distributed in the hope that it will be useful, but WITHOUT\n",
    "ANY WARRANTY; without even the implied warranty of MERCHANTABILITY or FITNESS\n",
    "FOR A PARTICULAR PURPOSE.  See the license for more details."
   ]
  },
  {
   "cell_type": "code",
   "execution_count": null,
   "id": "9aaedd9e",
   "metadata": {},
   "outputs": [],
   "source": [
    "import QuantLib as ql"
   ]
  },
  {
   "cell_type": "markdown",
   "id": "dd0b2a73",
   "metadata": {},
   "source": [
    "### Global data"
   ]
  },
  {
   "cell_type": "code",
   "execution_count": null,
   "id": "21786d6c",
   "metadata": {},
   "outputs": [],
   "source": [
    "todaysDate = ql.Date(15, ql.May, 1998)\n",
    "ql.Settings.instance().evaluationDate = todaysDate\n",
    "settlementDate = ql.Date(17, ql.May, 1998)\n",
    "riskFreeRate = ql.FlatForward(settlementDate, 0.05, ql.Actual365Fixed())"
   ]
  },
  {
   "cell_type": "markdown",
   "id": "3aac28c3",
   "metadata": {},
   "source": [
    "### Option parameters"
   ]
  },
  {
   "cell_type": "code",
   "execution_count": null,
   "id": "7fecf8a7",
   "metadata": {},
   "outputs": [],
   "source": [
    "exercise = ql.EuropeanExercise(ql.Date(17, ql.May, 1999))\n",
    "payoff = ql.PlainVanillaPayoff(ql.Option.Call, 8.0)"
   ]
  },
  {
   "cell_type": "markdown",
   "id": "2181c677",
   "metadata": {
    "lines_to_next_cell": 2
   },
   "source": [
    "### Market data"
   ]
  },
  {
   "cell_type": "code",
   "execution_count": null,
   "id": "a8f46932",
   "metadata": {
    "lines_to_next_cell": 2
   },
   "outputs": [],
   "source": [
    "underlying1 = ql.SimpleQuote(7.0)\n",
    "volatility1 = ql.BlackConstantVol(todaysDate, ql.TARGET(), 0.10, ql.Actual365Fixed())\n",
    "dividendYield1 = ql.FlatForward(settlementDate, 0.05, ql.Actual365Fixed())\n",
    "underlying2 = ql.SimpleQuote(7.0)\n",
    "volatility2 = ql.BlackConstantVol(todaysDate, ql.TARGET(), 0.10, ql.Actual365Fixed())\n",
    "dividendYield2 = ql.FlatForward(settlementDate, 0.05, ql.Actual365Fixed())"
   ]
  },
  {
   "cell_type": "code",
   "execution_count": null,
   "id": "9f81fe43",
   "metadata": {},
   "outputs": [],
   "source": [
    "process1 = ql.BlackScholesMertonProcess(\n",
    "    ql.QuoteHandle(underlying1),\n",
    "    ql.YieldTermStructureHandle(dividendYield1),\n",
    "    ql.YieldTermStructureHandle(riskFreeRate),\n",
    "    ql.BlackVolTermStructureHandle(volatility1),\n",
    ")"
   ]
  },
  {
   "cell_type": "code",
   "execution_count": null,
   "id": "7f784d5c",
   "metadata": {},
   "outputs": [],
   "source": [
    "process2 = ql.BlackScholesMertonProcess(\n",
    "    ql.QuoteHandle(underlying2),\n",
    "    ql.YieldTermStructureHandle(dividendYield2),\n",
    "    ql.YieldTermStructureHandle(riskFreeRate),\n",
    "    ql.BlackVolTermStructureHandle(volatility2),\n",
    ")"
   ]
  },
  {
   "cell_type": "code",
   "execution_count": null,
   "id": "f2711a23",
   "metadata": {},
   "outputs": [],
   "source": [
    "matrix = ql.Matrix(2, 2)\n",
    "matrix[0][0] = 1.0\n",
    "matrix[1][1] = 1.0\n",
    "matrix[0][1] = 0.5\n",
    "matrix[1][0] = 0.5"
   ]
  },
  {
   "cell_type": "code",
   "execution_count": null,
   "id": "8d5b9b2d",
   "metadata": {},
   "outputs": [],
   "source": [
    "process = ql.StochasticProcessArray([process1, process2], matrix)"
   ]
  },
  {
   "cell_type": "markdown",
   "id": "af378b2b",
   "metadata": {},
   "source": [
    "### Pricing"
   ]
  },
  {
   "cell_type": "code",
   "execution_count": null,
   "id": "6b2ef241",
   "metadata": {},
   "outputs": [],
   "source": [
    "basketoption = ql.BasketOption(ql.MaxBasketPayoff(payoff), exercise)\n",
    "basketoption.setPricingEngine(\n",
    "    ql.MCEuropeanBasketEngine(process, \"pseudorandom\", timeStepsPerYear=1, requiredTolerance=0.02, seed=42)\n",
    ")\n",
    "print(basketoption.NPV())"
   ]
  },
  {
   "cell_type": "code",
   "execution_count": null,
   "id": "430a85fb",
   "metadata": {},
   "outputs": [],
   "source": [
    "basketoption = ql.BasketOption(ql.MinBasketPayoff(payoff), exercise)\n",
    "basketoption.setPricingEngine(\n",
    "    ql.MCEuropeanBasketEngine(process, \"pseudorandom\", timeStepsPerYear=1, requiredTolerance=0.02, seed=42)\n",
    ")\n",
    "print(basketoption.NPV())"
   ]
  },
  {
   "cell_type": "code",
   "execution_count": null,
   "id": "4ba859bd",
   "metadata": {},
   "outputs": [],
   "source": [
    "basketoption = ql.BasketOption(ql.AverageBasketPayoff(payoff, 2), exercise)\n",
    "basketoption.setPricingEngine(\n",
    "    ql.MCEuropeanBasketEngine(process, \"pseudorandom\", timeStepsPerYear=1, requiredTolerance=0.02, seed=42)\n",
    ")\n",
    "print(basketoption.NPV())"
   ]
  },
  {
   "cell_type": "code",
   "execution_count": null,
   "id": "3474407d",
   "metadata": {},
   "outputs": [],
   "source": [
    "americanExercise = ql.AmericanExercise(settlementDate, ql.Date(17, ql.May, 1999))\n",
    "americanbasketoption = ql.BasketOption(ql.MaxBasketPayoff(payoff), americanExercise)\n",
    "americanbasketoption.setPricingEngine(\n",
    "    ql.MCAmericanBasketEngine(\n",
    "        process,\n",
    "        \"pseudorandom\",\n",
    "        timeSteps=10,\n",
    "        requiredTolerance=0.02,\n",
    "        seed=42,\n",
    "        polynomOrder=5,\n",
    "        polynomType=ql.LsmBasisSystem.Hermite,\n",
    "    )\n",
    ")\n",
    "print(americanbasketoption.NPV())"
   ]
  }
 ],
 "metadata": {
  "kernelspec": {
   "display_name": "Python 3",
   "language": "python",
   "name": "python3"
  }
 },
 "nbformat": 4,
 "nbformat_minor": 5
}

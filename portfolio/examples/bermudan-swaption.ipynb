{
 "cells": [
  {
   "cell_type": "markdown",
   "id": "a467001c",
   "metadata": {},
   "source": [
    "# Bermudan swaptions\n",
    "\n",
    "Copyright (&copy;) 2004, 2005, 2006, 2007 StatPro Italia srl\n",
    "\n",
    "This file is part of QuantLib, a free-software/open-source library\n",
    "for financial quantitative analysts and developers - https://www.quantlib.org/\n",
    "\n",
    "QuantLib is free software: you can redistribute it and/or modify it under the\n",
    "terms of the QuantLib license.  You should have received a copy of the\n",
    "license along with this program; if not, please email\n",
    "<quantlib-dev@lists.sf.net>. The license is also available online at\n",
    "<https://www.quantlib.org/license.shtml>.\n",
    "\n",
    "This program is distributed in the hope that it will be useful, but WITHOUT\n",
    "ANY WARRANTY; without even the implied warranty of MERCHANTABILITY or FITNESS\n",
    "FOR A PARTICULAR PURPOSE.  See the license for more details."
   ]
  },
  {
   "cell_type": "code",
   "execution_count": null,
   "id": "8bb26123",
   "metadata": {},
   "outputs": [],
   "source": [
    "import QuantLib as ql\n",
    "import pandas as pd"
   ]
  },
  {
   "cell_type": "markdown",
   "id": "09c6a27c",
   "metadata": {},
   "source": [
    "### Setup"
   ]
  },
  {
   "cell_type": "code",
   "execution_count": null,
   "id": "8b7dbd11",
   "metadata": {},
   "outputs": [],
   "source": [
    "todaysDate = ql.Date(15, ql.February, 2002)\n",
    "ql.Settings.instance().evaluationDate = todaysDate\n",
    "calendar = ql.TARGET()\n",
    "settlementDate = ql.Date(19, ql.February, 2002)"
   ]
  },
  {
   "cell_type": "code",
   "execution_count": null,
   "id": "a48dcd6c",
   "metadata": {},
   "outputs": [],
   "source": [
    "def calibrate(model, helpers, l, name):\n",
    "    print(\"Model: %s\" % name)\n",
    "\n",
    "    method = ql.Simplex(l)\n",
    "    model.calibrate(helpers, method, ql.EndCriteria(1000, 250, 1e-7, 1e-7, 1e-7))\n",
    "\n",
    "    print(\"Parameters: %s\" % model.params())\n",
    "\n",
    "    totalError = 0.0\n",
    "    data = []\n",
    "    for swaption, helper in zip(swaptionVols, helpers):\n",
    "        maturity, length, vol = swaption\n",
    "        NPV = helper.modelValue()\n",
    "        implied = helper.impliedVolatility(NPV, 1.0e-4, 1000, 0.05, 0.50)\n",
    "        error = implied - vol\n",
    "        totalError += abs(error)\n",
    "        data.append((maturity, length, vol, implied, error))\n",
    "    averageError = totalError / len(helpers)\n",
    "\n",
    "    print(pd.DataFrame(data, columns=[\"maturity\", \"length\", \"volatility\", \"implied\", \"error\"]))\n",
    "\n",
    "    print(\"Average error: %.4f\" % averageError)"
   ]
  },
  {
   "cell_type": "markdown",
   "id": "40693c0e",
   "metadata": {},
   "source": [
    "### Market data"
   ]
  },
  {
   "cell_type": "code",
   "execution_count": null,
   "id": "eb5becac",
   "metadata": {},
   "outputs": [],
   "source": [
    "swaptionVols = [\n",
    "    # maturity,          length,             volatility\n",
    "    (ql.Period(1, ql.Years), ql.Period(5, ql.Years), 0.1148),\n",
    "    (ql.Period(2, ql.Years), ql.Period(4, ql.Years), 0.1108),\n",
    "    (ql.Period(3, ql.Years), ql.Period(3, ql.Years), 0.1070),\n",
    "    (ql.Period(4, ql.Years), ql.Period(2, ql.Years), 0.1021),\n",
    "    (ql.Period(5, ql.Years), ql.Period(1, ql.Years), 0.1000),\n",
    "]"
   ]
  },
  {
   "cell_type": "markdown",
   "id": "527e171c",
   "metadata": {},
   "source": [
    "This is a flat yield term structure implying a 1x5 swap at 5%."
   ]
  },
  {
   "cell_type": "code",
   "execution_count": null,
   "id": "374e0d73",
   "metadata": {},
   "outputs": [],
   "source": [
    "rate = ql.QuoteHandle(ql.SimpleQuote(0.04875825))\n",
    "termStructure = ql.YieldTermStructureHandle(ql.FlatForward(settlementDate, rate, ql.Actual365Fixed()))"
   ]
  },
  {
   "cell_type": "markdown",
   "id": "d7e52f08",
   "metadata": {},
   "source": [
    "Define the ATM/OTM/ITM swaps:"
   ]
  },
  {
   "cell_type": "code",
   "execution_count": null,
   "id": "dfd52a30",
   "metadata": {},
   "outputs": [],
   "source": [
    "swapEngine = ql.DiscountingSwapEngine(termStructure)"
   ]
  },
  {
   "cell_type": "code",
   "execution_count": null,
   "id": "efb73158",
   "metadata": {},
   "outputs": [],
   "source": [
    "fixedLegFrequency = ql.Annual\n",
    "fixedLegTenor = ql.Period(1, ql.Years)\n",
    "fixedLegConvention = ql.Unadjusted\n",
    "floatingLegConvention = ql.ModifiedFollowing\n",
    "fixedLegDayCounter = ql.Thirty360(ql.Thirty360.European)\n",
    "floatingLegFrequency = ql.Semiannual\n",
    "floatingLegTenor = ql.Period(6, ql.Months)"
   ]
  },
  {
   "cell_type": "code",
   "execution_count": null,
   "id": "38e3e25b",
   "metadata": {},
   "outputs": [],
   "source": [
    "payFixed = ql.Swap.Payer\n",
    "fixingDays = 2\n",
    "index = ql.Euribor6M(termStructure)\n",
    "floatingLegDayCounter = index.dayCounter()"
   ]
  },
  {
   "cell_type": "code",
   "execution_count": null,
   "id": "612d2ee0",
   "metadata": {},
   "outputs": [],
   "source": [
    "swapStart = calendar.advance(settlementDate, 1, ql.Years, floatingLegConvention)\n",
    "swapEnd = calendar.advance(swapStart, 5, ql.Years, floatingLegConvention)"
   ]
  },
  {
   "cell_type": "code",
   "execution_count": null,
   "id": "580485f7",
   "metadata": {},
   "outputs": [],
   "source": [
    "fixedSchedule = ql.Schedule(\n",
    "    swapStart,\n",
    "    swapEnd,\n",
    "    fixedLegTenor,\n",
    "    calendar,\n",
    "    fixedLegConvention,\n",
    "    fixedLegConvention,\n",
    "    ql.DateGeneration.Forward,\n",
    "    False,\n",
    ")\n",
    "floatingSchedule = ql.Schedule(\n",
    "    swapStart,\n",
    "    swapEnd,\n",
    "    floatingLegTenor,\n",
    "    calendar,\n",
    "    floatingLegConvention,\n",
    "    floatingLegConvention,\n",
    "    ql.DateGeneration.Forward,\n",
    "    False,\n",
    ")"
   ]
  },
  {
   "cell_type": "code",
   "execution_count": null,
   "id": "f1cffc4c",
   "metadata": {},
   "outputs": [],
   "source": [
    "dummy = ql.VanillaSwap(\n",
    "    payFixed, 100.0, fixedSchedule, 0.0, fixedLegDayCounter, floatingSchedule, index, 0.0, floatingLegDayCounter\n",
    ")\n",
    "dummy.setPricingEngine(swapEngine)\n",
    "atmRate = dummy.fairRate()"
   ]
  },
  {
   "cell_type": "code",
   "execution_count": null,
   "id": "4f65d183",
   "metadata": {},
   "outputs": [],
   "source": [
    "atmSwap = ql.VanillaSwap(\n",
    "    payFixed, 1000.0, fixedSchedule, atmRate, fixedLegDayCounter,\n",
    "    floatingSchedule, index, 0.0, floatingLegDayCounter\n",
    ")"
   ]
  },
  {
   "cell_type": "code",
   "execution_count": null,
   "id": "6bbd7b0b",
   "metadata": {},
   "outputs": [],
   "source": [
    "otmSwap = ql.VanillaSwap(\n",
    "    payFixed, 1000.0, fixedSchedule, atmRate * 1.2, fixedLegDayCounter,\n",
    "    floatingSchedule, index, 0.0, floatingLegDayCounter\n",
    ")"
   ]
  },
  {
   "cell_type": "code",
   "execution_count": null,
   "id": "0cb14269",
   "metadata": {},
   "outputs": [],
   "source": [
    "itmSwap = ql.VanillaSwap(\n",
    "    payFixed, 1000.0, fixedSchedule, atmRate * 0.8, fixedLegDayCounter,\n",
    "    floatingSchedule, index, 0.0, floatingLegDayCounter\n",
    ")"
   ]
  },
  {
   "cell_type": "code",
   "execution_count": null,
   "id": "52cbdf5a",
   "metadata": {},
   "outputs": [],
   "source": [
    "atmSwap.setPricingEngine(swapEngine)\n",
    "otmSwap.setPricingEngine(swapEngine)\n",
    "itmSwap.setPricingEngine(swapEngine)"
   ]
  },
  {
   "cell_type": "code",
   "execution_count": null,
   "id": "57f4aad8",
   "metadata": {},
   "outputs": [],
   "source": [
    "helpers = [\n",
    "    ql.SwaptionHelper(\n",
    "        maturity,\n",
    "        length,\n",
    "        ql.QuoteHandle(ql.SimpleQuote(vol)),\n",
    "        index,\n",
    "        index.tenor(),\n",
    "        index.dayCounter(),\n",
    "        index.dayCounter(),\n",
    "        termStructure,\n",
    "    )\n",
    "    for maturity, length, vol in swaptionVols\n",
    "]"
   ]
  },
  {
   "cell_type": "code",
   "execution_count": null,
   "id": "532be8b8",
   "metadata": {},
   "outputs": [],
   "source": [
    "times = {}\n",
    "for h in helpers:\n",
    "    for t in h.times():\n",
    "        times[t] = 1\n",
    "times = sorted(times.keys())"
   ]
  },
  {
   "cell_type": "code",
   "execution_count": null,
   "id": "8bb4c0c6",
   "metadata": {},
   "outputs": [],
   "source": [
    "grid = ql.TimeGrid(times, 30)"
   ]
  },
  {
   "cell_type": "code",
   "execution_count": null,
   "id": "ab5f603f",
   "metadata": {},
   "outputs": [],
   "source": [
    "G2model = ql.G2(termStructure)\n",
    "HWmodel = ql.HullWhite(termStructure)\n",
    "HWmodel2 = ql.HullWhite(termStructure)\n",
    "BKmodel = ql.BlackKarasinski(termStructure)"
   ]
  },
  {
   "cell_type": "markdown",
   "id": "9155797a",
   "metadata": {},
   "source": [
    "### Calibrations"
   ]
  },
  {
   "cell_type": "code",
   "execution_count": null,
   "id": "b0e9dab2",
   "metadata": {},
   "outputs": [],
   "source": [
    "for h in helpers:\n",
    "    h.setPricingEngine(ql.G2SwaptionEngine(G2model, 6.0, 16))\n",
    "calibrate(G2model, helpers, 0.05, \"G2 (analytic formulae)\")"
   ]
  },
  {
   "cell_type": "code",
   "execution_count": null,
   "id": "ab6fac4d",
   "metadata": {},
   "outputs": [],
   "source": [
    "for h in helpers:\n",
    "    h.setPricingEngine(ql.JamshidianSwaptionEngine(HWmodel))\n",
    "calibrate(HWmodel, helpers, 0.05, \"Hull-White (analytic formulae)\")"
   ]
  },
  {
   "cell_type": "code",
   "execution_count": null,
   "id": "5c30389b",
   "metadata": {},
   "outputs": [],
   "source": [
    "for h in helpers:\n",
    "    h.setPricingEngine(ql.TreeSwaptionEngine(HWmodel2, grid))\n",
    "calibrate(HWmodel2, helpers, 0.05, \"Hull-White (numerical calibration)\")"
   ]
  },
  {
   "cell_type": "code",
   "execution_count": null,
   "id": "4532de15",
   "metadata": {
    "lines_to_next_cell": 2
   },
   "outputs": [],
   "source": [
    "for h in helpers:\n",
    "    h.setPricingEngine(ql.TreeSwaptionEngine(BKmodel, grid))\n",
    "calibrate(BKmodel, helpers, 0.05, \"Black-Karasinski (numerical calibration)\")"
   ]
  },
  {
   "cell_type": "markdown",
   "id": "43a99cc1",
   "metadata": {},
   "source": [
    "### Price Bermudan swaptions on defined swaps"
   ]
  },
  {
   "cell_type": "code",
   "execution_count": null,
   "id": "b5d9035f",
   "metadata": {},
   "outputs": [],
   "source": [
    "bermudanDates = [d for d in fixedSchedule][:-1]\n",
    "exercise = ql.BermudanExercise(bermudanDates)"
   ]
  },
  {
   "cell_type": "code",
   "execution_count": null,
   "id": "9a9de8ed",
   "metadata": {},
   "outputs": [],
   "source": [
    "atmSwaption = ql.Swaption(atmSwap, exercise)\n",
    "otmSwaption = ql.Swaption(otmSwap, exercise)\n",
    "itmSwaption = ql.Swaption(itmSwap, exercise)"
   ]
  },
  {
   "cell_type": "code",
   "execution_count": null,
   "id": "d1ff1127",
   "metadata": {},
   "outputs": [],
   "source": [
    "data = []"
   ]
  },
  {
   "cell_type": "code",
   "execution_count": null,
   "id": "33b6f1af",
   "metadata": {},
   "outputs": [],
   "source": [
    "atmSwaption.setPricingEngine(ql.TreeSwaptionEngine(G2model, 50))\n",
    "otmSwaption.setPricingEngine(ql.TreeSwaptionEngine(G2model, 50))\n",
    "itmSwaption.setPricingEngine(ql.TreeSwaptionEngine(G2model, 50))\n",
    "\n",
    "data.append((\"G2 analytic\", itmSwaption.NPV(), atmSwaption.NPV(), otmSwaption.NPV()))"
   ]
  },
  {
   "cell_type": "code",
   "execution_count": null,
   "id": "bf910b19",
   "metadata": {},
   "outputs": [],
   "source": [
    "atmSwaption.setPricingEngine(ql.TreeSwaptionEngine(HWmodel, 50))\n",
    "otmSwaption.setPricingEngine(ql.TreeSwaptionEngine(HWmodel, 50))\n",
    "itmSwaption.setPricingEngine(ql.TreeSwaptionEngine(HWmodel, 50))\n",
    "\n",
    "data.append((\"HW analytic\", itmSwaption.NPV(), atmSwaption.NPV(), otmSwaption.NPV()))"
   ]
  },
  {
   "cell_type": "code",
   "execution_count": null,
   "id": "8876cb73",
   "metadata": {},
   "outputs": [],
   "source": [
    "atmSwaption.setPricingEngine(ql.TreeSwaptionEngine(HWmodel2, 50))\n",
    "otmSwaption.setPricingEngine(ql.TreeSwaptionEngine(HWmodel2, 50))\n",
    "itmSwaption.setPricingEngine(ql.TreeSwaptionEngine(HWmodel2, 50))\n",
    "\n",
    "data.append((\"HW numerical\", itmSwaption.NPV(), atmSwaption.NPV(), otmSwaption.NPV()))"
   ]
  },
  {
   "cell_type": "code",
   "execution_count": null,
   "id": "ef784498",
   "metadata": {},
   "outputs": [],
   "source": [
    "atmSwaption.setPricingEngine(ql.TreeSwaptionEngine(BKmodel, 50))\n",
    "otmSwaption.setPricingEngine(ql.TreeSwaptionEngine(BKmodel, 50))\n",
    "itmSwaption.setPricingEngine(ql.TreeSwaptionEngine(BKmodel, 50))\n",
    "\n",
    "data.append((\"BK numerical\", itmSwaption.NPV(), atmSwaption.NPV(), otmSwaption.NPV()))"
   ]
  },
  {
   "cell_type": "code",
   "execution_count": null,
   "id": "0d4a2ee9",
   "metadata": {},
   "outputs": [],
   "source": [
    "print(pd.DataFrame(data, columns=[\"model\", \"in-the-money\", \"at-the-money\", \"out-of-the-money\"]))"
   ]
  }
 ],
 "metadata": {
  "kernelspec": {
   "display_name": "Python 3",
   "language": "python",
   "name": "python3"
  }
 },
 "nbformat": 4,
 "nbformat_minor": 5
}

{
 "cells": [
  {
   "cell_type": "markdown",
   "id": "224c7418",
   "metadata": {},
   "source": [
    "# Leverage function for the Heston SLV model\n",
    "\n",
    "Copyright (&copy;) 2019 Klaus Spanderen\n",
    "\n",
    "This file is part of QuantLib, a free-software/open-source library for financial quantitative analysts and developers - https://www.quantlib.org/\n",
    "\n",
    "QuantLib is free software: you can redistribute it and/or modify it under the\n",
    "terms of the QuantLib license.  You should have received a copy of the\n",
    "license along with this program; if not, please email\n",
    "<quantlib-dev@lists.sf.net>. The license is also available online at\n",
    "<https://www.quantlib.org/license.shtml>.\n",
    "\n",
    "This program is distributed in the hope that it will be useful, but WITHOUT\n",
    "ANY WARRANTY; without even the implied warranty of MERCHANTABILITY or FITNESS\n",
    "FOR A PARTICULAR PURPOSE.  See the license for more details."
   ]
  },
  {
   "cell_type": "markdown",
   "id": "7684347e",
   "metadata": {},
   "source": [
    "This notebook only works with Python 3, at least on Travis."
   ]
  },
  {
   "cell_type": "code",
   "execution_count": null,
   "id": "e0dfb616",
   "metadata": {},
   "outputs": [],
   "source": [
    "import sys\n",
    "\n",
    "if sys.version_info.major < 3:\n",
    "    sys.exit()"
   ]
  },
  {
   "cell_type": "code",
   "execution_count": null,
   "id": "ae7a1f3b",
   "metadata": {},
   "outputs": [],
   "source": [
    "import QuantLib as ql\n",
    "from matplotlib import pyplot as plt\n",
    "import numpy as np\n",
    "import math\n",
    "\n",
    "%matplotlib inline"
   ]
  },
  {
   "cell_type": "code",
   "execution_count": null,
   "id": "6b1f868f",
   "metadata": {},
   "outputs": [],
   "source": [
    "is_interactive = 'get_ipython' in globals()"
   ]
  },
  {
   "cell_type": "code",
   "execution_count": null,
   "id": "00232849",
   "metadata": {},
   "outputs": [],
   "source": [
    "todaysDate = ql.Date(15, ql.May, 2019)\n",
    "ql.Settings.instance().evaluationDate = todaysDate"
   ]
  },
  {
   "cell_type": "code",
   "execution_count": null,
   "id": "0b7743ed",
   "metadata": {},
   "outputs": [],
   "source": [
    "settlementDate = todaysDate + ql.Period(2, ql.Days)\n",
    "exerciseDate = todaysDate + ql.Period(4, ql.Years)"
   ]
  },
  {
   "cell_type": "code",
   "execution_count": null,
   "id": "9733e806",
   "metadata": {},
   "outputs": [],
   "source": [
    "dc = ql.Actual365Fixed()\n",
    "\n",
    "spot = 100\n",
    "underlying = ql.QuoteHandle(ql.SimpleQuote(spot))\n",
    "\n",
    "riskFreeRate = ql.YieldTermStructureHandle(ql.FlatForward(settlementDate, 0.05, dc))\n",
    "dividendYield = ql.YieldTermStructureHandle(ql.FlatForward(settlementDate, 0.025, dc))\n",
    "\n",
    "vol = 0.30\n",
    "blackVol = ql.BlackVolTermStructureHandle(ql.BlackConstantVol(settlementDate, ql.TARGET(), vol, dc))"
   ]
  },
  {
   "cell_type": "code",
   "execution_count": null,
   "id": "8735c971",
   "metadata": {},
   "outputs": [],
   "source": [
    "localVol = ql.LocalVolSurface(\n",
    "    blackVol,\n",
    "    riskFreeRate,\n",
    "    dividendYield,\n",
    "    underlying,\n",
    ")\n",
    "\n",
    "hestonProcess = ql.HestonProcess(riskFreeRate, dividendYield, underlying, 0.09, 1.0, 0.06, 0.4, -0.75)\n",
    "\n",
    "hestonModel = ql.HestonModel(hestonProcess)"
   ]
  },
  {
   "cell_type": "code",
   "execution_count": null,
   "id": "de561624",
   "metadata": {},
   "outputs": [],
   "source": [
    "leverageFct = ql.HestonSLVMCModel(\n",
    "    localVol, hestonModel, ql.MTBrownianGeneratorFactory(1234), exerciseDate, 91\n",
    ").leverageFunction()"
   ]
  },
  {
   "cell_type": "code",
   "execution_count": null,
   "id": "8616dbb7",
   "metadata": {},
   "outputs": [],
   "source": [
    "tSteps = 40\n",
    "uSteps = 30\n",
    "\n",
    "tv = np.linspace(0.1, dc.yearFraction(settlementDate, exerciseDate), tSteps)\n",
    "\n",
    "t = np.empty(tSteps * uSteps)\n",
    "s = np.empty(tSteps * uSteps)\n",
    "z = np.empty(tSteps * uSteps)\n",
    "\n",
    "for i in range(0, tSteps):\n",
    "    scale = min(4, math.exp(3 * math.sqrt(tv[i]) * vol))\n",
    "    sv = np.linspace(spot / scale, spot * scale, uSteps)\n",
    "\n",
    "    for j in range(0, uSteps):\n",
    "        idx = i * uSteps + j\n",
    "        t[idx] = tv[i]\n",
    "        s[idx] = math.log(sv[j])\n",
    "        z[idx] = leverageFct.localVol(t[idx], sv[j])"
   ]
  },
  {
   "cell_type": "code",
   "execution_count": null,
   "id": "a37a35fd",
   "metadata": {},
   "outputs": [],
   "source": [
    "fig = plt.figure(figsize=(12,8))\n",
    "ax = plt.axes(projection=\"3d\")\n",
    "\n",
    "surf = ax.plot_trisurf(s, t, z, cmap=plt.cm.viridis, linewidth=0, antialiased=False, edgecolor=\"none\")\n",
    "ax.view_init(30, -120)\n",
    "\n",
    "ax.set_xlabel(\"ln(S)\")\n",
    "ax.set_ylabel(\"Time\")\n",
    "ax.text2D(0.225, 0.985, \"Leverage Function with $\\eta=1.0$\", transform=ax.transAxes)\n",
    "\n",
    "fig.colorbar(surf, shrink=0.75, aspect=14)\n",
    "\n",
    "plt.show(block=False)"
   ]
  },
  {
   "cell_type": "markdown",
   "id": "16310505",
   "metadata": {},
   "source": [
    "When this is run as a Python script (i.e., from Travis), we need to close the figure in order to terminate."
   ]
  },
  {
   "cell_type": "code",
   "execution_count": null,
   "id": "70a3a2f3",
   "metadata": {},
   "outputs": [],
   "source": [
    "if not is_interactive:\n",
    "    plt.pause(3)\n",
    "    plt.close()"
   ]
  }
 ],
 "metadata": {
  "kernelspec": {
   "display_name": "Python 3",
   "language": "python",
   "name": "python3"
  }
 },
 "nbformat": 4,
 "nbformat_minor": 5
}

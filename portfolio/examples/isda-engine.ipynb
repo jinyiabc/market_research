{
 "cells": [
  {
   "cell_type": "markdown",
   "id": "63f19331",
   "metadata": {},
   "source": [
    "# ISDA CDS engine\n",
    "\n",
    "This file is part of QuantLib, a free-software/open-source library\n",
    "for financial quantitative analysts and developers - https://www.quantlib.org/\n",
    "\n",
    "QuantLib is free software: you can redistribute it and/or modify it under the\n",
    "terms of the QuantLib license.  You should have received a copy of the\n",
    "license along with this program; if not, please email\n",
    "<quantlib-dev@lists.sf.net>. The license is also available online at\n",
    "<https://www.quantlib.org/license.shtml>.\n",
    "\n",
    "This program is distributed in the hope that it will be useful, but WITHOUT\n",
    "ANY WARRANTY; without even the implied warranty of MERCHANTABILITY or FITNESS\n",
    "FOR A PARTICULAR PURPOSE.  See the license for more details."
   ]
  },
  {
   "cell_type": "code",
   "execution_count": null,
   "id": "9453805d",
   "metadata": {},
   "outputs": [],
   "source": [
    "import QuantLib as ql\n",
    "import pandas as pd"
   ]
  },
  {
   "cell_type": "code",
   "execution_count": null,
   "id": "47da1a01",
   "metadata": {},
   "outputs": [],
   "source": [
    "interactive = 'get_ipython' in globals()"
   ]
  },
  {
   "cell_type": "code",
   "execution_count": null,
   "id": "42206ba6",
   "metadata": {},
   "outputs": [],
   "source": [
    "trade_date = ql.Date(21,5,2009)\n",
    "ql.Settings.instance().setEvaluationDate(trade_date)"
   ]
  },
  {
   "cell_type": "code",
   "execution_count": null,
   "id": "e92d1246",
   "metadata": {},
   "outputs": [],
   "source": [
    "ql.IborCoupon.createAtParCoupons()"
   ]
  },
  {
   "cell_type": "code",
   "execution_count": null,
   "id": "3a990e55",
   "metadata": {},
   "outputs": [],
   "source": [
    "dep_tenors = [1,2,3,6,9,12]\n",
    "dep_quotes = [0.003081,0.005525,0.007163,0.012413,0.014,0.015488]\n",
    "isdaRateHelpers = [ql.DepositRateHelper(dep_quotes[i],\n",
    "                                        dep_tenors[i]*ql.Period(ql.Monthly),\n",
    "                                        2,ql.WeekendsOnly(),\n",
    "                                        ql.ModifiedFollowing,\n",
    "                                        False,ql.Actual360())\n",
    "                   for i in range(len(dep_tenors))]"
   ]
  },
  {
   "cell_type": "code",
   "execution_count": null,
   "id": "9a19d25d",
   "metadata": {},
   "outputs": [],
   "source": [
    "swap_tenors = [2, 3, 4, 5, 6, 7, 8, 9, 10, 12, 15, 20, 25, 30]\n",
    "swap_quotes = [0.011907,\n",
    "               0.01699,\n",
    "               0.021198,\n",
    "               0.02444,\n",
    "               0.026937,\n",
    "               0.028967,\n",
    "               0.030504,\n",
    "               0.031719,\n",
    "               0.03279,\n",
    "               0.034535,\n",
    "               0.036217,\n",
    "               0.036981,\n",
    "               0.037246,\n",
    "               0.037605]"
   ]
  },
  {
   "cell_type": "code",
   "execution_count": null,
   "id": "81cea846",
   "metadata": {},
   "outputs": [],
   "source": [
    "isda_ibor = ql.IborIndex('IsdaIbor',3*ql.Period(ql.Monthly),2,\n",
    "                         ql.USDCurrency(),ql.WeekendsOnly(),\n",
    "                         ql.ModifiedFollowing,False,ql.Actual360())\n",
    "isdaRateHelpers = isdaRateHelpers + [\n",
    "    ql.SwapRateHelper(swap_quotes[i],swap_tenors[i]*ql.Period(ql.Annual),\n",
    "                      ql.WeekendsOnly(),ql.Semiannual,ql.ModifiedFollowing,\n",
    "                      ql.Thirty360(),isda_ibor)\n",
    "    for i in range(len(swap_tenors))]"
   ]
  },
  {
   "cell_type": "code",
   "execution_count": null,
   "id": "b75455ba",
   "metadata": {},
   "outputs": [],
   "source": [
    "spot_date = ql.WeekendsOnly().advance(trade_date, 2 * ql.Period(ql.Daily))"
   ]
  },
  {
   "cell_type": "markdown",
   "id": "827e4368",
   "metadata": {},
   "source": [
    "Technically, the model requires the discount factor to be 1 at spot;\n",
    "but we can't do that and also have the discount curve extend back to\n",
    "the trade date.  For the time being, we'll keep discount = 1 at trade.\n",
    "The results match anyway."
   ]
  },
  {
   "cell_type": "code",
   "execution_count": null,
   "id": "3baf321b",
   "metadata": {},
   "outputs": [],
   "source": [
    "swap_curve = ql.PiecewiseFlatForward(trade_date, isdaRateHelpers, ql.Actual365Fixed())\n",
    "discountCurve = ql.YieldTermStructureHandle(swap_curve)"
   ]
  },
  {
   "cell_type": "code",
   "execution_count": null,
   "id": "8bf63fde",
   "metadata": {},
   "outputs": [],
   "source": [
    "probabilityCurve = ql.RelinkableDefaultProbabilityTermStructureHandle()"
   ]
  },
  {
   "cell_type": "code",
   "execution_count": null,
   "id": "84f4c26e",
   "metadata": {},
   "outputs": [],
   "source": [
    "termDates = [ql.Date(20, 6, 2010),\n",
    "             ql.Date(20, 6, 2011),\n",
    "             ql.Date(20, 6, 2012),\n",
    "             ql.Date(20, 6, 2016),\n",
    "             ql.Date(20, 6, 2019)]"
   ]
  },
  {
   "cell_type": "code",
   "execution_count": null,
   "id": "2d21ef74",
   "metadata": {},
   "outputs": [],
   "source": [
    "spreads = [0.001, 0.1]\n",
    "recoveries = [0.2, 0.4]"
   ]
  },
  {
   "cell_type": "code",
   "execution_count": null,
   "id": "41d8c890",
   "metadata": {},
   "outputs": [],
   "source": [
    "markitValues = [97798.29358, #0.001\n",
    "                97776.11889, #0.001\n",
    "                -914971.5977, #0.1\n",
    "                -894985.6298, #0.1\n",
    "                186921.3594, #0.001\n",
    "                186839.8148, #0.001\n",
    "                -1646623.672, #0.1\n",
    "                -1579803.626, #0.1\n",
    "                274298.9203,\n",
    "                274122.4725,\n",
    "                -2279730.93,\n",
    "                -2147972.527,\n",
    "                592420.2297,\n",
    "                591571.2294,\n",
    "                -3993550.206,\n",
    "                -3545843.418,\n",
    "                797501.1422,\n",
    "                795915.9787,\n",
    "                -4702034.688,\n",
    "                -4042340.999]"
   ]
  },
  {
   "cell_type": "code",
   "execution_count": null,
   "id": "752d485f",
   "metadata": {},
   "outputs": [],
   "source": [
    "tolerance = 1.0e-2"
   ]
  },
  {
   "cell_type": "code",
   "execution_count": null,
   "id": "bf71cd23",
   "metadata": {},
   "outputs": [],
   "source": [
    "l = 0\n",
    "distance = 0"
   ]
  },
  {
   "cell_type": "code",
   "execution_count": null,
   "id": "3126b9db",
   "metadata": {},
   "outputs": [],
   "source": [
    "data = []\n",
    "upfront_date = ql.WeekendsOnly().advance(trade_date, 3 * ql.Period(ql.Daily))\n",
    "for termDate in termDates:\n",
    "    for spread in spreads:\n",
    "        for recovery in recoveries:\n",
    "\n",
    "            cdsSchedule = ql.Schedule(trade_date, termDate,\n",
    "                                      3*ql.Period(ql.Monthly),\n",
    "                                      ql.WeekendsOnly(),\n",
    "                                      ql.Following, ql.Unadjusted,\n",
    "                                      ql.DateGeneration.CDS, False)\n",
    "\n",
    "            quotedTrade = ql.CreditDefaultSwap(\n",
    "                ql.Protection.Buyer,10000000,0,spread,cdsSchedule,\n",
    "                ql.Following,ql.Actual360(),True,True,trade_date,\n",
    "                upfront_date, ql.FaceValueClaim(), ql.Actual360(True))\n",
    "\n",
    "            h = quotedTrade.impliedHazardRate(0,discountCurve,ql.Actual365Fixed(),\n",
    "                                              recovery,1e-10,\n",
    "                                              ql.CreditDefaultSwap.ISDA)\n",
    "\n",
    "            probabilityCurve.linkTo(\n",
    "                ql.FlatHazardRate(0,ql.WeekendsOnly(),\n",
    "                                  ql.QuoteHandle(ql.SimpleQuote(h)),\n",
    "                                  ql.Actual365Fixed()))\n",
    "\n",
    "            engine = ql.IsdaCdsEngine(probabilityCurve,recovery,discountCurve)\n",
    "            conventionalTrade = ql.CreditDefaultSwap(\n",
    "                ql.Protection.Buyer,10000000,0,0.01,cdsSchedule,\n",
    "                ql.Following,ql.Actual360(),True,True,trade_date,\n",
    "                upfront_date, ql.FaceValueClaim(), ql.Actual360(True))\n",
    "            conventionalTrade.setPricingEngine(engine)\n",
    "\n",
    "            upfront = conventionalTrade.notional() * conventionalTrade.fairUpfront()\n",
    "\n",
    "            data.append(\n",
    "                (termDate,\n",
    "                 spread,\n",
    "                 recovery,\n",
    "                 h,\n",
    "                 upfront,\n",
    "                 markitValues[l],\n",
    "                 abs(upfront-markitValues[l]),\n",
    "                 abs(upfront-markitValues[l])<tolerance)\n",
    "            )\n",
    "            distance = distance + abs(upfront-markitValues[l])\n",
    "\n",
    "            l = l + 1"
   ]
  },
  {
   "cell_type": "code",
   "execution_count": null,
   "id": "d81fe96f",
   "metadata": {},
   "outputs": [],
   "source": [
    "df = pd.DataFrame(data, columns=[\"Term date\", \"Spread\", \"Recovery\",\n",
    "                                 \"Hazard rate\", \"Upfront\", \"Markit value\", \"Distance\", \"Within tolerance\"])\n",
    "if not interactive:\n",
    "    print(df)\n",
    "df.style.format({'Spread': '{:.4%}', 'Hazard rate': '{:.2%}', 'Upfront': '{:.2f}',\n",
    "                 'Markit value': '{:.2f}', 'Distance': '{:.6f}'})"
   ]
  },
  {
   "cell_type": "code",
   "execution_count": null,
   "id": "17bef100",
   "metadata": {},
   "outputs": [],
   "source": [
    "print('total distance:',distance)"
   ]
  }
 ],
 "metadata": {
  "kernelspec": {
   "display_name": "Python 3",
   "language": "python",
   "name": "python3"
  }
 },
 "nbformat": 4,
 "nbformat_minor": 5
}

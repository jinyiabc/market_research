{
 "cells": [
  {
   "cell_type": "markdown",
   "id": "a8ee1623-d97c-43a3-999a-e53a810f4ec8",
   "metadata": {},
   "source": [
    "    INFORMATION\n",
    "            Symbol                                                                            1105001.IB\n",
    "            Short Name                                                                ICBC 5.56% B310630\n",
    "            Close (D)\\r\\n[Trade Date] Last Closing Day\\r\\n[Price Type] Dirty Price              103.1889\n",
    "            Bid Yield (Optimal)\\r\\n[Trade Date] Last Closing Day\\r\\n[Unit] %                         NaN\n",
    "            Initial Face Value                                                                     100.0\n",
    "            Latest Bond Rating                                                                       AAA\n",
    "            Maturity Date                                                                     2031-06-30\n",
    "            Coupon Type                                                            Fixed Interest Rate\n",
    "            Interest Accrual Method                                                 Simple interest\n",
    "            Coupon Description                                                    5.56%\n",
    "            Coupon Frequency                                                        1\n",
    "            Coupon Date (Y)\\r\\n[N] 1                                             6月30日\n",
    "            Bond Term (Year)\\r\\n[Unit] Yearly                                    20.0\n",
    "            Maturities (Text)                                                     15+5\n",
    "            Interest Reference                                                     ACT/ACT\n",
    "            Coupon Date Description           Pay interest on June 30 every year, and postpo...\n",
    "            Bond Term (Year)\\r\\n[Unit] Yearly.1                                     20.0\n",
    "            Issue Amount\\r\\n[Unit] (100M)                                           380.0\n",
    "            Remaing Maturity                                                         9.41\n",
    "    \"\"\""
   ]
  },
  {
   "cell_type": "code",
   "execution_count": 2,
   "id": "9fd91b5b-4555-41c7-bf22-7871405dd592",
   "metadata": {
    "execution": {
     "iopub.execute_input": "2022-01-29T10:04:48.820021Z",
     "iopub.status.busy": "2022-01-29T10:04:48.820021Z",
     "iopub.status.idle": "2022-01-29T10:04:48.828996Z",
     "shell.execute_reply": "2022-01-29T10:04:48.828996Z",
     "shell.execute_reply.started": "2022-01-29T10:04:48.820021Z"
    },
    "tags": []
   },
   "outputs": [],
   "source": [
    "import QuantLib as ql\n",
    "import prettytable as pt\n",
    "\n",
    "today = ql.Date(27, ql.January , 2022)\n",
    "ql.Settings.instance().evaluationDate = today\n",
    "\n",
    "settlementDays = 1\n",
    "faceAmount = 100.0"
   ]
  },
  {
   "cell_type": "code",
   "execution_count": 3,
   "id": "8f719c16-32c8-4ccc-9423-3c9e7a9b2197",
   "metadata": {
    "execution": {
     "iopub.execute_input": "2022-01-29T10:51:32.701638Z",
     "iopub.status.busy": "2022-01-29T10:51:32.701638Z",
     "iopub.status.idle": "2022-01-29T10:51:32.745489Z",
     "shell.execute_reply": "2022-01-29T10:51:32.745489Z",
     "shell.execute_reply.started": "2022-01-29T10:51:32.701638Z"
    }
   },
   "outputs": [
    {
     "name": "stdout",
     "output_type": "stream",
     "text": [
      "June 30th, 2011\n",
      "June 30th, 2012\n",
      "June 30th, 2013\n",
      "June 30th, 2014\n",
      "June 30th, 2015\n",
      "June 30th, 2016\n",
      "June 30th, 2017\n",
      "June 30th, 2018\n",
      "June 30th, 2019\n",
      "June 30th, 2020\n",
      "June 30th, 2021\n",
      "June 30th, 2022\n",
      "June 30th, 2023\n",
      "June 30th, 2024\n",
      "June 30th, 2025\n",
      "June 30th, 2026\n",
      "June 30th, 2027\n",
      "June 30th, 2028\n",
      "June 30th, 2029\n",
      "June 30th, 2030\n",
      "June 30th, 2031\n"
     ]
    }
   ],
   "source": [
    "effectiveDate = ql.Date(30, ql.June, 2011)\n",
    "terminationDate = ql.Date(30, ql.June, 2031)\n",
    "tenor = ql.Period(1, ql.Years)\n",
    "calendar = ql.China(ql.China.IB)\n",
    "convention = ql.Unadjusted\n",
    "terminationDateConvention = convention\n",
    "rule = ql.DateGeneration.Backward\n",
    "endOfMonth = False\n",
    "\n",
    "schedule = ql.Schedule(\n",
    "    effectiveDate,\n",
    "    terminationDate,\n",
    "    tenor,\n",
    "    calendar,\n",
    "    convention,\n",
    "    terminationDateConvention,\n",
    "    rule,\n",
    "    endOfMonth)\n",
    "\n",
    "for s in schedule:\n",
    "    print(s)\n",
    "\n",
    "coupons = ql.DoubleVector(1)\n",
    "coupons[0] = 5.56 / 100.0\n",
    "accrualDayCounter = ql.ActualActual(\n",
    "    ql.ActualActual.Bond, schedule)\n",
    "paymentConvention = ql.Unadjusted\n",
    "\n",
    "bond = ql.FixedRateBond(\n",
    "    settlementDays,\n",
    "    faceAmount,\n",
    "    schedule,\n",
    "    coupons,\n",
    "    accrualDayCounter,\n",
    "    paymentConvention)"
   ]
  },
  {
   "cell_type": "code",
   "execution_count": 4,
   "id": "431a075b-e078-481e-a4bc-876cbd95d46e",
   "metadata": {
    "execution": {
     "iopub.execute_input": "2022-01-29T10:54:04.150083Z",
     "iopub.status.busy": "2022-01-29T10:54:04.150083Z",
     "iopub.status.idle": "2022-01-29T10:54:04.179064Z",
     "shell.execute_reply": "2022-01-29T10:54:04.179064Z",
     "shell.execute_reply.started": "2022-01-29T10:54:04.150083Z"
    }
   },
   "outputs": [],
   "source": [
    "bondYield = 4.0910 / 100.0\n",
    "\n",
    "compounding = ql.Compounded\n",
    "frequency = ql.Annual\n",
    "\n",
    "termStructure = ql.YieldTermStructureHandle(\n",
    "    ql.FlatForward(\n",
    "        settlementDays,\n",
    "        calendar,\n",
    "        bondYield,\n",
    "        accrualDayCounter,\n",
    "        compounding,\n",
    "        frequency))\n",
    "\n",
    "engine = ql.DiscountingBondEngine(termStructure)\n",
    "bond.setPricingEngine(engine)"
   ]
  },
  {
   "cell_type": "code",
   "execution_count": 5,
   "id": "43a5449f-0f7a-40eb-8bc2-3ea4d89ac814",
   "metadata": {
    "execution": {
     "iopub.execute_input": "2022-01-29T10:57:33.153071Z",
     "iopub.status.busy": "2022-01-29T10:57:33.153071Z",
     "iopub.status.idle": "2022-01-29T10:57:36.370814Z",
     "shell.execute_reply": "2022-01-29T10:57:36.369817Z",
     "shell.execute_reply.started": "2022-01-29T10:57:33.153071Z"
    },
    "tags": []
   },
   "outputs": [
    {
     "ename": "RuntimeError",
     "evalue": "Dates out of range of schedule: date 1: January 28th, 2022, date 2: December 31st, 2199, first date: June 30th, 2011, last date: June 30th, 2031",
     "output_type": "error",
     "traceback": [
      "\u001b[1;31m---------------------------------------------------------------------------\u001b[0m",
      "\u001b[1;31mRuntimeError\u001b[0m                              Traceback (most recent call last)",
      "Input \u001b[1;32mIn [5]\u001b[0m, in \u001b[0;36m<module>\u001b[1;34m\u001b[0m\n\u001b[1;32m----> 1\u001b[0m cleanPrice \u001b[38;5;241m=\u001b[39m \u001b[43mbond\u001b[49m\u001b[38;5;241;43m.\u001b[39;49m\u001b[43mcleanPrice\u001b[49m\u001b[43m(\u001b[49m\u001b[43m)\u001b[49m\n\u001b[0;32m      2\u001b[0m dirtyPrice \u001b[38;5;241m=\u001b[39m bond\u001b[38;5;241m.\u001b[39mdirtyPrice()\n\u001b[0;32m      3\u001b[0m accruedAmount \u001b[38;5;241m=\u001b[39m bond\u001b[38;5;241m.\u001b[39maccruedAmount()\n",
      "File \u001b[1;32m~\\.virtualenvs\\helper-4Wpgvp3w\\lib\\site-packages\\QuantLib\\QuantLib.py:17744\u001b[0m, in \u001b[0;36mBond.cleanPrice\u001b[1;34m(self, *args)\u001b[0m\n\u001b[0;32m  17743\u001b[0m \u001b[38;5;28;01mdef\u001b[39;00m \u001b[38;5;21mcleanPrice\u001b[39m(\u001b[38;5;28mself\u001b[39m, \u001b[38;5;241m*\u001b[39margs):\n\u001b[1;32m> 17744\u001b[0m     \u001b[38;5;28;01mreturn\u001b[39;00m \u001b[43m_QuantLib\u001b[49m\u001b[38;5;241;43m.\u001b[39;49m\u001b[43mBond_cleanPrice\u001b[49m\u001b[43m(\u001b[49m\u001b[38;5;28;43mself\u001b[39;49m\u001b[43m,\u001b[49m\u001b[43m \u001b[49m\u001b[38;5;241;43m*\u001b[39;49m\u001b[43margs\u001b[49m\u001b[43m)\u001b[49m\n",
      "\u001b[1;31mRuntimeError\u001b[0m: Dates out of range of schedule: date 1: January 28th, 2022, date 2: December 31st, 2199, first date: June 30th, 2011, last date: June 30th, 2031"
     ]
    }
   ],
   "source": [
    "cleanPrice = bond.cleanPrice()\n",
    "dirtyPrice = bond.dirtyPrice()\n",
    "accruedAmount = bond.accruedAmount()\n",
    "\n",
    "duration = ql.BondFunctions.duration(\n",
    "    bond,\n",
    "    bondYield,\n",
    "    accrualDayCounter,\n",
    "    compounding,\n",
    "    frequency)\n",
    "\n",
    "convexity = ql.BondFunctions.convexity(\n",
    "    bond,\n",
    "    bondYield,\n",
    "    accrualDayCounter,\n",
    "    compounding,\n",
    "    frequency)\n",
    "\n",
    "bps = ql.BondFunctions.basisPointValue(\n",
    "    bond,\n",
    "    bondYield,\n",
    "    accrualDayCounter,\n",
    "    compounding,\n",
    "    frequency)\n",
    "\n",
    "tab = pt.PrettyTable(['item', 'QuantLib', 'ShClearing'])\n",
    "tab.add_row(['clean price', cleanPrice, 111.2672])\n",
    "tab.add_row(['dirty price', dirtyPrice, 114.4813])\n",
    "tab.add_row(['accrued amount', accruedAmount, 3.2141])\n",
    "tab.add_row(['duration', duration, 3.9367])\n",
    "tab.add_row(['convexity', convexity, 20.9452])\n",
    "tab.add_row(['bps', abs(bps), 0.0451])\n",
    "\n",
    "tab.float_format = '.4'\n",
    "\n",
    "print(tab)\n"
   ]
  },
  {
   "cell_type": "code",
   "execution_count": null,
   "id": "de1879fc-bd82-4b5b-813e-836da78252df",
   "metadata": {},
   "outputs": [],
   "source": []
  }
 ],
 "metadata": {
  "kernelspec": {
   "display_name": "Python 3 (ipykernel)",
   "language": "python",
   "name": "python3"
  },
  "language_info": {
   "codemirror_mode": {
    "name": "ipython",
    "version": 3
   },
   "file_extension": ".py",
   "mimetype": "text/x-python",
   "name": "python",
   "nbconvert_exporter": "python",
   "pygments_lexer": "ipython3",
   "version": "3.8.10"
  }
 },
 "nbformat": 4,
 "nbformat_minor": 5
}

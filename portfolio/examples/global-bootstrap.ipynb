{
 "cells": [
  {
   "cell_type": "markdown",
   "id": "6a5052e6",
   "metadata": {},
   "source": [
    "# Global curve bootstrap\n",
    "\n",
    "Copyright (&copy;) 2020 StatPro Italia srl\n",
    "\n",
    "This file is part of QuantLib, a free-software/open-source library\n",
    "for financial quantitative analysts and developers - https://www.quantlib.org/\n",
    "\n",
    "QuantLib is free software: you can redistribute it and/or modify it under the\n",
    "terms of the QuantLib license.  You should have received a copy of the\n",
    "license along with this program; if not, please email\n",
    "<quantlib-dev@lists.sf.net>. The license is also available online at\n",
    "<https://www.quantlib.org/license.shtml>.\n",
    "\n",
    "This program is distributed in the hope that it will be useful, but WITHOUT\n",
    "ANY WARRANTY; without even the implied warranty of MERCHANTABILITY or FITNESS\n",
    "FOR A PARTICULAR PURPOSE.  See the license for more details."
   ]
  },
  {
   "cell_type": "code",
   "execution_count": null,
   "id": "6e86ea53",
   "metadata": {},
   "outputs": [],
   "source": [
    "import QuantLib as ql\n",
    "import pandas as pd"
   ]
  },
  {
   "cell_type": "code",
   "execution_count": null,
   "id": "3224d33c",
   "metadata": {},
   "outputs": [],
   "source": [
    "interactive = \"get_ipython\" in globals()"
   ]
  },
  {
   "cell_type": "markdown",
   "id": "bee6518b",
   "metadata": {},
   "source": [
    "### Setup"
   ]
  },
  {
   "cell_type": "code",
   "execution_count": null,
   "id": "e0968742",
   "metadata": {},
   "outputs": [],
   "source": [
    "today = ql.Date(26, 9, 2019)\n",
    "spot = ql.TARGET().advance(today, 2, ql.Days)"
   ]
  },
  {
   "cell_type": "code",
   "execution_count": null,
   "id": "256a43c3",
   "metadata": {},
   "outputs": [],
   "source": [
    "ql.Settings.instance().evaluationDate = today"
   ]
  },
  {
   "cell_type": "markdown",
   "id": "9c57a937",
   "metadata": {},
   "source": [
    "### Data\n",
    "\n",
    "We'll use the following data as input:"
   ]
  },
  {
   "cell_type": "code",
   "execution_count": null,
   "id": "a3998c2a",
   "metadata": {},
   "outputs": [],
   "source": [
    "refMktRates = [\n",
    "    -0.373,\n",
    "    -0.388,\n",
    "    -0.402,\n",
    "    -0.418,\n",
    "    -0.431,\n",
    "    -0.441,\n",
    "    -0.45,\n",
    "    -0.457,\n",
    "    -0.463,\n",
    "    -0.469,\n",
    "    -0.461,\n",
    "    -0.463,\n",
    "    -0.479,\n",
    "    -0.4511,\n",
    "    -0.45418,\n",
    "    -0.439,\n",
    "    -0.4124,\n",
    "    -0.37703,\n",
    "    -0.3335,\n",
    "    -0.28168,\n",
    "    -0.22725,\n",
    "    -0.1745,\n",
    "    -0.12425,\n",
    "    -0.07746,\n",
    "    0.0385,\n",
    "    0.1435,\n",
    "    0.17525,\n",
    "    0.17275,\n",
    "    0.1515,\n",
    "    0.1225,\n",
    "    0.095,\n",
    "    0.0644,\n",
    "]"
   ]
  },
  {
   "cell_type": "markdown",
   "id": "936194d6",
   "metadata": {},
   "source": [
    "### Market instruments"
   ]
  },
  {
   "cell_type": "code",
   "execution_count": null,
   "id": "d1de3b72",
   "metadata": {},
   "outputs": [],
   "source": [
    "index = ql.Euribor6M()"
   ]
  },
  {
   "cell_type": "markdown",
   "id": "9796dd9f",
   "metadata": {},
   "source": [
    "The first market rate is for the 6-months deposit..."
   ]
  },
  {
   "cell_type": "code",
   "execution_count": null,
   "id": "3648bef7",
   "metadata": {},
   "outputs": [],
   "source": [
    "helpers = [\n",
    "    ql.DepositRateHelper(\n",
    "        refMktRates[0] / 100.0, ql.Period(6, ql.Months), 2, ql.TARGET(), ql.ModifiedFollowing, True, ql.Actual360()\n",
    "    )\n",
    "]"
   ]
  },
  {
   "cell_type": "markdown",
   "id": "45522663",
   "metadata": {},
   "source": [
    "...the next 12 are for FRAs..."
   ]
  },
  {
   "cell_type": "code",
   "execution_count": null,
   "id": "1a7c2362",
   "metadata": {},
   "outputs": [],
   "source": [
    "helpers += [ql.FraRateHelper(r / 100.0, i + 1, index) for i, r in enumerate(refMktRates[1:13])]"
   ]
  },
  {
   "cell_type": "markdown",
   "id": "25232751",
   "metadata": {},
   "source": [
    "...and the others are swap rates."
   ]
  },
  {
   "cell_type": "code",
   "execution_count": null,
   "id": "78a2cfda",
   "metadata": {},
   "outputs": [],
   "source": [
    "swapTenors = [2, 3, 4, 5, 6, 7, 8, 9, 10, 11, 12, 15, 20, 25, 30, 35, 40, 45, 50]\n",
    "helpers += [\n",
    "    ql.SwapRateHelper(\n",
    "        r / 100.0, ql.Period(T, ql.Years), ql.TARGET(), ql.Annual, ql.ModifiedFollowing, ql.Thirty360(), index\n",
    "    )\n",
    "    for r, T in zip(refMktRates[13:32], swapTenors)\n",
    "]"
   ]
  },
  {
   "cell_type": "markdown",
   "id": "53fd0b49",
   "metadata": {},
   "source": [
    "We'll also add a few synthetic helpers:"
   ]
  },
  {
   "cell_type": "code",
   "execution_count": null,
   "id": "8a7f4d48",
   "metadata": {
    "lines_to_next_cell": 2
   },
   "outputs": [],
   "source": [
    "additional_helpers = [ql.FraRateHelper(-0.004, 12 + i, index) for i in range(7)]\n",
    "additional_dates = [ql.TARGET().advance(spot, 1 + i, ql.Months) for i in range(5)]"
   ]
  },
  {
   "cell_type": "markdown",
   "id": "054a6313",
   "metadata": {},
   "source": [
    "### Global bootstrap\n",
    "\n",
    "This curve takes into account the market instruments, as well as the passed additional ones."
   ]
  },
  {
   "cell_type": "code",
   "execution_count": null,
   "id": "302ce0df",
   "metadata": {
    "lines_to_next_cell": 2
   },
   "outputs": [],
   "source": [
    "curve = ql.GlobalLinearSimpleZeroCurve(\n",
    "    spot, helpers, ql.Actual365Fixed(), ql.GlobalBootstrap(additional_helpers, additional_dates, 1.0e-12)\n",
    ")\n",
    "curve.enableExtrapolation()"
   ]
  },
  {
   "cell_type": "markdown",
   "id": "7c85190e",
   "metadata": {},
   "source": [
    "### Report"
   ]
  },
  {
   "cell_type": "code",
   "execution_count": null,
   "id": "c5fd6fbe",
   "metadata": {},
   "outputs": [],
   "source": [
    "data = []\n",
    "for i, h in enumerate(helpers):\n",
    "    pillar = h.pillarDate()\n",
    "\n",
    "    if i < 13:\n",
    "        day_counter = ql.Actual360()\n",
    "        compounding = ql.Simple\n",
    "    else:\n",
    "        day_counter = ql.Thirty360()\n",
    "        compounding = ql.SimpleThenCompounded\n",
    "\n",
    "    r = curve.zeroRate(pillar, day_counter, compounding, ql.Annual).rate()\n",
    "    data.append((pillar.to_date(), r * 100))"
   ]
  },
  {
   "cell_type": "code",
   "execution_count": null,
   "id": "5dfc9747",
   "metadata": {},
   "outputs": [],
   "source": [
    "df = pd.DataFrame(data, columns=[\"pillar\", \"zero rate\"])\n",
    "if not interactive:\n",
    "    print(df)\n",
    "df"
   ]
  }
 ],
 "metadata": {
  "kernelspec": {
   "display_name": "Python 3",
   "language": "python",
   "name": "python3"
  }
 },
 "nbformat": 4,
 "nbformat_minor": 5
}

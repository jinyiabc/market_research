{
 "cells": [
  {
   "cell_type": "markdown",
   "id": "48e65643",
   "metadata": {},
   "source": [
    "# American options\n",
    "\n",
    "Copyright (&copy;) 2004, 2005, 2006, 2007 StatPro Italia srl\n",
    "\n",
    "This file is part of QuantLib, a free-software/open-source library\n",
    "for financial quantitative analysts and developers - https://www.quantlib.org/\n",
    "\n",
    "QuantLib is free software: you can redistribute it and/or modify it under the\n",
    "terms of the QuantLib license.  You should have received a copy of the\n",
    "license along with this program; if not, please email\n",
    "<quantlib-dev@lists.sf.net>. The license is also available online at\n",
    "<https://www.quantlib.org/license.shtml>.\n",
    "\n",
    "This program is distributed in the hope that it will be useful, but WITHOUT\n",
    "ANY WARRANTY; without even the implied warranty of MERCHANTABILITY or FITNESS\n",
    "FOR A PARTICULAR PURPOSE.  See the license for more details."
   ]
  },
  {
   "cell_type": "code",
   "execution_count": null,
   "id": "51d73714",
   "metadata": {},
   "outputs": [],
   "source": [
    "import QuantLib as ql\n",
    "import pandas as pd"
   ]
  },
  {
   "cell_type": "markdown",
   "id": "64d1dd4e",
   "metadata": {},
   "source": [
    "### Global parameters"
   ]
  },
  {
   "cell_type": "code",
   "execution_count": null,
   "id": "e6dd4170",
   "metadata": {},
   "outputs": [],
   "source": [
    "todaysDate = ql.Date(15, ql.May, 1998)\n",
    "ql.Settings.instance().evaluationDate = todaysDate"
   ]
  },
  {
   "cell_type": "code",
   "execution_count": null,
   "id": "4b6e538d",
   "metadata": {},
   "outputs": [],
   "source": [
    "interactive = \"get_ipython\" in globals()"
   ]
  },
  {
   "cell_type": "markdown",
   "id": "a8ae70fa",
   "metadata": {},
   "source": [
    "### Option construction"
   ]
  },
  {
   "cell_type": "code",
   "execution_count": null,
   "id": "4982f013",
   "metadata": {},
   "outputs": [],
   "source": [
    "exercise = ql.AmericanExercise(todaysDate, ql.Date(17, ql.May, 1999))\n",
    "payoff = ql.PlainVanillaPayoff(ql.Option.Put, 40.0)"
   ]
  },
  {
   "cell_type": "code",
   "execution_count": null,
   "id": "a6d395dc",
   "metadata": {},
   "outputs": [],
   "source": [
    "option = ql.VanillaOption(payoff, exercise)"
   ]
  },
  {
   "cell_type": "markdown",
   "id": "30bdf7b7",
   "metadata": {},
   "source": [
    "### Market data"
   ]
  },
  {
   "cell_type": "code",
   "execution_count": null,
   "id": "9acd2794",
   "metadata": {},
   "outputs": [],
   "source": [
    "underlying = ql.SimpleQuote(36.0)\n",
    "dividendYield = ql.FlatForward(todaysDate, 0.00, ql.Actual365Fixed())\n",
    "volatility = ql.BlackConstantVol(todaysDate, ql.TARGET(), 0.20, ql.Actual365Fixed())\n",
    "riskFreeRate = ql.FlatForward(todaysDate, 0.06, ql.Actual365Fixed())"
   ]
  },
  {
   "cell_type": "code",
   "execution_count": null,
   "id": "780ce301",
   "metadata": {},
   "outputs": [],
   "source": [
    "process = ql.BlackScholesMertonProcess(\n",
    "    ql.QuoteHandle(underlying),\n",
    "    ql.YieldTermStructureHandle(dividendYield),\n",
    "    ql.YieldTermStructureHandle(riskFreeRate),\n",
    "    ql.BlackVolTermStructureHandle(volatility),\n",
    ")"
   ]
  },
  {
   "cell_type": "markdown",
   "id": "af4b4ac5",
   "metadata": {},
   "source": [
    "### Pricing\n",
    "\n",
    "We'll collect tuples of method name, option value, and estimated error from the analytic formula."
   ]
  },
  {
   "cell_type": "code",
   "execution_count": null,
   "id": "b5361808",
   "metadata": {},
   "outputs": [],
   "source": [
    "results = []"
   ]
  },
  {
   "cell_type": "markdown",
   "id": "6f3b598d",
   "metadata": {},
   "source": [
    "#### Analytic approximations"
   ]
  },
  {
   "cell_type": "code",
   "execution_count": null,
   "id": "829b350d",
   "metadata": {},
   "outputs": [],
   "source": [
    "option.setPricingEngine(ql.BaroneAdesiWhaleyApproximationEngine(process))\n",
    "results.append((\"Barone-Adesi-Whaley\", option.NPV()))"
   ]
  },
  {
   "cell_type": "code",
   "execution_count": null,
   "id": "12832a75",
   "metadata": {},
   "outputs": [],
   "source": [
    "option.setPricingEngine(ql.BjerksundStenslandApproximationEngine(process))\n",
    "results.append((\"Bjerksund-Stensland\", option.NPV()))"
   ]
  },
  {
   "cell_type": "markdown",
   "id": "9b1740db",
   "metadata": {},
   "source": [
    "#### Finite-difference method"
   ]
  },
  {
   "cell_type": "code",
   "execution_count": null,
   "id": "f6a1afe2",
   "metadata": {},
   "outputs": [],
   "source": [
    "timeSteps = 801\n",
    "gridPoints = 800"
   ]
  },
  {
   "cell_type": "code",
   "execution_count": null,
   "id": "6a880426",
   "metadata": {},
   "outputs": [],
   "source": [
    "option.setPricingEngine(ql.FdBlackScholesVanillaEngine(process, timeSteps, gridPoints))\n",
    "results.append((\"finite differences\", option.NPV()))"
   ]
  },
  {
   "cell_type": "markdown",
   "id": "bba6bd46",
   "metadata": {},
   "source": [
    "#### Binomial method"
   ]
  },
  {
   "cell_type": "code",
   "execution_count": null,
   "id": "0d0fb5ce",
   "metadata": {},
   "outputs": [],
   "source": [
    "timeSteps = 801"
   ]
  },
  {
   "cell_type": "code",
   "execution_count": null,
   "id": "479ed4ff",
   "metadata": {},
   "outputs": [],
   "source": [
    "for tree in [\"JR\", \"CRR\", \"EQP\", \"Trigeorgis\", \"Tian\", \"LR\", \"Joshi4\"]:\n",
    "    option.setPricingEngine(ql.BinomialVanillaEngine(process, tree, timeSteps))\n",
    "    results.append((\"Binomial (%s)\" % tree, option.NPV()))"
   ]
  },
  {
   "cell_type": "markdown",
   "id": "8a44828d",
   "metadata": {},
   "source": [
    "### Results"
   ]
  },
  {
   "cell_type": "code",
   "execution_count": null,
   "id": "f4d9953a",
   "metadata": {},
   "outputs": [],
   "source": [
    "df = pd.DataFrame(results, columns=[\"Method\", \"Option value\"])\n",
    "df.style.hide_index()"
   ]
  },
  {
   "cell_type": "markdown",
   "id": "71d1972e",
   "metadata": {},
   "source": [
    "The following displays the results when this is run as a Python script (in which case the cell above is not displayed)."
   ]
  },
  {
   "cell_type": "code",
   "execution_count": null,
   "id": "84c5f652",
   "metadata": {},
   "outputs": [],
   "source": [
    "if not interactive:\n",
    "    print(df)"
   ]
  }
 ],
 "metadata": {
  "kernelspec": {
   "display_name": "Python 3",
   "language": "python",
   "name": "python3"
  }
 },
 "nbformat": 4,
 "nbformat_minor": 5
}

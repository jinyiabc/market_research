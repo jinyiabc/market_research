{
 "cells": [
  {
   "cell_type": "markdown",
   "id": "950ce779",
   "metadata": {},
   "source": [
    "# Interest-rate swaps\n",
    "\n",
    "Copyright (&copy;) 2004, 2005, 2006, 2007 StatPro Italia srl\n",
    "\n",
    "This file is part of QuantLib, a free-software/open-source library\n",
    "for financial quantitative analysts and developers - https://www.quantlib.org/\n",
    "\n",
    "QuantLib is free software: you can redistribute it and/or modify it under the\n",
    "terms of the QuantLib license.  You should have received a copy of the\n",
    "license along with this program; if not, please email\n",
    "<quantlib-dev@lists.sf.net>. The license is also available online at\n",
    "<https://www.quantlib.org/license.shtml>.\n",
    "\n",
    "This program is distributed in the hope that it will be useful, but WITHOUT\n",
    "ANY WARRANTY; without even the implied warranty of MERCHANTABILITY or FITNESS\n",
    "FOR A PARTICULAR PURPOSE.  See the license for more details."
   ]
  },
  {
   "cell_type": "code",
   "execution_count": null,
   "id": "23cd9fce",
   "metadata": {},
   "outputs": [],
   "source": [
    "import QuantLib as ql"
   ]
  },
  {
   "cell_type": "markdown",
   "id": "7536f1b6",
   "metadata": {},
   "source": [
    "### Global data"
   ]
  },
  {
   "cell_type": "code",
   "execution_count": null,
   "id": "a4023a0a",
   "metadata": {},
   "outputs": [],
   "source": [
    "calendar = ql.TARGET()\n",
    "todaysDate = ql.Date(6, ql.November, 2001)\n",
    "ql.Settings.instance().evaluationDate = todaysDate\n",
    "settlementDate = ql.Date(8, ql.November, 2001)"
   ]
  },
  {
   "cell_type": "markdown",
   "id": "cf7eb07f",
   "metadata": {},
   "source": [
    "### Market quotes"
   ]
  },
  {
   "cell_type": "code",
   "execution_count": null,
   "id": "6ee52219",
   "metadata": {},
   "outputs": [],
   "source": [
    "deposits = {\n",
    "    (3, ql.Months): 0.0363,\n",
    "}"
   ]
  },
  {
   "cell_type": "code",
   "execution_count": null,
   "id": "10e8fe6a",
   "metadata": {},
   "outputs": [],
   "source": [
    "FRAs = {(3, 6): 0.037125, (6, 9): 0.037125, (9, 12): 0.037125}"
   ]
  },
  {
   "cell_type": "code",
   "execution_count": null,
   "id": "b1eb2ade",
   "metadata": {},
   "outputs": [],
   "source": [
    "futures = {\n",
    "    ql.Date(19, 12, 2001): 96.2875,\n",
    "    ql.Date(20, 3, 2002): 96.7875,\n",
    "    ql.Date(19, 6, 2002): 96.9875,\n",
    "    ql.Date(18, 9, 2002): 96.6875,\n",
    "    ql.Date(18, 12, 2002): 96.4875,\n",
    "    ql.Date(19, 3, 2003): 96.3875,\n",
    "    ql.Date(18, 6, 2003): 96.2875,\n",
    "    ql.Date(17, 9, 2003): 96.0875,\n",
    "}"
   ]
  },
  {
   "cell_type": "code",
   "execution_count": null,
   "id": "48704fc8",
   "metadata": {},
   "outputs": [],
   "source": [
    "swaps = {\n",
    "    (2, ql.Years): 0.037125,\n",
    "    (3, ql.Years): 0.0398,\n",
    "    (5, ql.Years): 0.0443,\n",
    "    (10, ql.Years): 0.05165,\n",
    "    (15, ql.Years): 0.055175,\n",
    "}"
   ]
  },
  {
   "cell_type": "markdown",
   "id": "e155efb6",
   "metadata": {},
   "source": [
    "We'll convert them to `Quote` objects..."
   ]
  },
  {
   "cell_type": "code",
   "execution_count": null,
   "id": "9c13d89e",
   "metadata": {},
   "outputs": [],
   "source": [
    "for n, unit in deposits.keys():\n",
    "    deposits[(n, unit)] = ql.SimpleQuote(deposits[(n, unit)])\n",
    "for n, m in FRAs.keys():\n",
    "    FRAs[(n, m)] = ql.SimpleQuote(FRAs[(n, m)])\n",
    "for d in futures.keys():\n",
    "    futures[d] = ql.SimpleQuote(futures[d])\n",
    "for n, unit in swaps.keys():\n",
    "    swaps[(n, unit)] = ql.SimpleQuote(swaps[(n, unit)])"
   ]
  },
  {
   "cell_type": "markdown",
   "id": "c267189c",
   "metadata": {},
   "source": [
    "...and build rate helpers."
   ]
  },
  {
   "cell_type": "code",
   "execution_count": null,
   "id": "750977df",
   "metadata": {},
   "outputs": [],
   "source": [
    "dayCounter = ql.Actual360()\n",
    "settlementDays = 2\n",
    "depositHelpers = [\n",
    "    ql.DepositRateHelper(\n",
    "        ql.QuoteHandle(deposits[(n, unit)]),\n",
    "        ql.Period(n, unit),\n",
    "        settlementDays,\n",
    "        calendar,\n",
    "        ql.ModifiedFollowing,\n",
    "        False,\n",
    "        dayCounter,\n",
    "    )\n",
    "    for n, unit in deposits.keys()\n",
    "]"
   ]
  },
  {
   "cell_type": "code",
   "execution_count": null,
   "id": "137f3a45",
   "metadata": {},
   "outputs": [],
   "source": [
    "dayCounter = ql.Actual360()\n",
    "settlementDays = 2\n",
    "fraHelpers = [\n",
    "    ql.FraRateHelper(\n",
    "        ql.QuoteHandle(FRAs[(n, m)]), n, m, settlementDays, calendar, ql.ModifiedFollowing, False, dayCounter\n",
    "    )\n",
    "    for n, m in FRAs.keys()\n",
    "]"
   ]
  },
  {
   "cell_type": "code",
   "execution_count": null,
   "id": "04890862",
   "metadata": {},
   "outputs": [],
   "source": [
    "dayCounter = ql.Actual360()\n",
    "months = 3\n",
    "futuresHelpers = [\n",
    "    ql.FuturesRateHelper(\n",
    "        ql.QuoteHandle(futures[d]),\n",
    "        d,\n",
    "        months,\n",
    "        calendar,\n",
    "        ql.ModifiedFollowing,\n",
    "        True,\n",
    "        dayCounter,\n",
    "        ql.QuoteHandle(ql.SimpleQuote(0.0)),\n",
    "    )\n",
    "    for d in futures.keys()\n",
    "]"
   ]
  },
  {
   "cell_type": "markdown",
   "id": "77664cf1",
   "metadata": {},
   "source": [
    "The discount curve for the swaps will come from elsewhere. A real application would use some kind of risk-free curve; here we're using a flat one for convenience."
   ]
  },
  {
   "cell_type": "code",
   "execution_count": null,
   "id": "4edf9a76",
   "metadata": {},
   "outputs": [],
   "source": [
    "discountTermStructure = ql.YieldTermStructureHandle(\n",
    "    ql.FlatForward(settlementDate, 0.04, ql.Actual360()))"
   ]
  },
  {
   "cell_type": "code",
   "execution_count": null,
   "id": "03f17dab",
   "metadata": {},
   "outputs": [],
   "source": [
    "settlementDays = 2\n",
    "fixedLegFrequency = ql.Annual\n",
    "fixedLegTenor = ql.Period(1, ql.Years)\n",
    "fixedLegAdjustment = ql.Unadjusted\n",
    "fixedLegDayCounter = ql.Thirty360()\n",
    "floatingLegFrequency = ql.Quarterly\n",
    "floatingLegTenor = ql.Period(3, ql.Months)\n",
    "floatingLegAdjustment = ql.ModifiedFollowing\n",
    "swapHelpers = [\n",
    "    ql.SwapRateHelper(\n",
    "        ql.QuoteHandle(swaps[(n, unit)]),\n",
    "        ql.Period(n, unit),\n",
    "        calendar,\n",
    "        fixedLegFrequency,\n",
    "        fixedLegAdjustment,\n",
    "        fixedLegDayCounter,\n",
    "        ql.Euribor3M(),\n",
    "        ql.QuoteHandle(),\n",
    "        ql.Period(\"0D\"),\n",
    "        discountTermStructure,\n",
    "    )\n",
    "    for n, unit in swaps.keys()\n",
    "]"
   ]
  },
  {
   "cell_type": "markdown",
   "id": "4db2ac08",
   "metadata": {},
   "source": [
    "### Term structure construction"
   ]
  },
  {
   "cell_type": "code",
   "execution_count": null,
   "id": "a18cf954",
   "metadata": {},
   "outputs": [],
   "source": [
    "forecastTermStructure = ql.RelinkableYieldTermStructureHandle()"
   ]
  },
  {
   "cell_type": "code",
   "execution_count": null,
   "id": "8fcde21b",
   "metadata": {},
   "outputs": [],
   "source": [
    "helpers = depositHelpers + futuresHelpers + swapHelpers[1:]\n",
    "depoFuturesSwapCurve = ql.PiecewiseFlatForward(settlementDate, helpers, ql.Actual360())"
   ]
  },
  {
   "cell_type": "code",
   "execution_count": null,
   "id": "7765a0a8",
   "metadata": {},
   "outputs": [],
   "source": [
    "helpers = depositHelpers + fraHelpers + swapHelpers\n",
    "depoFraSwapCurve = ql.PiecewiseFlatForward(settlementDate, helpers, ql.Actual360())"
   ]
  },
  {
   "cell_type": "markdown",
   "id": "c33f0877",
   "metadata": {},
   "source": [
    "### Swap pricing"
   ]
  },
  {
   "cell_type": "code",
   "execution_count": null,
   "id": "55ff223a",
   "metadata": {},
   "outputs": [],
   "source": [
    "swapEngine = ql.DiscountingSwapEngine(discountTermStructure)"
   ]
  },
  {
   "cell_type": "code",
   "execution_count": null,
   "id": "3750d4f4",
   "metadata": {},
   "outputs": [],
   "source": [
    "nominal = 1000000\n",
    "length = 5\n",
    "maturity = calendar.advance(settlementDate, length, ql.Years)\n",
    "payFixed = True"
   ]
  },
  {
   "cell_type": "code",
   "execution_count": null,
   "id": "fd5d6238",
   "metadata": {},
   "outputs": [],
   "source": [
    "fixedLegFrequency = ql.Annual\n",
    "fixedLegAdjustment = ql.Unadjusted\n",
    "fixedLegDayCounter = ql.Thirty360()\n",
    "fixedRate = 0.04"
   ]
  },
  {
   "cell_type": "code",
   "execution_count": null,
   "id": "9f657ea5",
   "metadata": {},
   "outputs": [],
   "source": [
    "floatingLegFrequency = ql.Quarterly\n",
    "spread = 0.0\n",
    "fixingDays = 2\n",
    "index = ql.Euribor3M(forecastTermStructure)\n",
    "floatingLegAdjustment = ql.ModifiedFollowing\n",
    "floatingLegDayCounter = index.dayCounter()"
   ]
  },
  {
   "cell_type": "code",
   "execution_count": null,
   "id": "8f2ef6f9",
   "metadata": {},
   "outputs": [],
   "source": [
    "fixedSchedule = ql.Schedule(\n",
    "    settlementDate,\n",
    "    maturity,\n",
    "    fixedLegTenor,\n",
    "    calendar,\n",
    "    fixedLegAdjustment,\n",
    "    fixedLegAdjustment,\n",
    "    ql.DateGeneration.Forward,\n",
    "    False,\n",
    ")\n",
    "floatingSchedule = ql.Schedule(\n",
    "    settlementDate,\n",
    "    maturity,\n",
    "    floatingLegTenor,\n",
    "    calendar,\n",
    "    floatingLegAdjustment,\n",
    "    floatingLegAdjustment,\n",
    "    ql.DateGeneration.Forward,\n",
    "    False,\n",
    ")"
   ]
  },
  {
   "cell_type": "markdown",
   "id": "2cabb208",
   "metadata": {},
   "source": [
    "We'll build a 5-years swap starting spot..."
   ]
  },
  {
   "cell_type": "code",
   "execution_count": null,
   "id": "ccf8ea22",
   "metadata": {},
   "outputs": [],
   "source": [
    "spot = ql.VanillaSwap(\n",
    "    ql.Swap.Payer,\n",
    "    nominal,\n",
    "    fixedSchedule,\n",
    "    fixedRate,\n",
    "    fixedLegDayCounter,\n",
    "    floatingSchedule,\n",
    "    index,\n",
    "    spread,\n",
    "    floatingLegDayCounter,\n",
    ")\n",
    "spot.setPricingEngine(swapEngine)"
   ]
  },
  {
   "cell_type": "markdown",
   "id": "7fb6d6b2",
   "metadata": {},
   "source": [
    "...and one starting 1 year forward."
   ]
  },
  {
   "cell_type": "code",
   "execution_count": null,
   "id": "2a7ff096",
   "metadata": {},
   "outputs": [],
   "source": [
    "forwardStart = calendar.advance(settlementDate, 1, ql.Years)\n",
    "forwardEnd = calendar.advance(forwardStart, length, ql.Years)\n",
    "fixedSchedule = ql.Schedule(\n",
    "    forwardStart,\n",
    "    forwardEnd,\n",
    "    fixedLegTenor,\n",
    "    calendar,\n",
    "    fixedLegAdjustment,\n",
    "    fixedLegAdjustment,\n",
    "    ql.DateGeneration.Forward,\n",
    "    False,\n",
    ")\n",
    "floatingSchedule = ql.Schedule(\n",
    "    forwardStart,\n",
    "    forwardEnd,\n",
    "    floatingLegTenor,\n",
    "    calendar,\n",
    "    floatingLegAdjustment,\n",
    "    floatingLegAdjustment,\n",
    "    ql.DateGeneration.Forward,\n",
    "    False,\n",
    ")"
   ]
  },
  {
   "cell_type": "code",
   "execution_count": null,
   "id": "952cd3b7",
   "metadata": {},
   "outputs": [],
   "source": [
    "forward = ql.VanillaSwap(\n",
    "    ql.Swap.Payer,\n",
    "    nominal,\n",
    "    fixedSchedule,\n",
    "    fixedRate,\n",
    "    fixedLegDayCounter,\n",
    "    floatingSchedule,\n",
    "    index,\n",
    "    spread,\n",
    "    floatingLegDayCounter,\n",
    ")\n",
    "forward.setPricingEngine(swapEngine)"
   ]
  },
  {
   "cell_type": "markdown",
   "id": "07ce7839",
   "metadata": {
    "lines_to_next_cell": 2
   },
   "source": [
    "We'll price them both on the bootstrapped curves.\n",
    "\n",
    "This is the quoted 5-years market rate; we expect the fair rate of the spot swap to match it."
   ]
  },
  {
   "cell_type": "code",
   "execution_count": null,
   "id": "2b5cb716",
   "metadata": {},
   "outputs": [],
   "source": [
    "print(swaps[(5, ql.Years)].value())"
   ]
  },
  {
   "cell_type": "code",
   "execution_count": null,
   "id": "1f880073",
   "metadata": {},
   "outputs": [],
   "source": [
    "def show(swap):\n",
    "    print(\"NPV         = %.2f\" % swap.NPV())\n",
    "    print(\"Fair spread = %.4f %%\" % (swap.fairSpread()*100))\n",
    "    print(\"Fair rate   =  %.4f %%\" % (swap.fairRate()*100))"
   ]
  },
  {
   "cell_type": "markdown",
   "id": "8a04b366",
   "metadata": {},
   "source": [
    "These are the results for the 5-years spot swap on the deposit/futures/swap curve..."
   ]
  },
  {
   "cell_type": "code",
   "execution_count": null,
   "id": "9c93648e",
   "metadata": {},
   "outputs": [],
   "source": [
    "forecastTermStructure.linkTo(depoFuturesSwapCurve)\n",
    "show(spot)"
   ]
  },
  {
   "cell_type": "markdown",
   "id": "21973340",
   "metadata": {},
   "source": [
    "...and these are on the deposit/fra/swap curve."
   ]
  },
  {
   "cell_type": "code",
   "execution_count": null,
   "id": "802bef5b",
   "metadata": {},
   "outputs": [],
   "source": [
    "forecastTermStructure.linkTo(depoFraSwapCurve)\n",
    "show(spot)"
   ]
  },
  {
   "cell_type": "markdown",
   "id": "f93da374",
   "metadata": {},
   "source": [
    "The same goes for the 1-year forward swap, except for the fair rate not matching the spot rate."
   ]
  },
  {
   "cell_type": "code",
   "execution_count": null,
   "id": "7969bc28",
   "metadata": {},
   "outputs": [],
   "source": [
    "forecastTermStructure.linkTo(depoFuturesSwapCurve)\n",
    "show(forward)"
   ]
  },
  {
   "cell_type": "code",
   "execution_count": null,
   "id": "9304c1b5",
   "metadata": {},
   "outputs": [],
   "source": [
    "forecastTermStructure.linkTo(depoFraSwapCurve)\n",
    "show(forward)"
   ]
  },
  {
   "cell_type": "markdown",
   "id": "763de30c",
   "metadata": {},
   "source": [
    "Modifying the 5-years swap rate and repricing will change the results:"
   ]
  },
  {
   "cell_type": "code",
   "execution_count": null,
   "id": "a471bbdb",
   "metadata": {},
   "outputs": [],
   "source": [
    "swaps[(5, ql.Years)].setValue(0.046)"
   ]
  },
  {
   "cell_type": "code",
   "execution_count": null,
   "id": "f8710c26",
   "metadata": {},
   "outputs": [],
   "source": [
    "forecastTermStructure.linkTo(depoFuturesSwapCurve)"
   ]
  },
  {
   "cell_type": "code",
   "execution_count": null,
   "id": "fe79f1fd",
   "metadata": {},
   "outputs": [],
   "source": [
    "show(spot)"
   ]
  },
  {
   "cell_type": "code",
   "execution_count": null,
   "id": "221f7630",
   "metadata": {},
   "outputs": [],
   "source": [
    "show(forward)"
   ]
  },
  {
   "cell_type": "code",
   "execution_count": null,
   "id": "73b9af7e",
   "metadata": {},
   "outputs": [],
   "source": [
    "forecastTermStructure.linkTo(depoFraSwapCurve)"
   ]
  },
  {
   "cell_type": "code",
   "execution_count": null,
   "id": "41febc90",
   "metadata": {},
   "outputs": [],
   "source": [
    "show(spot)"
   ]
  },
  {
   "cell_type": "code",
   "execution_count": null,
   "id": "7724408b",
   "metadata": {},
   "outputs": [],
   "source": [
    "show(forward)"
   ]
  }
 ],
 "metadata": {
  "kernelspec": {
   "display_name": "Python 3",
   "language": "python",
   "name": "python3"
  }
 },
 "nbformat": 4,
 "nbformat_minor": 5
}

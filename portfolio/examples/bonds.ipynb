{
 "cells": [
  {
   "cell_type": "markdown",
   "id": "aaa40756",
   "metadata": {},
   "source": [
    "# Bonds\n",
    "\n",
    "Copyright (&copy;) 2008 Florent Grenier\n",
    "Copyright (&copy;) 2010 Lluis Pujol Bajador\n",
    "\n",
    "This file is part of QuantLib, a free-software/open-source library\n",
    "for financial quantitative analysts and developers - https://www.quantlib.org/\n",
    "\n",
    "QuantLib is free software: you can redistribute it and/or modify it\n",
    "under the terms of the QuantLib license.  You should have received a\n",
    "copy of the license along with this program; if not, please email\n",
    "<quantlib-dev@lists.sf.net>. The license is also available online at\n",
    "<https://www.quantlib.org/license.shtml>.\n",
    "\n",
    "This program is distributed in the hope that it will be useful, but WITHOUT\n",
    "ANY WARRANTY; without even the implied warranty of MERCHANTABILITY or FITNESS\n",
    "FOR A PARTICULAR PURPOSE.  See the license for more details."
   ]
  },
  {
   "cell_type": "markdown",
   "id": "a7451a17",
   "metadata": {},
   "source": [
    "   This example shows how to set up a term structure and then price\n",
    "   some simple bonds. The last part is dedicated to peripherical\n",
    "   computations such as \"Yield to Price\" or \"Price to Yield\""
   ]
  },
  {
   "cell_type": "code",
   "execution_count": 1,
   "id": "2040b8cf",
   "metadata": {
    "execution": {
     "iopub.execute_input": "2022-01-29T05:32:13.846332Z",
     "iopub.status.busy": "2022-01-29T05:32:13.846332Z",
     "iopub.status.idle": "2022-01-29T05:32:14.101404Z",
     "shell.execute_reply": "2022-01-29T05:32:14.101404Z",
     "shell.execute_reply.started": "2022-01-29T05:32:13.846332Z"
    }
   },
   "outputs": [],
   "source": [
    "import QuantLib as ql\n",
    "import pandas as pd"
   ]
  },
  {
   "cell_type": "code",
   "execution_count": 2,
   "id": "f0ae8580",
   "metadata": {
    "execution": {
     "iopub.execute_input": "2022-01-29T05:32:14.102247Z",
     "iopub.status.busy": "2022-01-29T05:32:14.102247Z",
     "iopub.status.idle": "2022-01-29T05:32:14.116336Z",
     "shell.execute_reply": "2022-01-29T05:32:14.116336Z",
     "shell.execute_reply.started": "2022-01-29T05:32:14.102247Z"
    }
   },
   "outputs": [],
   "source": [
    "interactive = 'get_ipython' in globals()"
   ]
  },
  {
   "cell_type": "markdown",
   "id": "19b2f843",
   "metadata": {},
   "source": [
    "### Global data"
   ]
  },
  {
   "cell_type": "code",
   "execution_count": 3,
   "id": "919f3dde",
   "metadata": {
    "execution": {
     "iopub.execute_input": "2022-01-29T05:32:14.117298Z",
     "iopub.status.busy": "2022-01-29T05:32:14.117298Z",
     "iopub.status.idle": "2022-01-29T05:32:14.132257Z",
     "shell.execute_reply": "2022-01-29T05:32:14.132257Z",
     "shell.execute_reply.started": "2022-01-29T05:32:14.117298Z"
    }
   },
   "outputs": [],
   "source": [
    "calendar = ql.TARGET()\n",
    "settlementDate = ql.Date(18, ql.September, 2008)\n",
    "settlementDate = calendar.adjust(settlementDate)"
   ]
  },
  {
   "cell_type": "code",
   "execution_count": 4,
   "id": "d7eb352c",
   "metadata": {
    "execution": {
     "iopub.execute_input": "2022-01-29T05:32:14.133256Z",
     "iopub.status.busy": "2022-01-29T05:32:14.133256Z",
     "iopub.status.idle": "2022-01-29T05:32:14.148215Z",
     "shell.execute_reply": "2022-01-29T05:32:14.148215Z",
     "shell.execute_reply.started": "2022-01-29T05:32:14.133256Z"
    }
   },
   "outputs": [],
   "source": [
    "fixingDays = 3\n",
    "settlementDays = 3"
   ]
  },
  {
   "cell_type": "code",
   "execution_count": 5,
   "id": "489edd88",
   "metadata": {
    "execution": {
     "iopub.execute_input": "2022-01-29T05:32:14.149218Z",
     "iopub.status.busy": "2022-01-29T05:32:14.149218Z",
     "iopub.status.idle": "2022-01-29T05:32:14.164176Z",
     "shell.execute_reply": "2022-01-29T05:32:14.164176Z",
     "shell.execute_reply.started": "2022-01-29T05:32:14.149218Z"
    }
   },
   "outputs": [],
   "source": [
    "todaysDate = calendar.advance(settlementDate, -fixingDays, ql.Days)\n",
    "ql.Settings.instance().evaluationDate = todaysDate"
   ]
  },
  {
   "cell_type": "code",
   "execution_count": 6,
   "id": "9f458a28",
   "metadata": {
    "execution": {
     "iopub.execute_input": "2022-01-29T05:32:14.165175Z",
     "iopub.status.busy": "2022-01-29T05:32:14.165175Z",
     "iopub.status.idle": "2022-01-29T05:32:14.180134Z",
     "shell.execute_reply": "2022-01-29T05:32:14.180134Z",
     "shell.execute_reply.started": "2022-01-29T05:32:14.165175Z"
    }
   },
   "outputs": [
    {
     "name": "stdout",
     "output_type": "stream",
     "text": [
      "Today: September 15th, 2008\n",
      "Settlement Date: September 18th, 2008\n"
     ]
    }
   ],
   "source": [
    "print(\"Today: \" + str(todaysDate))\n",
    "print(\"Settlement Date: \" + str(settlementDate))"
   ]
  },
  {
   "cell_type": "markdown",
   "id": "b9e6e2b5",
   "metadata": {},
   "source": [
    "### Market quotes"
   ]
  },
  {
   "cell_type": "code",
   "execution_count": 7,
   "id": "ac502745",
   "metadata": {
    "execution": {
     "iopub.execute_input": "2022-01-29T05:32:14.181132Z",
     "iopub.status.busy": "2022-01-29T05:32:14.181132Z",
     "iopub.status.idle": "2022-01-29T05:32:14.196206Z",
     "shell.execute_reply": "2022-01-29T05:32:14.196206Z",
     "shell.execute_reply.started": "2022-01-29T05:32:14.181132Z"
    }
   },
   "outputs": [],
   "source": [
    "zcQuotes = [(0.0096, ql.Period(3, ql.Months)), (0.0145, ql.Period(6, ql.Months)), (0.0194, ql.Period(1, ql.Years))]"
   ]
  },
  {
   "cell_type": "code",
   "execution_count": 8,
   "id": "84dd0f0c",
   "metadata": {
    "execution": {
     "iopub.execute_input": "2022-01-29T05:32:14.197119Z",
     "iopub.status.busy": "2022-01-29T05:32:14.197119Z",
     "iopub.status.idle": "2022-01-29T05:32:14.212048Z",
     "shell.execute_reply": "2022-01-29T05:32:14.212048Z",
     "shell.execute_reply.started": "2022-01-29T05:32:14.197119Z"
    }
   },
   "outputs": [],
   "source": [
    "zcBondsDayCounter = ql.Actual365Fixed()"
   ]
  },
  {
   "cell_type": "code",
   "execution_count": 9,
   "id": "d3c928b5",
   "metadata": {
    "execution": {
     "iopub.execute_input": "2022-01-29T05:32:14.213048Z",
     "iopub.status.busy": "2022-01-29T05:32:14.213048Z",
     "iopub.status.idle": "2022-01-29T05:32:14.228027Z",
     "shell.execute_reply": "2022-01-29T05:32:14.228027Z",
     "shell.execute_reply.started": "2022-01-29T05:32:14.213048Z"
    }
   },
   "outputs": [],
   "source": [
    "zcHelpers = [\n",
    "    ql.DepositRateHelper(\n",
    "        ql.QuoteHandle(ql.SimpleQuote(r)), tenor, fixingDays, calendar, ql.ModifiedFollowing, True, zcBondsDayCounter\n",
    "    )\n",
    "    for (r, tenor) in zcQuotes\n",
    "]"
   ]
  },
  {
   "cell_type": "markdown",
   "id": "a51e890b",
   "metadata": {},
   "source": [
    "### Setup bonds"
   ]
  },
  {
   "cell_type": "code",
   "execution_count": 10,
   "id": "b2f22d2b",
   "metadata": {
    "execution": {
     "iopub.execute_input": "2022-01-29T05:32:14.229021Z",
     "iopub.status.busy": "2022-01-29T05:32:14.229021Z",
     "iopub.status.idle": "2022-01-29T05:32:14.243984Z",
     "shell.execute_reply": "2022-01-29T05:32:14.243984Z",
     "shell.execute_reply.started": "2022-01-29T05:32:14.229021Z"
    }
   },
   "outputs": [],
   "source": [
    "redemption = 100.0\n",
    "numberOfBonds = 5"
   ]
  },
  {
   "cell_type": "code",
   "execution_count": 11,
   "id": "ffc2f888",
   "metadata": {
    "execution": {
     "iopub.execute_input": "2022-01-29T05:32:14.244978Z",
     "iopub.status.busy": "2022-01-29T05:32:14.244978Z",
     "iopub.status.idle": "2022-01-29T05:32:14.259943Z",
     "shell.execute_reply": "2022-01-29T05:32:14.259943Z",
     "shell.execute_reply.started": "2022-01-29T05:32:14.244978Z"
    }
   },
   "outputs": [],
   "source": [
    "bondQuotes = [\n",
    "    (ql.Date(15, ql.March, 2005), ql.Date(31, ql.August, 2010), 0.02375, 100.390625),\n",
    "    (ql.Date(15, ql.June, 2005), ql.Date(31, ql.August, 2011), 0.04625, 106.21875),\n",
    "    (ql.Date(30, ql.June, 2006), ql.Date(31, ql.August, 2013), 0.03125, 100.59375),\n",
    "    (ql.Date(15, ql.November, 2002), ql.Date(15, ql.August, 2018), 0.04000, 101.6875),\n",
    "    (ql.Date(15, ql.May, 1987), ql.Date(15, ql.May, 2038), 0.04500, 102.140625),\n",
    "]"
   ]
  },
  {
   "cell_type": "markdown",
   "id": "ad21f8bd",
   "metadata": {},
   "source": [
    "### Definition of the rate helpers"
   ]
  },
  {
   "cell_type": "code",
   "execution_count": 12,
   "id": "e032635b",
   "metadata": {
    "execution": {
     "iopub.execute_input": "2022-01-29T05:32:14.260939Z",
     "iopub.status.busy": "2022-01-29T05:32:14.260939Z",
     "iopub.status.idle": "2022-01-29T05:32:14.275899Z",
     "shell.execute_reply": "2022-01-29T05:32:14.275899Z",
     "shell.execute_reply.started": "2022-01-29T05:32:14.260939Z"
    }
   },
   "outputs": [],
   "source": [
    "bondsHelpers = []"
   ]
  },
  {
   "cell_type": "code",
   "execution_count": 13,
   "id": "70825ed9",
   "metadata": {
    "execution": {
     "iopub.execute_input": "2022-01-29T05:32:14.276893Z",
     "iopub.status.busy": "2022-01-29T05:32:14.276893Z",
     "iopub.status.idle": "2022-01-29T05:32:14.291859Z",
     "shell.execute_reply": "2022-01-29T05:32:14.291859Z",
     "shell.execute_reply.started": "2022-01-29T05:32:14.276893Z"
    }
   },
   "outputs": [],
   "source": [
    "for issueDate, maturity, couponRate, marketQuote in bondQuotes:\n",
    "    schedule = ql.Schedule(\n",
    "        issueDate,\n",
    "        maturity,\n",
    "        ql.Period(ql.Semiannual),\n",
    "        ql.UnitedStates(ql.UnitedStates.GovernmentBond),\n",
    "        ql.Unadjusted,\n",
    "        ql.Unadjusted,\n",
    "        ql.DateGeneration.Backward,\n",
    "        False,\n",
    "    )\n",
    "    bondsHelpers.append(\n",
    "        ql.FixedRateBondHelper(\n",
    "            ql.QuoteHandle(ql.SimpleQuote(marketQuote)),\n",
    "            settlementDays,\n",
    "            100.0,\n",
    "            schedule,\n",
    "            [couponRate],\n",
    "            ql.ActualActual(ql.ActualActual.Bond),\n",
    "            ql.Unadjusted,\n",
    "            redemption,\n",
    "            issueDate,\n",
    "        )\n",
    "    )"
   ]
  },
  {
   "cell_type": "markdown",
   "id": "324aad0b",
   "metadata": {},
   "source": [
    "###  Curve building"
   ]
  },
  {
   "cell_type": "code",
   "execution_count": 14,
   "id": "3e876eda",
   "metadata": {
    "execution": {
     "iopub.execute_input": "2022-01-29T05:32:14.292850Z",
     "iopub.status.busy": "2022-01-29T05:32:14.292850Z",
     "iopub.status.idle": "2022-01-29T05:32:14.307814Z",
     "shell.execute_reply": "2022-01-29T05:32:14.307814Z",
     "shell.execute_reply.started": "2022-01-29T05:32:14.292850Z"
    }
   },
   "outputs": [],
   "source": [
    "termStructureDayCounter = ql.ActualActual(ql.ActualActual.ISDA)"
   ]
  },
  {
   "cell_type": "code",
   "execution_count": 15,
   "id": "4a0a7c18",
   "metadata": {
    "execution": {
     "iopub.execute_input": "2022-01-29T05:32:14.308812Z",
     "iopub.status.busy": "2022-01-29T05:32:14.308812Z",
     "iopub.status.idle": "2022-01-29T05:32:14.323771Z",
     "shell.execute_reply": "2022-01-29T05:32:14.323771Z",
     "shell.execute_reply.started": "2022-01-29T05:32:14.308812Z"
    }
   },
   "outputs": [],
   "source": [
    "bondInstruments = zcHelpers + bondsHelpers"
   ]
  },
  {
   "cell_type": "code",
   "execution_count": 16,
   "id": "76e88ad0",
   "metadata": {
    "execution": {
     "iopub.execute_input": "2022-01-29T05:32:14.324764Z",
     "iopub.status.busy": "2022-01-29T05:32:14.324764Z",
     "iopub.status.idle": "2022-01-29T05:32:14.339729Z",
     "shell.execute_reply": "2022-01-29T05:32:14.339729Z",
     "shell.execute_reply.started": "2022-01-29T05:32:14.324764Z"
    }
   },
   "outputs": [],
   "source": [
    "bondDiscountingTermStructure = ql.PiecewiseFlatForward(settlementDate, bondInstruments, termStructureDayCounter)"
   ]
  },
  {
   "cell_type": "markdown",
   "id": "c72365f3",
   "metadata": {},
   "source": [
    "### Building of the LIBOR forecasting curve"
   ]
  },
  {
   "cell_type": "code",
   "execution_count": 17,
   "id": "23922d43",
   "metadata": {
    "execution": {
     "iopub.execute_input": "2022-01-29T05:32:14.341719Z",
     "iopub.status.busy": "2022-01-29T05:32:14.341719Z",
     "iopub.status.idle": "2022-01-29T05:32:14.355685Z",
     "shell.execute_reply": "2022-01-29T05:32:14.355685Z",
     "shell.execute_reply.started": "2022-01-29T05:32:14.341719Z"
    }
   },
   "outputs": [],
   "source": [
    "dQuotes = [\n",
    "    (0.043375, ql.Period(1, ql.Weeks)),\n",
    "    (0.031875, ql.Period(1, ql.Months)),\n",
    "    (0.0320375, ql.Period(3, ql.Months)),\n",
    "    (0.03385, ql.Period(6, ql.Months)),\n",
    "    (0.0338125, ql.Period(9, ql.Months)),\n",
    "    (0.0335125, ql.Period(1, ql.Years)),\n",
    "]\n",
    "sQuotes = [\n",
    "    (0.0295, ql.Period(2, ql.Years)),\n",
    "    (0.0323, ql.Period(3, ql.Years)),\n",
    "    (0.0359, ql.Period(5, ql.Years)),\n",
    "    (0.0412, ql.Period(10, ql.Years)),\n",
    "    (0.0433, ql.Period(15, ql.Years)),\n",
    "]"
   ]
  },
  {
   "cell_type": "code",
   "execution_count": 18,
   "id": "da08565f",
   "metadata": {
    "execution": {
     "iopub.execute_input": "2022-01-29T05:32:14.356680Z",
     "iopub.status.busy": "2022-01-29T05:32:14.356680Z",
     "iopub.status.idle": "2022-01-29T05:32:14.371643Z",
     "shell.execute_reply": "2022-01-29T05:32:14.371643Z",
     "shell.execute_reply.started": "2022-01-29T05:32:14.356680Z"
    }
   },
   "outputs": [],
   "source": [
    "depositDayCounter = ql.Actual360()\n",
    "depositHelpers = [\n",
    "    ql.DepositRateHelper(\n",
    "        ql.QuoteHandle(ql.SimpleQuote(rate)), tenor, fixingDays, calendar, ql.ModifiedFollowing, True, depositDayCounter\n",
    "    )\n",
    "    for rate, tenor in dQuotes\n",
    "]"
   ]
  },
  {
   "cell_type": "code",
   "execution_count": 19,
   "id": "0a5c09d6",
   "metadata": {
    "execution": {
     "iopub.execute_input": "2022-01-29T05:32:14.372637Z",
     "iopub.status.busy": "2022-01-29T05:32:14.372637Z",
     "iopub.status.idle": "2022-01-29T05:32:14.387596Z",
     "shell.execute_reply": "2022-01-29T05:32:14.387596Z",
     "shell.execute_reply.started": "2022-01-29T05:32:14.372637Z"
    }
   },
   "outputs": [],
   "source": [
    "swFixedLegFrequency = ql.Annual\n",
    "swFixedLegConvention = ql.Unadjusted\n",
    "swFixedLegDayCounter = ql.Thirty360(ql.Thirty360.European)\n",
    "swFloatingLegIndex = ql.Euribor6M()\n",
    "forwardStart = ql.Period(1, ql.Days)\n",
    "swapHelpers = [\n",
    "    ql.SwapRateHelper(\n",
    "        ql.QuoteHandle(ql.SimpleQuote(rate)),\n",
    "        tenor,\n",
    "        calendar,\n",
    "        swFixedLegFrequency,\n",
    "        swFixedLegConvention,\n",
    "        swFixedLegDayCounter,\n",
    "        swFloatingLegIndex,\n",
    "        ql.QuoteHandle(),\n",
    "        forwardStart,\n",
    "    )\n",
    "    for rate, tenor in sQuotes\n",
    "]"
   ]
  },
  {
   "cell_type": "code",
   "execution_count": 20,
   "id": "88807b19",
   "metadata": {
    "execution": {
     "iopub.execute_input": "2022-01-29T05:32:14.388595Z",
     "iopub.status.busy": "2022-01-29T05:32:14.388595Z",
     "iopub.status.idle": "2022-01-29T05:32:14.403554Z",
     "shell.execute_reply": "2022-01-29T05:32:14.403554Z",
     "shell.execute_reply.started": "2022-01-29T05:32:14.388595Z"
    }
   },
   "outputs": [],
   "source": [
    "depoSwapInstruments = depositHelpers + swapHelpers"
   ]
  },
  {
   "cell_type": "code",
   "execution_count": 21,
   "id": "0f535644",
   "metadata": {
    "execution": {
     "iopub.execute_input": "2022-01-29T05:32:14.404551Z",
     "iopub.status.busy": "2022-01-29T05:32:14.404551Z",
     "iopub.status.idle": "2022-01-29T05:32:14.419516Z",
     "shell.execute_reply": "2022-01-29T05:32:14.419516Z",
     "shell.execute_reply.started": "2022-01-29T05:32:14.404551Z"
    }
   },
   "outputs": [],
   "source": [
    "depoSwapTermStructure = ql.PiecewiseFlatForward(settlementDate, depoSwapInstruments, termStructureDayCounter)"
   ]
  },
  {
   "cell_type": "markdown",
   "id": "2c977190",
   "metadata": {},
   "source": [
    "### Pricing\n",
    "\n",
    "Term structures that will be used for pricing:\n",
    "the one used for discounting cash flows..."
   ]
  },
  {
   "cell_type": "code",
   "execution_count": 22,
   "id": "43e9b95d",
   "metadata": {
    "execution": {
     "iopub.execute_input": "2022-01-29T05:32:14.420508Z",
     "iopub.status.busy": "2022-01-29T05:32:14.420508Z",
     "iopub.status.idle": "2022-01-29T05:32:14.435473Z",
     "shell.execute_reply": "2022-01-29T05:32:14.435473Z",
     "shell.execute_reply.started": "2022-01-29T05:32:14.420508Z"
    }
   },
   "outputs": [],
   "source": [
    "discountingTermStructure = ql.RelinkableYieldTermStructureHandle()"
   ]
  },
  {
   "cell_type": "markdown",
   "id": "ed2c09c8",
   "metadata": {},
   "source": [
    "...and the one used for forward rate forecasting."
   ]
  },
  {
   "cell_type": "code",
   "execution_count": 23,
   "id": "268ce6cb",
   "metadata": {
    "execution": {
     "iopub.execute_input": "2022-01-29T05:32:14.436467Z",
     "iopub.status.busy": "2022-01-29T05:32:14.436467Z",
     "iopub.status.idle": "2022-01-29T05:32:14.451430Z",
     "shell.execute_reply": "2022-01-29T05:32:14.451430Z",
     "shell.execute_reply.started": "2022-01-29T05:32:14.436467Z"
    }
   },
   "outputs": [],
   "source": [
    "forecastingTermStructure = ql.RelinkableYieldTermStructureHandle()"
   ]
  },
  {
   "cell_type": "markdown",
   "id": "85db6d34",
   "metadata": {},
   "source": [
    "Bonds to be priced:"
   ]
  },
  {
   "cell_type": "code",
   "execution_count": 24,
   "id": "d1e3bfb3",
   "metadata": {
    "execution": {
     "iopub.execute_input": "2022-01-29T05:32:14.452423Z",
     "iopub.status.busy": "2022-01-29T05:32:14.452423Z",
     "iopub.status.idle": "2022-01-29T05:32:14.467384Z",
     "shell.execute_reply": "2022-01-29T05:32:14.467384Z",
     "shell.execute_reply.started": "2022-01-29T05:32:14.452423Z"
    }
   },
   "outputs": [],
   "source": [
    "faceAmount = 100"
   ]
  },
  {
   "cell_type": "code",
   "execution_count": 25,
   "id": "bb1c8889",
   "metadata": {
    "execution": {
     "iopub.execute_input": "2022-01-29T05:32:14.468385Z",
     "iopub.status.busy": "2022-01-29T05:32:14.468385Z",
     "iopub.status.idle": "2022-01-29T05:32:14.483344Z",
     "shell.execute_reply": "2022-01-29T05:32:14.483344Z",
     "shell.execute_reply.started": "2022-01-29T05:32:14.468385Z"
    }
   },
   "outputs": [],
   "source": [
    "bondEngine = ql.DiscountingBondEngine(discountingTermStructure)"
   ]
  },
  {
   "cell_type": "markdown",
   "id": "eaa1fa61",
   "metadata": {},
   "source": [
    "a zero coupon bond..."
   ]
  },
  {
   "cell_type": "code",
   "execution_count": 26,
   "id": "46f3fdb6",
   "metadata": {
    "execution": {
     "iopub.execute_input": "2022-01-29T05:32:14.484337Z",
     "iopub.status.busy": "2022-01-29T05:32:14.484337Z",
     "iopub.status.idle": "2022-01-29T05:32:14.499302Z",
     "shell.execute_reply": "2022-01-29T05:32:14.499302Z",
     "shell.execute_reply.started": "2022-01-29T05:32:14.484337Z"
    }
   },
   "outputs": [],
   "source": [
    "zeroCouponBond = ql.ZeroCouponBond(\n",
    "    settlementDays,\n",
    "    ql.UnitedStates(ql.UnitedStates.GovernmentBond),\n",
    "    faceAmount,\n",
    "    ql.Date(15, ql.August, 2013),\n",
    "    ql.Following,\n",
    "    116.92,\n",
    "    ql.Date(15, ql.August, 2003),\n",
    ")"
   ]
  },
  {
   "cell_type": "code",
   "execution_count": 27,
   "id": "3a2ac7aa",
   "metadata": {
    "execution": {
     "iopub.execute_input": "2022-01-29T05:32:14.500299Z",
     "iopub.status.busy": "2022-01-29T05:32:14.500299Z",
     "iopub.status.idle": "2022-01-29T05:32:14.515255Z",
     "shell.execute_reply": "2022-01-29T05:32:14.515255Z",
     "shell.execute_reply.started": "2022-01-29T05:32:14.500299Z"
    }
   },
   "outputs": [],
   "source": [
    "zeroCouponBond.setPricingEngine(bondEngine)"
   ]
  },
  {
   "cell_type": "markdown",
   "id": "6f93424b",
   "metadata": {},
   "source": [
    "...a fixed 4.5% US Treasury note..."
   ]
  },
  {
   "cell_type": "code",
   "execution_count": 28,
   "id": "f4376dda",
   "metadata": {
    "execution": {
     "iopub.execute_input": "2022-01-29T05:32:14.516254Z",
     "iopub.status.busy": "2022-01-29T05:32:14.516254Z",
     "iopub.status.idle": "2022-01-29T05:32:14.531217Z",
     "shell.execute_reply": "2022-01-29T05:32:14.531217Z",
     "shell.execute_reply.started": "2022-01-29T05:32:14.516254Z"
    }
   },
   "outputs": [],
   "source": [
    "fixedBondSchedule = ql.Schedule(\n",
    "    ql.Date(15, ql.May, 2007),\n",
    "    ql.Date(15, ql.May, 2017),\n",
    "    ql.Period(ql.Semiannual),\n",
    "    ql.UnitedStates(ql.UnitedStates.GovernmentBond),\n",
    "    ql.Unadjusted,\n",
    "    ql.Unadjusted,\n",
    "    ql.DateGeneration.Backward,\n",
    "    False,\n",
    ")"
   ]
  },
  {
   "cell_type": "code",
   "execution_count": 29,
   "id": "f7d234ad",
   "metadata": {
    "execution": {
     "iopub.execute_input": "2022-01-29T05:32:14.532209Z",
     "iopub.status.busy": "2022-01-29T05:32:14.532209Z",
     "iopub.status.idle": "2022-01-29T05:32:14.547174Z",
     "shell.execute_reply": "2022-01-29T05:32:14.547174Z",
     "shell.execute_reply.started": "2022-01-29T05:32:14.532209Z"
    }
   },
   "outputs": [],
   "source": [
    "fixedRateBond = ql.FixedRateBond(\n",
    "    settlementDays,\n",
    "    faceAmount,\n",
    "    fixedBondSchedule,\n",
    "    [0.045],\n",
    "    ql.ActualActual(ql.ActualActual.Bond),\n",
    "    ql.ModifiedFollowing,\n",
    "    100.0,\n",
    "    ql.Date(15, ql.May, 2007),\n",
    ")"
   ]
  },
  {
   "cell_type": "code",
   "execution_count": 30,
   "id": "609104f3",
   "metadata": {
    "execution": {
     "iopub.execute_input": "2022-01-29T05:32:14.548170Z",
     "iopub.status.busy": "2022-01-29T05:32:14.548170Z",
     "iopub.status.idle": "2022-01-29T05:32:14.562133Z",
     "shell.execute_reply": "2022-01-29T05:32:14.562133Z",
     "shell.execute_reply.started": "2022-01-29T05:32:14.548170Z"
    }
   },
   "outputs": [],
   "source": [
    "fixedRateBond.setPricingEngine(bondEngine)"
   ]
  },
  {
   "cell_type": "markdown",
   "id": "15ba3148",
   "metadata": {},
   "source": [
    "...and a floating rate bond paying 3M USD Libor + 0.1%\n",
    "(should and will be priced on another curve later)."
   ]
  },
  {
   "cell_type": "code",
   "execution_count": 31,
   "id": "df631bc2",
   "metadata": {
    "execution": {
     "iopub.execute_input": "2022-01-29T05:32:14.563126Z",
     "iopub.status.busy": "2022-01-29T05:32:14.563126Z",
     "iopub.status.idle": "2022-01-29T05:32:14.577094Z",
     "shell.execute_reply": "2022-01-29T05:32:14.577094Z",
     "shell.execute_reply.started": "2022-01-29T05:32:14.563126Z"
    }
   },
   "outputs": [],
   "source": [
    "liborTermStructure = ql.RelinkableYieldTermStructureHandle()"
   ]
  },
  {
   "cell_type": "code",
   "execution_count": 32,
   "id": "8e7a705f",
   "metadata": {
    "execution": {
     "iopub.execute_input": "2022-01-29T05:32:14.578087Z",
     "iopub.status.busy": "2022-01-29T05:32:14.578087Z",
     "iopub.status.idle": "2022-01-29T05:32:14.593052Z",
     "shell.execute_reply": "2022-01-29T05:32:14.593052Z",
     "shell.execute_reply.started": "2022-01-29T05:32:14.578087Z"
    }
   },
   "outputs": [],
   "source": [
    "libor3m = ql.USDLibor(ql.Period(3, ql.Months), liborTermStructure)\n",
    "libor3m.addFixing(ql.Date(17, ql.April, 2008), 0.028175)\n",
    "libor3m.addFixing(ql.Date(17, ql.July, 2008), 0.0278625)"
   ]
  },
  {
   "cell_type": "code",
   "execution_count": 33,
   "id": "59d0e294",
   "metadata": {
    "execution": {
     "iopub.execute_input": "2022-01-29T05:32:14.594045Z",
     "iopub.status.busy": "2022-01-29T05:32:14.594045Z",
     "iopub.status.idle": "2022-01-29T05:32:14.609008Z",
     "shell.execute_reply": "2022-01-29T05:32:14.609008Z",
     "shell.execute_reply.started": "2022-01-29T05:32:14.594045Z"
    }
   },
   "outputs": [],
   "source": [
    "floatingBondSchedule = ql.Schedule(\n",
    "    ql.Date(21, ql.October, 2005),\n",
    "    ql.Date(21, ql.October, 2010),\n",
    "    ql.Period(ql.Quarterly),\n",
    "    ql.UnitedStates(ql.UnitedStates.NYSE),\n",
    "    ql.Unadjusted,\n",
    "    ql.Unadjusted,\n",
    "    ql.DateGeneration.Backward,\n",
    "    True,\n",
    ")"
   ]
  },
  {
   "cell_type": "code",
   "execution_count": 34,
   "id": "feb8b025",
   "metadata": {
    "execution": {
     "iopub.execute_input": "2022-01-29T05:32:14.610002Z",
     "iopub.status.busy": "2022-01-29T05:32:14.610002Z",
     "iopub.status.idle": "2022-01-29T05:32:14.624966Z",
     "shell.execute_reply": "2022-01-29T05:32:14.624966Z",
     "shell.execute_reply.started": "2022-01-29T05:32:14.610002Z"
    }
   },
   "outputs": [],
   "source": [
    "floatingRateBond = ql.FloatingRateBond(\n",
    "    settlementDays,\n",
    "    faceAmount,\n",
    "    floatingBondSchedule,\n",
    "    libor3m,\n",
    "    ql.Actual360(),\n",
    "    ql.ModifiedFollowing,\n",
    "    spreads=[0.001],\n",
    "    issueDate=ql.Date(21, ql.October, 2005),\n",
    ")"
   ]
  },
  {
   "cell_type": "code",
   "execution_count": 35,
   "id": "5709ec45",
   "metadata": {
    "execution": {
     "iopub.execute_input": "2022-01-29T05:32:14.625963Z",
     "iopub.status.busy": "2022-01-29T05:32:14.625963Z",
     "iopub.status.idle": "2022-01-29T05:32:14.640925Z",
     "shell.execute_reply": "2022-01-29T05:32:14.640925Z",
     "shell.execute_reply.started": "2022-01-29T05:32:14.625963Z"
    }
   },
   "outputs": [],
   "source": [
    "floatingRateBond.setPricingEngine(bondEngine)"
   ]
  },
  {
   "cell_type": "code",
   "execution_count": 36,
   "id": "1ed679ae",
   "metadata": {
    "execution": {
     "iopub.execute_input": "2022-01-29T05:32:14.641921Z",
     "iopub.status.busy": "2022-01-29T05:32:14.641921Z",
     "iopub.status.idle": "2022-01-29T05:32:14.656880Z",
     "shell.execute_reply": "2022-01-29T05:32:14.656880Z",
     "shell.execute_reply.started": "2022-01-29T05:32:14.641921Z"
    }
   },
   "outputs": [],
   "source": [
    "forecastingTermStructure.linkTo(depoSwapTermStructure)\n",
    "discountingTermStructure.linkTo(bondDiscountingTermStructure)"
   ]
  },
  {
   "cell_type": "code",
   "execution_count": 37,
   "id": "1afcdac1",
   "metadata": {
    "execution": {
     "iopub.execute_input": "2022-01-29T05:32:14.657875Z",
     "iopub.status.busy": "2022-01-29T05:32:14.657875Z",
     "iopub.status.idle": "2022-01-29T05:32:14.672833Z",
     "shell.execute_reply": "2022-01-29T05:32:14.672833Z",
     "shell.execute_reply.started": "2022-01-29T05:32:14.657875Z"
    }
   },
   "outputs": [],
   "source": [
    "liborTermStructure.linkTo(depoSwapTermStructure)"
   ]
  },
  {
   "cell_type": "code",
   "execution_count": 38,
   "id": "3da87804",
   "metadata": {
    "execution": {
     "iopub.execute_input": "2022-01-29T05:32:14.673835Z",
     "iopub.status.busy": "2022-01-29T05:32:14.673835Z",
     "iopub.status.idle": "2022-01-29T05:32:14.704753Z",
     "shell.execute_reply": "2022-01-29T05:32:14.704753Z",
     "shell.execute_reply.started": "2022-01-29T05:32:14.673835Z"
    }
   },
   "outputs": [
    {
     "data": {
      "text/html": [
       "<div>\n",
       "<style scoped>\n",
       "    .dataframe tbody tr th:only-of-type {\n",
       "        vertical-align: middle;\n",
       "    }\n",
       "\n",
       "    .dataframe tbody tr th {\n",
       "        vertical-align: top;\n",
       "    }\n",
       "\n",
       "    .dataframe thead th {\n",
       "        text-align: right;\n",
       "    }\n",
       "</style>\n",
       "<table border=\"1\" class=\"dataframe\">\n",
       "  <thead>\n",
       "    <tr style=\"text-align: right;\">\n",
       "      <th></th>\n",
       "      <th>ZC</th>\n",
       "      <th>Fixed</th>\n",
       "      <th>Floating</th>\n",
       "    </tr>\n",
       "  </thead>\n",
       "  <tbody>\n",
       "    <tr>\n",
       "      <th>Clean price</th>\n",
       "      <td>100.922178</td>\n",
       "      <td>106.127528</td>\n",
       "      <td>101.655903</td>\n",
       "    </tr>\n",
       "    <tr>\n",
       "      <th>Dirty price</th>\n",
       "      <td>100.922178</td>\n",
       "      <td>107.668289</td>\n",
       "      <td>102.128927</td>\n",
       "    </tr>\n",
       "    <tr>\n",
       "      <th>Accrued coupon</th>\n",
       "      <td>0.000000</td>\n",
       "      <td>1.540761</td>\n",
       "      <td>0.473024</td>\n",
       "    </tr>\n",
       "    <tr>\n",
       "      <th>Previous coupon rate</th>\n",
       "      <td>NaN</td>\n",
       "      <td>0.045000</td>\n",
       "      <td>0.029175</td>\n",
       "    </tr>\n",
       "    <tr>\n",
       "      <th>Next coupon rate</th>\n",
       "      <td>NaN</td>\n",
       "      <td>0.045000</td>\n",
       "      <td>0.028862</td>\n",
       "    </tr>\n",
       "    <tr>\n",
       "      <th>Yield</th>\n",
       "      <td>0.030001</td>\n",
       "      <td>0.036476</td>\n",
       "      <td>0.022007</td>\n",
       "    </tr>\n",
       "  </tbody>\n",
       "</table>\n",
       "</div>"
      ],
      "text/plain": [
       "                              ZC       Fixed    Floating\n",
       "Clean price           100.922178  106.127528  101.655903\n",
       "Dirty price           100.922178  107.668289  102.128927\n",
       "Accrued coupon          0.000000    1.540761    0.473024\n",
       "Previous coupon rate         NaN    0.045000    0.029175\n",
       "Next coupon rate             NaN    0.045000    0.028862\n",
       "Yield                   0.030001    0.036476    0.022007"
      ]
     },
     "execution_count": 38,
     "metadata": {},
     "output_type": "execute_result"
    }
   ],
   "source": [
    "data = []\n",
    "data.append(\n",
    "    (zeroCouponBond.cleanPrice(), fixedRateBond.cleanPrice(), floatingRateBond.cleanPrice())\n",
    ")\n",
    "data.append(\n",
    "    (zeroCouponBond.dirtyPrice(), fixedRateBond.dirtyPrice(), floatingRateBond.dirtyPrice())\n",
    ")\n",
    "data.append(\n",
    "    (zeroCouponBond.accruedAmount(),\n",
    "     fixedRateBond.accruedAmount(),\n",
    "     floatingRateBond.accruedAmount())\n",
    ")\n",
    "data.append(\n",
    "    (None, fixedRateBond.previousCouponRate(), floatingRateBond.previousCouponRate())\n",
    ")\n",
    "data.append(\n",
    "    (None, fixedRateBond.nextCouponRate(), floatingRateBond.nextCouponRate())\n",
    ")\n",
    "data.append(\n",
    "    (zeroCouponBond.bondYield(ql.Actual360(), ql.Compounded, ql.Annual),\n",
    "     fixedRateBond.bondYield(ql.Actual360(), ql.Compounded, ql.Annual),\n",
    "     floatingRateBond.bondYield(ql.Actual360(), ql.Compounded, ql.Annual))\n",
    ")\n",
    "\n",
    "df = pd.DataFrame(data, columns=[\"ZC\", \"Fixed\", \"Floating\"],\n",
    "                  index=[\"Clean price\", \"Dirty price\", \"Accrued coupon\",\n",
    "                         \"Previous coupon rate\", \"Next coupon rate\", \"Yield\"])\n",
    "if not interactive:\n",
    "    print(df)\n",
    "df"
   ]
  },
  {
   "cell_type": "markdown",
   "id": "879306db",
   "metadata": {},
   "source": [
    "A few other computations:"
   ]
  },
  {
   "cell_type": "markdown",
   "id": "c2365b7f",
   "metadata": {},
   "source": [
    "Yield to clean price:"
   ]
  },
  {
   "cell_type": "code",
   "execution_count": 39,
   "id": "dcb6dbc0",
   "metadata": {
    "execution": {
     "iopub.execute_input": "2022-01-29T05:32:14.705745Z",
     "iopub.status.busy": "2022-01-29T05:32:14.705745Z",
     "iopub.status.idle": "2022-01-29T05:32:14.720709Z",
     "shell.execute_reply": "2022-01-29T05:32:14.720709Z",
     "shell.execute_reply.started": "2022-01-29T05:32:14.705745Z"
    }
   },
   "outputs": [
    {
     "data": {
      "text/plain": [
       "101.65590321313849"
      ]
     },
     "execution_count": 39,
     "metadata": {},
     "output_type": "execute_result"
    }
   ],
   "source": [
    "floatingRateBond.cleanPrice(\n",
    "    floatingRateBond.bondYield(ql.Actual360(), ql.Compounded, ql.Annual),\n",
    "    ql.Actual360(),\n",
    "    ql.Compounded,\n",
    "    ql.Annual,\n",
    "    settlementDate,\n",
    ")"
   ]
  },
  {
   "cell_type": "markdown",
   "id": "288d2902",
   "metadata": {},
   "source": [
    "Clean price to yield:"
   ]
  },
  {
   "cell_type": "code",
   "execution_count": 40,
   "id": "7fb16540",
   "metadata": {
    "execution": {
     "iopub.execute_input": "2022-01-29T05:32:14.721704Z",
     "iopub.status.busy": "2022-01-29T05:32:14.721704Z",
     "iopub.status.idle": "2022-01-29T05:32:14.736663Z",
     "shell.execute_reply": "2022-01-29T05:32:14.736663Z",
     "shell.execute_reply.started": "2022-01-29T05:32:14.721704Z"
    },
    "tags": []
   },
   "outputs": [
    {
     "data": {
      "text/plain": [
       "0.022007488506948527"
      ]
     },
     "execution_count": 40,
     "metadata": {},
     "output_type": "execute_result"
    }
   ],
   "source": [
    "floatingRateBond.bondYield(\n",
    "    floatingRateBond.cleanPrice(),\n",
    "    ql.Actual360(),\n",
    "    ql.Compounded,\n",
    "    ql.Annual,\n",
    "    settlementDate\n",
    ")"
   ]
  }
 ],
 "metadata": {
  "kernelspec": {
   "display_name": "Python 3 (ipykernel)",
   "language": "python",
   "name": "python3"
  },
  "language_info": {
   "codemirror_mode": {
    "name": "ipython",
    "version": 3
   },
   "file_extension": ".py",
   "mimetype": "text/x-python",
   "name": "python",
   "nbconvert_exporter": "python",
   "pygments_lexer": "ipython3",
   "version": "3.8.10"
  }
 },
 "nbformat": 4,
 "nbformat_minor": 5
}

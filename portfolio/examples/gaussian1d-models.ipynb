{
 "cells": [
  {
   "cell_type": "markdown",
   "id": "a927a4c9",
   "metadata": {},
   "source": [
    "# Gaussian 1D models\n",
    "\n",
    "Copyright (&copy;) 2018 Angus Lee\n",
    "\n",
    "This file is part of QuantLib, a free-software/open-source library\n",
    "for financial quantitative analysts and developers - https://www.quantlib.org/\n",
    "\n",
    "QuantLib is free software: you can redistribute it and/or modify it under the\n",
    "terms of the QuantLib license.  You should have received a copy of the\n",
    "license along with this program; if not, please email\n",
    "<quantlib-dev@lists.sf.net>. The license is also available online at\n",
    "<https://www.quantlib.org/license.shtml>.\n",
    "\n",
    "This program is distributed in the hope that it will be useful, but WITHOUT\n",
    "ANY WARRANTY; without even the implied warranty of MERCHANTABILITY or FITNESS\n",
    "FOR A PARTICULAR PURPOSE.  See the license for more details."
   ]
  },
  {
   "cell_type": "markdown",
   "id": "d40603b1",
   "metadata": {},
   "source": [
    "### Setup"
   ]
  },
  {
   "cell_type": "code",
   "execution_count": null,
   "id": "edef4b95",
   "metadata": {},
   "outputs": [],
   "source": [
    "import QuantLib as ql\n",
    "import pandas as pd"
   ]
  },
  {
   "cell_type": "code",
   "execution_count": null,
   "id": "ad5fb835",
   "metadata": {},
   "outputs": [],
   "source": [
    "interactive = \"get_ipython\" in globals()\n",
    "\n",
    "\n",
    "def show(x):\n",
    "    if not interactive:\n",
    "        print(x)\n",
    "    return x"
   ]
  },
  {
   "cell_type": "code",
   "execution_count": null,
   "id": "3a0365b0",
   "metadata": {},
   "outputs": [],
   "source": [
    "def basket_data(basket):\n",
    "    data = []\n",
    "    for helper in basket:\n",
    "        h = ql.as_swaption_helper(helper)\n",
    "        data.append(\n",
    "            (\n",
    "                h.swaptionExpiryDate().to_date(),\n",
    "                h.swaptionMaturityDate().to_date(),\n",
    "                h.swaptionNominal(),\n",
    "                h.volatility().value(),\n",
    "                h.swaptionStrike(),\n",
    "            )\n",
    "        )\n",
    "    return pd.DataFrame(data, columns=[\"Expiry\", \"Maturity\", \"Nominal\", \"Rate\", \"Market vol\"])"
   ]
  },
  {
   "cell_type": "code",
   "execution_count": null,
   "id": "0a8c316c",
   "metadata": {},
   "outputs": [],
   "source": [
    "def calibration_data(basket, volatilities):\n",
    "    data = []\n",
    "    for helper, sigma in zip(basket, volatilities):\n",
    "        h = ql.as_swaption_helper(helper)\n",
    "        modelValue = h.modelValue()\n",
    "        data.append(\n",
    "            (\n",
    "                h.swaptionExpiryDate().to_date(),\n",
    "                sigma,\n",
    "                modelValue,\n",
    "                h.marketValue(),\n",
    "                h.impliedVolatility(modelValue, 1e-6, 1000, 0.0, 2.0),\n",
    "                h.volatility().value(),\n",
    "            )\n",
    "        )\n",
    "    return pd.DataFrame(\n",
    "        data, columns=[\"Expiry\", \"Model sigma\", \"Model price\", \"Market price\", \"Model imp.vol\", \"Market imp.vol\"]\n",
    "    )"
   ]
  },
  {
   "cell_type": "markdown",
   "id": "d72b890c",
   "metadata": {},
   "source": [
    "### Calculations"
   ]
  },
  {
   "cell_type": "markdown",
   "id": "1195a90b",
   "metadata": {},
   "source": [
    "This exercise tries to replicate the Quantlib C++ `Gaussian1dModel` example on how to use the GSR and Markov Functional model."
   ]
  },
  {
   "cell_type": "code",
   "execution_count": null,
   "id": "c1e26f98",
   "metadata": {},
   "outputs": [],
   "source": [
    "refDate = ql.Date(30, 4, 2014)\n",
    "ql.Settings.instance().setEvaluationDate(refDate)"
   ]
  },
  {
   "cell_type": "markdown",
   "id": "7d9ae282",
   "metadata": {},
   "source": [
    "We assume a multicurve setup, for simplicity with flat yield term structures.\n",
    "\n",
    "The discounting curve is an Eonia curve at a level of 2% and the forwarding curve is an Euribor 6m curve at a level of 2.5%.\n",
    "\n",
    "For the volatility we assume a flat swaption volatility at 20%."
   ]
  },
  {
   "cell_type": "code",
   "execution_count": null,
   "id": "3b513b0a",
   "metadata": {},
   "outputs": [],
   "source": [
    "forward6mQuote = ql.QuoteHandle(ql.SimpleQuote(0.025))\n",
    "oisQuote = ql.QuoteHandle(ql.SimpleQuote(0.02))\n",
    "volQuote = ql.QuoteHandle(ql.SimpleQuote(0.2))"
   ]
  },
  {
   "cell_type": "code",
   "execution_count": null,
   "id": "0128137f",
   "metadata": {},
   "outputs": [],
   "source": [
    "dc = ql.Actual365Fixed()\n",
    "yts6m = ql.FlatForward(refDate, forward6mQuote, dc)\n",
    "ytsOis = ql.FlatForward(refDate, oisQuote, dc)\n",
    "yts6m.enableExtrapolation()\n",
    "ytsOis.enableExtrapolation()\n",
    "hyts6m = ql.RelinkableYieldTermStructureHandle(yts6m)\n",
    "t0_curve = ql.YieldTermStructureHandle(yts6m)\n",
    "t0_Ois = ql.YieldTermStructureHandle(ytsOis)\n",
    "euribor6m = ql.Euribor6M(hyts6m)\n",
    "swaptionVol = ql.ConstantSwaptionVolatility(0, ql.TARGET(), ql.ModifiedFollowing, volQuote, ql.Actual365Fixed())"
   ]
  },
  {
   "cell_type": "code",
   "execution_count": null,
   "id": "8a5a91e7",
   "metadata": {},
   "outputs": [],
   "source": [
    "effectiveDate = ql.TARGET().advance(refDate, ql.Period('2D'))\n",
    "maturityDate = ql.TARGET().advance(effectiveDate, ql.Period('10Y'))"
   ]
  },
  {
   "cell_type": "code",
   "execution_count": null,
   "id": "452b8177",
   "metadata": {},
   "outputs": [],
   "source": [
    "fixedSchedule = ql.Schedule(effectiveDate,\n",
    "                            maturityDate,\n",
    "                            ql.Period('1Y'),\n",
    "                            ql.TARGET(),\n",
    "                            ql.ModifiedFollowing,\n",
    "                            ql.ModifiedFollowing,\n",
    "                            ql.DateGeneration.Forward, False)"
   ]
  },
  {
   "cell_type": "code",
   "execution_count": null,
   "id": "48b9656c",
   "metadata": {},
   "outputs": [],
   "source": [
    "floatSchedule = ql.Schedule(effectiveDate,\n",
    "                            maturityDate,\n",
    "                            ql.Period('6M'),\n",
    "                            ql.TARGET(),\n",
    "                            ql.ModifiedFollowing,\n",
    "                            ql.ModifiedFollowing,\n",
    "                            ql.DateGeneration.Forward, False)"
   ]
  },
  {
   "cell_type": "markdown",
   "id": "a8bef47d",
   "metadata": {},
   "source": [
    "We consider a standard 10-years Bermudan payer swaption with yearly exercises at a strike of 4%."
   ]
  },
  {
   "cell_type": "code",
   "execution_count": null,
   "id": "2e797eab",
   "metadata": {},
   "outputs": [],
   "source": [
    "fixedNominal    = [1]*(len(fixedSchedule)-1)\n",
    "floatingNominal = [1]*(len(floatSchedule)-1)\n",
    "strike          = [0.04]*(len(fixedSchedule)-1)\n",
    "gearing         = [1]*(len(floatSchedule)-1)\n",
    "spread          = [0]*(len(floatSchedule)-1)"
   ]
  },
  {
   "cell_type": "code",
   "execution_count": null,
   "id": "b9aae236",
   "metadata": {},
   "outputs": [],
   "source": [
    "underlying = ql.NonstandardSwap(\n",
    "    ql.Swap.Payer,\n",
    "    fixedNominal, floatingNominal, fixedSchedule, strike,\n",
    "    ql.Thirty360(), floatSchedule,\n",
    "    euribor6m, gearing, spread, ql.Actual360(), False, False, ql.ModifiedFollowing)"
   ]
  },
  {
   "cell_type": "code",
   "execution_count": null,
   "id": "5ec04a6d",
   "metadata": {},
   "outputs": [],
   "source": [
    "exerciseDates = [ql.TARGET().advance(x, -ql.Period('2D')) for x in fixedSchedule]\n",
    "exerciseDates = exerciseDates[1:-1]\n",
    "exercise = ql.BermudanExercise(exerciseDates)\n",
    "swaption = ql.NonstandardSwaption(underlying,exercise,ql.Settlement.Physical)"
   ]
  },
  {
   "cell_type": "markdown",
   "id": "58668081",
   "metadata": {},
   "source": [
    "The model is a one factor Hull White model with piecewise volatility adapted to our exercise dates.\n",
    "\n",
    "The reversion is just kept constant at a level of 1%."
   ]
  },
  {
   "cell_type": "code",
   "execution_count": null,
   "id": "c01776a6",
   "metadata": {},
   "outputs": [],
   "source": [
    "stepDates = exerciseDates[:-1]\n",
    "sigmas = [ql.QuoteHandle(ql.SimpleQuote(0.01)) for x in range(1, 10)]\n",
    "reversion = [ql.QuoteHandle(ql.SimpleQuote(0.01))]"
   ]
  },
  {
   "cell_type": "markdown",
   "id": "373d5a67",
   "metadata": {},
   "source": [
    "The model's curve is set to the 6m forward curve. Note that the model adapts automatically to other curves where appropriate (e.g. if an index requires a different forwarding curve) or where explicitly specified (e.g. in a swaption pricing engine)."
   ]
  },
  {
   "cell_type": "code",
   "execution_count": null,
   "id": "703d4d6f",
   "metadata": {},
   "outputs": [],
   "source": [
    "gsr = ql.Gsr(t0_curve, stepDates, sigmas, reversion)\n",
    "swaptionEngine = ql.Gaussian1dSwaptionEngine(gsr, 64, 7.0, True, False, t0_Ois)\n",
    "nonstandardSwaptionEngine = ql.Gaussian1dNonstandardSwaptionEngine(\n",
    "    gsr, 64, 7.0, True, False, ql.QuoteHandle(ql.SimpleQuote(0)), t0_Ois)"
   ]
  },
  {
   "cell_type": "code",
   "execution_count": null,
   "id": "93226ba4",
   "metadata": {},
   "outputs": [],
   "source": [
    "swaption.setPricingEngine(nonstandardSwaptionEngine)"
   ]
  },
  {
   "cell_type": "code",
   "execution_count": null,
   "id": "fcfceacd",
   "metadata": {},
   "outputs": [],
   "source": [
    "swapBase = ql.EuriborSwapIsdaFixA(ql.Period('10Y'), t0_curve, t0_Ois)\n",
    "basket = swaption.calibrationBasket(swapBase, swaptionVol, 'Naive')"
   ]
  },
  {
   "cell_type": "code",
   "execution_count": null,
   "id": "91ce4088",
   "metadata": {},
   "outputs": [],
   "source": [
    "for basket_i in basket:\n",
    "    ql.as_black_helper(basket_i).setPricingEngine(swaptionEngine)"
   ]
  },
  {
   "cell_type": "code",
   "execution_count": null,
   "id": "4b69c282",
   "metadata": {},
   "outputs": [],
   "source": [
    "method = ql.LevenbergMarquardt()\n",
    "ec = ql.EndCriteria(1000, 10, 1e-8, 1e-8, 1e-8)"
   ]
  },
  {
   "cell_type": "code",
   "execution_count": null,
   "id": "c54da776",
   "metadata": {
    "lines_to_next_cell": 2
   },
   "outputs": [],
   "source": [
    "gsr.calibrateVolatilitiesIterative(basket, method, ec)"
   ]
  },
  {
   "cell_type": "markdown",
   "id": "c030a9a8",
   "metadata": {},
   "source": [
    "The engine can generate a calibration basket in two modes.\n",
    "\n",
    "The first one is called Naive and generates ATM swaptions adapted to the exercise dates of the swaption and its maturity date. The resulting basket looks as follows:"
   ]
  },
  {
   "cell_type": "code",
   "execution_count": null,
   "id": "798f0ce4",
   "metadata": {},
   "outputs": [],
   "source": [
    "show(basket_data(basket))"
   ]
  },
  {
   "cell_type": "markdown",
   "id": "260c2013",
   "metadata": {},
   "source": [
    "Let's calibrate our model to this basket. We use a specialized calibration method calibrating the sigma function one by one to the calibrating vanilla swaptions. The result of this is as follows:"
   ]
  },
  {
   "cell_type": "code",
   "execution_count": null,
   "id": "c88e1634",
   "metadata": {},
   "outputs": [],
   "source": [
    "show(calibration_data(basket, gsr.volatility()))"
   ]
  },
  {
   "cell_type": "markdown",
   "id": "782ab308",
   "metadata": {},
   "source": [
    "Bermudan swaption NPV (ATM calibrated GSR):"
   ]
  },
  {
   "cell_type": "code",
   "execution_count": null,
   "id": "ea1d0b56",
   "metadata": {},
   "outputs": [],
   "source": [
    "print(swaption.NPV())"
   ]
  },
  {
   "cell_type": "markdown",
   "id": "41f64477",
   "metadata": {},
   "source": [
    "There is another mode to generate a calibration basket called `MaturityStrikeByDeltaGamma`. This means that the maturity, the strike and the nominal of the calibrating swaptions are obtained matching the NPV, first derivative and second derivative of the swap you will exercise into at at each bermudan call date. The derivatives are taken with respect to the model's state variable.\n",
    "\n",
    "Let's try this in our case."
   ]
  },
  {
   "cell_type": "code",
   "execution_count": null,
   "id": "e4d5e60e",
   "metadata": {},
   "outputs": [],
   "source": [
    "basket = swaption.calibrationBasket(swapBase, swaptionVol, 'MaturityStrikeByDeltaGamma')\n",
    "show(basket_data(basket))"
   ]
  },
  {
   "cell_type": "code",
   "execution_count": null,
   "id": "fe8ab8bb",
   "metadata": {},
   "outputs": [],
   "source": [
    "for basket_i in basket:\n",
    "    ql.as_black_helper(basket_i).setPricingEngine(swaptionEngine)"
   ]
  },
  {
   "cell_type": "markdown",
   "id": "3664bb15",
   "metadata": {},
   "source": [
    "The calibrated nominal is close to the exotics nominal. The expiries and maturity dates of the vanillas are the same as in the case above. The difference is the strike which is now equal to the exotics strike.\n",
    "\n",
    "Let's see how this affects the exotics NPV. The recalibrated model is:"
   ]
  },
  {
   "cell_type": "code",
   "execution_count": null,
   "id": "e3cfa2f8",
   "metadata": {},
   "outputs": [],
   "source": [
    "gsr.calibrateVolatilitiesIterative(basket, method, ec)\n",
    "show(calibration_data(basket, gsr.volatility()))"
   ]
  },
  {
   "cell_type": "markdown",
   "id": "c45eab7b",
   "metadata": {},
   "source": [
    "Bermudan swaption NPV (deal strike calibrated GSR):"
   ]
  },
  {
   "cell_type": "code",
   "execution_count": null,
   "id": "17fcfc2e",
   "metadata": {},
   "outputs": [],
   "source": [
    "print(swaption.NPV())"
   ]
  },
  {
   "cell_type": "markdown",
   "id": "56cdc457",
   "metadata": {},
   "source": [
    "We can do more complicated things.  Let's e.g. modify the nominal schedule to be linear amortizing and see what the effect on the generated calibration basket is:"
   ]
  },
  {
   "cell_type": "code",
   "execution_count": null,
   "id": "27de08e2",
   "metadata": {},
   "outputs": [],
   "source": [
    "for i in range(0,len(fixedSchedule)-1):\n",
    "    tmp = 1 - i/ (len(fixedSchedule)-1)\n",
    "    fixedNominal[i]        = tmp\n",
    "    floatingNominal[i*2]   = tmp\n",
    "    floatingNominal[i*2+1] = tmp"
   ]
  },
  {
   "cell_type": "code",
   "execution_count": null,
   "id": "deb8118f",
   "metadata": {},
   "outputs": [],
   "source": [
    "underlying2 = ql.NonstandardSwap(ql.Swap.Payer,\n",
    "                            fixedNominal, floatingNominal, fixedSchedule, strike,\n",
    "                            ql.Thirty360(), floatSchedule,\n",
    "                            euribor6m, gearing, spread, ql.Actual360(), False, False, ql.ModifiedFollowing)"
   ]
  },
  {
   "cell_type": "code",
   "execution_count": null,
   "id": "6c8a60d8",
   "metadata": {},
   "outputs": [],
   "source": [
    "swaption2 = ql.NonstandardSwaption(underlying2,exercise,ql.Settlement.Physical)"
   ]
  },
  {
   "cell_type": "code",
   "execution_count": null,
   "id": "269affe9",
   "metadata": {},
   "outputs": [],
   "source": [
    "swaption2.setPricingEngine(nonstandardSwaptionEngine)\n",
    "basket = swaption2.calibrationBasket(swapBase, swaptionVol, 'MaturityStrikeByDeltaGamma')"
   ]
  },
  {
   "cell_type": "code",
   "execution_count": null,
   "id": "50638120",
   "metadata": {},
   "outputs": [],
   "source": [
    "show(basket_data(basket))"
   ]
  },
  {
   "cell_type": "markdown",
   "id": "daba67c6",
   "metadata": {},
   "source": [
    "The notional is weighted over the underlying exercised into and the maturity is adjusted downwards. The rate, on the other hand, is not affected."
   ]
  },
  {
   "cell_type": "markdown",
   "id": "a112b192",
   "metadata": {},
   "source": [
    "You can also price exotic bond's features. If you have e.g. a Bermudan callable fixed bond you can set up the call right as a swaption to enter into a one leg swap with notional reimbursement at maturity. The exercise should then be written as a rebated exercise paying the notional in case of exercise. The calibration basket looks like this:"
   ]
  },
  {
   "cell_type": "code",
   "execution_count": null,
   "id": "6509a6d3",
   "metadata": {},
   "outputs": [],
   "source": [
    "fixedNominal2    = [1]*(len(fixedSchedule)-1)\n",
    "floatingNominal2 = [0]*(len(floatSchedule)-1) #null the second leg"
   ]
  },
  {
   "cell_type": "code",
   "execution_count": null,
   "id": "1c7cc911",
   "metadata": {},
   "outputs": [],
   "source": [
    "underlying3 = ql.NonstandardSwap(ql.Swap.Receiver,\n",
    "                            fixedNominal2, floatingNominal2, fixedSchedule, strike,\n",
    "                            ql.Thirty360(), floatSchedule,\n",
    "                            euribor6m, gearing, spread, ql.Actual360(), False, True, ql.ModifiedFollowing)"
   ]
  },
  {
   "cell_type": "code",
   "execution_count": null,
   "id": "cd36238a",
   "metadata": {},
   "outputs": [],
   "source": [
    "rebateAmount = [-1]*len(exerciseDates)\n",
    "exercise2 = ql.RebatedExercise(exercise, rebateAmount, 2, ql.TARGET())\n",
    "swaption3 = ql.NonstandardSwaption(underlying3,exercise2,ql.Settlement.Physical)"
   ]
  },
  {
   "cell_type": "code",
   "execution_count": null,
   "id": "60776791",
   "metadata": {},
   "outputs": [],
   "source": [
    "oas0 = ql.SimpleQuote(0)\n",
    "oas100 = ql.SimpleQuote(0.01)\n",
    "oas = ql.RelinkableQuoteHandle(oas0)"
   ]
  },
  {
   "cell_type": "code",
   "execution_count": null,
   "id": "c8e89883",
   "metadata": {},
   "outputs": [],
   "source": [
    "nonstandardSwaptionEngine2 = ql.Gaussian1dNonstandardSwaptionEngine(\n",
    "    gsr, 64, 7.0, True, False, oas, t0_curve) # Change discounting to 6m"
   ]
  },
  {
   "cell_type": "code",
   "execution_count": null,
   "id": "8258f054",
   "metadata": {},
   "outputs": [],
   "source": [
    "swaption3.setPricingEngine(nonstandardSwaptionEngine2)\n",
    "basket = swaption3.calibrationBasket(swapBase, swaptionVol, 'MaturityStrikeByDeltaGamma')"
   ]
  },
  {
   "cell_type": "code",
   "execution_count": null,
   "id": "5c11522a",
   "metadata": {},
   "outputs": [],
   "source": [
    "show(basket_data(basket))"
   ]
  },
  {
   "cell_type": "markdown",
   "id": "650b94c9",
   "metadata": {},
   "source": [
    "Note that nominals are not exactly 1.0 here. This is because we do our bond discounting on 6m level while the swaptions are still discounted on OIS level. (You can try this by changing the OIS level to the 6m level, which will produce nominals near 1.0).\n",
    "\n",
    "The NPV of the call right is (after recalibrating the model):"
   ]
  },
  {
   "cell_type": "code",
   "execution_count": null,
   "id": "3c2fc453",
   "metadata": {},
   "outputs": [],
   "source": [
    "for basket_i in basket:\n",
    "    ql.as_black_helper(basket_i).setPricingEngine(swaptionEngine)"
   ]
  },
  {
   "cell_type": "code",
   "execution_count": null,
   "id": "6d50ba68",
   "metadata": {},
   "outputs": [],
   "source": [
    "gsr.calibrateVolatilitiesIterative(basket, method, ec)"
   ]
  },
  {
   "cell_type": "code",
   "execution_count": null,
   "id": "397c37c7",
   "metadata": {},
   "outputs": [],
   "source": [
    "print(swaption3.NPV())"
   ]
  },
  {
   "cell_type": "markdown",
   "id": "cf974490",
   "metadata": {},
   "source": [
    "Up to now, no credit spread is included in the pricing. We can do so by specifying an oas in the pricing engine. Let's set the spread level to 100bp and regenerate the calibration basket."
   ]
  },
  {
   "cell_type": "code",
   "execution_count": null,
   "id": "b3bb03b9",
   "metadata": {},
   "outputs": [],
   "source": [
    "oas.linkTo(oas100)\n",
    "basket = swaption3.calibrationBasket(swapBase, swaptionVol, 'MaturityStrikeByDeltaGamma')\n",
    "show(basket_data(basket))"
   ]
  },
  {
   "cell_type": "markdown",
   "id": "1dfe6a9d",
   "metadata": {},
   "source": [
    "The adjusted basket takes the credit spread into account. This is consistent to a hedge where you would have a margin on the float leg around 100bp,too."
   ]
  },
  {
   "cell_type": "code",
   "execution_count": null,
   "id": "df04253d",
   "metadata": {},
   "outputs": [],
   "source": [
    "for basket_i in basket:\n",
    "    ql.as_black_helper(basket_i).setPricingEngine(swaptionEngine)"
   ]
  },
  {
   "cell_type": "code",
   "execution_count": null,
   "id": "fb0ff735",
   "metadata": {},
   "outputs": [],
   "source": [
    "gsr.calibrateVolatilitiesIterative(basket, method, ec)"
   ]
  },
  {
   "cell_type": "code",
   "execution_count": null,
   "id": "19054fb9",
   "metadata": {},
   "outputs": [],
   "source": [
    "print(swaption3.NPV())"
   ]
  },
  {
   "cell_type": "markdown",
   "id": "a9fa469a",
   "metadata": {},
   "source": [
    "The next instrument we look at is a CMS 10Y vs Euribor 6M swaption. The maturity is again 10 years and the option is exercisable on a yearly basis."
   ]
  },
  {
   "cell_type": "code",
   "execution_count": null,
   "id": "eca8401a",
   "metadata": {},
   "outputs": [],
   "source": [
    "CMSNominal     = [1]*(len(fixedSchedule)-1)\n",
    "CMSgearing     = [1]*(len(fixedSchedule)-1)\n",
    "CMSspread      = [0]*(len(fixedSchedule)-1)\n",
    "EuriborNominal = [1]*(len(floatSchedule)-1)\n",
    "Euriborgearing = [1]*(len(floatSchedule)-1)\n",
    "Euriborspread  = [0.001]*(len(floatSchedule)-1)\n",
    "underlying4 = ql.FloatFloatSwap(ql.Swap.Payer,\n",
    "                                CMSNominal, EuriborNominal,\n",
    "                                fixedSchedule, swapBase, ql.Thirty360(),\n",
    "                                floatSchedule, euribor6m, ql.Actual360(),\n",
    "                                False, False, CMSgearing, CMSspread, [], [],\n",
    "                                Euriborgearing, Euriborspread)"
   ]
  },
  {
   "cell_type": "code",
   "execution_count": null,
   "id": "17e6f37b",
   "metadata": {},
   "outputs": [],
   "source": [
    "swaption4 = ql.FloatFloatSwaption(underlying4, exercise)\n",
    "floatSwaptionEngine = ql.Gaussian1dFloatFloatSwaptionEngine(\n",
    "    gsr, 64, 7.0, True, False, ql.QuoteHandle(ql.SimpleQuote(0)), t0_Ois, True)\n",
    "swaption4.setPricingEngine(floatSwaptionEngine)"
   ]
  },
  {
   "cell_type": "markdown",
   "id": "638788a6",
   "metadata": {},
   "source": [
    "Since the underlying is quite exotic already, we start with pricing this using the `LinearTsrPricer` for CMS coupon estimation."
   ]
  },
  {
   "cell_type": "code",
   "execution_count": null,
   "id": "b9a78701",
   "metadata": {},
   "outputs": [],
   "source": [
    "leg0 = underlying4.leg(0)\n",
    "leg1 = underlying4.leg(1)\n",
    "reversionQuote = ql.QuoteHandle(ql.SimpleQuote(0.01))\n",
    "swaptionVolHandle = ql.SwaptionVolatilityStructureHandle(swaptionVol)\n",
    "cmsPricer = ql.LinearTsrPricer(swaptionVolHandle, reversionQuote)\n",
    "iborPricer = ql.BlackIborCouponPricer()"
   ]
  },
  {
   "cell_type": "code",
   "execution_count": null,
   "id": "cfe4594d",
   "metadata": {},
   "outputs": [],
   "source": [
    "ql.setCouponPricer(leg0, cmsPricer)\n",
    "ql.setCouponPricer(leg1, iborPricer)"
   ]
  },
  {
   "cell_type": "code",
   "execution_count": null,
   "id": "221c360d",
   "metadata": {},
   "outputs": [],
   "source": [
    "swapPricer = ql.DiscountingSwapEngine(t0_Ois)\n",
    "underlying4.setPricingEngine(swapPricer)"
   ]
  },
  {
   "cell_type": "code",
   "execution_count": null,
   "id": "e35e2131",
   "metadata": {},
   "outputs": [],
   "source": [
    "print(\"Underlying CMS Swap NPV = %f\" % underlying4.NPV())\n",
    "print(\"Underlying CMS Leg  NPV = %f\" % underlying4.legNPV(0))\n",
    "print(\"Underlying Euribor  NPV = %f\" % underlying4.legNPV(1))"
   ]
  },
  {
   "cell_type": "markdown",
   "id": "afdf3bb9",
   "metadata": {},
   "source": [
    "We generate a naive calibration basket and calibrate the GSR model to it:"
   ]
  },
  {
   "cell_type": "code",
   "execution_count": null,
   "id": "b4c9fced",
   "metadata": {},
   "outputs": [],
   "source": [
    "basket = swaption4.calibrationBasket(swapBase, swaptionVol, 'Naive')"
   ]
  },
  {
   "cell_type": "code",
   "execution_count": null,
   "id": "e0018c7e",
   "metadata": {},
   "outputs": [],
   "source": [
    "for basket_i in basket:\n",
    "    ql.as_black_helper(basket_i).setPricingEngine(swaptionEngine)"
   ]
  },
  {
   "cell_type": "code",
   "execution_count": null,
   "id": "da5ae534",
   "metadata": {},
   "outputs": [],
   "source": [
    "gsr.calibrateVolatilitiesIterative(basket, method, ec)\n",
    "show(basket_data(basket))"
   ]
  },
  {
   "cell_type": "code",
   "execution_count": null,
   "id": "75717cbc",
   "metadata": {},
   "outputs": [],
   "source": [
    "show(calibration_data(basket, gsr.volatility()))"
   ]
  },
  {
   "cell_type": "markdown",
   "id": "2a8518b6",
   "metadata": {},
   "source": [
    "The npv of the bermudan swaption is:"
   ]
  },
  {
   "cell_type": "code",
   "execution_count": null,
   "id": "c9019046",
   "metadata": {},
   "outputs": [],
   "source": [
    "print(swaption4.NPV())"
   ]
  },
  {
   "cell_type": "markdown",
   "id": "f5b85139",
   "metadata": {},
   "source": [
    "In this case it is also interesting to look at the underlying swap NPV in the GSR model."
   ]
  },
  {
   "cell_type": "code",
   "execution_count": null,
   "id": "92f87ceb",
   "metadata": {},
   "outputs": [],
   "source": [
    "print(swaption4.underlyingValue())"
   ]
  },
  {
   "cell_type": "markdown",
   "id": "f181d3ab",
   "metadata": {},
   "source": [
    "Not surprisingly, the underlying is priced differently compared to the `LinearTsrPricer`, since a different smile is implied by the GSR model.\n",
    "\n",
    "This is exactly where the Markov functional model comes into play, because it can calibrate to any given underlying smile (as long as it is arbitrage free). We try this now. Of course the usual use case is not to calibrate to a flat smile as in our simple example, still it should be possible, of course..."
   ]
  },
  {
   "cell_type": "code",
   "execution_count": null,
   "id": "a46e37e1",
   "metadata": {},
   "outputs": [],
   "source": [
    "markovStepDates = exerciseDates\n",
    "cmsFixingDates = markovStepDates\n",
    "markovSimgas = [0.01]* (len(markovStepDates)+1)\n",
    "tenors = [ql.Period('10Y')]*len(cmsFixingDates)\n",
    "markov = ql.MarkovFunctional(t0_curve, reversionQuote.value(), markovStepDates, markovSimgas, swaptionVolHandle,\n",
    "                             cmsFixingDates, tenors, swapBase)"
   ]
  },
  {
   "cell_type": "code",
   "execution_count": null,
   "id": "b193b306",
   "metadata": {},
   "outputs": [],
   "source": [
    "swaptionEngineMarkov = ql.Gaussian1dSwaptionEngine(markov, 8, 5.0, True,\n",
    "                                                   False, t0_Ois)"
   ]
  },
  {
   "cell_type": "code",
   "execution_count": null,
   "id": "ba5c5f0d",
   "metadata": {},
   "outputs": [],
   "source": [
    "floatEngineMarkov = ql.Gaussian1dFloatFloatSwaptionEngine(\n",
    "    markov, 16, 7.0, True, False, ql.QuoteHandle(ql.SimpleQuote(0)), t0_Ois, True)"
   ]
  },
  {
   "cell_type": "markdown",
   "id": "0242c3ec",
   "metadata": {},
   "source": [
    "The option npv is the markov model is:"
   ]
  },
  {
   "cell_type": "code",
   "execution_count": null,
   "id": "27455cfd",
   "metadata": {},
   "outputs": [],
   "source": [
    "swaption4.setPricingEngine(floatEngineMarkov)\n",
    "print(swaption4.NPV())"
   ]
  },
  {
   "cell_type": "markdown",
   "id": "eaa85aa9",
   "metadata": {},
   "source": [
    "This is not too far from the GSR price. More interesting is the question how well the Markov model did its job to match our input smile. For this we look at the underlying npv under the Markov model."
   ]
  },
  {
   "cell_type": "code",
   "execution_count": null,
   "id": "c2dae667",
   "metadata": {},
   "outputs": [],
   "source": [
    "print(swaption4.underlyingValue())"
   ]
  },
  {
   "cell_type": "markdown",
   "id": "a2c60b3c",
   "metadata": {},
   "source": [
    "This is closer to our terminal swap rate model price. A perfect match is not expected anyway, because the dynamics of the underlying rate in the linear model is different from the Markov model, of course.\n",
    "\n",
    "The Markov model can not only calibrate to the underlying smile, but has at the same time a sigma function (similar to the GSR model) which can be used to calibrate to a second instrument set. We do this here to calibrate to our coterminal ATM swaptions from above.\n",
    "\n",
    "This is a computationally demanding task, so depending on your machine, this may take a while now..."
   ]
  },
  {
   "cell_type": "code",
   "execution_count": null,
   "id": "27ac6a34",
   "metadata": {},
   "outputs": [],
   "source": [
    "for basket_i in basket:\n",
    "    ql.as_black_helper(basket_i).setPricingEngine(swaptionEngineMarkov)"
   ]
  },
  {
   "cell_type": "code",
   "execution_count": null,
   "id": "51680e1d",
   "metadata": {},
   "outputs": [],
   "source": [
    "markov.calibrate(basket, method, ec)\n",
    "show(calibration_data(basket, markov.volatility()))"
   ]
  },
  {
   "cell_type": "markdown",
   "id": "f22d0eaf",
   "metadata": {},
   "source": [
    "Now let's have a look again at the underlying pricing. It shouldn't have changed much, because the underlying smile is still matched."
   ]
  },
  {
   "cell_type": "code",
   "execution_count": null,
   "id": "3067e81b",
   "metadata": {},
   "outputs": [],
   "source": [
    "print(swaption4.underlyingValue())"
   ]
  },
  {
   "cell_type": "markdown",
   "id": "b08b070d",
   "metadata": {},
   "source": [
    "This is close to the previous value as expected.\n",
    "\n",
    "As a final remark we note that the calibration to coterminal swaptions is not particularly reasonable here, because the European call rights are not well represented by these swaptions. Secondly, our CMS swaption is sensitive to the correlation between the 10y swap rate and the Euribor 6M rate. Since the Markov model is one factor it will most probably underestimate the market value by construction.\n",
    "\n",
    "That was it. Thank you for running this demo. Bye."
   ]
  }
 ],
 "metadata": {
  "kernelspec": {
   "display_name": "Python 3",
   "language": "python",
   "name": "python3"
  }
 },
 "nbformat": 4,
 "nbformat_minor": 5
}

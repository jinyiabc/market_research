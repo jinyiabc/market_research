{
 "cells": [
  {
   "cell_type": "markdown",
   "id": "98af32aa",
   "metadata": {},
   "source": [
    "# Swing options\n",
    "\n",
    "Copyright (&copy;) 2018 Klaus Spanderen\n",
    "\n",
    "This file is part of QuantLib, a free-software/open-source library\n",
    "for financial quantitative analysts and developers - https://www.quantlib.org/\n",
    "\n",
    "QuantLib is free software: you can redistribute it and/or modify it under the\n",
    "terms of the QuantLib license.  You should have received a copy of the\n",
    "license along with this program; if not, please email\n",
    "<quantlib-dev@lists.sf.net>. The license is also available online at\n",
    "<https://www.quantlib.org/license.shtml>.\n",
    "\n",
    "This program is distributed in the hope that it will be useful, but WITHOUT\n",
    "ANY WARRANTY; without even the implied warranty of MERCHANTABILITY or FITNESS\n",
    "FOR A PARTICULAR PURPOSE.  See the license for more details."
   ]
  },
  {
   "cell_type": "code",
   "execution_count": null,
   "id": "f2da0bc0",
   "metadata": {},
   "outputs": [],
   "source": [
    "import QuantLib as ql\n",
    "import math"
   ]
  },
  {
   "cell_type": "code",
   "execution_count": null,
   "id": "4b4820bc",
   "metadata": {
    "lines_to_next_cell": 2
   },
   "outputs": [],
   "source": [
    "todaysDate = ql.Date(30, ql.September, 2018)\n",
    "ql.Settings.instance().evaluationDate = todaysDate\n",
    "settlementDate = todaysDate\n",
    "riskFreeRate = ql.FlatForward(settlementDate, 0.0, ql.Actual365Fixed())\n",
    "dividendYield = ql.FlatForward(settlementDate, 0.0, ql.Actual365Fixed())\n",
    "underlying = ql.SimpleQuote(30.0)\n",
    "volatility = ql.BlackConstantVol(todaysDate, ql.TARGET(), 0.20, ql.Actual365Fixed())"
   ]
  },
  {
   "cell_type": "code",
   "execution_count": null,
   "id": "f7d3719a",
   "metadata": {},
   "outputs": [],
   "source": [
    "exerciseDates = [ql.Date(1, ql.January, 2019) + i for i in range(31)]"
   ]
  },
  {
   "cell_type": "code",
   "execution_count": null,
   "id": "f8147f84",
   "metadata": {},
   "outputs": [],
   "source": [
    "swingOption = ql.VanillaSwingOption(\n",
    "    ql.VanillaForwardPayoff(ql.Option.Call, underlying.value()), ql.SwingExercise(exerciseDates), 0, len(exerciseDates)\n",
    ")"
   ]
  },
  {
   "cell_type": "code",
   "execution_count": null,
   "id": "3b105c38",
   "metadata": {},
   "outputs": [],
   "source": [
    "bsProcess = ql.BlackScholesMertonProcess(\n",
    "    ql.QuoteHandle(underlying),\n",
    "    ql.YieldTermStructureHandle(dividendYield),\n",
    "    ql.YieldTermStructureHandle(riskFreeRate),\n",
    "    ql.BlackVolTermStructureHandle(volatility),\n",
    ")"
   ]
  },
  {
   "cell_type": "code",
   "execution_count": null,
   "id": "f1eebeb0",
   "metadata": {},
   "outputs": [],
   "source": [
    "swingOption.setPricingEngine(ql.FdSimpleBSSwingEngine(bsProcess))"
   ]
  },
  {
   "cell_type": "code",
   "execution_count": null,
   "id": "b4018fa7",
   "metadata": {},
   "outputs": [],
   "source": [
    "print(\"Black Scholes Price: %f\" % swingOption.NPV())"
   ]
  },
  {
   "cell_type": "code",
   "execution_count": null,
   "id": "c58453d9",
   "metadata": {},
   "outputs": [],
   "source": [
    "x0 = 0.0\n",
    "x1 = 0.0"
   ]
  },
  {
   "cell_type": "code",
   "execution_count": null,
   "id": "c7b0643f",
   "metadata": {},
   "outputs": [],
   "source": [
    "beta = 4.0\n",
    "eta = 4.0\n",
    "jumpIntensity = 1.0\n",
    "speed = 1.0\n",
    "volatility = 0.1"
   ]
  },
  {
   "cell_type": "code",
   "execution_count": null,
   "id": "ffac4302",
   "metadata": {},
   "outputs": [],
   "source": [
    "curveShape = []\n",
    "for d in exerciseDates:\n",
    "    t = ql.Actual365Fixed().yearFraction(todaysDate, d)\n",
    "    gs = (\n",
    "        math.log(underlying.value())\n",
    "        - volatility * volatility / (4 * speed) * (1 - math.exp(-2 * speed * t))\n",
    "        - jumpIntensity / beta * math.log((eta - math.exp(-beta * t)) / (eta - 1.0))\n",
    "    )\n",
    "    curveShape.append((t, gs))"
   ]
  },
  {
   "cell_type": "code",
   "execution_count": null,
   "id": "b655f68e",
   "metadata": {},
   "outputs": [],
   "source": [
    "ouProcess = ql.ExtendedOrnsteinUhlenbeckProcess(speed, volatility, x0, lambda x: x0)\n",
    "jProcess = ql.ExtOUWithJumpsProcess(ouProcess, x1, beta, jumpIntensity, eta)"
   ]
  },
  {
   "cell_type": "code",
   "execution_count": null,
   "id": "1749ba74",
   "metadata": {},
   "outputs": [],
   "source": [
    "swingOption.setPricingEngine(ql.FdSimpleExtOUJumpSwingEngine(jProcess, riskFreeRate, 25, 25, 200, curveShape))"
   ]
  },
  {
   "cell_type": "code",
   "execution_count": null,
   "id": "b0a03b6e",
   "metadata": {},
   "outputs": [],
   "source": [
    "print(\"Kluge Model Price  : %f\" % swingOption.NPV())"
   ]
  }
 ],
 "metadata": {
  "kernelspec": {
   "display_name": "Python 3",
   "language": "python",
   "name": "python3"
  }
 },
 "nbformat": 4,
 "nbformat_minor": 5
}

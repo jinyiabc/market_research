{
 "cells": [
  {
   "cell_type": "markdown",
   "id": "bfd49b7a",
   "metadata": {},
   "source": [
    "# Credit default swaps\n",
    "\n",
    "Copyright (&copy;) 2014 Thema Consulting SA\n",
    "\n",
    "This file is part of QuantLib, a free-software/open-source library\n",
    "for financial quantitative analysts and developers - https://www.quantlib.org/\n",
    "\n",
    "QuantLib is free software: you can redistribute it and/or modify it under the\n",
    "terms of the QuantLib license.  You should have received a copy of the\n",
    "license along with this program; if not, please email\n",
    "<quantlib-dev@lists.sf.net>. The license is also available online at\n",
    "<https://www.quantlib.org/license.shtml>.\n",
    "\n",
    "This program is distributed in the hope that it will be useful, but WITHOUT\n",
    "ANY WARRANTY; without even the implied warranty of MERCHANTABILITY or FITNESS\n",
    "FOR A PARTICULAR PURPOSE.  See the license for more details."
   ]
  },
  {
   "cell_type": "markdown",
   "id": "75e97052",
   "metadata": {},
   "source": [
    "### Setup"
   ]
  },
  {
   "cell_type": "code",
   "execution_count": null,
   "id": "d32e8701",
   "metadata": {},
   "outputs": [],
   "source": [
    "import QuantLib as ql"
   ]
  },
  {
   "cell_type": "code",
   "execution_count": null,
   "id": "8fbb17eb",
   "metadata": {},
   "outputs": [],
   "source": [
    "calendar = ql.TARGET()"
   ]
  },
  {
   "cell_type": "code",
   "execution_count": null,
   "id": "cba8daa1",
   "metadata": {},
   "outputs": [],
   "source": [
    "todaysDate = ql.Date(15, ql.May, 2007)\n",
    "ql.Settings.instance().evaluationDate = todaysDate"
   ]
  },
  {
   "cell_type": "code",
   "execution_count": null,
   "id": "836bf94f",
   "metadata": {},
   "outputs": [],
   "source": [
    "risk_free_rate = ql.YieldTermStructureHandle(ql.FlatForward(todaysDate, 0.01, ql.Actual365Fixed()))"
   ]
  },
  {
   "cell_type": "markdown",
   "id": "b0735175",
   "metadata": {},
   "source": [
    "### CDS parameters"
   ]
  },
  {
   "cell_type": "code",
   "execution_count": null,
   "id": "cc7621bd",
   "metadata": {},
   "outputs": [],
   "source": [
    "recovery_rate = 0.5\n",
    "quoted_spreads = [0.0150, 0.0150, 0.0150, 0.0150]\n",
    "tenors = [ql.Period(3, ql.Months), ql.Period(6, ql.Months), ql.Period(1, ql.Years), ql.Period(2, ql.Years)]\n",
    "maturities = [calendar.adjust(todaysDate + x, ql.Following) for x in tenors]"
   ]
  },
  {
   "cell_type": "code",
   "execution_count": null,
   "id": "bcf7d16c",
   "metadata": {},
   "outputs": [],
   "source": [
    "instruments = [\n",
    "    ql.SpreadCdsHelper(\n",
    "        ql.QuoteHandle(ql.SimpleQuote(s)),\n",
    "        tenor,\n",
    "        0,\n",
    "        calendar,\n",
    "        ql.Quarterly,\n",
    "        ql.Following,\n",
    "        ql.DateGeneration.TwentiethIMM,\n",
    "        ql.Actual365Fixed(),\n",
    "        recovery_rate,\n",
    "        risk_free_rate,\n",
    "    )\n",
    "    for s, tenor in zip(quoted_spreads, tenors)\n",
    "]"
   ]
  },
  {
   "cell_type": "code",
   "execution_count": null,
   "id": "e860df64",
   "metadata": {},
   "outputs": [],
   "source": [
    "hazard_curve = ql.PiecewiseFlatHazardRate(todaysDate, instruments, ql.Actual365Fixed())\n",
    "print(\"Calibrated hazard rate values: \")\n",
    "for x in hazard_curve.nodes():\n",
    "    print(\"hazard rate on %s is %.7f\" % x)"
   ]
  },
  {
   "cell_type": "code",
   "execution_count": null,
   "id": "8064a2d8",
   "metadata": {},
   "outputs": [],
   "source": [
    "print(\"Some survival probability values: \")\n",
    "print(\n",
    "    \"1Y survival probability: %.4g, \\n\\t\\texpected %.4g\"\n",
    "    % (hazard_curve.survivalProbability(todaysDate + ql.Period(\"1Y\")), 0.9704)\n",
    ")\n",
    "print(\n",
    "    \"2Y survival probability: %.4g, \\n\\t\\texpected %.4g\"\n",
    "    % (hazard_curve.survivalProbability(todaysDate + ql.Period(\"2Y\")), 0.9418)\n",
    ")"
   ]
  },
  {
   "cell_type": "markdown",
   "id": "36b85a41",
   "metadata": {},
   "source": [
    "### Reprice instruments"
   ]
  },
  {
   "cell_type": "code",
   "execution_count": null,
   "id": "4314448d",
   "metadata": {},
   "outputs": [],
   "source": [
    "nominal = 1000000.0\n",
    "probability = ql.DefaultProbabilityTermStructureHandle(hazard_curve)"
   ]
  },
  {
   "cell_type": "markdown",
   "id": "31bd6582",
   "metadata": {},
   "source": [
    "We'll create a cds for every maturity:"
   ]
  },
  {
   "cell_type": "code",
   "execution_count": null,
   "id": "0a360736",
   "metadata": {},
   "outputs": [],
   "source": [
    "all_cds = []\n",
    "for maturity, s in zip(maturities, quoted_spreads):\n",
    "    schedule = ql.Schedule(\n",
    "        todaysDate,\n",
    "        maturity,\n",
    "        ql.Period(ql.Quarterly),\n",
    "        calendar,\n",
    "        ql.Following,\n",
    "        ql.Unadjusted,\n",
    "        ql.DateGeneration.TwentiethIMM,\n",
    "        False,\n",
    "    )\n",
    "    cds = ql.CreditDefaultSwap(ql.Protection.Seller, nominal, s, schedule, ql.Following, ql.Actual365Fixed())\n",
    "    engine = ql.MidPointCdsEngine(probability, recovery_rate, risk_free_rate)\n",
    "    cds.setPricingEngine(engine)\n",
    "    all_cds.append(cds)"
   ]
  },
  {
   "cell_type": "code",
   "execution_count": null,
   "id": "5fa47bec",
   "metadata": {},
   "outputs": [],
   "source": [
    "print(\"Repricing of quoted CDSs employed for calibration: \")\n",
    "for cds, tenor in zip(all_cds, tenors):\n",
    "    print(\"%s fair spread: %.7g\" % (tenor, cds.fairSpread()))\n",
    "    print(\"   NPV: %g\" % cds.NPV())\n",
    "    print(\"   default leg: %.7g\" % cds.defaultLegNPV())\n",
    "    print(\"   coupon leg: %.7g\" % cds.couponLegNPV())\n",
    "    print(\"\")"
   ]
  }
 ],
 "metadata": {
  "kernelspec": {
   "display_name": "Python 3",
   "language": "python",
   "name": "python3"
  }
 },
 "nbformat": 4,
 "nbformat_minor": 5
}

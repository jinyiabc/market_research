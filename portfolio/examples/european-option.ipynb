{
 "cells": [
  {
   "cell_type": "markdown",
   "id": "0ebdc256",
   "metadata": {},
   "source": [
    "# European options\n",
    "\n",
    "Copyright (&copy;) 2004, 2005, 2006, 2007 StatPro Italia srl\n",
    "\n",
    "This file is part of QuantLib, a free-software/open-source library for financial quantitative analysts and developers - https://www.quantlib.org/\n",
    "\n",
    "QuantLib is free software: you can redistribute it and/or modify it under the\n",
    "terms of the QuantLib license.  You should have received a copy of the\n",
    "license along with this program; if not, please email\n",
    "<quantlib-dev@lists.sf.net>. The license is also available online at\n",
    "<https://www.quantlib.org/license.shtml>.\n",
    "\n",
    "This program is distributed in the hope that it will be useful, but WITHOUT\n",
    "ANY WARRANTY; without even the implied warranty of MERCHANTABILITY or FITNESS\n",
    "FOR A PARTICULAR PURPOSE.  See the license for more details."
   ]
  },
  {
   "cell_type": "code",
   "execution_count": null,
   "id": "06dc5ad0",
   "metadata": {},
   "outputs": [],
   "source": [
    "import QuantLib as ql\n",
    "import pandas as pd"
   ]
  },
  {
   "cell_type": "markdown",
   "id": "53645db8",
   "metadata": {},
   "source": [
    "### Global parameters"
   ]
  },
  {
   "cell_type": "code",
   "execution_count": null,
   "id": "629a47a6",
   "metadata": {},
   "outputs": [],
   "source": [
    "todaysDate = ql.Date(15, ql.May, 1998)\n",
    "ql.Settings.instance().evaluationDate = todaysDate"
   ]
  },
  {
   "cell_type": "code",
   "execution_count": null,
   "id": "68b0fa51",
   "metadata": {},
   "outputs": [],
   "source": [
    "interactive = 'get_ipython' in globals()"
   ]
  },
  {
   "cell_type": "markdown",
   "id": "b89eac31",
   "metadata": {},
   "source": [
    "### Option construction"
   ]
  },
  {
   "cell_type": "code",
   "execution_count": null,
   "id": "48dd4893",
   "metadata": {},
   "outputs": [],
   "source": [
    "exercise = ql.EuropeanExercise(ql.Date(17, ql.May, 1999))\n",
    "payoff = ql.PlainVanillaPayoff(ql.Option.Call, 8.0)"
   ]
  },
  {
   "cell_type": "code",
   "execution_count": null,
   "id": "78542e9a",
   "metadata": {},
   "outputs": [],
   "source": [
    "option = ql.VanillaOption(payoff, exercise)"
   ]
  },
  {
   "cell_type": "markdown",
   "id": "61021572",
   "metadata": {},
   "source": [
    "### Market data"
   ]
  },
  {
   "cell_type": "code",
   "execution_count": null,
   "id": "d22c3069",
   "metadata": {},
   "outputs": [],
   "source": [
    "underlying = ql.SimpleQuote(7.0)\n",
    "dividendYield = ql.FlatForward(todaysDate, 0.05, ql.Actual365Fixed())\n",
    "volatility = ql.BlackConstantVol(todaysDate, ql.TARGET(), 0.10, ql.Actual365Fixed())\n",
    "riskFreeRate = ql.FlatForward(todaysDate, 0.05, ql.Actual365Fixed())"
   ]
  },
  {
   "cell_type": "markdown",
   "id": "dea5b94a",
   "metadata": {},
   "source": [
    "### Processes and models"
   ]
  },
  {
   "cell_type": "code",
   "execution_count": null,
   "id": "6b55edfd",
   "metadata": {},
   "outputs": [],
   "source": [
    "process = ql.BlackScholesMertonProcess(\n",
    "    ql.QuoteHandle(underlying),\n",
    "    ql.YieldTermStructureHandle(dividendYield),\n",
    "    ql.YieldTermStructureHandle(riskFreeRate),\n",
    "    ql.BlackVolTermStructureHandle(volatility),\n",
    ")"
   ]
  },
  {
   "cell_type": "code",
   "execution_count": null,
   "id": "c4459af3",
   "metadata": {},
   "outputs": [],
   "source": [
    "hestonProcess = ql.HestonProcess(\n",
    "    ql.YieldTermStructureHandle(riskFreeRate),\n",
    "    ql.YieldTermStructureHandle(dividendYield),\n",
    "    ql.QuoteHandle(underlying),\n",
    "    0.1 * 0.1,\n",
    "    1.0,\n",
    "    0.1 * 0.1,\n",
    "    0.0001,\n",
    "    0.0,\n",
    ")\n",
    "hestonModel = ql.HestonModel(hestonProcess)"
   ]
  },
  {
   "cell_type": "markdown",
   "id": "e41e13e8",
   "metadata": {},
   "source": [
    "### Pricing\n",
    "\n",
    "We'll collect tuples of method name, option value, estimated error, and discrepancy from the analytic formula."
   ]
  },
  {
   "cell_type": "code",
   "execution_count": null,
   "id": "50ff8c1a",
   "metadata": {},
   "outputs": [],
   "source": [
    "results = []"
   ]
  },
  {
   "cell_type": "markdown",
   "id": "4edc3ce6",
   "metadata": {},
   "source": [
    "#### Analytic formula"
   ]
  },
  {
   "cell_type": "code",
   "execution_count": null,
   "id": "4daee028",
   "metadata": {},
   "outputs": [],
   "source": [
    "option.setPricingEngine(ql.AnalyticEuropeanEngine(process))\n",
    "value = option.NPV()\n",
    "refValue = value\n",
    "\n",
    "results.append(('Analytic', value, None, None))"
   ]
  },
  {
   "cell_type": "markdown",
   "id": "5c70afe2",
   "metadata": {},
   "source": [
    "#### Heston semi-analytic formula"
   ]
  },
  {
   "cell_type": "code",
   "execution_count": null,
   "id": "38e08f95",
   "metadata": {},
   "outputs": [],
   "source": [
    "option.setPricingEngine(ql.AnalyticHestonEngine(hestonModel))\n",
    "value = option.NPV()\n",
    "\n",
    "results.append(('Heston analytic', value, None, abs(value - refValue)))"
   ]
  },
  {
   "cell_type": "markdown",
   "id": "df782cec",
   "metadata": {},
   "source": [
    "#### Heston COS method"
   ]
  },
  {
   "cell_type": "code",
   "execution_count": null,
   "id": "c9c4fc06",
   "metadata": {},
   "outputs": [],
   "source": [
    "option.setPricingEngine(ql.COSHestonEngine(hestonModel))\n",
    "value = option.NPV()\n",
    "\n",
    "results.append(('Heston COS', value, None, abs(value - refValue)))"
   ]
  },
  {
   "cell_type": "markdown",
   "id": "bef2f1f2",
   "metadata": {},
   "source": [
    "#### Integral method"
   ]
  },
  {
   "cell_type": "code",
   "execution_count": null,
   "id": "76b02bdb",
   "metadata": {},
   "outputs": [],
   "source": [
    "option.setPricingEngine(ql.IntegralEngine(process))\n",
    "value = option.NPV()\n",
    "\n",
    "results.append(('Integral', value, None, abs(value - refValue)))"
   ]
  },
  {
   "cell_type": "markdown",
   "id": "ac0f4b25",
   "metadata": {},
   "source": [
    "#### Finite-difference method"
   ]
  },
  {
   "cell_type": "code",
   "execution_count": null,
   "id": "73b8180d",
   "metadata": {},
   "outputs": [],
   "source": [
    "timeSteps = 801\n",
    "gridPoints = 800"
   ]
  },
  {
   "cell_type": "code",
   "execution_count": null,
   "id": "e882f64d",
   "metadata": {},
   "outputs": [],
   "source": [
    "option.setPricingEngine(ql.FdBlackScholesVanillaEngine(process, timeSteps, gridPoints))\n",
    "value = option.NPV()\n",
    "\n",
    "results.append(('Finite diff.', value, None, abs(value - refValue)))"
   ]
  },
  {
   "cell_type": "markdown",
   "id": "9e0df7e1",
   "metadata": {},
   "source": [
    "#### Binomial method"
   ]
  },
  {
   "cell_type": "code",
   "execution_count": null,
   "id": "cb34b1ec",
   "metadata": {},
   "outputs": [],
   "source": [
    "timeSteps = 801"
   ]
  },
  {
   "cell_type": "code",
   "execution_count": null,
   "id": "055b631f",
   "metadata": {},
   "outputs": [],
   "source": [
    "for tree in [\"JR\", \"CRR\", \"EQP\", \"Trigeorgis\", \"Tian\", \"LR\", \"Joshi4\"]:\n",
    "    option.setPricingEngine(ql.BinomialVanillaEngine(process, tree, timeSteps))\n",
    "    value = option.NPV()\n",
    "\n",
    "    results.append(('Binomial (%s)' % tree, value, None, abs(value - refValue)))"
   ]
  },
  {
   "cell_type": "markdown",
   "id": "9097fff9",
   "metadata": {},
   "source": [
    "#### Monte Carlo method"
   ]
  },
  {
   "cell_type": "code",
   "execution_count": null,
   "id": "117e4a60",
   "metadata": {},
   "outputs": [],
   "source": [
    "option.setPricingEngine(ql.MCEuropeanEngine(process, \"pseudorandom\", timeSteps=1,\n",
    "                                            requiredTolerance=0.02, seed=42))\n",
    "value = option.NPV()\n",
    "\n",
    "results.append((\"Monte Carlo (pseudo-random)\", value, option.errorEstimate(), abs(value - refValue)))"
   ]
  },
  {
   "cell_type": "code",
   "execution_count": null,
   "id": "6daf996a",
   "metadata": {},
   "outputs": [],
   "source": [
    "option.setPricingEngine(ql.MCEuropeanEngine(process, \"lowdiscrepancy\", timeSteps=1,\n",
    "                                            requiredSamples=32768))\n",
    "value = option.NPV()\n",
    "\n",
    "results.append((\"Monte Carlo (low-discrepancy)\", value, None, abs(value - refValue)))"
   ]
  },
  {
   "cell_type": "markdown",
   "id": "0f08ccd9",
   "metadata": {},
   "source": [
    "### Results"
   ]
  },
  {
   "cell_type": "code",
   "execution_count": null,
   "id": "a0a6596c",
   "metadata": {},
   "outputs": [],
   "source": [
    "df = pd.DataFrame(results,\n",
    "                  columns=[\"Method\", \"Option value\", \"Error estimate\", \"Actual error\"])"
   ]
  },
  {
   "cell_type": "code",
   "execution_count": null,
   "id": "595860ae",
   "metadata": {},
   "outputs": [],
   "source": [
    "df.style.hide_index()"
   ]
  },
  {
   "cell_type": "markdown",
   "id": "fe58f597",
   "metadata": {},
   "source": [
    "The following displays the results when this is run as a Python script (in which case the cell above is not displayed)."
   ]
  },
  {
   "cell_type": "code",
   "execution_count": null,
   "id": "5d212392",
   "metadata": {},
   "outputs": [],
   "source": [
    "if not interactive:\n",
    "    print(df)"
   ]
  }
 ],
 "metadata": {
  "kernelspec": {
   "display_name": "Python 3",
   "language": "python",
   "name": "python3"
  }
 },
 "nbformat": 4,
 "nbformat_minor": 5
}

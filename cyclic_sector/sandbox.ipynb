{
 "cells": [
  {
   "cell_type": "code",
   "execution_count": 2,
   "id": "179b7ac5-769c-4150-a4c9-8ce1535fc664",
   "metadata": {
    "execution": {
     "iopub.execute_input": "2022-02-22T09:51:10.572136Z",
     "iopub.status.busy": "2022-02-22T09:51:10.572136Z",
     "iopub.status.idle": "2022-02-22T09:51:10.824900Z",
     "shell.execute_reply": "2022-02-22T09:51:10.824900Z",
     "shell.execute_reply.started": "2022-02-22T09:51:10.572136Z"
    },
    "tags": []
   },
   "outputs": [
    {
     "data": {
      "text/html": [
       "<div>\n",
       "<style scoped>\n",
       "    .dataframe tbody tr th:only-of-type {\n",
       "        vertical-align: middle;\n",
       "    }\n",
       "\n",
       "    .dataframe tbody tr th {\n",
       "        vertical-align: top;\n",
       "    }\n",
       "\n",
       "    .dataframe thead th {\n",
       "        text-align: right;\n",
       "    }\n",
       "</style>\n",
       "<table border=\"1\" class=\"dataframe\">\n",
       "  <thead>\n",
       "    <tr style=\"text-align: right;\">\n",
       "      <th></th>\n",
       "      <th>W</th>\n",
       "      <th>X</th>\n",
       "      <th>Y</th>\n",
       "      <th>Z</th>\n",
       "    </tr>\n",
       "  </thead>\n",
       "  <tbody>\n",
       "    <tr>\n",
       "      <th>0</th>\n",
       "      <td>68</td>\n",
       "      <td>78</td>\n",
       "      <td>84</td>\n",
       "      <td>86</td>\n",
       "    </tr>\n",
       "    <tr>\n",
       "      <th>1</th>\n",
       "      <td>75</td>\n",
       "      <td>85</td>\n",
       "      <td>94</td>\n",
       "      <td>97</td>\n",
       "    </tr>\n",
       "    <tr>\n",
       "      <th>2</th>\n",
       "      <td>86</td>\n",
       "      <td>96</td>\n",
       "      <td>89</td>\n",
       "      <td>96</td>\n",
       "    </tr>\n",
       "    <tr>\n",
       "      <th>3</th>\n",
       "      <td>80</td>\n",
       "      <td>80</td>\n",
       "      <td>83</td>\n",
       "      <td>72</td>\n",
       "    </tr>\n",
       "    <tr>\n",
       "      <th>4</th>\n",
       "      <td>66</td>\n",
       "      <td>86</td>\n",
       "      <td>86</td>\n",
       "      <td>83</td>\n",
       "    </tr>\n",
       "  </tbody>\n",
       "</table>\n",
       "</div>"
      ],
      "text/plain": [
       "    W   X   Y   Z\n",
       "0  68  78  84  86\n",
       "1  75  85  94  97\n",
       "2  86  96  89  96\n",
       "3  80  80  83  72\n",
       "4  66  86  86  83"
      ]
     },
     "execution_count": 2,
     "metadata": {},
     "output_type": "execute_result"
    }
   ],
   "source": [
    "import pandas as pd\n",
    "df = pd.DataFrame({'W':[68,75,86,80,66],'X':[78,85,96,80,86], 'Y':[84,94,89,83,86],'Z':[86,97,96,72,83]});\n",
    "df"
   ]
  },
  {
   "cell_type": "code",
   "execution_count": 3,
   "id": "d87a6fae-883a-4e65-afb5-8bbbc68a66ae",
   "metadata": {
    "execution": {
     "iopub.execute_input": "2022-02-22T09:51:11.411792Z",
     "iopub.status.busy": "2022-02-22T09:51:11.411792Z",
     "iopub.status.idle": "2022-02-22T09:51:11.423762Z",
     "shell.execute_reply": "2022-02-22T09:51:11.423762Z",
     "shell.execute_reply.started": "2022-02-22T09:51:11.411792Z"
    },
    "tags": []
   },
   "outputs": [
    {
     "data": {
      "text/html": [
       "<div>\n",
       "<style scoped>\n",
       "    .dataframe tbody tr th:only-of-type {\n",
       "        vertical-align: middle;\n",
       "    }\n",
       "\n",
       "    .dataframe tbody tr th {\n",
       "        vertical-align: top;\n",
       "    }\n",
       "\n",
       "    .dataframe thead th {\n",
       "        text-align: right;\n",
       "    }\n",
       "</style>\n",
       "<table border=\"1\" class=\"dataframe\">\n",
       "  <thead>\n",
       "    <tr style=\"text-align: right;\">\n",
       "      <th></th>\n",
       "      <th>W</th>\n",
       "      <th>X</th>\n",
       "      <th>Y</th>\n",
       "      <th>Z</th>\n",
       "    </tr>\n",
       "  </thead>\n",
       "  <tbody>\n",
       "    <tr>\n",
       "      <th>0</th>\n",
       "      <td>68</td>\n",
       "      <td>78</td>\n",
       "      <td>84</td>\n",
       "      <td>86</td>\n",
       "    </tr>\n",
       "    <tr>\n",
       "      <th>1</th>\n",
       "      <td>75</td>\n",
       "      <td>85</td>\n",
       "      <td>94</td>\n",
       "      <td>97</td>\n",
       "    </tr>\n",
       "    <tr>\n",
       "      <th>2</th>\n",
       "      <td>86</td>\n",
       "      <td>96</td>\n",
       "      <td>89</td>\n",
       "      <td>96</td>\n",
       "    </tr>\n",
       "    <tr>\n",
       "      <th>3</th>\n",
       "      <td>80</td>\n",
       "      <td>80</td>\n",
       "      <td>83</td>\n",
       "      <td>72</td>\n",
       "    </tr>\n",
       "    <tr>\n",
       "      <th>4</th>\n",
       "      <td>66</td>\n",
       "      <td>86</td>\n",
       "      <td>86</td>\n",
       "      <td>83</td>\n",
       "    </tr>\n",
       "  </tbody>\n",
       "</table>\n",
       "</div>"
      ],
      "text/plain": [
       "    W   X   Y   Z\n",
       "0  68  78  84  86\n",
       "1  75  85  94  97\n",
       "2  86  96  89  96\n",
       "3  80  80  83  72\n",
       "4  66  86  86  83"
      ]
     },
     "execution_count": 3,
     "metadata": {},
     "output_type": "execute_result"
    }
   ],
   "source": [
    "df[::1]"
   ]
  },
  {
   "cell_type": "code",
   "execution_count": 4,
   "id": "45ce18d9-efca-4bcf-8fd9-a716e9f572f4",
   "metadata": {
    "execution": {
     "iopub.execute_input": "2022-02-22T09:51:12.286107Z",
     "iopub.status.busy": "2022-02-22T09:51:12.286107Z",
     "iopub.status.idle": "2022-02-22T09:51:12.301531Z",
     "shell.execute_reply": "2022-02-22T09:51:12.301531Z",
     "shell.execute_reply.started": "2022-02-22T09:51:12.286107Z"
    },
    "tags": []
   },
   "outputs": [],
   "source": [
    "df1 = pd.DataFrame([['Kitchen Utensils',25,10,'Boston'], ['Gardening',35,15,'NYC']], columns=['Product', 'Sales in millions', 'Profit', 'Store_location'], index=[1,2])\n",
    "df2 = pd.DataFrame([['Kitchen Utensils',35,7,'Somerville'], ['Switches',35,10,'Bridgewater'], ['Monitors',70,8,'Trenton']], columns=['Product', 'Sales in millions', 'Loss', 'Store_location'], index=[2,3,4])"
   ]
  },
  {
   "cell_type": "code",
   "execution_count": 7,
   "id": "1673ec09-c213-4550-a31a-59b2d5f33f9f",
   "metadata": {
    "execution": {
     "iopub.execute_input": "2022-02-22T09:52:08.610766Z",
     "iopub.status.busy": "2022-02-22T09:52:08.610766Z",
     "iopub.status.idle": "2022-02-22T09:52:08.618749Z",
     "shell.execute_reply": "2022-02-22T09:52:08.618749Z",
     "shell.execute_reply.started": "2022-02-22T09:52:08.610766Z"
    },
    "tags": []
   },
   "outputs": [
    {
     "name": "stdout",
     "output_type": "stream",
     "text": [
      "            Product  Sales in millions  Profit Store_location\n",
      "1  Kitchen Utensils                 25      10         Boston\n",
      "2         Gardening                 35      15            NYC\n",
      "            Product  Sales in millions  Loss Store_location\n",
      "2  Kitchen Utensils                 35     7     Somerville\n",
      "3          Switches                 35    10    Bridgewater\n",
      "4          Monitors                 70     8        Trenton\n"
     ]
    }
   ],
   "source": [
    "print(df1)\n",
    "print(df2)"
   ]
  },
  {
   "cell_type": "code",
   "execution_count": 8,
   "id": "9618421c-2072-4d68-8bd4-027d5b7b741a",
   "metadata": {
    "execution": {
     "iopub.execute_input": "2022-02-22T09:52:11.303276Z",
     "iopub.status.busy": "2022-02-22T09:52:11.303276Z",
     "iopub.status.idle": "2022-02-22T09:52:11.323224Z",
     "shell.execute_reply": "2022-02-22T09:52:11.323224Z",
     "shell.execute_reply.started": "2022-02-22T09:52:11.303276Z"
    },
    "tags": []
   },
   "outputs": [
    {
     "name": "stdout",
     "output_type": "stream",
     "text": [
      "            Product  Sales in millions  Profit Store_location\n",
      "1  Kitchen Utensils                 25      10         Boston\n",
      "2         Gardening                 35      15            NYC\n",
      "            Product  Sales in millions  Loss Store_location\n",
      "1  Kitchen Utensils               35.0   7.0     Somerville\n",
      "2  Kitchen Utensils               35.0   7.0     Somerville\n"
     ]
    }
   ],
   "source": [
    "a1, a2 = df1.align(df2, join='left', axis=0, method = 'bfill', fill_axis = 0)\n",
    "print(a1)\n",
    "print(a2)"
   ]
  },
  {
   "cell_type": "code",
   "execution_count": 9,
   "id": "4f371f47-c3d1-4c59-9177-075fe3a833d5",
   "metadata": {
    "execution": {
     "iopub.execute_input": "2022-02-22T09:53:19.588997Z",
     "iopub.status.busy": "2022-02-22T09:53:19.588997Z",
     "iopub.status.idle": "2022-02-22T09:53:19.609996Z",
     "shell.execute_reply": "2022-02-22T09:53:19.609996Z",
     "shell.execute_reply.started": "2022-02-22T09:53:19.588997Z"
    }
   },
   "outputs": [
    {
     "name": "stdout",
     "output_type": "stream",
     "text": [
      "            Product  Sales in millions  Profit Store_location\n",
      "1  Kitchen Utensils                 25      10         Boston\n",
      "2         Gardening                 35      15            NYC\n",
      "            Product  Sales in millions  Loss Store_location\n",
      "1               NaN                NaN   NaN            NaN\n",
      "2  Kitchen Utensils               35.0   7.0     Somerville\n"
     ]
    }
   ],
   "source": [
    "a1, a2 = df1.align(df2, join='left', axis=0)\n",
    "print(a1)\n",
    "print(a2)"
   ]
  },
  {
   "cell_type": "code",
   "execution_count": 10,
   "id": "83d40621-cb33-45f7-b466-b59ca14210b0",
   "metadata": {
    "execution": {
     "iopub.execute_input": "2022-02-22T09:53:34.642667Z",
     "iopub.status.busy": "2022-02-22T09:53:34.642667Z",
     "iopub.status.idle": "2022-02-22T09:53:34.652646Z",
     "shell.execute_reply": "2022-02-22T09:53:34.652646Z",
     "shell.execute_reply.started": "2022-02-22T09:53:34.642667Z"
    }
   },
   "outputs": [
    {
     "name": "stdout",
     "output_type": "stream",
     "text": [
      "            Product  Sales in millions  Profit Store_location\n",
      "1  Kitchen Utensils                 25      10         Boston\n",
      "2         Gardening                 35      15            NYC\n",
      "            Product  Sales in millions  Loss Store_location\n",
      "1               NaN                NaN   NaN            NaN\n",
      "2  Kitchen Utensils               35.0   7.0     Somerville\n"
     ]
    }
   ],
   "source": [
    "a1, a2 = df1.align(df2, join='left', axis=0, method = 'ffill', fill_axis = 0)\n",
    "print(a1)\n",
    "print(a2)"
   ]
  },
  {
   "cell_type": "code",
   "execution_count": null,
   "id": "95dec5a7-52d6-4451-abed-efc58585c658",
   "metadata": {},
   "outputs": [],
   "source": []
  }
 ],
 "metadata": {
  "kernelspec": {
   "display_name": "Python 3 (ipykernel)",
   "language": "python",
   "name": "python3"
  },
  "language_info": {
   "codemirror_mode": {
    "name": "ipython",
    "version": 3
   },
   "file_extension": ".py",
   "mimetype": "text/x-python",
   "name": "python",
   "nbconvert_exporter": "python",
   "pygments_lexer": "ipython3",
   "version": "3.8.10"
  }
 },
 "nbformat": 4,
 "nbformat_minor": 5
}
